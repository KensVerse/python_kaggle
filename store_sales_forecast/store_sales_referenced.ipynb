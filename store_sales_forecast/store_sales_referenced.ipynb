{
 "cells": [
  {
   "cell_type": "code",
   "execution_count": 1,
   "id": "758f63e1",
   "metadata": {
    "_cell_guid": "b1076dfc-b9ad-4769-8c92-a6c4dae69d19",
    "_uuid": "8f2839f25d086af736a60e9eeb907d3b93b6e0e5",
    "execution": {
     "iopub.execute_input": "2021-12-03T07:32:30.618231Z",
     "iopub.status.busy": "2021-12-03T07:32:30.615655Z",
     "iopub.status.idle": "2021-12-03T07:32:30.626447Z",
     "shell.execute_reply": "2021-12-03T07:32:30.627083Z",
     "shell.execute_reply.started": "2021-12-03T06:08:03.191649Z"
    },
    "papermill": {
     "duration": 0.033948,
     "end_time": "2021-12-03T07:32:30.627456",
     "exception": false,
     "start_time": "2021-12-03T07:32:30.593508",
     "status": "completed"
    },
    "tags": []
   },
   "outputs": [],
   "source": [
    "import numpy as np\n",
    "import pandas as pd"
   ]
  },
  {
   "cell_type": "code",
   "execution_count": 2,
   "id": "8f606464",
   "metadata": {
    "execution": {
     "iopub.execute_input": "2021-12-03T07:32:30.663734Z",
     "iopub.status.busy": "2021-12-03T07:32:30.662635Z",
     "iopub.status.idle": "2021-12-03T07:32:30.673718Z",
     "shell.execute_reply": "2021-12-03T07:32:30.674690Z",
     "shell.execute_reply.started": "2021-12-03T06:08:03.198094Z"
    },
    "papermill": {
     "duration": 0.031679,
     "end_time": "2021-12-03T07:32:30.675004",
     "exception": false,
     "start_time": "2021-12-03T07:32:30.643325",
     "status": "completed"
    },
    "tags": []
   },
   "outputs": [],
   "source": [
    "import matplotlib.pyplot as plt\n",
    "%matplotlib inline\n",
    "\n",
    "from pylab import rcParams\n",
    "rcParams['figure.figsize'] = 16, 8"
   ]
  },
  {
   "cell_type": "code",
   "execution_count": 3,
   "id": "502523b3",
   "metadata": {
    "execution": {
     "iopub.execute_input": "2021-12-03T07:32:30.713491Z",
     "iopub.status.busy": "2021-12-03T07:32:30.712703Z",
     "iopub.status.idle": "2021-12-03T07:32:32.114238Z",
     "shell.execute_reply": "2021-12-03T07:32:32.114787Z",
     "shell.execute_reply.started": "2021-12-03T06:08:03.213309Z"
    },
    "papermill": {
     "duration": 1.423205,
     "end_time": "2021-12-03T07:32:32.115012",
     "exception": false,
     "start_time": "2021-12-03T07:32:30.691807",
     "status": "completed"
    },
    "tags": []
   },
   "outputs": [],
   "source": [
    "from sklearn.linear_model import Ridge\n",
    "\n",
    "from sklearn.metrics import mean_squared_log_error\n",
    "from sklearn.metrics import mean_squared_error"
   ]
  },
  {
   "cell_type": "code",
   "execution_count": 4,
   "id": "0064d185",
   "metadata": {
    "execution": {
     "iopub.execute_input": "2021-12-03T07:32:32.155860Z",
     "iopub.status.busy": "2021-12-03T07:32:32.155173Z",
     "iopub.status.idle": "2021-12-03T07:32:32.208238Z",
     "shell.execute_reply": "2021-12-03T07:32:32.207659Z",
     "shell.execute_reply.started": "2021-12-03T06:08:03.226854Z"
    },
    "papermill": {
     "duration": 0.077579,
     "end_time": "2021-12-03T07:32:32.208424",
     "exception": false,
     "start_time": "2021-12-03T07:32:32.130845",
     "status": "completed"
    },
    "tags": []
   },
   "outputs": [],
   "source": [
    "from statsmodels.tsa.deterministic import CalendarFourier, DeterministicProcess, Fourier"
   ]
  },
  {
   "cell_type": "code",
   "execution_count": 5,
   "id": "75a7a65c",
   "metadata": {
    "execution": {
     "iopub.execute_input": "2021-12-03T07:32:32.247616Z",
     "iopub.status.busy": "2021-12-03T07:32:32.246937Z",
     "iopub.status.idle": "2021-12-03T07:32:32.249106Z",
     "shell.execute_reply": "2021-12-03T07:32:32.249607Z",
     "shell.execute_reply.started": "2021-12-03T06:08:03.24134Z"
    },
    "papermill": {
     "duration": 0.025388,
     "end_time": "2021-12-03T07:32:32.249814",
     "exception": false,
     "start_time": "2021-12-03T07:32:32.224426",
     "status": "completed"
    },
    "tags": []
   },
   "outputs": [],
   "source": [
    "import random\n",
    "import os\n",
    "\n",
    "def seed_everything(seed=42):\n",
    "    random.seed(seed)\n",
    "    os.environ['PYTHONHASHSEED'] = str(seed)\n",
    "    np.random.seed(seed)\n",
    "\n",
    "SEED = 2021\n",
    "seed_everything(SEED)"
   ]
  },
  {
   "cell_type": "code",
   "execution_count": 6,
   "id": "f05f3621",
   "metadata": {
    "execution": {
     "iopub.execute_input": "2021-12-03T07:32:32.286486Z",
     "iopub.status.busy": "2021-12-03T07:32:32.285773Z",
     "iopub.status.idle": "2021-12-03T07:32:32.289924Z",
     "shell.execute_reply": "2021-12-03T07:32:32.290454Z",
     "shell.execute_reply.started": "2021-12-03T06:08:03.256475Z"
    },
    "papermill": {
     "duration": 0.024989,
     "end_time": "2021-12-03T07:32:32.290667",
     "exception": false,
     "start_time": "2021-12-03T07:32:32.265678",
     "status": "completed"
    },
    "tags": []
   },
   "outputs": [],
   "source": [
    "path = 'data/'"
   ]
  },
  {
   "cell_type": "code",
   "execution_count": 7,
   "id": "e9c32a54",
   "metadata": {
    "execution": {
     "iopub.execute_input": "2021-12-03T07:32:32.333695Z",
     "iopub.status.busy": "2021-12-03T07:32:32.327109Z",
     "iopub.status.idle": "2021-12-03T07:32:32.388144Z",
     "shell.execute_reply": "2021-12-03T07:32:32.387460Z",
     "shell.execute_reply.started": "2021-12-03T06:08:03.269325Z"
    },
    "papermill": {
     "duration": 0.080266,
     "end_time": "2021-12-03T07:32:32.388307",
     "exception": false,
     "start_time": "2021-12-03T07:32:32.308041",
     "status": "completed"
    },
    "tags": []
   },
   "outputs": [],
   "source": [
    "calendar = pd.DataFrame(index=pd.date_range('2013-01-01', '2017-08-31'))\n",
    "\n",
    "# Oil moving average\n",
    "\n",
    "data_oil = pd.read_csv(path + 'oil.csv', parse_dates=['date'], infer_datetime_format=True, index_col='date')\n",
    "data_oil['ma_oil'] = data_oil['dcoilwtico'].rolling(7).mean()\n",
    "\n",
    "calendar = calendar.merge(data_oil, how='left', left_index=True, right_index=True)\n",
    "calendar['ma_oil'].fillna(method='ffill', inplace=True)\n",
    "\n",
    "# Day of week\n",
    "\n",
    "calendar['dofw'] = calendar.index.dayofweek"
   ]
  },
  {
   "cell_type": "code",
   "execution_count": 8,
   "id": "00f0438e",
   "metadata": {
    "execution": {
     "iopub.execute_input": "2021-12-03T07:32:32.427028Z",
     "iopub.status.busy": "2021-12-03T07:32:32.426273Z",
     "iopub.status.idle": "2021-12-03T07:32:32.454241Z",
     "shell.execute_reply": "2021-12-03T07:32:32.453650Z",
     "shell.execute_reply.started": "2021-12-03T06:08:03.325226Z"
    },
    "papermill": {
     "duration": 0.050318,
     "end_time": "2021-12-03T07:32:32.454404",
     "exception": false,
     "start_time": "2021-12-03T07:32:32.404086",
     "status": "completed"
    },
    "tags": []
   },
   "outputs": [],
   "source": [
    "# Events\n",
    "\n",
    "df_hev = pd.read_csv(path + 'holidays_events.csv', parse_dates=['date'], infer_datetime_format=True)\n",
    "\n",
    "df_hev['date'] = df_hev['date'].replace({'2013-04-29' : \n",
    "                                         pd.to_datetime('2013-03-29')}) # 'Good Friday' mistake correction\n",
    "df_hev = df_hev.set_index('date').sort_index()\n",
    "\n",
    "df_hev = df_hev[df_hev.locale == 'National'] # National level only for simplicity\n",
    "\n",
    "df_hev = df_hev.groupby(df_hev.index).first() # Keep one event only"
   ]
  },
  {
   "cell_type": "code",
   "execution_count": 9,
   "id": "9e310095",
   "metadata": {
    "execution": {
     "iopub.execute_input": "2021-12-03T07:32:32.499184Z",
     "iopub.status.busy": "2021-12-03T07:32:32.498432Z",
     "iopub.status.idle": "2021-12-03T07:32:32.508806Z",
     "shell.execute_reply": "2021-12-03T07:32:32.508247Z",
     "shell.execute_reply.started": "2021-12-03T06:08:03.351158Z"
    },
    "papermill": {
     "duration": 0.0382,
     "end_time": "2021-12-03T07:32:32.508979",
     "exception": false,
     "start_time": "2021-12-03T07:32:32.470779",
     "status": "completed"
    },
    "tags": []
   },
   "outputs": [],
   "source": [
    "# Work days\n",
    "\n",
    "calendar['wd'] = True\n",
    "calendar.loc[calendar.dofw > 4, 'wd'] = False\n",
    "\n",
    "calendar = calendar.merge(df_hev, how='left', left_index=True, right_index=True)\n",
    "\n",
    "calendar.loc[calendar.type == 'Bridge'  , 'wd'] = False\n",
    "calendar.loc[calendar.type == 'Work Day', 'wd'] = True\n",
    "calendar.loc[calendar.type == 'Transfer', 'wd'] = False\n",
    "calendar.loc[(calendar.type == 'Holiday') & (calendar.transferred == False), 'wd'] = False\n",
    "calendar.loc[(calendar.type == 'Holiday') & (calendar.transferred == True ), 'wd'] = True"
   ]
  },
  {
   "cell_type": "code",
   "execution_count": 10,
   "id": "1bad86f4",
   "metadata": {
    "execution": {
     "iopub.execute_input": "2021-12-03T07:32:32.547713Z",
     "iopub.status.busy": "2021-12-03T07:32:32.547043Z",
     "iopub.status.idle": "2021-12-03T07:32:37.614551Z",
     "shell.execute_reply": "2021-12-03T07:32:37.615023Z",
     "shell.execute_reply.started": "2021-12-03T06:08:03.369228Z"
    },
    "papermill": {
     "duration": 5.090613,
     "end_time": "2021-12-03T07:32:37.615233",
     "exception": false,
     "start_time": "2021-12-03T07:32:32.524620",
     "status": "completed"
    },
    "tags": []
   },
   "outputs": [],
   "source": [
    "df_train = pd.read_csv(path + 'train.csv',\n",
    "                       usecols=['store_nbr', 'family', 'date', 'sales'],\n",
    "                       dtype={'store_nbr': 'category', 'family': 'category', 'sales': 'float32'},\n",
    "                       parse_dates=['date'], infer_datetime_format=True)\n",
    "\n",
    "df_train.date = df_train.date.dt.to_period('D')\n",
    "df_train = df_train.set_index(['store_nbr', 'family', 'date']).sort_index()"
   ]
  },
  {
   "cell_type": "code",
   "execution_count": 11,
   "id": "aed9d166",
   "metadata": {
    "execution": {
     "iopub.execute_input": "2021-12-03T07:32:37.652930Z",
     "iopub.status.busy": "2021-12-03T07:32:37.652284Z",
     "iopub.status.idle": "2021-12-03T07:32:37.705217Z",
     "shell.execute_reply": "2021-12-03T07:32:37.704652Z",
     "shell.execute_reply.started": "2021-12-03T06:08:08.258172Z"
    },
    "papermill": {
     "duration": 0.074379,
     "end_time": "2021-12-03T07:32:37.705375",
     "exception": false,
     "start_time": "2021-12-03T07:32:37.630996",
     "status": "completed"
    },
    "tags": []
   },
   "outputs": [],
   "source": [
    "df_test = pd.read_csv(path + 'test.csv',\n",
    "                      usecols=['store_nbr', 'family', 'date'],\n",
    "                      dtype={'store_nbr': 'category', 'family': 'category'},\n",
    "                      parse_dates=['date'], infer_datetime_format=True)\n",
    "\n",
    "df_test.date = df_test.date.dt.to_period('D')\n",
    "df_test = df_test.set_index(['store_nbr', 'family', 'date']).sort_index()"
   ]
  },
  {
   "cell_type": "code",
   "execution_count": 12,
   "id": "b7724df1",
   "metadata": {
    "execution": {
     "iopub.execute_input": "2021-12-03T07:32:37.742309Z",
     "iopub.status.busy": "2021-12-03T07:32:37.741610Z",
     "iopub.status.idle": "2021-12-03T07:32:37.744739Z",
     "shell.execute_reply": "2021-12-03T07:32:37.745220Z",
     "shell.execute_reply.started": "2021-12-03T06:08:08.312008Z"
    },
    "papermill": {
     "duration": 0.024161,
     "end_time": "2021-12-03T07:32:37.745427",
     "exception": false,
     "start_time": "2021-12-03T07:32:37.721266",
     "status": "completed"
    },
    "tags": []
   },
   "outputs": [],
   "source": [
    "sdate = '2017-04-01'\n",
    "edate = '2017-08-15'"
   ]
  },
  {
   "cell_type": "code",
   "execution_count": 13,
   "id": "630d3c52",
   "metadata": {},
   "outputs": [],
   "source": [
    "y = df_train.unstack(['store_nbr', 'family']).loc[sdate:edate]\n",
    "\n",
    "fourier = CalendarFourier(freq='W', order=4)\n",
    "\n",
    "dp = DeterministicProcess(index=y.index,\n",
    "                          constant=False,\n",
    "                          order=1,\n",
    "                          seasonal=False,\n",
    "                          additional_terms=[fourier],\n",
    "                          drop=True)\n",
    "X = dp.in_sample()"
   ]
  },
  {
   "cell_type": "code",
   "execution_count": 14,
   "id": "054c79cd",
   "metadata": {
    "execution": {
     "iopub.execute_input": "2021-12-03T07:32:37.781568Z",
     "iopub.status.busy": "2021-12-03T07:32:37.780737Z",
     "iopub.status.idle": "2021-12-03T07:32:39.292206Z",
     "shell.execute_reply": "2021-12-03T07:32:39.293149Z",
     "shell.execute_reply.started": "2021-12-03T06:08:08.319455Z"
    },
    "papermill": {
     "duration": 1.532224,
     "end_time": "2021-12-03T07:32:39.293506",
     "exception": false,
     "start_time": "2021-12-03T07:32:37.761282",
     "status": "completed"
    },
    "tags": []
   },
   "outputs": [],
   "source": [
    "\n",
    "# Extentions\n",
    "\n",
    "X['oil']  = calendar.loc[sdate:edate]['ma_oil'].values\n",
    "X['dofw'] = calendar.loc[sdate:edate]['dofw'].values\n",
    "X['wd']   = calendar.loc[sdate:edate]['wd'].values\n",
    "X['type'] = calendar.loc[sdate:edate]['type'].values\n",
    "\n",
    "X = pd.get_dummies(X, columns=['dofw'], drop_first=True)\n",
    "X = pd.get_dummies(X, columns=['type'], drop_first=False)\n",
    "\n",
    "model = Ridge(fit_intercept=True, solver='auto', alpha=0.4, random_state=SEED) # normalize=True,\n",
    "model.fit(X, y)\n",
    "y_pred = pd.DataFrame(model.predict(X), index=X.index, columns=y.columns)"
   ]
  },
  {
   "cell_type": "code",
   "execution_count": 15,
   "id": "e15ede62",
   "metadata": {
    "execution": {
     "iopub.execute_input": "2021-12-03T07:32:39.368972Z",
     "iopub.status.busy": "2021-12-03T07:32:39.367817Z",
     "iopub.status.idle": "2021-12-03T07:32:39.600334Z",
     "shell.execute_reply": "2021-12-03T07:32:39.600755Z",
     "shell.execute_reply.started": "2021-12-03T06:08:09.558476Z"
    },
    "papermill": {
     "duration": 0.275192,
     "end_time": "2021-12-03T07:32:39.601009",
     "exception": false,
     "start_time": "2021-12-03T07:32:39.325817",
     "status": "completed"
    },
    "tags": []
   },
   "outputs": [
    {
     "data": {
      "text/plain": [
       "family\n",
       "AUTOMOTIVE                    0.251476\n",
       "BABY CARE                     0.066430\n",
       "BEAUTY                        0.257901\n",
       "BEVERAGES                     0.191914\n",
       "BOOKS                         0.026522\n",
       "BREAD/BAKERY                  0.118938\n",
       "CELEBRATION                   0.285361\n",
       "CLEANING                      0.215332\n",
       "DAIRY                         0.130165\n",
       "DELI                          0.103083\n",
       "EGGS                          0.137948\n",
       "FROZEN FOODS                  0.156906\n",
       "GROCERY I                     0.204414\n",
       "GROCERY II                    0.341011\n",
       "HARDWARE                      0.270799\n",
       "HOME AND KITCHEN I            0.254058\n",
       "HOME AND KITCHEN II           0.217400\n",
       "HOME APPLIANCES               0.150015\n",
       "HOME CARE                     0.116602\n",
       "LADIESWEAR                    0.251027\n",
       "LAWN AND GARDEN               0.205402\n",
       "LINGERIE                      0.392642\n",
       "LIQUOR,WINE,BEER              0.633928\n",
       "MAGAZINES                     0.248351\n",
       "MEATS                         0.113912\n",
       "PERSONAL CARE                 0.133049\n",
       "PET SUPPLIES                  0.204358\n",
       "PLAYERS AND ELECTRONICS       0.216402\n",
       "POULTRY                       0.119557\n",
       "PREPARED FOODS                0.121628\n",
       "PRODUCE                       0.175030\n",
       "SCHOOL AND OFFICE SUPPLIES    1.455669\n",
       "SEAFOOD                       0.246161\n",
       "dtype: float64"
      ]
     },
     "execution_count": 15,
     "metadata": {},
     "output_type": "execute_result"
    }
   ],
   "source": [
    "# Results of the training stage\n",
    "\n",
    "y_pred   = y_pred.stack(['store_nbr', 'family']).reset_index()\n",
    "y_target = y.stack(['store_nbr', 'family']).reset_index().copy()\n",
    "\n",
    "y_target['sales_pred'] = y_pred['sales'].clip(0.) # Sales should be >= 0\n",
    "\n",
    "y_target.groupby('family').apply(lambda r: mean_squared_log_error(r['sales'], r['sales_pred']))"
   ]
  },
  {
   "cell_type": "code",
   "execution_count": 16,
   "id": "3806c0e2",
   "metadata": {
    "execution": {
     "iopub.execute_input": "2021-12-03T07:32:39.637704Z",
     "iopub.status.busy": "2021-12-03T07:32:39.636726Z",
     "iopub.status.idle": "2021-12-03T07:32:39.639986Z",
     "shell.execute_reply": "2021-12-03T07:32:39.640420Z",
     "shell.execute_reply.started": "2021-12-03T06:08:09.829765Z"
    },
    "papermill": {
     "duration": 0.023354,
     "end_time": "2021-12-03T07:32:39.640618",
     "exception": false,
     "start_time": "2021-12-03T07:32:39.617264",
     "status": "completed"
    },
    "tags": []
   },
   "outputs": [],
   "source": [
    "# Clearly 'SCHOOL AND OFFICE SUPPLIES' needs special attention"
   ]
  },
  {
   "cell_type": "code",
   "execution_count": 17,
   "id": "845533d8",
   "metadata": {
    "execution": {
     "iopub.execute_input": "2021-12-03T07:32:39.676477Z",
     "iopub.status.busy": "2021-12-03T07:32:39.675514Z",
     "iopub.status.idle": "2021-12-03T07:32:42.190296Z",
     "shell.execute_reply": "2021-12-03T07:32:42.190782Z",
     "shell.execute_reply.started": "2021-12-03T06:08:09.835552Z"
    },
    "papermill": {
     "duration": 2.534555,
     "end_time": "2021-12-03T07:32:42.191004",
     "exception": false,
     "start_time": "2021-12-03T07:32:39.656449",
     "status": "completed"
    },
    "tags": []
   },
   "outputs": [
    {
     "data": {
      "text/plain": [
       "<AxesSubplot: xlabel='date'>"
      ]
     },
     "execution_count": 17,
     "metadata": {},
     "output_type": "execute_result"
    },
    {
     "data": {
      "image/png": "[encoded data removed]",
      "text/plain": [
       "<Figure size 1600x800 with 1 Axes>"
      ]
     },
     "metadata": {},
     "output_type": "display_data"
    }
   ],
   "source": [
    "df_train.unstack(['store_nbr', 'family']).loc['2014':].loc(axis=1)['sales', :, 'SCHOOL AND OFFICE SUPPLIES'].plot(legend=None)"
   ]
  },
  {
   "cell_type": "code",
   "execution_count": 17,
   "id": "131c29ab",
   "metadata": {
    "execution": {
     "iopub.execute_input": "2021-12-03T07:32:42.232433Z",
     "iopub.status.busy": "2021-12-03T07:32:42.231261Z",
     "iopub.status.idle": "2021-12-03T07:32:42.234921Z",
     "shell.execute_reply": "2021-12-03T07:32:42.235567Z",
     "shell.execute_reply.started": "2021-12-03T06:08:12.186664Z"
    },
    "papermill": {
     "duration": 0.026849,
     "end_time": "2021-12-03T07:32:42.235803",
     "exception": false,
     "start_time": "2021-12-03T07:32:42.208954",
     "status": "completed"
    },
    "tags": []
   },
   "outputs": [],
   "source": [
    "# Looks like this group is a problem for linear regression\n",
    "# Let's try to use RandomForest regressor instead"
   ]
  },
  {
   "cell_type": "code",
   "execution_count": 19,
   "id": "845e72ac",
   "metadata": {
    "execution": {
     "iopub.execute_input": "2021-12-03T07:32:42.278478Z",
     "iopub.status.busy": "2021-12-03T07:32:42.277434Z",
     "iopub.status.idle": "2021-12-03T07:32:42.408850Z",
     "shell.execute_reply": "2021-12-03T07:32:42.408281Z",
     "shell.execute_reply.started": "2021-12-03T06:08:12.192695Z"
    },
    "papermill": {
     "duration": 0.154284,
     "end_time": "2021-12-03T07:32:42.409077",
     "exception": false,
     "start_time": "2021-12-03T07:32:42.254793",
     "status": "completed"
    },
    "tags": []
   },
   "outputs": [],
   "source": [
    "from joblib import Parallel, delayed\n",
    "import warnings\n",
    "\n",
    "from sklearn.linear_model import Ridge\n",
    "from sklearn.ensemble import RandomForestRegressor\n",
    "from sklearn.ensemble import ExtraTreesRegressor\n",
    "from sklearn.ensemble import BaggingRegressor\n",
    "from sklearn.ensemble import VotingRegressor\n",
    "\n",
    "class CustomRegressor():\n",
    "    \n",
    "    def __init__(self, n_jobs=-1, verbose=0):\n",
    "        \n",
    "        self.n_jobs = n_jobs\n",
    "        self.verbose = verbose\n",
    "        \n",
    "        self.estimators_ = None\n",
    "        \n",
    "    def _estimator_(self, X, y):\n",
    "    \n",
    "        warnings.simplefilter(action='ignore', category=FutureWarning)\n",
    "        \n",
    "        if y.name[2] == 'SCHOOL AND OFFICE SUPPLIES':\n",
    "            r1 = ExtraTreesRegressor(n_estimators=500, n_jobs=-1, random_state=SEED)\n",
    "            r2 = RandomForestRegressor(n_estimators=500, n_jobs=-1, random_state=SEED)\n",
    "            b1 = BaggingRegressor(base_estimator=r1,\n",
    "                                  n_estimators=10,\n",
    "                                  n_jobs=-1,\n",
    "                                  random_state=SEED)\n",
    "            b2 = BaggingRegressor(base_estimator=r2,\n",
    "                                  n_estimators=10,\n",
    "                                  n_jobs=-1,\n",
    "                                  random_state=SEED)\n",
    "            model = VotingRegressor([('et', b1), ('rf', b2)])\n",
    "        else:\n",
    "            model = Ridge(fit_intercept=True, solver='auto', alpha=0.5, random_state=SEED) #, normalize=True\n",
    "\n",
    "        model.fit(X, y)\n",
    "\n",
    "        return model\n",
    "\n",
    "    def fit(self, X, y):\n",
    "\n",
    "        self.estimators_ = [self._estimator_(X, y.iloc[:, i]) for i in range(y.shape[1])]\n",
    "        \n",
    "        return\n",
    "    \n",
    "    def predict(self, X):\n",
    "        \n",
    "        y_pred = [e.predict(X) for e in self.estimators_]\n",
    "        \n",
    "        return np.stack(y_pred, axis=1)"
   ]
  },
  {
   "cell_type": "code",
   "execution_count": 21,
   "id": "444a5cb8",
   "metadata": {
    "execution": {
     "iopub.execute_input": "2021-12-03T07:32:42.452868Z",
     "iopub.status.busy": "2021-12-03T07:32:42.451596Z",
     "iopub.status.idle": "2021-12-03T07:43:13.346242Z",
     "shell.execute_reply": "2021-12-03T07:43:13.346827Z",
     "shell.execute_reply.started": "2021-12-03T06:08:12.326027Z"
    },
    "papermill": {
     "duration": 630.917748,
     "end_time": "2021-12-03T07:43:13.347252",
     "exception": false,
     "start_time": "2021-12-03T07:32:42.429504",
     "status": "completed"
    },
    "tags": []
   },
   "outputs": [
    {
     "name": "stdout",
     "output_type": "stream",
     "text": [
      "CPU times: total: 3min 31s\n",
      "Wall time: 13min 7s\n"
     ]
    }
   ],
   "source": [
    "%%time\n",
    "\n",
    "model = CustomRegressor(n_jobs=-1, verbose=0)\n",
    "model.fit(X, y)\n",
    "y_pred = pd.DataFrame(model.predict(X), index=X.index, columns=y.columns)"
   ]
  },
  {
   "cell_type": "code",
   "execution_count": 22,
   "id": "6cfd7f45",
   "metadata": {
    "execution": {
     "iopub.execute_input": "2021-12-03T07:43:13.393419Z",
     "iopub.status.busy": "2021-12-03T07:43:13.392293Z",
     "iopub.status.idle": "2021-12-03T07:43:13.598521Z",
     "shell.execute_reply": "2021-12-03T07:43:13.599051Z",
     "shell.execute_reply.started": "2021-12-03T06:20:12.894075Z"
    },
    "papermill": {
     "duration": 0.233464,
     "end_time": "2021-12-03T07:43:13.599265",
     "exception": false,
     "start_time": "2021-12-03T07:43:13.365801",
     "status": "completed"
    },
    "tags": []
   },
   "outputs": [
    {
     "data": {
      "text/plain": [
       "family\n",
       "AUTOMOTIVE                    0.251843\n",
       "BABY CARE                     0.066481\n",
       "BEAUTY                        0.258316\n",
       "BEVERAGES                     0.191974\n",
       "BOOKS                         0.026568\n",
       "BREAD/BAKERY                  0.118986\n",
       "CELEBRATION                   0.285675\n",
       "CLEANING                      0.215318\n",
       "DAIRY                         0.130222\n",
       "DELI                          0.103148\n",
       "EGGS                          0.138037\n",
       "FROZEN FOODS                  0.157259\n",
       "GROCERY I                     0.204466\n",
       "GROCERY II                    0.341408\n",
       "HARDWARE                      0.271142\n",
       "HOME AND KITCHEN I            0.254312\n",
       "HOME AND KITCHEN II           0.217591\n",
       "HOME APPLIANCES               0.150213\n",
       "HOME CARE                     0.116671\n",
       "LADIESWEAR                    0.251345\n",
       "LAWN AND GARDEN               0.207535\n",
       "LINGERIE                      0.393154\n",
       "LIQUOR,WINE,BEER              0.634385\n",
       "MAGAZINES                     0.248643\n",
       "MEATS                         0.113927\n",
       "PERSONAL CARE                 0.133147\n",
       "PET SUPPLIES                  0.204612\n",
       "PLAYERS AND ELECTRONICS       0.216672\n",
       "POULTRY                       0.119615\n",
       "PREPARED FOODS                0.121729\n",
       "PRODUCE                       0.175096\n",
       "SCHOOL AND OFFICE SUPPLIES    0.147942\n",
       "SEAFOOD                       0.246594\n",
       "dtype: float64"
      ]
     },
     "execution_count": 22,
     "metadata": {},
     "output_type": "execute_result"
    }
   ],
   "source": [
    "# Results of the training stage with RF\n",
    "\n",
    "y_pred   = y_pred.stack(['store_nbr', 'family']).reset_index()\n",
    "y_target = y.stack(['store_nbr', 'family']).reset_index().copy()\n",
    "\n",
    "y_target['sales_pred'] = y_pred['sales'].clip(0.) # Sales should be >= 0\n",
    "\n",
    "y_target.groupby('family').apply(lambda r: mean_squared_log_error(r['sales'], r['sales_pred']))"
   ]
  },
  {
   "cell_type": "code",
   "execution_count": 21,
   "id": "8fd0bc5f",
   "metadata": {
    "execution": {
     "iopub.execute_input": "2021-12-03T07:43:13.642309Z",
     "iopub.status.busy": "2021-12-03T07:43:13.641610Z",
     "iopub.status.idle": "2021-12-03T07:43:13.644587Z",
     "shell.execute_reply": "2021-12-03T07:43:13.643984Z",
     "shell.execute_reply.started": "2021-12-03T06:20:13.120743Z"
    },
    "papermill": {
     "duration": 0.026522,
     "end_time": "2021-12-03T07:43:13.644732",
     "exception": false,
     "start_time": "2021-12-03T07:43:13.618210",
     "status": "completed"
    },
    "tags": []
   },
   "outputs": [],
   "source": [
    "# Better, much better - but definitely very overfitted. The next step is to do something with this overfitting"
   ]
  },
  {
   "cell_type": "code",
   "execution_count": 25,
   "id": "b3a95938",
   "metadata": {},
   "outputs": [
    {
     "data": {
      "text/html": [
       "<div>\n",
       "<style scoped>\n",
       "    .dataframe tbody tr th:only-of-type {\n",
       "        vertical-align: middle;\n",
       "    }\n",
       "\n",
       "    .dataframe tbody tr th {\n",
       "        vertical-align: top;\n",
       "    }\n",
       "\n",
       "    .dataframe thead th {\n",
       "        text-align: right;\n",
       "    }\n",
       "</style>\n",
       "<table border=\"1\" class=\"dataframe\">\n",
       "  <thead>\n",
       "    <tr style=\"text-align: right;\">\n",
       "      <th></th>\n",
       "      <th>trend</th>\n",
       "      <th>sin(1,freq=W-SUN)</th>\n",
       "      <th>cos(1,freq=W-SUN)</th>\n",
       "      <th>sin(2,freq=W-SUN)</th>\n",
       "      <th>cos(2,freq=W-SUN)</th>\n",
       "      <th>sin(3,freq=W-SUN)</th>\n",
       "      <th>cos(3,freq=W-SUN)</th>\n",
       "    </tr>\n",
       "  </thead>\n",
       "  <tbody>\n",
       "    <tr>\n",
       "      <th>2017-08-16</th>\n",
       "      <td>138.0</td>\n",
       "      <td>0.974928</td>\n",
       "      <td>-0.222521</td>\n",
       "      <td>-0.433884</td>\n",
       "      <td>-0.900969</td>\n",
       "      <td>-0.781831</td>\n",
       "      <td>0.623490</td>\n",
       "    </tr>\n",
       "    <tr>\n",
       "      <th>2017-08-17</th>\n",
       "      <td>139.0</td>\n",
       "      <td>0.433884</td>\n",
       "      <td>-0.900969</td>\n",
       "      <td>-0.781831</td>\n",
       "      <td>0.623490</td>\n",
       "      <td>0.974928</td>\n",
       "      <td>-0.222521</td>\n",
       "    </tr>\n",
       "    <tr>\n",
       "      <th>2017-08-18</th>\n",
       "      <td>140.0</td>\n",
       "      <td>-0.433884</td>\n",
       "      <td>-0.900969</td>\n",
       "      <td>0.781831</td>\n",
       "      <td>0.623490</td>\n",
       "      <td>-0.974928</td>\n",
       "      <td>-0.222521</td>\n",
       "    </tr>\n",
       "    <tr>\n",
       "      <th>2017-08-19</th>\n",
       "      <td>141.0</td>\n",
       "      <td>-0.974928</td>\n",
       "      <td>-0.222521</td>\n",
       "      <td>0.433884</td>\n",
       "      <td>-0.900969</td>\n",
       "      <td>0.781831</td>\n",
       "      <td>0.623490</td>\n",
       "    </tr>\n",
       "    <tr>\n",
       "      <th>2017-08-20</th>\n",
       "      <td>142.0</td>\n",
       "      <td>-0.781831</td>\n",
       "      <td>0.623490</td>\n",
       "      <td>-0.974928</td>\n",
       "      <td>-0.222521</td>\n",
       "      <td>-0.433884</td>\n",
       "      <td>-0.900969</td>\n",
       "    </tr>\n",
       "    <tr>\n",
       "      <th>2017-08-21</th>\n",
       "      <td>143.0</td>\n",
       "      <td>0.000000</td>\n",
       "      <td>1.000000</td>\n",
       "      <td>0.000000</td>\n",
       "      <td>1.000000</td>\n",
       "      <td>0.000000</td>\n",
       "      <td>1.000000</td>\n",
       "    </tr>\n",
       "    <tr>\n",
       "      <th>2017-08-22</th>\n",
       "      <td>144.0</td>\n",
       "      <td>0.781831</td>\n",
       "      <td>0.623490</td>\n",
       "      <td>0.974928</td>\n",
       "      <td>-0.222521</td>\n",
       "      <td>0.433884</td>\n",
       "      <td>-0.900969</td>\n",
       "    </tr>\n",
       "    <tr>\n",
       "      <th>2017-08-23</th>\n",
       "      <td>145.0</td>\n",
       "      <td>0.974928</td>\n",
       "      <td>-0.222521</td>\n",
       "      <td>-0.433884</td>\n",
       "      <td>-0.900969</td>\n",
       "      <td>-0.781831</td>\n",
       "      <td>0.623490</td>\n",
       "    </tr>\n",
       "    <tr>\n",
       "      <th>2017-08-24</th>\n",
       "      <td>146.0</td>\n",
       "      <td>0.433884</td>\n",
       "      <td>-0.900969</td>\n",
       "      <td>-0.781831</td>\n",
       "      <td>0.623490</td>\n",
       "      <td>0.974928</td>\n",
       "      <td>-0.222521</td>\n",
       "    </tr>\n",
       "    <tr>\n",
       "      <th>2017-08-25</th>\n",
       "      <td>147.0</td>\n",
       "      <td>-0.433884</td>\n",
       "      <td>-0.900969</td>\n",
       "      <td>0.781831</td>\n",
       "      <td>0.623490</td>\n",
       "      <td>-0.974928</td>\n",
       "      <td>-0.222521</td>\n",
       "    </tr>\n",
       "    <tr>\n",
       "      <th>2017-08-26</th>\n",
       "      <td>148.0</td>\n",
       "      <td>-0.974928</td>\n",
       "      <td>-0.222521</td>\n",
       "      <td>0.433884</td>\n",
       "      <td>-0.900969</td>\n",
       "      <td>0.781831</td>\n",
       "      <td>0.623490</td>\n",
       "    </tr>\n",
       "    <tr>\n",
       "      <th>2017-08-27</th>\n",
       "      <td>149.0</td>\n",
       "      <td>-0.781831</td>\n",
       "      <td>0.623490</td>\n",
       "      <td>-0.974928</td>\n",
       "      <td>-0.222521</td>\n",
       "      <td>-0.433884</td>\n",
       "      <td>-0.900969</td>\n",
       "    </tr>\n",
       "    <tr>\n",
       "      <th>2017-08-28</th>\n",
       "      <td>150.0</td>\n",
       "      <td>0.000000</td>\n",
       "      <td>1.000000</td>\n",
       "      <td>0.000000</td>\n",
       "      <td>1.000000</td>\n",
       "      <td>0.000000</td>\n",
       "      <td>1.000000</td>\n",
       "    </tr>\n",
       "    <tr>\n",
       "      <th>2017-08-29</th>\n",
       "      <td>151.0</td>\n",
       "      <td>0.781831</td>\n",
       "      <td>0.623490</td>\n",
       "      <td>0.974928</td>\n",
       "      <td>-0.222521</td>\n",
       "      <td>0.433884</td>\n",
       "      <td>-0.900969</td>\n",
       "    </tr>\n",
       "    <tr>\n",
       "      <th>2017-08-30</th>\n",
       "      <td>152.0</td>\n",
       "      <td>0.974928</td>\n",
       "      <td>-0.222521</td>\n",
       "      <td>-0.433884</td>\n",
       "      <td>-0.900969</td>\n",
       "      <td>-0.781831</td>\n",
       "      <td>0.623490</td>\n",
       "    </tr>\n",
       "    <tr>\n",
       "      <th>2017-08-31</th>\n",
       "      <td>153.0</td>\n",
       "      <td>0.433884</td>\n",
       "      <td>-0.900969</td>\n",
       "      <td>-0.781831</td>\n",
       "      <td>0.623490</td>\n",
       "      <td>0.974928</td>\n",
       "      <td>-0.222521</td>\n",
       "    </tr>\n",
       "  </tbody>\n",
       "</table>\n",
       "</div>"
      ],
      "text/plain": [
       "            trend  sin(1,freq=W-SUN)  cos(1,freq=W-SUN)  sin(2,freq=W-SUN)  \\\n",
       "2017-08-16  138.0           0.974928          -0.222521          -0.433884   \n",
       "2017-08-17  139.0           0.433884          -0.900969          -0.781831   \n",
       "2017-08-18  140.0          -0.433884          -0.900969           0.781831   \n",
       "2017-08-19  141.0          -0.974928          -0.222521           0.433884   \n",
       "2017-08-20  142.0          -0.781831           0.623490          -0.974928   \n",
       "2017-08-21  143.0           0.000000           1.000000           0.000000   \n",
       "2017-08-22  144.0           0.781831           0.623490           0.974928   \n",
       "2017-08-23  145.0           0.974928          -0.222521          -0.433884   \n",
       "2017-08-24  146.0           0.433884          -0.900969          -0.781831   \n",
       "2017-08-25  147.0          -0.433884          -0.900969           0.781831   \n",
       "2017-08-26  148.0          -0.974928          -0.222521           0.433884   \n",
       "2017-08-27  149.0          -0.781831           0.623490          -0.974928   \n",
       "2017-08-28  150.0           0.000000           1.000000           0.000000   \n",
       "2017-08-29  151.0           0.781831           0.623490           0.974928   \n",
       "2017-08-30  152.0           0.974928          -0.222521          -0.433884   \n",
       "2017-08-31  153.0           0.433884          -0.900969          -0.781831   \n",
       "\n",
       "            cos(2,freq=W-SUN)  sin(3,freq=W-SUN)  cos(3,freq=W-SUN)  \n",
       "2017-08-16          -0.900969          -0.781831           0.623490  \n",
       "2017-08-17           0.623490           0.974928          -0.222521  \n",
       "2017-08-18           0.623490          -0.974928          -0.222521  \n",
       "2017-08-19          -0.900969           0.781831           0.623490  \n",
       "2017-08-20          -0.222521          -0.433884          -0.900969  \n",
       "2017-08-21           1.000000           0.000000           1.000000  \n",
       "2017-08-22          -0.222521           0.433884          -0.900969  \n",
       "2017-08-23          -0.900969          -0.781831           0.623490  \n",
       "2017-08-24           0.623490           0.974928          -0.222521  \n",
       "2017-08-25           0.623490          -0.974928          -0.222521  \n",
       "2017-08-26          -0.900969           0.781831           0.623490  \n",
       "2017-08-27          -0.222521          -0.433884          -0.900969  \n",
       "2017-08-28           1.000000           0.000000           1.000000  \n",
       "2017-08-29          -0.222521           0.433884          -0.900969  \n",
       "2017-08-30          -0.900969          -0.781831           0.623490  \n",
       "2017-08-31           0.623490           0.974928          -0.222521  "
      ]
     },
     "execution_count": 25,
     "metadata": {},
     "output_type": "execute_result"
    }
   ],
   "source": [
    "dp.out_of_sample(steps=16)"
   ]
  },
  {
   "cell_type": "code",
   "execution_count": 26,
   "id": "a7fc82f9",
   "metadata": {
    "execution": {
     "iopub.execute_input": "2021-12-03T07:43:13.686859Z",
     "iopub.status.busy": "2021-12-03T07:43:13.685940Z",
     "iopub.status.idle": "2021-12-03T07:46:52.592383Z",
     "shell.execute_reply": "2021-12-03T07:46:52.591729Z"
    },
    "papermill": {
     "duration": 218.929105,
     "end_time": "2021-12-03T07:46:52.592608",
     "exception": false,
     "start_time": "2021-12-03T07:43:13.663503",
     "status": "completed"
    },
    "tags": []
   },
   "outputs": [],
   "source": [
    "# Test predictions\n",
    "\n",
    "stest = '2017-08-16'\n",
    "etest = '2017-08-31'\n",
    "\n",
    "X_test = dp.out_of_sample(steps=16)\n",
    "\n",
    "# Extentions\n",
    "\n",
    "X_test['oil']  = calendar.loc[stest:etest]['ma_oil'].values\n",
    "X_test['dofw'] = calendar.loc[stest:etest]['dofw'].values\n",
    "X_test['wd']   = calendar.loc[stest:etest]['wd'].values\n",
    "\n",
    "X_test = pd.get_dummies(X_test, columns=['dofw'], drop_first=True)\n",
    "\n",
    "# No national level events in this period\n",
    "X_test[['type_Additional', 'type_Event', 'type_Holiday', 'type_Transfer']] = 0\n",
    "\n",
    "sales_pred = pd.DataFrame(model.predict(X_test), index=X_test.index, columns=y.columns)\n",
    "sales_pred = sales_pred.stack(['store_nbr', 'family'])\n",
    "\n",
    "sales_pred[sales_pred < 0] = 0. # Sales should be >= 0"
   ]
  },
  {
   "cell_type": "code",
   "execution_count": 27,
   "id": "034aa9a9",
   "metadata": {
    "execution": {
     "iopub.execute_input": "2021-12-03T07:46:52.638075Z",
     "iopub.status.busy": "2021-12-03T07:46:52.637085Z",
     "iopub.status.idle": "2021-12-03T07:46:52.751012Z",
     "shell.execute_reply": "2021-12-03T07:46:52.751472Z"
    },
    "papermill": {
     "duration": 0.139479,
     "end_time": "2021-12-03T07:46:52.751700",
     "exception": false,
     "start_time": "2021-12-03T07:46:52.612221",
     "status": "completed"
    },
    "tags": []
   },
   "outputs": [],
   "source": [
    "# Submission\n",
    "\n",
    "df_sub = pd.read_csv(path + 'sample_submission.csv', index_col='id')\n",
    "df_sub.sales = sales_pred.values\n",
    "df_sub.to_csv('submission.csv', index=True)"
   ]
  },
  {
   "cell_type": "code",
   "execution_count": null,
   "id": "e8c7d130",
   "metadata": {
    "papermill": {
     "duration": 0.018912,
     "end_time": "2021-12-03T07:46:52.790079",
     "exception": false,
     "start_time": "2021-12-03T07:46:52.771167",
     "status": "completed"
    },
    "tags": []
   },
   "outputs": [],
   "source": []
  }
 ],
 "metadata": {
  "kernelspec": {
   "display_name": "Python 3",
   "language": "python",
   "name": "python3"
  },
  "language_info": {
   "codemirror_mode": {
    "name": "ipython",
    "version": 3
   },
   "file_extension": ".py",
   "mimetype": "text/x-python",
   "name": "python",
   "nbconvert_exporter": "python",
   "pygments_lexer": "ipython3",
   "version": "3.9.16"
  },
  "papermill": {
   "default_parameters": {},
   "duration": 875.418944,
   "end_time": "2021-12-03T07:46:55.622980",
   "environment_variables": {},
   "exception": null,
   "input_path": "__notebook__.ipynb",
   "output_path": "__notebook__.ipynb",
   "parameters": {},
   "start_time": "2021-12-03T07:32:20.204036",
   "version": "2.3.3"
  }
 },
 "nbformat": 4,
 "nbformat_minor": 5
}
