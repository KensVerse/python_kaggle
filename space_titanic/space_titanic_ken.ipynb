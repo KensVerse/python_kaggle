{
 "cells": [
  {
   "cell_type": "code",
   "execution_count": 1,
   "id": "10c8261d",
   "metadata": {},
   "outputs": [],
   "source": [
    "import pandas as pd\n",
    "import numpy as np\n",
    "\n",
    "import collections\n",
    "from sklearn.preprocessing import StandardScaler\n",
    "from sklearn.model_selection import GridSearchCV\n",
    "from sklearn.neighbors import KNeighborsClassifier"
   ]
  },
  {
   "cell_type": "code",
   "execution_count": 2,
   "id": "d448bb7e",
   "metadata": {},
   "outputs": [],
   "source": [
    "train = pd.read_csv(\"data/train.csv\")\n",
    "test = pd.read_csv(\"data/test.csv\")"
   ]
  },
  {
   "cell_type": "markdown",
   "id": "41d8c2fa",
   "metadata": {},
   "source": [
    "#####               delete features with more than 20% missing values"
   ]
  },
  {
   "cell_type": "code",
   "execution_count": 66,
   "id": "4a992b48",
   "metadata": {},
   "outputs": [],
   "source": [
    "features = pd.concat([train, test]).reset_index(drop=True)\n",
    "feature_flag = features.isna().sum() > features.shape[0] * 0.2\n",
    "features_omit = list(feature_flag[feature_flag == True].index)\n",
    "features_omit.remove(\"Transported\")\n",
    "features = features.loc[:, ~features.columns.isin(features_omit)]"
   ]
  },
  {
   "cell_type": "markdown",
   "id": "9121fa33",
   "metadata": {},
   "source": [
    "##### fill NA variables"
   ]
  },
  {
   "cell_type": "code",
   "execution_count": 67,
   "id": "f8cde89d",
   "metadata": {},
   "outputs": [],
   "source": [
    "num_features = []\n",
    "str_features = []\n",
    "for i in features.columns:\n",
    "    if pd.api.types.is_string_dtype(features[i]):\n",
    "        str_features.append(i)\n",
    "    if pd.api.types.is_numeric_dtype(features[i]):\n",
    "        num_features.append(i)"
   ]
  },
  {
   "cell_type": "code",
   "execution_count": 68,
   "id": "2fc6c0d9",
   "metadata": {},
   "outputs": [],
   "source": [
    "for i in str_features:\n",
    "    features.loc[features[i].isna(), i] = \"NAN\"\n",
    "for i in num_features:\n",
    "    features[i].fillna(features[i].median(), inplace=True)"
   ]
  },
  {
   "cell_type": "markdown",
   "id": "06d2cc68",
   "metadata": {},
   "source": [
    "##### Features Engineering"
   ]
  },
  {
   "cell_type": "code",
   "execution_count": 70,
   "id": "e94a4d7d",
   "metadata": {},
   "outputs": [
    {
     "data": {
      "text/plain": [
       "Index(['PassengerId', 'HomePlanet', 'CryoSleep', 'Cabin', 'Destination', 'Age',\n",
       "       'VIP', 'RoomService', 'FoodCourt', 'ShoppingMall', 'Spa', 'VRDeck',\n",
       "       'Name', 'Transported'],\n",
       "      dtype='object')"
      ]
     },
     "execution_count": 70,
     "metadata": {},
     "output_type": "execute_result"
    }
   ],
   "source": [
    "features.columns"
   ]
  },
  {
   "cell_type": "markdown",
   "id": "bd745635",
   "metadata": {},
   "source": [
    "special treatment passenger ID, cabin, Name"
   ]
  },
  {
   "cell_type": "code",
   "execution_count": 72,
   "id": "55eb26e3",
   "metadata": {},
   "outputs": [],
   "source": [
    "features[\"Cabin_deck\"] = features[\"Cabin\"].str.split(\"/\", expand=True).iloc[:, 0]\n",
    "features[\"Cabin_side\"] = features[\"Cabin\"].str.split(\"/\", expand=True).iloc[:, 2].fillna(\"NAN\")"
   ]
  },
  {
   "cell_type": "code",
   "execution_count": 73,
   "id": "abbbd199",
   "metadata": {},
   "outputs": [],
   "source": [
    "onehot_cols = [\"HomePlanet\", \"CryoSleep\", \"Destination\", \"VIP\", \"Cabin_deck\", \"Cabin_side\"]\n",
    "for i in onehot_cols:\n",
    "    features = pd.get_dummies(features, columns=[i], prefix=[i])"
   ]
  },
  {
   "cell_type": "code",
   "execution_count": 76,
   "id": "d8343751",
   "metadata": {},
   "outputs": [],
   "source": [
    "features[\"PassengerId_family\"] = features[\"PassengerId\"].str.split(\"_\", expand=True).iloc[:, 0]"
   ]
  },
  {
   "cell_type": "code",
   "execution_count": 89,
   "id": "f7cdc746",
   "metadata": {},
   "outputs": [],
   "source": [
    "features[\"Last_Name\"] = features[\"Name\"].str.split(\" \", expand=True).iloc[:, -1]"
   ]
  },
  {
   "cell_type": "code",
   "execution_count": 99,
   "id": "6c5dbe2b",
   "metadata": {},
   "outputs": [],
   "source": [
    "mapping = {False: 0, True: 1, \"NAN\": 0.5}\n",
    "features[\"Transported_num\"] = features.replace({\"Transported\": mapping})[\"Transported\"]\n",
    "features[\"Family_transported\"] = 0.5"
   ]
  },
  {
   "cell_type": "code",
   "execution_count": 100,
   "id": "511c2d10",
   "metadata": {},
   "outputs": [
    {
     "name": "stderr",
     "output_type": "stream",
     "text": [
      "C:\\Users\\kendt\\AppData\\Local\\Temp\\ipykernel_30816\\3544779981.py:1: FutureWarning: In a future version of pandas, a length 1 tuple will be returned when iterating over a groupby with a grouper equal to a list of length 1. Don't supply a list with a single grouper to avoid this warning.\n",
      "  for grp, grp_df in features[[\"PassengerId\", \"PassengerId_family\", \"Transported_num\"]].groupby([\"PassengerId_family\"]):\n"
     ]
    }
   ],
   "source": [
    "for grp, grp_df in features[[\"PassengerId\", \"PassengerId_family\", \"Transported_num\"]].groupby([\"PassengerId_family\"]):\n",
    "    if len(grp_df) != 1:\n",
    "        for ind, row in grp_df.iterrows():\n",
    "            smax = grp_df.drop(ind)[\"Transported_num\"].max()\n",
    "            smin = grp_df.drop(ind)[\"Transported_num\"].min()\n",
    "            passID = row[\"PassengerId\"]\n",
    "            if smax == 1.0:\n",
    "                features.loc[features[\"PassengerId\"] == passID, \"Family_transported\"] = 1\n",
    "            elif smin == 0.0:\n",
    "                features.loc[features[\"PassengerId\"] == passID, \"Family_transported\"] = 0"
   ]
  },
  {
   "cell_type": "code",
   "execution_count": 106,
   "id": "d92fbd79",
   "metadata": {},
   "outputs": [],
   "source": [
    "features.drop([\"PassengerId\", \"Cabin\", \"Name\", \"PassengerId_family\", \"Transported_num\", \"Last_Name\"], axis=1, inplace=True)"
   ]
  },
  {
   "cell_type": "markdown",
   "id": "a1859fbf",
   "metadata": {},
   "source": [
    "##### k nearest neighbors"
   ]
  },
  {
   "cell_type": "code",
   "execution_count": 111,
   "id": "baa6dfcf",
   "metadata": {},
   "outputs": [],
   "source": [
    "train_y = features[\"Transported\"].iloc[:train.shape[0]]"
   ]
  },
  {
   "cell_type": "code",
   "execution_count": 112,
   "id": "6dc47ff8",
   "metadata": {},
   "outputs": [],
   "source": [
    "features.drop([\"Transported\"], axis=1, inplace=True)\n",
    "train_x = features.iloc[:train.shape[0], :]\n",
    "test_x = features.iloc[train.shape[0]:, :]"
   ]
  },
  {
   "cell_type": "code",
   "execution_count": 113,
   "id": "c2f8d41c",
   "metadata": {},
   "outputs": [],
   "source": [
    "std_scaler = StandardScaler()\n",
    "train_x = std_scaler.fit_transform(train_x)\n",
    "test_x = std_scaler.transform(test_x)"
   ]
  },
  {
   "cell_type": "code",
   "execution_count": 129,
   "id": "69af40d9",
   "metadata": {},
   "outputs": [
    {
     "name": "stdout",
     "output_type": "stream",
     "text": [
      "Fitting 10 folds for each of 240 candidates, totalling 2400 fits\n",
      "0.8507640620782919\n",
      "KNeighborsClassifier(leaf_size=1, n_neighbors=18)\n"
     ]
    }
   ],
   "source": [
    "n_neighbors = [6,7,8,9,10,11,12,14,16,18,20,22]\n",
    "algorithm = ['auto']\n",
    "weights = ['uniform', 'distance']\n",
    "leaf_size = list(range(1,50,5))\n",
    "hyperparams = {'algorithm': algorithm, 'weights': weights, 'leaf_size': leaf_size, \n",
    "               'n_neighbors': n_neighbors}\n",
    "gd=GridSearchCV(estimator = KNeighborsClassifier(), param_grid = hyperparams, verbose=True, \n",
    "                cv=10, scoring = \"roc_auc\")\n",
    "gd.fit(train_x, train_y.astype(int))\n",
    "print(gd.best_score_)\n",
    "print(gd.best_estimator_)"
   ]
  },
  {
   "cell_type": "code",
   "execution_count": 131,
   "id": "a69b7678",
   "metadata": {},
   "outputs": [],
   "source": [
    "test[\"Transported\"] = gd.best_estimator_.predict(test_x)"
   ]
  },
  {
   "cell_type": "code",
   "execution_count": 135,
   "id": "2fc6da61",
   "metadata": {},
   "outputs": [],
   "source": [
    "test[\"Transported\"] = test[\"Transported\"].astype(bool)\n",
    "test[[\"PassengerId\", \"Transported\"]].to_csv(\"submission.csv\", index=False)"
   ]
  },
  {
   "cell_type": "code",
   "execution_count": null,
   "id": "ce9b3f43",
   "metadata": {},
   "outputs": [],
   "source": []
  }
 ],
 "metadata": {
  "kernelspec": {
   "display_name": "Python 3",
   "language": "python",
   "name": "python3"
  },
  "language_info": {
   "codemirror_mode": {
    "name": "ipython",
    "version": 3
   },
   "file_extension": ".py",
   "mimetype": "text/x-python",
   "name": "python",
   "nbconvert_exporter": "python",
   "pygments_lexer": "ipython3",
   "version": "3.9.16"
  }
 },
 "nbformat": 4,
 "nbformat_minor": 5
}
