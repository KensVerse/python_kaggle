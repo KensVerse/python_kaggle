{
 "cells": [
  {
   "cell_type": "markdown",
   "id": "c55f7ec8",
   "metadata": {
    "execution": {
     "iopub.execute_input": "2023-06-25T10:08:23.661832Z",
     "iopub.status.busy": "2023-06-25T10:08:23.66068Z",
     "iopub.status.idle": "2023-06-25T10:08:44.412009Z",
     "shell.execute_reply": "2023-06-25T10:08:44.409631Z",
     "shell.execute_reply.started": "2023-06-25T10:08:23.661787Z"
    },
    "papermill": {
     "duration": 0.009068,
     "end_time": "2023-07-02T02:17:14.457898",
     "exception": false,
     "start_time": "2023-07-02T02:17:14.448830",
     "status": "completed"
    },
    "tags": []
   },
   "source": [
    "notebook based on\n",
    "\n",
    "Andrij https://www.kaggle.com/code/aikhmelnytskyy/public-krni-pdi-with-two-additional-models\n",
    "\n",
    "SAMUEL https://www.kaggle.com/code/muelsamu/simple-tabpfn-approach-for-score-of-15-in-1-min\n",
    "\n",
    "Vaibhav Jain https://www.kaggle.com/code/vaibhavjain2004/public-krni-pdi?scriptVersionId=133524570"
   ]
  },
  {
   "cell_type": "code",
   "execution_count": 1,
   "id": "1fe8fcdb",
   "metadata": {
    "execution": {
     "iopub.execute_input": "2023-07-02T02:17:14.474460Z",
     "iopub.status.busy": "2023-07-02T02:17:14.474081Z",
     "iopub.status.idle": "2023-07-02T02:17:30.015380Z",
     "shell.execute_reply": "2023-07-02T02:17:30.014004Z"
    },
    "papermill": {
     "duration": 15.553476,
     "end_time": "2023-07-02T02:17:30.018732",
     "exception": false,
     "start_time": "2023-07-02T02:17:14.465256",
     "status": "completed"
    },
    "tags": []
   },
   "outputs": [
    {
     "name": "stdout",
     "output_type": "stream",
     "text": [
      "Looking in links: file:///kaggle/input/pip-packages-icr/pip-packages\r\n",
      "Processing /kaggle/input/pip-packages-icr/pip-packages/tabpfn-0.1.9-py3-none-any.whl\r\n",
      "Requirement already satisfied: numpy>=1.21.2 in /opt/conda/lib/python3.10/site-packages (from tabpfn) (1.23.5)\r\n",
      "Requirement already satisfied: requests>=2.23.0 in /opt/conda/lib/python3.10/site-packages (from tabpfn) (2.28.2)\r\n",
      "Requirement already satisfied: torch>=1.9.0 in /opt/conda/lib/python3.10/site-packages (from tabpfn) (2.0.0)\r\n",
      "Requirement already satisfied: pyyaml>=5.4.1 in /opt/conda/lib/python3.10/site-packages (from tabpfn) (6.0)\r\n",
      "Requirement already satisfied: scikit-learn>=0.24.2 in /opt/conda/lib/python3.10/site-packages (from tabpfn) (1.2.2)\r\n",
      "Requirement already satisfied: idna<4,>=2.5 in /opt/conda/lib/python3.10/site-packages (from requests>=2.23.0->tabpfn) (3.4)\r\n",
      "Requirement already satisfied: certifi>=2017.4.17 in /opt/conda/lib/python3.10/site-packages (from requests>=2.23.0->tabpfn) (2022.12.7)\r\n",
      "Requirement already satisfied: charset-normalizer<4,>=2 in /opt/conda/lib/python3.10/site-packages (from requests>=2.23.0->tabpfn) (2.1.1)\r\n",
      "Requirement already satisfied: urllib3<1.27,>=1.21.1 in /opt/conda/lib/python3.10/site-packages (from requests>=2.23.0->tabpfn) (1.26.15)\r\n",
      "Requirement already satisfied: scipy>=1.3.2 in /opt/conda/lib/python3.10/site-packages (from scikit-learn>=0.24.2->tabpfn) (1.9.3)\r\n",
      "Requirement already satisfied: threadpoolctl>=2.0.0 in /opt/conda/lib/python3.10/site-packages (from scikit-learn>=0.24.2->tabpfn) (3.1.0)\r\n",
      "Requirement already satisfied: joblib>=1.1.1 in /opt/conda/lib/python3.10/site-packages (from scikit-learn>=0.24.2->tabpfn) (1.2.0)\r\n",
      "Requirement already satisfied: typing-extensions in /opt/conda/lib/python3.10/site-packages (from torch>=1.9.0->tabpfn) (4.5.0)\r\n",
      "Requirement already satisfied: sympy in /opt/conda/lib/python3.10/site-packages (from torch>=1.9.0->tabpfn) (1.11.1)\r\n",
      "Requirement already satisfied: filelock in /opt/conda/lib/python3.10/site-packages (from torch>=1.9.0->tabpfn) (3.11.0)\r\n",
      "Requirement already satisfied: jinja2 in /opt/conda/lib/python3.10/site-packages (from torch>=1.9.0->tabpfn) (3.1.2)\r\n",
      "Requirement already satisfied: networkx in /opt/conda/lib/python3.10/site-packages (from torch>=1.9.0->tabpfn) (3.1)\r\n",
      "Requirement already satisfied: MarkupSafe>=2.0 in /opt/conda/lib/python3.10/site-packages (from jinja2->torch>=1.9.0->tabpfn) (2.1.2)\r\n",
      "Requirement already satisfied: mpmath>=0.19 in /opt/conda/lib/python3.10/site-packages (from sympy->torch>=1.9.0->tabpfn) (1.3.0)\r\n",
      "Installing collected packages: tabpfn\r\n",
      "Successfully installed tabpfn-0.1.9\r\n",
      "\u001b[33mWARNING: Running pip as the 'root' user can result in broken permissions and conflicting behaviour with the system package manager. It is recommended to use a virtual environment instead: https://pip.pypa.io/warnings/venv\u001b[0m\u001b[33m\r\n",
      "\u001b[0m"
     ]
    }
   ],
   "source": [
    "!pip install tabpfn --no-index --find-links=file:///kaggle/input/pip-packages-icr/pip-packages\n",
    "!mkdir -p /opt/conda/lib/python3.10/site-packages/tabpfn/models_diff\n",
    "!cp /kaggle/input/pip-packages-icr/pip-packages/prior_diff_real_checkpoint_n_0_epoch_100.cpkt /opt/conda/lib/python3.10/site-packages/tabpfn/models_diff/"
   ]
  },
  {
   "cell_type": "code",
   "execution_count": 2,
   "id": "652dc7c0",
   "metadata": {
    "_cell_guid": "b1076dfc-b9ad-4769-8c92-a6c4dae69d19",
    "_uuid": "8f2839f25d086af736a60e9eeb907d3b93b6e0e5",
    "execution": {
     "iopub.execute_input": "2023-07-02T02:17:30.037764Z",
     "iopub.status.busy": "2023-07-02T02:17:30.036184Z",
     "iopub.status.idle": "2023-07-02T02:17:35.580655Z",
     "shell.execute_reply": "2023-07-02T02:17:35.579598Z"
    },
    "papermill": {
     "duration": 5.556391,
     "end_time": "2023-07-02T02:17:35.583337",
     "exception": false,
     "start_time": "2023-07-02T02:17:30.026946",
     "status": "completed"
    },
    "tags": []
   },
   "outputs": [
    {
     "name": "stderr",
     "output_type": "stream",
     "text": [
      "/opt/conda/lib/python3.10/site-packages/scipy/__init__.py:146: UserWarning: A NumPy version >=1.16.5 and <1.23.0 is required for this version of SciPy (detected version 1.23.5\n",
      "  warnings.warn(f\"A NumPy version >={np_minversion} and <{np_maxversion}\"\n"
     ]
    }
   ],
   "source": [
    "import numpy as np\n",
    "import pandas as pd\n",
    "from sklearn.preprocessing import LabelEncoder,normalize\n",
    "from sklearn.ensemble import GradientBoostingClassifier,RandomForestClassifier\n",
    "from sklearn.metrics import accuracy_score\n",
    "from sklearn.impute import SimpleImputer\n",
    "import imblearn\n",
    "from imblearn.over_sampling import RandomOverSampler\n",
    "from imblearn.under_sampling import RandomUnderSampler\n",
    "import xgboost\n",
    "import inspect\n",
    "from collections import defaultdict\n",
    "from tabpfn import TabPFNClassifier\n",
    "import warnings\n",
    "warnings.filterwarnings('ignore')"
   ]
  },
  {
   "cell_type": "code",
   "execution_count": 3,
   "id": "991207f8",
   "metadata": {
    "execution": {
     "iopub.execute_input": "2023-07-02T02:17:35.601302Z",
     "iopub.status.busy": "2023-07-02T02:17:35.600792Z",
     "iopub.status.idle": "2023-07-02T02:17:35.650317Z",
     "shell.execute_reply": "2023-07-02T02:17:35.649438Z"
    },
    "papermill": {
     "duration": 0.06088,
     "end_time": "2023-07-02T02:17:35.652354",
     "exception": false,
     "start_time": "2023-07-02T02:17:35.591474",
     "status": "completed"
    },
    "tags": []
   },
   "outputs": [],
   "source": [
    "train = pd.read_csv('/kaggle/input/icr-identify-age-related-conditions/train.csv')\n",
    "test = pd.read_csv('/kaggle/input/icr-identify-age-related-conditions/test.csv')\n",
    "sample = pd.read_csv('/kaggle/input/icr-identify-age-related-conditions/sample_submission.csv')\n",
    "greeks = pd.read_csv('/kaggle/input/icr-identify-age-related-conditions/greeks.csv')"
   ]
  },
  {
   "cell_type": "code",
   "execution_count": 4,
   "id": "c9accbe4",
   "metadata": {
    "execution": {
     "iopub.execute_input": "2023-07-02T02:17:35.669898Z",
     "iopub.status.busy": "2023-07-02T02:17:35.669036Z",
     "iopub.status.idle": "2023-07-02T02:17:35.673458Z",
     "shell.execute_reply": "2023-07-02T02:17:35.672555Z"
    },
    "papermill": {
     "duration": 0.015291,
     "end_time": "2023-07-02T02:17:35.675574",
     "exception": false,
     "start_time": "2023-07-02T02:17:35.660283",
     "status": "completed"
    },
    "tags": []
   },
   "outputs": [],
   "source": [
    "# lb = LabelEncoder()\n",
    "# train['EJ'] = lb.fit_transform(train['EJ']).astype(float)\n",
    "# test['EJ'] = lb.fit_transform(test['EJ']).astype(float)"
   ]
  },
  {
   "cell_type": "code",
   "execution_count": 5,
   "id": "977337e9",
   "metadata": {
    "execution": {
     "iopub.execute_input": "2023-07-02T02:17:35.692561Z",
     "iopub.status.busy": "2023-07-02T02:17:35.692270Z",
     "iopub.status.idle": "2023-07-02T02:17:35.705745Z",
     "shell.execute_reply": "2023-07-02T02:17:35.704761Z"
    },
    "papermill": {
     "duration": 0.024382,
     "end_time": "2023-07-02T02:17:35.708124",
     "exception": false,
     "start_time": "2023-07-02T02:17:35.683742",
     "status": "completed"
    },
    "tags": []
   },
   "outputs": [],
   "source": [
    "first_category = train.EJ.unique()[0]\n",
    "train.EJ = train.EJ.eq(first_category).astype('int')\n",
    "test.EJ = test.EJ.eq(first_category).astype('int')"
   ]
  },
  {
   "cell_type": "code",
   "execution_count": 6,
   "id": "9540a758",
   "metadata": {
    "execution": {
     "iopub.execute_input": "2023-07-02T02:17:35.724853Z",
     "iopub.status.busy": "2023-07-02T02:17:35.724580Z",
     "iopub.status.idle": "2023-07-02T02:17:35.730101Z",
     "shell.execute_reply": "2023-07-02T02:17:35.729243Z"
    },
    "papermill": {
     "duration": 0.01615,
     "end_time": "2023-07-02T02:17:35.732152",
     "exception": false,
     "start_time": "2023-07-02T02:17:35.716002",
     "status": "completed"
    },
    "tags": []
   },
   "outputs": [],
   "source": [
    "def random_under_sampler(df):\n",
    "    # Calculate the number of samples for each label. \n",
    "    neg, pos = np.bincount(df['Class'])\n",
    "\n",
    "    # Choose the samples with class label `1`.\n",
    "    one_df = df.loc[df['Class'] == 1] \n",
    "    # Choose the samples with class label `0`.\n",
    "    zero_df = df.loc[df['Class'] == 0]\n",
    "    # Select `pos` number of negative samples.\n",
    "    # This makes sure that we have equal number of samples for each label.\n",
    "    zero_df = zero_df.sample(n=pos)\n",
    "\n",
    "    # Join both label dataframes.\n",
    "    undersampled_df = pd.concat([zero_df, one_df])\n",
    "\n",
    "    # Shuffle the data and return\n",
    "    return undersampled_df.sample(frac = 1)"
   ]
  },
  {
   "cell_type": "code",
   "execution_count": 7,
   "id": "348b1e27",
   "metadata": {
    "execution": {
     "iopub.execute_input": "2023-07-02T02:17:35.749212Z",
     "iopub.status.busy": "2023-07-02T02:17:35.748954Z",
     "iopub.status.idle": "2023-07-02T02:17:35.758654Z",
     "shell.execute_reply": "2023-07-02T02:17:35.757819Z"
    },
    "papermill": {
     "duration": 0.020613,
     "end_time": "2023-07-02T02:17:35.760725",
     "exception": false,
     "start_time": "2023-07-02T02:17:35.740112",
     "status": "completed"
    },
    "tags": []
   },
   "outputs": [],
   "source": [
    "train_good = random_under_sampler(train)"
   ]
  },
  {
   "cell_type": "code",
   "execution_count": 8,
   "id": "cc488b1f",
   "metadata": {
    "execution": {
     "iopub.execute_input": "2023-07-02T02:17:35.777181Z",
     "iopub.status.busy": "2023-07-02T02:17:35.776924Z",
     "iopub.status.idle": "2023-07-02T02:17:35.783194Z",
     "shell.execute_reply": "2023-07-02T02:17:35.782369Z"
    },
    "papermill": {
     "duration": 0.016886,
     "end_time": "2023-07-02T02:17:35.785277",
     "exception": false,
     "start_time": "2023-07-02T02:17:35.768391",
     "status": "completed"
    },
    "tags": []
   },
   "outputs": [
    {
     "data": {
      "text/plain": [
       "(216, 58)"
      ]
     },
     "execution_count": 8,
     "metadata": {},
     "output_type": "execute_result"
    }
   ],
   "source": [
    "train_good.shape"
   ]
  },
  {
   "cell_type": "code",
   "execution_count": 9,
   "id": "58adc159",
   "metadata": {
    "execution": {
     "iopub.execute_input": "2023-07-02T02:17:35.803117Z",
     "iopub.status.busy": "2023-07-02T02:17:35.801585Z",
     "iopub.status.idle": "2023-07-02T02:17:35.808357Z",
     "shell.execute_reply": "2023-07-02T02:17:35.807451Z"
    },
    "papermill": {
     "duration": 0.017547,
     "end_time": "2023-07-02T02:17:35.810515",
     "exception": false,
     "start_time": "2023-07-02T02:17:35.792968",
     "status": "completed"
    },
    "tags": []
   },
   "outputs": [],
   "source": [
    "predictor_columns = [n for n in train.columns if n != 'Class' and n != 'Id']\n",
    "x= train[predictor_columns]\n",
    "y = train['Class']"
   ]
  },
  {
   "cell_type": "code",
   "execution_count": 10,
   "id": "c657a260",
   "metadata": {
    "execution": {
     "iopub.execute_input": "2023-07-02T02:17:35.827591Z",
     "iopub.status.busy": "2023-07-02T02:17:35.827310Z",
     "iopub.status.idle": "2023-07-02T02:17:35.831071Z",
     "shell.execute_reply": "2023-07-02T02:17:35.830176Z"
    },
    "papermill": {
     "duration": 0.014555,
     "end_time": "2023-07-02T02:17:35.833276",
     "exception": false,
     "start_time": "2023-07-02T02:17:35.818721",
     "status": "completed"
    },
    "tags": []
   },
   "outputs": [],
   "source": [
    "# x_norm = np.array(x_norm)\n",
    "# y_ros = np.array(y_ros)"
   ]
  },
  {
   "cell_type": "code",
   "execution_count": 11,
   "id": "fe0c5527",
   "metadata": {
    "execution": {
     "iopub.execute_input": "2023-07-02T02:17:35.850660Z",
     "iopub.status.busy": "2023-07-02T02:17:35.849787Z",
     "iopub.status.idle": "2023-07-02T02:17:35.854582Z",
     "shell.execute_reply": "2023-07-02T02:17:35.853681Z"
    },
    "papermill": {
     "duration": 0.01548,
     "end_time": "2023-07-02T02:17:35.856540",
     "exception": false,
     "start_time": "2023-07-02T02:17:35.841060",
     "status": "completed"
    },
    "tags": []
   },
   "outputs": [],
   "source": [
    "from sklearn.model_selection import KFold as KF, GridSearchCV\n",
    "cv_outer = KF(n_splits = 10, shuffle=True, random_state=42)\n",
    "cv_inner = KF(n_splits = 5, shuffle=True, random_state=42)"
   ]
  },
  {
   "cell_type": "code",
   "execution_count": 12,
   "id": "89d64fc0",
   "metadata": {
    "execution": {
     "iopub.execute_input": "2023-07-02T02:17:35.874346Z",
     "iopub.status.busy": "2023-07-02T02:17:35.872961Z",
     "iopub.status.idle": "2023-07-02T02:17:35.880059Z",
     "shell.execute_reply": "2023-07-02T02:17:35.879216Z"
    },
    "papermill": {
     "duration": 0.017804,
     "end_time": "2023-07-02T02:17:35.882099",
     "exception": false,
     "start_time": "2023-07-02T02:17:35.864295",
     "status": "completed"
    },
    "tags": []
   },
   "outputs": [],
   "source": [
    "def balanced_log_loss(y_true, y_pred):\n",
    "    # y_true: correct labels 0, 1\n",
    "    # y_pred: predicted probabilities of class=1\n",
    "    # calculate the number of observations for each class\n",
    "    N_0 = np.sum(1 - y_true)\n",
    "    N_1 = np.sum(y_true)\n",
    "    # calculate the weights for each class to balance classes\n",
    "    w_0 = 1 / N_0\n",
    "    w_1 = 1 / N_1\n",
    "    # calculate the predicted probabilities for each class\n",
    "    p_1 = np.clip(y_pred, 1e-15, 1 - 1e-15)\n",
    "    p_0 = 1 - p_1\n",
    "    # calculate the summed log loss for each class\n",
    "    log_loss_0 = -np.sum((1 - y_true) * np.log(p_0))\n",
    "    log_loss_1 = -np.sum(y_true * np.log(p_1))\n",
    "    # calculate the weighted summed logarithmic loss\n",
    "    # (factgor of 2 included to give same result as LL with balanced input)\n",
    "    balanced_log_loss = 2*(w_0 * log_loss_0 + w_1 * log_loss_1) / (w_0 + w_1)\n",
    "    # return the average log loss\n",
    "    return balanced_log_loss/(N_0+N_1)"
   ]
  },
  {
   "cell_type": "code",
   "execution_count": 13,
   "id": "ac88e3d1",
   "metadata": {
    "execution": {
     "iopub.execute_input": "2023-07-02T02:17:35.899847Z",
     "iopub.status.busy": "2023-07-02T02:17:35.899030Z",
     "iopub.status.idle": "2023-07-02T02:17:35.910018Z",
     "shell.execute_reply": "2023-07-02T02:17:35.909191Z"
    },
    "papermill": {
     "duration": 0.021717,
     "end_time": "2023-07-02T02:17:35.911937",
     "exception": false,
     "start_time": "2023-07-02T02:17:35.890220",
     "status": "completed"
    },
    "tags": []
   },
   "outputs": [],
   "source": [
    "class Ensemble():\n",
    "    def __init__(self):\n",
    "        self.imputer = SimpleImputer(missing_values=np.nan, strategy='median')\n",
    "\n",
    "        self.classifiers =[xgboost.XGBClassifier(n_estimators=100,max_depth=3,learning_rate=0.2,subsample=0.9,colsample_bytree=0.85),\n",
    "                           xgboost.XGBClassifier(),\n",
    "                           TabPFNClassifier(N_ensemble_configurations=24),\n",
    "                          TabPFNClassifier(N_ensemble_configurations=64)]\n",
    "    \n",
    "    def fit(self,X,y):\n",
    "        y = y.values\n",
    "        unique_classes, y = np.unique(y, return_inverse=True)\n",
    "        self.classes_ = unique_classes\n",
    "        first_category = X.EJ.unique()[0]\n",
    "        X.EJ = X.EJ.eq(first_category).astype('int')\n",
    "        X = self.imputer.fit_transform(X)\n",
    "#         X = normalize(X,axis=0)\n",
    "        for classifier in self.classifiers:\n",
    "            if classifier==self.classifiers[2] or classifier==self.classifiers[3]:\n",
    "                classifier.fit(X,y,overwrite_warning =True)\n",
    "            else :\n",
    "                classifier.fit(X, y)\n",
    "     \n",
    "    def predict_proba(self, x):\n",
    "        x = self.imputer.transform(x)\n",
    "#         x = normalize(x,axis=0)\n",
    "        probabilities = np.stack([classifier.predict_proba(x) for classifier in self.classifiers])\n",
    "        averaged_probabilities = np.mean(probabilities, axis=0)\n",
    "        class_0_est_instances = averaged_probabilities[:, 0].sum()\n",
    "        others_est_instances = averaged_probabilities[:, 1:].sum()\n",
    "        # Weighted probabilities based on class imbalance\n",
    "        new_probabilities = averaged_probabilities * np.array([[1/(class_0_est_instances if i==0 else others_est_instances) for i in range(averaged_probabilities.shape[1])]])\n",
    "        return new_probabilities / np.sum(new_probabilities, axis=1, keepdims=1) "
   ]
  },
  {
   "cell_type": "code",
   "execution_count": 14,
   "id": "c8f8f1ef",
   "metadata": {
    "execution": {
     "iopub.execute_input": "2023-07-02T02:17:35.929230Z",
     "iopub.status.busy": "2023-07-02T02:17:35.928451Z",
     "iopub.status.idle": "2023-07-02T02:17:36.019589Z",
     "shell.execute_reply": "2023-07-02T02:17:36.018663Z"
    },
    "papermill": {
     "duration": 0.101803,
     "end_time": "2023-07-02T02:17:36.021759",
     "exception": false,
     "start_time": "2023-07-02T02:17:35.919956",
     "status": "completed"
    },
    "tags": []
   },
   "outputs": [],
   "source": [
    "from tqdm.notebook import tqdm"
   ]
  },
  {
   "cell_type": "code",
   "execution_count": 15,
   "id": "704dfbfc",
   "metadata": {
    "execution": {
     "iopub.execute_input": "2023-07-02T02:17:36.039070Z",
     "iopub.status.busy": "2023-07-02T02:17:36.038799Z",
     "iopub.status.idle": "2023-07-02T02:17:36.049328Z",
     "shell.execute_reply": "2023-07-02T02:17:36.048481Z"
    },
    "papermill": {
     "duration": 0.021382,
     "end_time": "2023-07-02T02:17:36.051291",
     "exception": false,
     "start_time": "2023-07-02T02:17:36.029909",
     "status": "completed"
    },
    "tags": []
   },
   "outputs": [],
   "source": [
    "def training(model, x,y,y_meta):\n",
    "    outer_results = list()\n",
    "    best_loss = np.inf\n",
    "    split = 0\n",
    "    splits = 5\n",
    "    for train_idx,val_idx in tqdm(cv_inner.split(x), total = splits):\n",
    "        split+=1\n",
    "        x_train, x_val = x.iloc[train_idx],x.iloc[val_idx]\n",
    "        y_train, y_val = y_meta.iloc[train_idx], y.iloc[val_idx]\n",
    "                \n",
    "        model.fit(x_train, y_train)\n",
    "        y_pred = model.predict_proba(x_val)\n",
    "        probabilities = np.concatenate((y_pred[:,:1], np.sum(y_pred[:,1:], 1, keepdims=True)), axis=1)\n",
    "        p0 = probabilities[:,:1]\n",
    "        p0[p0 > 0.86] = 1\n",
    "        p0[p0 < 0.14] = 0\n",
    "        y_p = np.empty((y_pred.shape[0],))\n",
    "        for i in range(y_pred.shape[0]):\n",
    "            if p0[i]>=0.5:\n",
    "                y_p[i]= False\n",
    "            else :\n",
    "                y_p[i]=True\n",
    "        y_p = y_p.astype(int)\n",
    "        loss = balanced_log_loss(y_val,y_p)\n",
    "\n",
    "        if loss<best_loss:\n",
    "            best_model = model\n",
    "            best_loss = loss\n",
    "            print('best_model_saved')\n",
    "        outer_results.append(loss)\n",
    "        print('>val_loss=%.5f, split = %.1f' % (loss,split))\n",
    "    print('LOSS: %.5f' % (np.mean(outer_results)))\n",
    "    return best_model\n",
    "    "
   ]
  },
  {
   "cell_type": "code",
   "execution_count": 16,
   "id": "547b96ac",
   "metadata": {
    "execution": {
     "iopub.execute_input": "2023-07-02T02:17:36.068533Z",
     "iopub.status.busy": "2023-07-02T02:17:36.067780Z",
     "iopub.status.idle": "2023-07-02T02:17:36.086097Z",
     "shell.execute_reply": "2023-07-02T02:17:36.085279Z"
    },
    "papermill": {
     "duration": 0.028903,
     "end_time": "2023-07-02T02:17:36.088195",
     "exception": false,
     "start_time": "2023-07-02T02:17:36.059292",
     "status": "completed"
    },
    "tags": []
   },
   "outputs": [],
   "source": [
    "from datetime import datetime\n",
    "times = greeks.Epsilon.copy()\n",
    "times[greeks.Epsilon != 'Unknown'] = greeks.Epsilon[greeks.Epsilon != 'Unknown'].map(lambda x: datetime.strptime(x,'%m/%d/%Y').toordinal())\n",
    "times[greeks.Epsilon == 'Unknown'] = np.nan"
   ]
  },
  {
   "cell_type": "code",
   "execution_count": 17,
   "id": "8a281af0",
   "metadata": {
    "execution": {
     "iopub.execute_input": "2023-07-02T02:17:36.105357Z",
     "iopub.status.busy": "2023-07-02T02:17:36.104581Z",
     "iopub.status.idle": "2023-07-02T02:17:36.114068Z",
     "shell.execute_reply": "2023-07-02T02:17:36.113167Z"
    },
    "papermill": {
     "duration": 0.02016,
     "end_time": "2023-07-02T02:17:36.116028",
     "exception": false,
     "start_time": "2023-07-02T02:17:36.095868",
     "status": "completed"
    },
    "tags": []
   },
   "outputs": [],
   "source": [
    "train_pred_and_time = pd.concat((train, times), axis=1)\n",
    "test_predictors = test[predictor_columns]\n",
    "first_category = test_predictors.EJ.unique()[0]\n",
    "test_predictors.EJ = test_predictors.EJ.eq(first_category).astype('int')\n",
    "test_pred_and_time = np.concatenate((test_predictors, np.zeros((len(test_predictors), 1)) + train_pred_and_time.Epsilon.max() + 1), axis=1)"
   ]
  },
  {
   "cell_type": "code",
   "execution_count": 18,
   "id": "e2b7d0ef",
   "metadata": {
    "execution": {
     "iopub.execute_input": "2023-07-02T02:17:36.133868Z",
     "iopub.status.busy": "2023-07-02T02:17:36.133608Z",
     "iopub.status.idle": "2023-07-02T02:17:36.170640Z",
     "shell.execute_reply": "2023-07-02T02:17:36.169638Z"
    },
    "papermill": {
     "duration": 0.04845,
     "end_time": "2023-07-02T02:17:36.172592",
     "exception": false,
     "start_time": "2023-07-02T02:17:36.124142",
     "status": "completed"
    },
    "tags": []
   },
   "outputs": [
    {
     "name": "stdout",
     "output_type": "stream",
     "text": [
      "Original dataset shape\n",
      "A    509\n",
      "B     61\n",
      "G     29\n",
      "D     18\n",
      "Name: Alpha, dtype: int64\n",
      "Resample dataset shape\n",
      "B    509\n",
      "A    509\n",
      "D    509\n",
      "G    509\n",
      "Name: Alpha, dtype: int64\n"
     ]
    }
   ],
   "source": [
    "ros = RandomOverSampler(random_state=42)\n",
    "\n",
    "train_ros, y_ros = ros.fit_resample(train_pred_and_time, greeks.Alpha)\n",
    "print('Original dataset shape')\n",
    "print(greeks.Alpha.value_counts())\n",
    "print('Resample dataset shape')\n",
    "print( y_ros.value_counts())"
   ]
  },
  {
   "cell_type": "code",
   "execution_count": 19,
   "id": "fbcb1839",
   "metadata": {
    "execution": {
     "iopub.execute_input": "2023-07-02T02:17:36.190290Z",
     "iopub.status.busy": "2023-07-02T02:17:36.188906Z",
     "iopub.status.idle": "2023-07-02T02:17:36.196078Z",
     "shell.execute_reply": "2023-07-02T02:17:36.195230Z"
    },
    "papermill": {
     "duration": 0.017719,
     "end_time": "2023-07-02T02:17:36.198019",
     "exception": false,
     "start_time": "2023-07-02T02:17:36.180300",
     "status": "completed"
    },
    "tags": []
   },
   "outputs": [],
   "source": [
    "x_ros = train_ros.drop(['Class', 'Id'],axis=1)\n",
    "y_ = train_ros.Class"
   ]
  },
  {
   "cell_type": "code",
   "execution_count": 20,
   "id": "ec33ee8f",
   "metadata": {
    "execution": {
     "iopub.execute_input": "2023-07-02T02:17:36.216218Z",
     "iopub.status.busy": "2023-07-02T02:17:36.214739Z",
     "iopub.status.idle": "2023-07-02T02:17:36.970196Z",
     "shell.execute_reply": "2023-07-02T02:17:36.969011Z"
    },
    "papermill": {
     "duration": 0.767482,
     "end_time": "2023-07-02T02:17:36.973290",
     "exception": false,
     "start_time": "2023-07-02T02:17:36.205808",
     "status": "completed"
    },
    "tags": []
   },
   "outputs": [
    {
     "name": "stdout",
     "output_type": "stream",
     "text": [
      "Loading model that can be used for inference only\n",
      "Using a Transformer with 25.82 M parameters\n",
      "Loading model that can be used for inference only\n",
      "Using a Transformer with 25.82 M parameters\n"
     ]
    }
   ],
   "source": [
    "yt = Ensemble()"
   ]
  },
  {
   "cell_type": "code",
   "execution_count": 21,
   "id": "a273078a",
   "metadata": {
    "execution": {
     "iopub.execute_input": "2023-07-02T02:17:36.993620Z",
     "iopub.status.busy": "2023-07-02T02:17:36.991866Z",
     "iopub.status.idle": "2023-07-02T02:49:04.071982Z",
     "shell.execute_reply": "2023-07-02T02:49:04.071008Z"
    },
    "papermill": {
     "duration": 1887.102443,
     "end_time": "2023-07-02T02:49:04.084560",
     "exception": false,
     "start_time": "2023-07-02T02:17:36.982117",
     "status": "completed"
    },
    "tags": []
   },
   "outputs": [
    {
     "data": {
      "application/vnd.jupyter.widget-view+json": {
       "model_id": "8c34f550bfaa449790dcdcf1ea23a89b",
       "version_major": 2,
       "version_minor": 0
      },
      "text/plain": [
       "  0%|          | 0/5 [00:00<?, ?it/s]"
      ]
     },
     "metadata": {},
     "output_type": "display_data"
    },
    {
     "name": "stdout",
     "output_type": "stream",
     "text": [
      "best_model_saved\n",
      ">val_loss=0.12283, split = 1.0\n"
     ]
    },
    {
     "name": "stderr",
     "output_type": "stream",
     "text": [
      "/tmp/ipykernel_23/2151898688.py:15: SettingWithCopyWarning: \n",
      "A value is trying to be set on a copy of a slice from a DataFrame.\n",
      "Try using .loc[row_indexer,col_indexer] = value instead\n",
      "\n",
      "See the caveats in the documentation: https://pandas.pydata.org/pandas-docs/stable/user_guide/indexing.html#returning-a-view-versus-a-copy\n",
      "  X.EJ = X.EJ.eq(first_category).astype('int')\n"
     ]
    },
    {
     "name": "stdout",
     "output_type": "stream",
     "text": [
      "best_model_saved\n",
      ">val_loss=0.00000, split = 2.0\n"
     ]
    },
    {
     "name": "stderr",
     "output_type": "stream",
     "text": [
      "/tmp/ipykernel_23/2151898688.py:15: SettingWithCopyWarning: \n",
      "A value is trying to be set on a copy of a slice from a DataFrame.\n",
      "Try using .loc[row_indexer,col_indexer] = value instead\n",
      "\n",
      "See the caveats in the documentation: https://pandas.pydata.org/pandas-docs/stable/user_guide/indexing.html#returning-a-view-versus-a-copy\n",
      "  X.EJ = X.EJ.eq(first_category).astype('int')\n"
     ]
    },
    {
     "name": "stdout",
     "output_type": "stream",
     "text": [
      ">val_loss=0.00000, split = 3.0\n"
     ]
    },
    {
     "name": "stderr",
     "output_type": "stream",
     "text": [
      "/tmp/ipykernel_23/2151898688.py:15: SettingWithCopyWarning: \n",
      "A value is trying to be set on a copy of a slice from a DataFrame.\n",
      "Try using .loc[row_indexer,col_indexer] = value instead\n",
      "\n",
      "See the caveats in the documentation: https://pandas.pydata.org/pandas-docs/stable/user_guide/indexing.html#returning-a-view-versus-a-copy\n",
      "  X.EJ = X.EJ.eq(first_category).astype('int')\n"
     ]
    },
    {
     "name": "stdout",
     "output_type": "stream",
     "text": [
      "best_model_saved\n",
      ">val_loss=0.00000, split = 4.0\n"
     ]
    },
    {
     "name": "stderr",
     "output_type": "stream",
     "text": [
      "/tmp/ipykernel_23/2151898688.py:15: SettingWithCopyWarning: \n",
      "A value is trying to be set on a copy of a slice from a DataFrame.\n",
      "Try using .loc[row_indexer,col_indexer] = value instead\n",
      "\n",
      "See the caveats in the documentation: https://pandas.pydata.org/pandas-docs/stable/user_guide/indexing.html#returning-a-view-versus-a-copy\n",
      "  X.EJ = X.EJ.eq(first_category).astype('int')\n"
     ]
    },
    {
     "name": "stdout",
     "output_type": "stream",
     "text": [
      ">val_loss=0.13386, split = 5.0\n",
      "LOSS: 0.05134\n"
     ]
    }
   ],
   "source": [
    "m = training(yt,x_ros,y_,y_ros)"
   ]
  },
  {
   "cell_type": "code",
   "execution_count": 22,
   "id": "14565285",
   "metadata": {
    "execution": {
     "iopub.execute_input": "2023-07-02T02:49:04.104069Z",
     "iopub.status.busy": "2023-07-02T02:49:04.103776Z",
     "iopub.status.idle": "2023-07-02T02:49:04.112566Z",
     "shell.execute_reply": "2023-07-02T02:49:04.111569Z"
    },
    "papermill": {
     "duration": 0.022036,
     "end_time": "2023-07-02T02:49:04.115852",
     "exception": false,
     "start_time": "2023-07-02T02:49:04.093816",
     "status": "completed"
    },
    "tags": []
   },
   "outputs": [
    {
     "data": {
      "text/plain": [
       "1    0.75\n",
       "0    0.25\n",
       "Name: Class, dtype: float64"
      ]
     },
     "execution_count": 22,
     "metadata": {},
     "output_type": "execute_result"
    }
   ],
   "source": [
    "y_.value_counts()/y_.shape[0]"
   ]
  },
  {
   "cell_type": "code",
   "execution_count": 23,
   "id": "cc787a7d",
   "metadata": {
    "execution": {
     "iopub.execute_input": "2023-07-02T02:49:04.135824Z",
     "iopub.status.busy": "2023-07-02T02:49:04.135555Z",
     "iopub.status.idle": "2023-07-02T02:54:09.076481Z",
     "shell.execute_reply": "2023-07-02T02:54:09.075383Z"
    },
    "papermill": {
     "duration": 304.953847,
     "end_time": "2023-07-02T02:54:09.079421",
     "exception": false,
     "start_time": "2023-07-02T02:49:04.125574",
     "status": "completed"
    },
    "tags": []
   },
   "outputs": [
    {
     "name": "stderr",
     "output_type": "stream",
     "text": [
      "/opt/conda/lib/python3.10/site-packages/sklearn/base.py:439: UserWarning: X does not have valid feature names, but SimpleImputer was fitted with feature names\n",
      "  warnings.warn(\n"
     ]
    }
   ],
   "source": [
    "y_pred = m.predict_proba(test_pred_and_time)\n",
    "probabilities = np.concatenate((y_pred[:,:1], np.sum(y_pred[:,1:], 1, keepdims=True)), axis=1)\n",
    "p0 = probabilities[:,:1]\n",
    "p0[p0 > 0.59] = 1 \n",
    "p0[p0 < 0.28] = 0"
   ]
  },
  {
   "cell_type": "code",
   "execution_count": 24,
   "id": "11d35188",
   "metadata": {
    "execution": {
     "iopub.execute_input": "2023-07-02T02:54:09.100840Z",
     "iopub.status.busy": "2023-07-02T02:54:09.100540Z",
     "iopub.status.idle": "2023-07-02T02:54:09.112408Z",
     "shell.execute_reply": "2023-07-02T02:54:09.111436Z"
    },
    "papermill": {
     "duration": 0.024755,
     "end_time": "2023-07-02T02:54:09.114567",
     "exception": false,
     "start_time": "2023-07-02T02:54:09.089812",
     "status": "completed"
    },
    "tags": []
   },
   "outputs": [],
   "source": [
    "submission = pd.DataFrame(test[\"Id\"], columns=[\"Id\"])\n",
    "submission[\"class_0\"] = p0\n",
    "submission[\"class_1\"] = 1 - p0\n",
    "submission.to_csv('submission.csv', index=False)"
   ]
  },
  {
   "cell_type": "code",
   "execution_count": 25,
   "id": "6d466805",
   "metadata": {
    "execution": {
     "iopub.execute_input": "2023-07-02T02:54:09.135417Z",
     "iopub.status.busy": "2023-07-02T02:54:09.134615Z",
     "iopub.status.idle": "2023-07-02T02:54:09.152417Z",
     "shell.execute_reply": "2023-07-02T02:54:09.151548Z"
    },
    "papermill": {
     "duration": 0.03069,
     "end_time": "2023-07-02T02:54:09.154659",
     "exception": false,
     "start_time": "2023-07-02T02:54:09.123969",
     "status": "completed"
    },
    "tags": []
   },
   "outputs": [
    {
     "data": {
      "text/html": [
       "<div>\n",
       "<style scoped>\n",
       "    .dataframe tbody tr th:only-of-type {\n",
       "        vertical-align: middle;\n",
       "    }\n",
       "\n",
       "    .dataframe tbody tr th {\n",
       "        vertical-align: top;\n",
       "    }\n",
       "\n",
       "    .dataframe thead th {\n",
       "        text-align: right;\n",
       "    }\n",
       "</style>\n",
       "<table border=\"1\" class=\"dataframe\">\n",
       "  <thead>\n",
       "    <tr style=\"text-align: right;\">\n",
       "      <th></th>\n",
       "      <th>Id</th>\n",
       "      <th>class_0</th>\n",
       "      <th>class_1</th>\n",
       "    </tr>\n",
       "  </thead>\n",
       "  <tbody>\n",
       "    <tr>\n",
       "      <th>0</th>\n",
       "      <td>00eed32682bb</td>\n",
       "      <td>0.5</td>\n",
       "      <td>0.5</td>\n",
       "    </tr>\n",
       "    <tr>\n",
       "      <th>1</th>\n",
       "      <td>010ebe33f668</td>\n",
       "      <td>0.5</td>\n",
       "      <td>0.5</td>\n",
       "    </tr>\n",
       "    <tr>\n",
       "      <th>2</th>\n",
       "      <td>02fa521e1838</td>\n",
       "      <td>0.5</td>\n",
       "      <td>0.5</td>\n",
       "    </tr>\n",
       "    <tr>\n",
       "      <th>3</th>\n",
       "      <td>040e15f562a2</td>\n",
       "      <td>0.5</td>\n",
       "      <td>0.5</td>\n",
       "    </tr>\n",
       "    <tr>\n",
       "      <th>4</th>\n",
       "      <td>046e85c7cc7f</td>\n",
       "      <td>0.5</td>\n",
       "      <td>0.5</td>\n",
       "    </tr>\n",
       "  </tbody>\n",
       "</table>\n",
       "</div>"
      ],
      "text/plain": [
       "             Id  class_0  class_1\n",
       "0  00eed32682bb      0.5      0.5\n",
       "1  010ebe33f668      0.5      0.5\n",
       "2  02fa521e1838      0.5      0.5\n",
       "3  040e15f562a2      0.5      0.5\n",
       "4  046e85c7cc7f      0.5      0.5"
      ]
     },
     "execution_count": 25,
     "metadata": {},
     "output_type": "execute_result"
    }
   ],
   "source": [
    "submission_df = pd.read_csv('submission.csv')\n",
    "submission_df"
   ]
  },
  {
   "cell_type": "code",
   "execution_count": null,
   "id": "c96a39f5",
   "metadata": {
    "papermill": {
     "duration": 0.009416,
     "end_time": "2023-07-02T02:54:09.174222",
     "exception": false,
     "start_time": "2023-07-02T02:54:09.164806",
     "status": "completed"
    },
    "tags": []
   },
   "outputs": [],
   "source": []
  }
 ],
 "metadata": {
  "kernelspec": {
   "display_name": "Python 3",
   "language": "python",
   "name": "python3"
  },
  "language_info": {
   "codemirror_mode": {
    "name": "ipython",
    "version": 3
   },
   "file_extension": ".py",
   "mimetype": "text/x-python",
   "name": "python",
   "nbconvert_exporter": "python",
   "pygments_lexer": "ipython3",
   "version": "3.10.10"
  },
  "papermill": {
   "default_parameters": {},
   "duration": 2228.177288,
   "end_time": "2023-07-02T02:54:11.441358",
   "environment_variables": {},
   "exception": null,
   "input_path": "__notebook__.ipynb",
   "output_path": "__notebook__.ipynb",
   "parameters": {},
   "start_time": "2023-07-02T02:17:03.264070",
   "version": "2.4.0"
  },
  "widgets": {
   "application/vnd.jupyter.widget-state+json": {
    "state": {
     "0cb5d7c0f0f649deae663828bd5c3be0": {
      "model_module": "@jupyter-widgets/controls",
      "model_module_version": "1.5.0",
      "model_name": "DescriptionStyleModel",
      "state": {
       "_model_module": "@jupyter-widgets/controls",
       "_model_module_version": "1.5.0",
       "_model_name": "DescriptionStyleModel",
       "_view_count": null,
       "_view_module": "@jupyter-widgets/base",
       "_view_module_version": "1.2.0",
       "_view_name": "StyleView",
       "description_width": ""
      }
     },
     "10848851001f4252ae9576ca8f09b52b": {
      "model_module": "@jupyter-widgets/controls",
      "model_module_version": "1.5.0",
      "model_name": "DescriptionStyleModel",
      "state": {
       "_model_module": "@jupyter-widgets/controls",
       "_model_module_version": "1.5.0",
       "_model_name": "DescriptionStyleModel",
       "_view_count": null,
       "_view_module": "@jupyter-widgets/base",
       "_view_module_version": "1.2.0",
       "_view_name": "StyleView",
       "description_width": ""
      }
     },
     "139c7a0ed36047eea0da8ad31f40785b": {
      "model_module": "@jupyter-widgets/base",
      "model_module_version": "1.2.0",
      "model_name": "LayoutModel",
      "state": {
       "_model_module": "@jupyter-widgets/base",
       "_model_module_version": "1.2.0",
       "_model_name": "LayoutModel",
       "_view_count": null,
       "_view_module": "@jupyter-widgets/base",
       "_view_module_version": "1.2.0",
       "_view_name": "LayoutView",
       "align_content": null,
       "align_items": null,
       "align_self": null,
       "border": null,
       "bottom": null,
       "display": null,
       "flex": null,
       "flex_flow": null,
       "grid_area": null,
       "grid_auto_columns": null,
       "grid_auto_flow": null,
       "grid_auto_rows": null,
       "grid_column": null,
       "grid_gap": null,
       "grid_row": null,
       "grid_template_areas": null,
       "grid_template_columns": null,
       "grid_template_rows": null,
       "height": null,
       "justify_content": null,
       "justify_items": null,
       "left": null,
       "margin": null,
       "max_height": null,
       "max_width": null,
       "min_height": null,
       "min_width": null,
       "object_fit": null,
       "object_position": null,
       "order": null,
       "overflow": null,
       "overflow_x": null,
       "overflow_y": null,
       "padding": null,
       "right": null,
       "top": null,
       "visibility": null,
       "width": null
      }
     },
     "4815b8201fb24f04a8573de0b7f9a923": {
      "model_module": "@jupyter-widgets/base",
      "model_module_version": "1.2.0",
      "model_name": "LayoutModel",
      "state": {
       "_model_module": "@jupyter-widgets/base",
       "_model_module_version": "1.2.0",
       "_model_name": "LayoutModel",
       "_view_count": null,
       "_view_module": "@jupyter-widgets/base",
       "_view_module_version": "1.2.0",
       "_view_name": "LayoutView",
       "align_content": null,
       "align_items": null,
       "align_self": null,
       "border": null,
       "bottom": null,
       "display": null,
       "flex": null,
       "flex_flow": null,
       "grid_area": null,
       "grid_auto_columns": null,
       "grid_auto_flow": null,
       "grid_auto_rows": null,
       "grid_column": null,
       "grid_gap": null,
       "grid_row": null,
       "grid_template_areas": null,
       "grid_template_columns": null,
       "grid_template_rows": null,
       "height": null,
       "justify_content": null,
       "justify_items": null,
       "left": null,
       "margin": null,
       "max_height": null,
       "max_width": null,
       "min_height": null,
       "min_width": null,
       "object_fit": null,
       "object_position": null,
       "order": null,
       "overflow": null,
       "overflow_x": null,
       "overflow_y": null,
       "padding": null,
       "right": null,
       "top": null,
       "visibility": null,
       "width": null
      }
     },
     "4ca38d84959c4b7a8d44dd0212d56167": {
      "model_module": "@jupyter-widgets/controls",
      "model_module_version": "1.5.0",
      "model_name": "HTMLModel",
      "state": {
       "_dom_classes": [],
       "_model_module": "@jupyter-widgets/controls",
       "_model_module_version": "1.5.0",
       "_model_name": "HTMLModel",
       "_view_count": null,
       "_view_module": "@jupyter-widgets/controls",
       "_view_module_version": "1.5.0",
       "_view_name": "HTMLView",
       "description": "",
       "description_tooltip": null,
       "layout": "IPY_MODEL_68ce10830e8c489f8b80970e422a0d02",
       "placeholder": "​",
       "style": "IPY_MODEL_0cb5d7c0f0f649deae663828bd5c3be0",
       "value": "100%"
      }
     },
     "4e7eaa90193d4325a70c1d3ff1cab323": {
      "model_module": "@jupyter-widgets/base",
      "model_module_version": "1.2.0",
      "model_name": "LayoutModel",
      "state": {
       "_model_module": "@jupyter-widgets/base",
       "_model_module_version": "1.2.0",
       "_model_name": "LayoutModel",
       "_view_count": null,
       "_view_module": "@jupyter-widgets/base",
       "_view_module_version": "1.2.0",
       "_view_name": "LayoutView",
       "align_content": null,
       "align_items": null,
       "align_self": null,
       "border": null,
       "bottom": null,
       "display": null,
       "flex": null,
       "flex_flow": null,
       "grid_area": null,
       "grid_auto_columns": null,
       "grid_auto_flow": null,
       "grid_auto_rows": null,
       "grid_column": null,
       "grid_gap": null,
       "grid_row": null,
       "grid_template_areas": null,
       "grid_template_columns": null,
       "grid_template_rows": null,
       "height": null,
       "justify_content": null,
       "justify_items": null,
       "left": null,
       "margin": null,
       "max_height": null,
       "max_width": null,
       "min_height": null,
       "min_width": null,
       "object_fit": null,
       "object_position": null,
       "order": null,
       "overflow": null,
       "overflow_x": null,
       "overflow_y": null,
       "padding": null,
       "right": null,
       "top": null,
       "visibility": null,
       "width": null
      }
     },
     "68ce10830e8c489f8b80970e422a0d02": {
      "model_module": "@jupyter-widgets/base",
      "model_module_version": "1.2.0",
      "model_name": "LayoutModel",
      "state": {
       "_model_module": "@jupyter-widgets/base",
       "_model_module_version": "1.2.0",
       "_model_name": "LayoutModel",
       "_view_count": null,
       "_view_module": "@jupyter-widgets/base",
       "_view_module_version": "1.2.0",
       "_view_name": "LayoutView",
       "align_content": null,
       "align_items": null,
       "align_self": null,
       "border": null,
       "bottom": null,
       "display": null,
       "flex": null,
       "flex_flow": null,
       "grid_area": null,
       "grid_auto_columns": null,
       "grid_auto_flow": null,
       "grid_auto_rows": null,
       "grid_column": null,
       "grid_gap": null,
       "grid_row": null,
       "grid_template_areas": null,
       "grid_template_columns": null,
       "grid_template_rows": null,
       "height": null,
       "justify_content": null,
       "justify_items": null,
       "left": null,
       "margin": null,
       "max_height": null,
       "max_width": null,
       "min_height": null,
       "min_width": null,
       "object_fit": null,
       "object_position": null,
       "order": null,
       "overflow": null,
       "overflow_x": null,
       "overflow_y": null,
       "padding": null,
       "right": null,
       "top": null,
       "visibility": null,
       "width": null
      }
     },
     "83fd1f52571147c5984ffa4f2f3b0e40": {
      "model_module": "@jupyter-widgets/controls",
      "model_module_version": "1.5.0",
      "model_name": "FloatProgressModel",
      "state": {
       "_dom_classes": [],
       "_model_module": "@jupyter-widgets/controls",
       "_model_module_version": "1.5.0",
       "_model_name": "FloatProgressModel",
       "_view_count": null,
       "_view_module": "@jupyter-widgets/controls",
       "_view_module_version": "1.5.0",
       "_view_name": "ProgressView",
       "bar_style": "success",
       "description": "",
       "description_tooltip": null,
       "layout": "IPY_MODEL_139c7a0ed36047eea0da8ad31f40785b",
       "max": 5.0,
       "min": 0.0,
       "orientation": "horizontal",
       "style": "IPY_MODEL_8ef35a43b98241bcb81ec9525aee04ea",
       "value": 5.0
      }
     },
     "8c34f550bfaa449790dcdcf1ea23a89b": {
      "model_module": "@jupyter-widgets/controls",
      "model_module_version": "1.5.0",
      "model_name": "HBoxModel",
      "state": {
       "_dom_classes": [],
       "_model_module": "@jupyter-widgets/controls",
       "_model_module_version": "1.5.0",
       "_model_name": "HBoxModel",
       "_view_count": null,
       "_view_module": "@jupyter-widgets/controls",
       "_view_module_version": "1.5.0",
       "_view_name": "HBoxView",
       "box_style": "",
       "children": [
        "IPY_MODEL_4ca38d84959c4b7a8d44dd0212d56167",
        "IPY_MODEL_83fd1f52571147c5984ffa4f2f3b0e40",
        "IPY_MODEL_b6b7dc05d494432386556f8bb513a043"
       ],
       "layout": "IPY_MODEL_4e7eaa90193d4325a70c1d3ff1cab323"
      }
     },
     "8ef35a43b98241bcb81ec9525aee04ea": {
      "model_module": "@jupyter-widgets/controls",
      "model_module_version": "1.5.0",
      "model_name": "ProgressStyleModel",
      "state": {
       "_model_module": "@jupyter-widgets/controls",
       "_model_module_version": "1.5.0",
       "_model_name": "ProgressStyleModel",
       "_view_count": null,
       "_view_module": "@jupyter-widgets/base",
       "_view_module_version": "1.2.0",
       "_view_name": "StyleView",
       "bar_color": null,
       "description_width": ""
      }
     },
     "b6b7dc05d494432386556f8bb513a043": {
      "model_module": "@jupyter-widgets/controls",
      "model_module_version": "1.5.0",
      "model_name": "HTMLModel",
      "state": {
       "_dom_classes": [],
       "_model_module": "@jupyter-widgets/controls",
       "_model_module_version": "1.5.0",
       "_model_name": "HTMLModel",
       "_view_count": null,
       "_view_module": "@jupyter-widgets/controls",
       "_view_module_version": "1.5.0",
       "_view_name": "HTMLView",
       "description": "",
       "description_tooltip": null,
       "layout": "IPY_MODEL_4815b8201fb24f04a8573de0b7f9a923",
       "placeholder": "​",
       "style": "IPY_MODEL_10848851001f4252ae9576ca8f09b52b",
       "value": " 5/5 [31:27&lt;00:00, 376.98s/it]"
      }
     }
    },
    "version_major": 2,
    "version_minor": 0
   }
  }
 },
 "nbformat": 4,
 "nbformat_minor": 5
}
