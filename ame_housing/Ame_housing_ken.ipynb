{
 "cells": [
  {
   "cell_type": "code",
   "execution_count": 93,
   "id": "dcaf5c82",
   "metadata": {},
   "outputs": [],
   "source": [
    "import pandas as pd\n",
    "import numpy as np\n",
    "from sklearn.ensemble import StackingRegressor\n",
    "from sklearn.preprocessing import OneHotEncoder, LabelEncoder\n",
    "import collections\n",
    "from sklearn.ensemble import GradientBoostingRegressor\n",
    "from sklearn.ensemble import RandomForestRegressor\n",
    "from sklearn.model_selection import GridSearchCV\n",
    "from sklearn.metrics import r2_score"
   ]
  },
  {
   "cell_type": "markdown",
   "id": "da70e44e",
   "metadata": {},
   "source": [
    "#####               delete features with more than 20% missing values"
   ]
  },
  {
   "cell_type": "code",
   "execution_count": 16,
   "id": "702dd46c",
   "metadata": {},
   "outputs": [],
   "source": [
    "train = pd.read_csv(\"data/train.csv\")\n",
    "test = pd.read_csv(\"data/test.csv\")\n",
    "\n",
    "features = pd.concat([train.drop(\"SalePrice\", axis=1), test]).reset_index(drop=True)\n",
    "feature_flag = features.isna().sum() > features.shape[0] * 0.2\n",
    "features_omit = list(feature_flag[feature_flag == True].index) + [\"Id\"]\n",
    "features = features.loc[:, ~features.columns.isin(features_omit)]"
   ]
  },
  {
   "cell_type": "markdown",
   "id": "19eb5ae7",
   "metadata": {},
   "source": [
    "##### detect numeric values which are not ordinal"
   ]
  },
  {
   "cell_type": "code",
   "execution_count": 17,
   "id": "138e08a6",
   "metadata": {},
   "outputs": [],
   "source": [
    "features[\"MSSubClass\"] = features[\"MSSubClass\"].astype(str)"
   ]
  },
  {
   "cell_type": "markdown",
   "id": "efc5d98f",
   "metadata": {},
   "source": [
    "##### fill NA variables"
   ]
  },
  {
   "cell_type": "code",
   "execution_count": 18,
   "id": "96011686",
   "metadata": {},
   "outputs": [],
   "source": [
    "num_features = []\n",
    "str_features = []\n",
    "for i in features.columns:\n",
    "    if pd.api.types.is_string_dtype(features[i]):\n",
    "        str_features.append(i)\n",
    "    if pd.api.types.is_numeric_dtype(features[i]):\n",
    "        num_features.append(i)"
   ]
  },
  {
   "cell_type": "code",
   "execution_count": 19,
   "id": "571cb197",
   "metadata": {},
   "outputs": [],
   "source": [
    "for i in str_features:\n",
    "    features.loc[features[i].isna(), i] = \"NAN\""
   ]
  },
  {
   "cell_type": "code",
   "execution_count": 20,
   "id": "437f258e",
   "metadata": {},
   "outputs": [],
   "source": [
    "for i in num_features:\n",
    "    features[i].fillna(features[i].median(), inplace=True)"
   ]
  },
  {
   "cell_type": "markdown",
   "id": "b6c548dc",
   "metadata": {},
   "source": [
    "##### convert categorical variables to dummy variables"
   ]
  },
  {
   "cell_type": "code",
   "execution_count": 22,
   "id": "9d8b8021",
   "metadata": {},
   "outputs": [],
   "source": [
    "ordinal_cols = [\"ExterQual\", \"BsmtQual\", \"BsmtCond\", \"BsmtExposure\", \"BsmtFinType1\", \"BsmtFinType2\", \"HeatingQC\",\n",
    "               \"KitchenQual\", \"Functional\", \"FireplaceQu\", \"GarageFinish\", \"GarageQual\", \"GarageCond\", \"PoolQC\", \"Fence\"]"
   ]
  },
  {
   "cell_type": "code",
   "execution_count": 23,
   "id": "b85100a8",
   "metadata": {},
   "outputs": [],
   "source": [
    "onehot_cols = [i for i in str_features if i not in ordinal_cols]"
   ]
  },
  {
   "cell_type": "code",
   "execution_count": 24,
   "id": "9a392dfc",
   "metadata": {},
   "outputs": [],
   "source": [
    "ordinal_cols = [i for i in str_features if i in ordinal_cols]"
   ]
  },
  {
   "cell_type": "code",
   "execution_count": 25,
   "id": "f6b2f505",
   "metadata": {},
   "outputs": [],
   "source": [
    "for i in onehot_cols:\n",
    "    features = pd.get_dummies(features, columns=[i], prefix=[i])"
   ]
  },
  {
   "cell_type": "code",
   "execution_count": 26,
   "id": "34656bc4",
   "metadata": {},
   "outputs": [
    {
     "data": {
      "text/plain": [
       "['ExterQual',\n",
       " 'BsmtQual',\n",
       " 'BsmtCond',\n",
       " 'BsmtExposure',\n",
       " 'BsmtFinType1',\n",
       " 'BsmtFinType2',\n",
       " 'HeatingQC',\n",
       " 'KitchenQual',\n",
       " 'Functional',\n",
       " 'GarageFinish',\n",
       " 'GarageQual',\n",
       " 'GarageCond']"
      ]
     },
     "execution_count": 26,
     "metadata": {},
     "output_type": "execute_result"
    }
   ],
   "source": [
    "ordinal_cols"
   ]
  },
  {
   "cell_type": "markdown",
   "id": "1490f97d",
   "metadata": {},
   "source": [
    "##### convert ordinal categorical variables to numeric values"
   ]
  },
  {
   "cell_type": "code",
   "execution_count": 40,
   "id": "9da413e8",
   "metadata": {},
   "outputs": [],
   "source": [
    "quality_mapping = {\"Ex\": 5, \"Gd\": 4, \"TA\": 3, \"Fa\": 2, \"Po\": 1, \"NA\": 0}\n",
    "exposure_mapping = {\"Gd\": 5, \"Av\": 4, \"Mn\": 3, \"No\": 1, \"NA\": 0} #BsmtExposure\n",
    "basement_mapping = {\"GLQ\": 7, \"ALQ\": 6, \"BLQ\": 5, \"Rec\": 4, \"LwQ\": 3, \"Unf\": 2, \"NA\": 1} #BsmtFinType1, BsmtFinType2\n",
    "functional_mapping = {\"Typ\": 8, \"Min1\": 7, \"Min2\": 6, \"Mod\": 5, \"Maj1\": 4, \"Maj2\": 3, \"Sev\": 2, \"Sal\": 1} # Functional\n",
    "garage_mapping = {\"Fin\": 4, \"RFn\": 3, \"Unf\": 2, \"NA\": 1} # GarageFinish"
   ]
  },
  {
   "cell_type": "code",
   "execution_count": 41,
   "id": "c7ae945a",
   "metadata": {},
   "outputs": [],
   "source": []
  },
  {
   "cell_type": "code",
   "execution_count": 58,
   "id": "0cdf5a5e",
   "metadata": {},
   "outputs": [],
   "source": [
    "for i in ordinal_cols:\n",
    "    if i not in [\"BsmtExposure\", \"BsmtFinType1\", \"BsmtFinType2\", \"Functional\", \"GarageFinish\"]:\n",
    "        med = np.median(features.loc[~features[i].isin([\"NAN\"]), :].replace({i: quality_mapping})[i])\n",
    "        temp_mapping = quality_mapping.copy()\n",
    "        temp_mapping[\"NAN\"] = med\n",
    "        features.replace({i: temp_mapping}, inplace=True)"
   ]
  },
  {
   "cell_type": "code",
   "execution_count": 59,
   "id": "5c335d7b",
   "metadata": {},
   "outputs": [],
   "source": [
    "i = \"BsmtExposure\"\n",
    "med = np.median(features.loc[~features[i].isin([\"NAN\"]), :].replace({i: exposure_mapping})[i])\n",
    "temp_mapping = exposure_mapping.copy()\n",
    "temp_mapping[\"NAN\"] = med\n",
    "features.replace({i: temp_mapping}, inplace=True)\n",
    "\n",
    "basement_cols = [\"BsmtFinType1\", \"BsmtFinType2\"]\n",
    "for i in basement_cols:\n",
    "    med = np.median(features.loc[~features[i].isin([\"NAN\"]), :].replace({i: basement_mapping})[i])\n",
    "    temp_mapping = basement_mapping.copy()\n",
    "    temp_mapping[\"NAN\"] = med\n",
    "    features.replace({i: temp_mapping}, inplace=True)\n",
    "    \n",
    "i = \"Functional\"\n",
    "med = np.median(features.loc[~features[i].isin([\"NAN\"]), :].replace({i: functional_mapping})[i])\n",
    "temp_mapping = functional_mapping.copy()\n",
    "temp_mapping[\"NAN\"] = med\n",
    "features.replace({i: temp_mapping}, inplace=True)\n",
    "\n",
    "i = \"GarageFinish\"\n",
    "med = np.median(features.loc[~features[i].isin([\"NAN\"]), :].replace({i: garage_mapping})[i])\n",
    "temp_mapping = garage_mapping.copy()\n",
    "temp_mapping[\"NAN\"] = med\n",
    "features.replace({i: temp_mapping}, inplace=True)"
   ]
  },
  {
   "cell_type": "markdown",
   "id": "eeb481f0",
   "metadata": {},
   "source": [
    "##### Train and Validation Split"
   ]
  },
  {
   "cell_type": "code",
   "execution_count": 60,
   "id": "0a5c08db",
   "metadata": {},
   "outputs": [],
   "source": [
    "train_x = features.iloc[:train.shape[0], :]\n",
    "test_x = features.iloc[train.shape[0]:, :]"
   ]
  },
  {
   "cell_type": "code",
   "execution_count": 61,
   "id": "193815ca",
   "metadata": {},
   "outputs": [],
   "source": [
    "from sklearn.preprocessing import StandardScaler\n",
    "std_scaler = StandardScaler()\n",
    "train_x = std_scaler.fit_transform(train_x)\n",
    "test_x = std_scaler.transform(test_x)"
   ]
  },
  {
   "cell_type": "code",
   "execution_count": 62,
   "id": "91c987ea",
   "metadata": {},
   "outputs": [],
   "source": [
    "train_y = train[\"SalePrice\"]"
   ]
  },
  {
   "cell_type": "markdown",
   "id": "311d2538",
   "metadata": {},
   "source": [
    "##### Training"
   ]
  },
  {
   "cell_type": "code",
   "execution_count": 65,
   "id": "a94e8e9d",
   "metadata": {},
   "outputs": [
    {
     "data": {
      "text/html": [
       "<style>#sk-container-id-1 {color: black;background-color: white;}#sk-container-id-1 pre{padding: 0;}#sk-container-id-1 div.sk-toggleable {background-color: white;}#sk-container-id-1 label.sk-toggleable__label {cursor: pointer;display: block;width: 100%;margin-bottom: 0;padding: 0.3em;box-sizing: border-box;text-align: center;}#sk-container-id-1 label.sk-toggleable__label-arrow:before {content: \"▸\";float: left;margin-right: 0.25em;color: #696969;}#sk-container-id-1 label.sk-toggleable__label-arrow:hover:before {color: black;}#sk-container-id-1 div.sk-estimator:hover label.sk-toggleable__label-arrow:before {color: black;}#sk-container-id-1 div.sk-toggleable__content {max-height: 0;max-width: 0;overflow: hidden;text-align: left;background-color: #f0f8ff;}#sk-container-id-1 div.sk-toggleable__content pre {margin: 0.2em;color: black;border-radius: 0.25em;background-color: #f0f8ff;}#sk-container-id-1 input.sk-toggleable__control:checked~div.sk-toggleable__content {max-height: 200px;max-width: 100%;overflow: auto;}#sk-container-id-1 input.sk-toggleable__control:checked~label.sk-toggleable__label-arrow:before {content: \"▾\";}#sk-container-id-1 div.sk-estimator input.sk-toggleable__control:checked~label.sk-toggleable__label {background-color: #d4ebff;}#sk-container-id-1 div.sk-label input.sk-toggleable__control:checked~label.sk-toggleable__label {background-color: #d4ebff;}#sk-container-id-1 input.sk-hidden--visually {border: 0;clip: rect(1px 1px 1px 1px);clip: rect(1px, 1px, 1px, 1px);height: 1px;margin: -1px;overflow: hidden;padding: 0;position: absolute;width: 1px;}#sk-container-id-1 div.sk-estimator {font-family: monospace;background-color: #f0f8ff;border: 1px dotted black;border-radius: 0.25em;box-sizing: border-box;margin-bottom: 0.5em;}#sk-container-id-1 div.sk-estimator:hover {background-color: #d4ebff;}#sk-container-id-1 div.sk-parallel-item::after {content: \"\";width: 100%;border-bottom: 1px solid gray;flex-grow: 1;}#sk-container-id-1 div.sk-label:hover label.sk-toggleable__label {background-color: #d4ebff;}#sk-container-id-1 div.sk-serial::before {content: \"\";position: absolute;border-left: 1px solid gray;box-sizing: border-box;top: 0;bottom: 0;left: 50%;z-index: 0;}#sk-container-id-1 div.sk-serial {display: flex;flex-direction: column;align-items: center;background-color: white;padding-right: 0.2em;padding-left: 0.2em;position: relative;}#sk-container-id-1 div.sk-item {position: relative;z-index: 1;}#sk-container-id-1 div.sk-parallel {display: flex;align-items: stretch;justify-content: center;background-color: white;position: relative;}#sk-container-id-1 div.sk-item::before, #sk-container-id-1 div.sk-parallel-item::before {content: \"\";position: absolute;border-left: 1px solid gray;box-sizing: border-box;top: 0;bottom: 0;left: 50%;z-index: -1;}#sk-container-id-1 div.sk-parallel-item {display: flex;flex-direction: column;z-index: 1;position: relative;background-color: white;}#sk-container-id-1 div.sk-parallel-item:first-child::after {align-self: flex-end;width: 50%;}#sk-container-id-1 div.sk-parallel-item:last-child::after {align-self: flex-start;width: 50%;}#sk-container-id-1 div.sk-parallel-item:only-child::after {width: 0;}#sk-container-id-1 div.sk-dashed-wrapped {border: 1px dashed gray;margin: 0 0.4em 0.5em 0.4em;box-sizing: border-box;padding-bottom: 0.4em;background-color: white;}#sk-container-id-1 div.sk-label label {font-family: monospace;font-weight: bold;display: inline-block;line-height: 1.2em;}#sk-container-id-1 div.sk-label-container {text-align: center;}#sk-container-id-1 div.sk-container {/* jupyter's `normalize.less` sets `[hidden] { display: none; }` but bootstrap.min.css set `[hidden] { display: none !important; }` so we also need the `!important` here to be able to override the default hidden behavior on the sphinx rendered scikit-learn.org. See: https://github.com/scikit-learn/scikit-learn/issues/21755 */display: inline-block !important;position: relative;}#sk-container-id-1 div.sk-text-repr-fallback {display: none;}</style><div id=\"sk-container-id-1\" class=\"sk-top-container\"><div class=\"sk-text-repr-fallback\"><pre>RandomForestRegressor()</pre><b>In a Jupyter environment, please rerun this cell to show the HTML representation or trust the notebook. <br />On GitHub, the HTML representation is unable to render, please try loading this page with nbviewer.org.</b></div><div class=\"sk-container\" hidden><div class=\"sk-item\"><div class=\"sk-estimator sk-toggleable\"><input class=\"sk-toggleable__control sk-hidden--visually\" id=\"sk-estimator-id-1\" type=\"checkbox\" checked><label for=\"sk-estimator-id-1\" class=\"sk-toggleable__label sk-toggleable__label-arrow\">RandomForestRegressor</label><div class=\"sk-toggleable__content\"><pre>RandomForestRegressor()</pre></div></div></div></div></div>"
      ],
      "text/plain": [
       "RandomForestRegressor()"
      ]
     },
     "execution_count": 65,
     "metadata": {},
     "output_type": "execute_result"
    }
   ],
   "source": [
    "rf = RandomForestRegressor()\n",
    "rf.fit(train_x, train_y)"
   ]
  },
  {
   "cell_type": "code",
   "execution_count": 66,
   "id": "43abc930",
   "metadata": {},
   "outputs": [],
   "source": [
    "train_pred = rf.predict(train_x)"
   ]
  },
  {
   "cell_type": "code",
   "execution_count": 67,
   "id": "a37e0aa6",
   "metadata": {},
   "outputs": [
    {
     "data": {
      "text/plain": [
       "0.979228324131964"
      ]
     },
     "execution_count": 67,
     "metadata": {},
     "output_type": "execute_result"
    }
   ],
   "source": [
    "r2_score(train_pred, train_y)"
   ]
  },
  {
   "cell_type": "markdown",
   "id": "05f27b4b",
   "metadata": {},
   "source": [
    "##### random forest cross validation"
   ]
  },
  {
   "cell_type": "code",
   "execution_count": 69,
   "id": "de0f8d66",
   "metadata": {},
   "outputs": [],
   "source": [
    "n_estimators = list(range(100, 1000, 300))\n",
    "min_samples_split = list(range(2, 10, 3))\n",
    "min_samples_leaf = list(range(1, 5, 2))\n",
    "max_features = [\"sqrt\", 1.0]\n",
    "hyperparams = {'n_estimators': n_estimators, 'min_samples_split': min_samples_split, 'min_samples_leaf': min_samples_leaf,\n",
    "               'max_features': max_features}\n",
    "gd = GridSearchCV(estimator = RandomForestRegressor(), param_grid = hyperparams, verbose=5,\n",
    "                cv=5, scoring = \"neg_mean_squared_error\")"
   ]
  },
  {
   "cell_type": "code",
   "execution_count": 70,
   "id": "3d142fe8",
   "metadata": {
    "scrolled": true
   },
   "outputs": [
    {
     "name": "stdout",
     "output_type": "stream",
     "text": [
      "Fitting 5 folds for each of 36 candidates, totalling 180 fits\n",
      "[CV 1/5] END max_features=sqrt, min_samples_leaf=1, min_samples_split=2, n_estimators=100;, score=-581249910.943 total time=   0.4s\n",
      "[CV 2/5] END max_features=sqrt, min_samples_leaf=1, min_samples_split=2, n_estimators=100;, score=-1105612899.877 total time=   0.4s\n",
      "[CV 3/5] END max_features=sqrt, min_samples_leaf=1, min_samples_split=2, n_estimators=100;, score=-1140341812.573 total time=   0.4s\n",
      "[CV 4/5] END max_features=sqrt, min_samples_leaf=1, min_samples_split=2, n_estimators=100;, score=-614618654.187 total time=   0.4s\n",
      "[CV 5/5] END max_features=sqrt, min_samples_leaf=1, min_samples_split=2, n_estimators=100;, score=-1148368165.821 total time=   0.4s\n",
      "[CV 1/5] END max_features=sqrt, min_samples_leaf=1, min_samples_split=2, n_estimators=400;, score=-619650061.548 total time=   1.8s\n",
      "[CV 2/5] END max_features=sqrt, min_samples_leaf=1, min_samples_split=2, n_estimators=400;, score=-1024809491.811 total time=   1.8s\n",
      "[CV 3/5] END max_features=sqrt, min_samples_leaf=1, min_samples_split=2, n_estimators=400;, score=-1121126067.146 total time=   1.8s\n",
      "[CV 4/5] END max_features=sqrt, min_samples_leaf=1, min_samples_split=2, n_estimators=400;, score=-572639261.373 total time=   1.9s\n",
      "[CV 5/5] END max_features=sqrt, min_samples_leaf=1, min_samples_split=2, n_estimators=400;, score=-1202052442.632 total time=   1.9s\n",
      "[CV 1/5] END max_features=sqrt, min_samples_leaf=1, min_samples_split=2, n_estimators=700;, score=-605590383.696 total time=   3.7s\n",
      "[CV 2/5] END max_features=sqrt, min_samples_leaf=1, min_samples_split=2, n_estimators=700;, score=-1064187580.980 total time=   3.7s\n",
      "[CV 3/5] END max_features=sqrt, min_samples_leaf=1, min_samples_split=2, n_estimators=700;, score=-1138388358.734 total time=   3.7s\n",
      "[CV 4/5] END max_features=sqrt, min_samples_leaf=1, min_samples_split=2, n_estimators=700;, score=-561080031.351 total time=   3.6s\n",
      "[CV 5/5] END max_features=sqrt, min_samples_leaf=1, min_samples_split=2, n_estimators=700;, score=-1226680049.888 total time=   3.5s\n",
      "[CV 1/5] END max_features=sqrt, min_samples_leaf=1, min_samples_split=5, n_estimators=100;, score=-630026326.964 total time=   0.3s\n",
      "[CV 2/5] END max_features=sqrt, min_samples_leaf=1, min_samples_split=5, n_estimators=100;, score=-1094999917.825 total time=   0.3s\n",
      "[CV 3/5] END max_features=sqrt, min_samples_leaf=1, min_samples_split=5, n_estimators=100;, score=-1137916545.180 total time=   0.3s\n",
      "[CV 4/5] END max_features=sqrt, min_samples_leaf=1, min_samples_split=5, n_estimators=100;, score=-569917896.437 total time=   0.3s\n",
      "[CV 5/5] END max_features=sqrt, min_samples_leaf=1, min_samples_split=5, n_estimators=100;, score=-1282435623.709 total time=   0.3s\n",
      "[CV 1/5] END max_features=sqrt, min_samples_leaf=1, min_samples_split=5, n_estimators=400;, score=-604986838.736 total time=   1.6s\n",
      "[CV 2/5] END max_features=sqrt, min_samples_leaf=1, min_samples_split=5, n_estimators=400;, score=-1033784999.704 total time=   1.6s\n",
      "[CV 3/5] END max_features=sqrt, min_samples_leaf=1, min_samples_split=5, n_estimators=400;, score=-1212110449.363 total time=   1.5s\n",
      "[CV 4/5] END max_features=sqrt, min_samples_leaf=1, min_samples_split=5, n_estimators=400;, score=-567270485.804 total time=   1.5s\n",
      "[CV 5/5] END max_features=sqrt, min_samples_leaf=1, min_samples_split=5, n_estimators=400;, score=-1243424467.872 total time=   1.5s\n",
      "[CV 1/5] END max_features=sqrt, min_samples_leaf=1, min_samples_split=5, n_estimators=700;, score=-614453213.794 total time=   3.0s\n",
      "[CV 2/5] END max_features=sqrt, min_samples_leaf=1, min_samples_split=5, n_estimators=700;, score=-1041699177.852 total time=   3.3s\n",
      "[CV 3/5] END max_features=sqrt, min_samples_leaf=1, min_samples_split=5, n_estimators=700;, score=-1191734933.134 total time=   3.1s\n",
      "[CV 4/5] END max_features=sqrt, min_samples_leaf=1, min_samples_split=5, n_estimators=700;, score=-591062514.222 total time=   3.3s\n",
      "[CV 5/5] END max_features=sqrt, min_samples_leaf=1, min_samples_split=5, n_estimators=700;, score=-1240851503.028 total time=   3.2s\n",
      "[CV 1/5] END max_features=sqrt, min_samples_leaf=1, min_samples_split=8, n_estimators=100;, score=-650554626.484 total time=   0.4s\n",
      "[CV 2/5] END max_features=sqrt, min_samples_leaf=1, min_samples_split=8, n_estimators=100;, score=-1079003373.677 total time=   0.4s\n",
      "[CV 3/5] END max_features=sqrt, min_samples_leaf=1, min_samples_split=8, n_estimators=100;, score=-1128795375.828 total time=   0.3s\n",
      "[CV 4/5] END max_features=sqrt, min_samples_leaf=1, min_samples_split=8, n_estimators=100;, score=-617949975.225 total time=   0.4s\n",
      "[CV 5/5] END max_features=sqrt, min_samples_leaf=1, min_samples_split=8, n_estimators=100;, score=-1265956512.717 total time=   0.3s\n",
      "[CV 1/5] END max_features=sqrt, min_samples_leaf=1, min_samples_split=8, n_estimators=400;, score=-615627329.725 total time=   1.5s\n",
      "[CV 2/5] END max_features=sqrt, min_samples_leaf=1, min_samples_split=8, n_estimators=400;, score=-1059160116.832 total time=   1.4s\n",
      "[CV 3/5] END max_features=sqrt, min_samples_leaf=1, min_samples_split=8, n_estimators=400;, score=-1237512625.185 total time=   1.5s\n",
      "[CV 4/5] END max_features=sqrt, min_samples_leaf=1, min_samples_split=8, n_estimators=400;, score=-597971975.815 total time=   1.4s\n",
      "[CV 5/5] END max_features=sqrt, min_samples_leaf=1, min_samples_split=8, n_estimators=400;, score=-1251229275.445 total time=   1.4s\n",
      "[CV 1/5] END max_features=sqrt, min_samples_leaf=1, min_samples_split=8, n_estimators=700;, score=-621562134.749 total time=   2.5s\n",
      "[CV 2/5] END max_features=sqrt, min_samples_leaf=1, min_samples_split=8, n_estimators=700;, score=-1056785821.542 total time=   2.6s\n",
      "[CV 3/5] END max_features=sqrt, min_samples_leaf=1, min_samples_split=8, n_estimators=700;, score=-1246977992.558 total time=   2.5s\n",
      "[CV 4/5] END max_features=sqrt, min_samples_leaf=1, min_samples_split=8, n_estimators=700;, score=-610841776.200 total time=   2.6s\n",
      "[CV 5/5] END max_features=sqrt, min_samples_leaf=1, min_samples_split=8, n_estimators=700;, score=-1279442106.135 total time=   2.7s\n",
      "[CV 1/5] END max_features=sqrt, min_samples_leaf=3, min_samples_split=2, n_estimators=100;, score=-707114518.885 total time=   0.3s\n",
      "[CV 2/5] END max_features=sqrt, min_samples_leaf=3, min_samples_split=2, n_estimators=100;, score=-1116450955.835 total time=   0.2s\n",
      "[CV 3/5] END max_features=sqrt, min_samples_leaf=3, min_samples_split=2, n_estimators=100;, score=-1401061383.824 total time=   0.3s\n",
      "[CV 4/5] END max_features=sqrt, min_samples_leaf=3, min_samples_split=2, n_estimators=100;, score=-617295640.267 total time=   0.3s\n",
      "[CV 5/5] END max_features=sqrt, min_samples_leaf=3, min_samples_split=2, n_estimators=100;, score=-1433085949.881 total time=   0.2s\n",
      "[CV 1/5] END max_features=sqrt, min_samples_leaf=3, min_samples_split=2, n_estimators=400;, score=-690728296.813 total time=   1.3s\n",
      "[CV 2/5] END max_features=sqrt, min_samples_leaf=3, min_samples_split=2, n_estimators=400;, score=-1051694075.701 total time=   1.3s\n",
      "[CV 3/5] END max_features=sqrt, min_samples_leaf=3, min_samples_split=2, n_estimators=400;, score=-1397367034.228 total time=   1.3s\n",
      "[CV 4/5] END max_features=sqrt, min_samples_leaf=3, min_samples_split=2, n_estimators=400;, score=-642572503.201 total time=   1.3s\n",
      "[CV 5/5] END max_features=sqrt, min_samples_leaf=3, min_samples_split=2, n_estimators=400;, score=-1398798028.668 total time=   1.3s\n",
      "[CV 1/5] END max_features=sqrt, min_samples_leaf=3, min_samples_split=2, n_estimators=700;, score=-671548062.254 total time=   2.3s\n",
      "[CV 2/5] END max_features=sqrt, min_samples_leaf=3, min_samples_split=2, n_estimators=700;, score=-1067370711.801 total time=   2.3s\n",
      "[CV 3/5] END max_features=sqrt, min_samples_leaf=3, min_samples_split=2, n_estimators=700;, score=-1373275744.323 total time=   2.3s\n",
      "[CV 4/5] END max_features=sqrt, min_samples_leaf=3, min_samples_split=2, n_estimators=700;, score=-648514482.292 total time=   2.3s\n",
      "[CV 5/5] END max_features=sqrt, min_samples_leaf=3, min_samples_split=2, n_estimators=700;, score=-1421881851.194 total time=   2.3s\n",
      "[CV 1/5] END max_features=sqrt, min_samples_leaf=3, min_samples_split=5, n_estimators=100;, score=-666432648.396 total time=   0.2s\n",
      "[CV 2/5] END max_features=sqrt, min_samples_leaf=3, min_samples_split=5, n_estimators=100;, score=-1134443464.582 total time=   0.3s\n"
     ]
    },
    {
     "name": "stdout",
     "output_type": "stream",
     "text": [
      "[CV 3/5] END max_features=sqrt, min_samples_leaf=3, min_samples_split=5, n_estimators=100;, score=-1444230053.632 total time=   0.2s\n",
      "[CV 4/5] END max_features=sqrt, min_samples_leaf=3, min_samples_split=5, n_estimators=100;, score=-669806532.826 total time=   0.2s\n",
      "[CV 5/5] END max_features=sqrt, min_samples_leaf=3, min_samples_split=5, n_estimators=100;, score=-1382252386.372 total time=   0.2s\n",
      "[CV 1/5] END max_features=sqrt, min_samples_leaf=3, min_samples_split=5, n_estimators=400;, score=-670105830.322 total time=   1.3s\n",
      "[CV 2/5] END max_features=sqrt, min_samples_leaf=3, min_samples_split=5, n_estimators=400;, score=-1079493608.412 total time=   1.3s\n",
      "[CV 3/5] END max_features=sqrt, min_samples_leaf=3, min_samples_split=5, n_estimators=400;, score=-1390871094.465 total time=   1.3s\n",
      "[CV 4/5] END max_features=sqrt, min_samples_leaf=3, min_samples_split=5, n_estimators=400;, score=-659754050.519 total time=   1.3s\n",
      "[CV 5/5] END max_features=sqrt, min_samples_leaf=3, min_samples_split=5, n_estimators=400;, score=-1385175450.557 total time=   1.3s\n",
      "[CV 1/5] END max_features=sqrt, min_samples_leaf=3, min_samples_split=5, n_estimators=700;, score=-690796268.004 total time=   2.3s\n",
      "[CV 2/5] END max_features=sqrt, min_samples_leaf=3, min_samples_split=5, n_estimators=700;, score=-1080793763.656 total time=   2.3s\n",
      "[CV 3/5] END max_features=sqrt, min_samples_leaf=3, min_samples_split=5, n_estimators=700;, score=-1355098937.356 total time=   2.4s\n",
      "[CV 4/5] END max_features=sqrt, min_samples_leaf=3, min_samples_split=5, n_estimators=700;, score=-653391827.341 total time=   2.3s\n",
      "[CV 5/5] END max_features=sqrt, min_samples_leaf=3, min_samples_split=5, n_estimators=700;, score=-1413408340.399 total time=   2.4s\n",
      "[CV 1/5] END max_features=sqrt, min_samples_leaf=3, min_samples_split=8, n_estimators=100;, score=-752542044.398 total time=   0.2s\n",
      "[CV 2/5] END max_features=sqrt, min_samples_leaf=3, min_samples_split=8, n_estimators=100;, score=-1089992518.343 total time=   0.2s\n",
      "[CV 3/5] END max_features=sqrt, min_samples_leaf=3, min_samples_split=8, n_estimators=100;, score=-1395760047.457 total time=   0.2s\n",
      "[CV 4/5] END max_features=sqrt, min_samples_leaf=3, min_samples_split=8, n_estimators=100;, score=-709892656.619 total time=   0.2s\n",
      "[CV 5/5] END max_features=sqrt, min_samples_leaf=3, min_samples_split=8, n_estimators=100;, score=-1457952090.231 total time=   0.2s\n",
      "[CV 1/5] END max_features=sqrt, min_samples_leaf=3, min_samples_split=8, n_estimators=400;, score=-690929500.605 total time=   1.2s\n",
      "[CV 2/5] END max_features=sqrt, min_samples_leaf=3, min_samples_split=8, n_estimators=400;, score=-1059405583.016 total time=   1.3s\n",
      "[CV 3/5] END max_features=sqrt, min_samples_leaf=3, min_samples_split=8, n_estimators=400;, score=-1400506490.325 total time=   1.2s\n",
      "[CV 4/5] END max_features=sqrt, min_samples_leaf=3, min_samples_split=8, n_estimators=400;, score=-654964818.368 total time=   1.2s\n",
      "[CV 5/5] END max_features=sqrt, min_samples_leaf=3, min_samples_split=8, n_estimators=400;, score=-1426429075.669 total time=   1.2s\n",
      "[CV 1/5] END max_features=sqrt, min_samples_leaf=3, min_samples_split=8, n_estimators=700;, score=-684707157.323 total time=   2.2s\n",
      "[CV 2/5] END max_features=sqrt, min_samples_leaf=3, min_samples_split=8, n_estimators=700;, score=-1065787757.989 total time=   2.2s\n",
      "[CV 3/5] END max_features=sqrt, min_samples_leaf=3, min_samples_split=8, n_estimators=700;, score=-1394563357.708 total time=   2.3s\n",
      "[CV 4/5] END max_features=sqrt, min_samples_leaf=3, min_samples_split=8, n_estimators=700;, score=-655758146.888 total time=   2.2s\n",
      "[CV 5/5] END max_features=sqrt, min_samples_leaf=3, min_samples_split=8, n_estimators=700;, score=-1385318817.252 total time=   2.4s\n",
      "[CV 1/5] END max_features=1.0, min_samples_leaf=1, min_samples_split=2, n_estimators=100;, score=-696139945.006 total time=   3.5s\n",
      "[CV 2/5] END max_features=1.0, min_samples_leaf=1, min_samples_split=2, n_estimators=100;, score=-1053930978.834 total time=   3.5s\n",
      "[CV 3/5] END max_features=1.0, min_samples_leaf=1, min_samples_split=2, n_estimators=100;, score=-925021892.043 total time=   3.4s\n",
      "[CV 4/5] END max_features=1.0, min_samples_leaf=1, min_samples_split=2, n_estimators=100;, score=-576482636.901 total time=   3.4s\n",
      "[CV 5/5] END max_features=1.0, min_samples_leaf=1, min_samples_split=2, n_estimators=100;, score=-1171798559.385 total time=   3.4s\n",
      "[CV 1/5] END max_features=1.0, min_samples_leaf=1, min_samples_split=2, n_estimators=400;, score=-674782407.051 total time=  14.2s\n",
      "[CV 2/5] END max_features=1.0, min_samples_leaf=1, min_samples_split=2, n_estimators=400;, score=-1003587496.885 total time=  13.9s\n",
      "[CV 3/5] END max_features=1.0, min_samples_leaf=1, min_samples_split=2, n_estimators=400;, score=-908403276.425 total time=  14.3s\n",
      "[CV 4/5] END max_features=1.0, min_samples_leaf=1, min_samples_split=2, n_estimators=400;, score=-582837182.783 total time=  14.1s\n",
      "[CV 5/5] END max_features=1.0, min_samples_leaf=1, min_samples_split=2, n_estimators=400;, score=-1249415542.567 total time=  14.1s\n",
      "[CV 1/5] END max_features=1.0, min_samples_leaf=1, min_samples_split=2, n_estimators=700;, score=-701654057.936 total time=  25.2s\n",
      "[CV 2/5] END max_features=1.0, min_samples_leaf=1, min_samples_split=2, n_estimators=700;, score=-1061488641.225 total time=  24.7s\n",
      "[CV 3/5] END max_features=1.0, min_samples_leaf=1, min_samples_split=2, n_estimators=700;, score=-928246432.600 total time=  25.6s\n",
      "[CV 4/5] END max_features=1.0, min_samples_leaf=1, min_samples_split=2, n_estimators=700;, score=-580737481.388 total time=  25.3s\n",
      "[CV 5/5] END max_features=1.0, min_samples_leaf=1, min_samples_split=2, n_estimators=700;, score=-1268424218.720 total time=  24.8s\n",
      "[CV 1/5] END max_features=1.0, min_samples_leaf=1, min_samples_split=5, n_estimators=100;, score=-739245691.525 total time=   2.8s\n",
      "[CV 2/5] END max_features=1.0, min_samples_leaf=1, min_samples_split=5, n_estimators=100;, score=-1030356535.786 total time=   2.8s\n",
      "[CV 3/5] END max_features=1.0, min_samples_leaf=1, min_samples_split=5, n_estimators=100;, score=-942212708.745 total time=   2.8s\n",
      "[CV 4/5] END max_features=1.0, min_samples_leaf=1, min_samples_split=5, n_estimators=100;, score=-642518957.356 total time=   2.8s\n",
      "[CV 5/5] END max_features=1.0, min_samples_leaf=1, min_samples_split=5, n_estimators=100;, score=-1262087082.446 total time=   2.8s\n",
      "[CV 1/5] END max_features=1.0, min_samples_leaf=1, min_samples_split=5, n_estimators=400;, score=-694372742.686 total time=  11.7s\n",
      "[CV 2/5] END max_features=1.0, min_samples_leaf=1, min_samples_split=5, n_estimators=400;, score=-1019742795.589 total time=  11.6s\n",
      "[CV 3/5] END max_features=1.0, min_samples_leaf=1, min_samples_split=5, n_estimators=400;, score=-935871252.195 total time=  11.6s\n",
      "[CV 4/5] END max_features=1.0, min_samples_leaf=1, min_samples_split=5, n_estimators=400;, score=-578823837.824 total time=  11.6s\n",
      "[CV 5/5] END max_features=1.0, min_samples_leaf=1, min_samples_split=5, n_estimators=400;, score=-1271637863.771 total time=  11.5s\n",
      "[CV 1/5] END max_features=1.0, min_samples_leaf=1, min_samples_split=5, n_estimators=700;, score=-699354407.204 total time=  20.5s\n",
      "[CV 2/5] END max_features=1.0, min_samples_leaf=1, min_samples_split=5, n_estimators=700;, score=-1021148280.634 total time=  20.3s\n",
      "[CV 3/5] END max_features=1.0, min_samples_leaf=1, min_samples_split=5, n_estimators=700;, score=-916542471.846 total time=  20.3s\n",
      "[CV 4/5] END max_features=1.0, min_samples_leaf=1, min_samples_split=5, n_estimators=700;, score=-584284599.833 total time=  20.5s\n",
      "[CV 5/5] END max_features=1.0, min_samples_leaf=1, min_samples_split=5, n_estimators=700;, score=-1268851028.575 total time=  20.1s\n",
      "[CV 1/5] END max_features=1.0, min_samples_leaf=1, min_samples_split=8, n_estimators=100;, score=-704195127.313 total time=   2.6s\n",
      "[CV 2/5] END max_features=1.0, min_samples_leaf=1, min_samples_split=8, n_estimators=100;, score=-1002084438.567 total time=   2.5s\n",
      "[CV 3/5] END max_features=1.0, min_samples_leaf=1, min_samples_split=8, n_estimators=100;, score=-976476183.047 total time=   2.5s\n",
      "[CV 4/5] END max_features=1.0, min_samples_leaf=1, min_samples_split=8, n_estimators=100;, score=-601691800.306 total time=   2.5s\n",
      "[CV 5/5] END max_features=1.0, min_samples_leaf=1, min_samples_split=8, n_estimators=100;, score=-1303804479.844 total time=   2.5s\n"
     ]
    },
    {
     "name": "stdout",
     "output_type": "stream",
     "text": [
      "[CV 1/5] END max_features=1.0, min_samples_leaf=1, min_samples_split=8, n_estimators=400;, score=-698998414.454 total time=  10.3s\n",
      "[CV 2/5] END max_features=1.0, min_samples_leaf=1, min_samples_split=8, n_estimators=400;, score=-1012404219.157 total time=  10.4s\n",
      "[CV 3/5] END max_features=1.0, min_samples_leaf=1, min_samples_split=8, n_estimators=400;, score=-951597928.359 total time=  10.8s\n",
      "[CV 4/5] END max_features=1.0, min_samples_leaf=1, min_samples_split=8, n_estimators=400;, score=-595179437.683 total time=  10.5s\n",
      "[CV 5/5] END max_features=1.0, min_samples_leaf=1, min_samples_split=8, n_estimators=400;, score=-1275970371.005 total time=  10.3s\n",
      "[CV 1/5] END max_features=1.0, min_samples_leaf=1, min_samples_split=8, n_estimators=700;, score=-687483691.907 total time=  18.2s\n",
      "[CV 2/5] END max_features=1.0, min_samples_leaf=1, min_samples_split=8, n_estimators=700;, score=-1007357574.970 total time=  18.3s\n",
      "[CV 3/5] END max_features=1.0, min_samples_leaf=1, min_samples_split=8, n_estimators=700;, score=-953079512.644 total time=  18.2s\n",
      "[CV 4/5] END max_features=1.0, min_samples_leaf=1, min_samples_split=8, n_estimators=700;, score=-599962287.097 total time=  18.2s\n",
      "[CV 5/5] END max_features=1.0, min_samples_leaf=1, min_samples_split=8, n_estimators=700;, score=-1279141461.996 total time=  18.4s\n",
      "[CV 1/5] END max_features=1.0, min_samples_leaf=3, min_samples_split=2, n_estimators=100;, score=-733243570.504 total time=   2.3s\n",
      "[CV 2/5] END max_features=1.0, min_samples_leaf=3, min_samples_split=2, n_estimators=100;, score=-995938177.637 total time=   2.2s\n",
      "[CV 3/5] END max_features=1.0, min_samples_leaf=3, min_samples_split=2, n_estimators=100;, score=-1001517946.591 total time=   2.2s\n",
      "[CV 4/5] END max_features=1.0, min_samples_leaf=3, min_samples_split=2, n_estimators=100;, score=-550107181.684 total time=   2.3s\n",
      "[CV 5/5] END max_features=1.0, min_samples_leaf=3, min_samples_split=2, n_estimators=100;, score=-1314822575.973 total time=   2.2s\n",
      "[CV 1/5] END max_features=1.0, min_samples_leaf=3, min_samples_split=2, n_estimators=400;, score=-736824883.391 total time=   9.3s\n",
      "[CV 2/5] END max_features=1.0, min_samples_leaf=3, min_samples_split=2, n_estimators=400;, score=-1026278552.191 total time=   9.4s\n",
      "[CV 3/5] END max_features=1.0, min_samples_leaf=3, min_samples_split=2, n_estimators=400;, score=-1015225813.316 total time=   9.3s\n",
      "[CV 4/5] END max_features=1.0, min_samples_leaf=3, min_samples_split=2, n_estimators=400;, score=-561754175.920 total time=   9.3s\n",
      "[CV 5/5] END max_features=1.0, min_samples_leaf=3, min_samples_split=2, n_estimators=400;, score=-1378641834.860 total time=   9.4s\n",
      "[CV 1/5] END max_features=1.0, min_samples_leaf=3, min_samples_split=2, n_estimators=700;, score=-712606912.921 total time=  16.5s\n",
      "[CV 2/5] END max_features=1.0, min_samples_leaf=3, min_samples_split=2, n_estimators=700;, score=-1033056558.240 total time=  16.3s\n",
      "[CV 3/5] END max_features=1.0, min_samples_leaf=3, min_samples_split=2, n_estimators=700;, score=-1016429051.006 total time=  16.5s\n",
      "[CV 4/5] END max_features=1.0, min_samples_leaf=3, min_samples_split=2, n_estimators=700;, score=-569908254.279 total time=  16.5s\n",
      "[CV 5/5] END max_features=1.0, min_samples_leaf=3, min_samples_split=2, n_estimators=700;, score=-1423972596.594 total time=  17.0s\n",
      "[CV 1/5] END max_features=1.0, min_samples_leaf=3, min_samples_split=5, n_estimators=100;, score=-742299247.463 total time=   2.3s\n",
      "[CV 2/5] END max_features=1.0, min_samples_leaf=3, min_samples_split=5, n_estimators=100;, score=-1032396322.747 total time=   2.5s\n",
      "[CV 3/5] END max_features=1.0, min_samples_leaf=3, min_samples_split=5, n_estimators=100;, score=-990286339.872 total time=   2.6s\n",
      "[CV 4/5] END max_features=1.0, min_samples_leaf=3, min_samples_split=5, n_estimators=100;, score=-590179624.522 total time=   2.8s\n",
      "[CV 5/5] END max_features=1.0, min_samples_leaf=3, min_samples_split=5, n_estimators=100;, score=-1428619975.606 total time=   4.5s\n",
      "[CV 1/5] END max_features=1.0, min_samples_leaf=3, min_samples_split=5, n_estimators=400;, score=-700285215.568 total time=  12.3s\n",
      "[CV 2/5] END max_features=1.0, min_samples_leaf=3, min_samples_split=5, n_estimators=400;, score=-1015698196.248 total time=  11.3s\n",
      "[CV 3/5] END max_features=1.0, min_samples_leaf=3, min_samples_split=5, n_estimators=400;, score=-1002306078.724 total time=  11.2s\n",
      "[CV 4/5] END max_features=1.0, min_samples_leaf=3, min_samples_split=5, n_estimators=400;, score=-564475809.367 total time=  11.0s\n",
      "[CV 5/5] END max_features=1.0, min_samples_leaf=3, min_samples_split=5, n_estimators=400;, score=-1438516651.866 total time=  10.8s\n",
      "[CV 1/5] END max_features=1.0, min_samples_leaf=3, min_samples_split=5, n_estimators=700;, score=-714692318.718 total time=  19.1s\n",
      "[CV 2/5] END max_features=1.0, min_samples_leaf=3, min_samples_split=5, n_estimators=700;, score=-1028685033.967 total time=  19.5s\n",
      "[CV 3/5] END max_features=1.0, min_samples_leaf=3, min_samples_split=5, n_estimators=700;, score=-1025919874.008 total time=  22.1s\n",
      "[CV 4/5] END max_features=1.0, min_samples_leaf=3, min_samples_split=5, n_estimators=700;, score=-567675059.675 total time=  19.8s\n",
      "[CV 5/5] END max_features=1.0, min_samples_leaf=3, min_samples_split=5, n_estimators=700;, score=-1397526722.943 total time=  20.0s\n",
      "[CV 1/5] END max_features=1.0, min_samples_leaf=3, min_samples_split=8, n_estimators=100;, score=-705364255.377 total time=   2.6s\n",
      "[CV 2/5] END max_features=1.0, min_samples_leaf=3, min_samples_split=8, n_estimators=100;, score=-988338547.449 total time=   2.6s\n",
      "[CV 3/5] END max_features=1.0, min_samples_leaf=3, min_samples_split=8, n_estimators=100;, score=-1055739064.222 total time=   2.6s\n",
      "[CV 4/5] END max_features=1.0, min_samples_leaf=3, min_samples_split=8, n_estimators=100;, score=-565031403.963 total time=   2.7s\n",
      "[CV 5/5] END max_features=1.0, min_samples_leaf=3, min_samples_split=8, n_estimators=100;, score=-1413909962.653 total time=   2.6s\n",
      "[CV 1/5] END max_features=1.0, min_samples_leaf=3, min_samples_split=8, n_estimators=400;, score=-714633908.053 total time=  10.9s\n",
      "[CV 2/5] END max_features=1.0, min_samples_leaf=3, min_samples_split=8, n_estimators=400;, score=-983890158.406 total time=  10.8s\n",
      "[CV 3/5] END max_features=1.0, min_samples_leaf=3, min_samples_split=8, n_estimators=400;, score=-1060078411.071 total time=  11.1s\n",
      "[CV 4/5] END max_features=1.0, min_samples_leaf=3, min_samples_split=8, n_estimators=400;, score=-588080340.352 total time=  11.0s\n",
      "[CV 5/5] END max_features=1.0, min_samples_leaf=3, min_samples_split=8, n_estimators=400;, score=-1393169165.371 total time=  10.6s\n",
      "[CV 1/5] END max_features=1.0, min_samples_leaf=3, min_samples_split=8, n_estimators=700;, score=-711454031.288 total time=  18.7s\n",
      "[CV 2/5] END max_features=1.0, min_samples_leaf=3, min_samples_split=8, n_estimators=700;, score=-1020854982.293 total time=  19.4s\n",
      "[CV 3/5] END max_features=1.0, min_samples_leaf=3, min_samples_split=8, n_estimators=700;, score=-1027878969.724 total time=  19.4s\n",
      "[CV 4/5] END max_features=1.0, min_samples_leaf=3, min_samples_split=8, n_estimators=700;, score=-582433229.228 total time=  19.0s\n",
      "[CV 5/5] END max_features=1.0, min_samples_leaf=3, min_samples_split=8, n_estimators=700;, score=-1374660411.411 total time=  18.9s\n"
     ]
    },
    {
     "data": {
      "text/html": [
       "<style>#sk-container-id-2 {color: black;background-color: white;}#sk-container-id-2 pre{padding: 0;}#sk-container-id-2 div.sk-toggleable {background-color: white;}#sk-container-id-2 label.sk-toggleable__label {cursor: pointer;display: block;width: 100%;margin-bottom: 0;padding: 0.3em;box-sizing: border-box;text-align: center;}#sk-container-id-2 label.sk-toggleable__label-arrow:before {content: \"▸\";float: left;margin-right: 0.25em;color: #696969;}#sk-container-id-2 label.sk-toggleable__label-arrow:hover:before {color: black;}#sk-container-id-2 div.sk-estimator:hover label.sk-toggleable__label-arrow:before {color: black;}#sk-container-id-2 div.sk-toggleable__content {max-height: 0;max-width: 0;overflow: hidden;text-align: left;background-color: #f0f8ff;}#sk-container-id-2 div.sk-toggleable__content pre {margin: 0.2em;color: black;border-radius: 0.25em;background-color: #f0f8ff;}#sk-container-id-2 input.sk-toggleable__control:checked~div.sk-toggleable__content {max-height: 200px;max-width: 100%;overflow: auto;}#sk-container-id-2 input.sk-toggleable__control:checked~label.sk-toggleable__label-arrow:before {content: \"▾\";}#sk-container-id-2 div.sk-estimator input.sk-toggleable__control:checked~label.sk-toggleable__label {background-color: #d4ebff;}#sk-container-id-2 div.sk-label input.sk-toggleable__control:checked~label.sk-toggleable__label {background-color: #d4ebff;}#sk-container-id-2 input.sk-hidden--visually {border: 0;clip: rect(1px 1px 1px 1px);clip: rect(1px, 1px, 1px, 1px);height: 1px;margin: -1px;overflow: hidden;padding: 0;position: absolute;width: 1px;}#sk-container-id-2 div.sk-estimator {font-family: monospace;background-color: #f0f8ff;border: 1px dotted black;border-radius: 0.25em;box-sizing: border-box;margin-bottom: 0.5em;}#sk-container-id-2 div.sk-estimator:hover {background-color: #d4ebff;}#sk-container-id-2 div.sk-parallel-item::after {content: \"\";width: 100%;border-bottom: 1px solid gray;flex-grow: 1;}#sk-container-id-2 div.sk-label:hover label.sk-toggleable__label {background-color: #d4ebff;}#sk-container-id-2 div.sk-serial::before {content: \"\";position: absolute;border-left: 1px solid gray;box-sizing: border-box;top: 0;bottom: 0;left: 50%;z-index: 0;}#sk-container-id-2 div.sk-serial {display: flex;flex-direction: column;align-items: center;background-color: white;padding-right: 0.2em;padding-left: 0.2em;position: relative;}#sk-container-id-2 div.sk-item {position: relative;z-index: 1;}#sk-container-id-2 div.sk-parallel {display: flex;align-items: stretch;justify-content: center;background-color: white;position: relative;}#sk-container-id-2 div.sk-item::before, #sk-container-id-2 div.sk-parallel-item::before {content: \"\";position: absolute;border-left: 1px solid gray;box-sizing: border-box;top: 0;bottom: 0;left: 50%;z-index: -1;}#sk-container-id-2 div.sk-parallel-item {display: flex;flex-direction: column;z-index: 1;position: relative;background-color: white;}#sk-container-id-2 div.sk-parallel-item:first-child::after {align-self: flex-end;width: 50%;}#sk-container-id-2 div.sk-parallel-item:last-child::after {align-self: flex-start;width: 50%;}#sk-container-id-2 div.sk-parallel-item:only-child::after {width: 0;}#sk-container-id-2 div.sk-dashed-wrapped {border: 1px dashed gray;margin: 0 0.4em 0.5em 0.4em;box-sizing: border-box;padding-bottom: 0.4em;background-color: white;}#sk-container-id-2 div.sk-label label {font-family: monospace;font-weight: bold;display: inline-block;line-height: 1.2em;}#sk-container-id-2 div.sk-label-container {text-align: center;}#sk-container-id-2 div.sk-container {/* jupyter's `normalize.less` sets `[hidden] { display: none; }` but bootstrap.min.css set `[hidden] { display: none !important; }` so we also need the `!important` here to be able to override the default hidden behavior on the sphinx rendered scikit-learn.org. See: https://github.com/scikit-learn/scikit-learn/issues/21755 */display: inline-block !important;position: relative;}#sk-container-id-2 div.sk-text-repr-fallback {display: none;}</style><div id=\"sk-container-id-2\" class=\"sk-top-container\"><div class=\"sk-text-repr-fallback\"><pre>GridSearchCV(cv=5, estimator=RandomForestRegressor(),\n",
       "             param_grid={&#x27;max_features&#x27;: [&#x27;sqrt&#x27;, 1.0],\n",
       "                         &#x27;min_samples_leaf&#x27;: [1, 3],\n",
       "                         &#x27;min_samples_split&#x27;: [2, 5, 8],\n",
       "                         &#x27;n_estimators&#x27;: [100, 400, 700]},\n",
       "             scoring=&#x27;neg_mean_squared_error&#x27;, verbose=5)</pre><b>In a Jupyter environment, please rerun this cell to show the HTML representation or trust the notebook. <br />On GitHub, the HTML representation is unable to render, please try loading this page with nbviewer.org.</b></div><div class=\"sk-container\" hidden><div class=\"sk-item sk-dashed-wrapped\"><div class=\"sk-label-container\"><div class=\"sk-label sk-toggleable\"><input class=\"sk-toggleable__control sk-hidden--visually\" id=\"sk-estimator-id-2\" type=\"checkbox\" ><label for=\"sk-estimator-id-2\" class=\"sk-toggleable__label sk-toggleable__label-arrow\">GridSearchCV</label><div class=\"sk-toggleable__content\"><pre>GridSearchCV(cv=5, estimator=RandomForestRegressor(),\n",
       "             param_grid={&#x27;max_features&#x27;: [&#x27;sqrt&#x27;, 1.0],\n",
       "                         &#x27;min_samples_leaf&#x27;: [1, 3],\n",
       "                         &#x27;min_samples_split&#x27;: [2, 5, 8],\n",
       "                         &#x27;n_estimators&#x27;: [100, 400, 700]},\n",
       "             scoring=&#x27;neg_mean_squared_error&#x27;, verbose=5)</pre></div></div></div><div class=\"sk-parallel\"><div class=\"sk-parallel-item\"><div class=\"sk-item\"><div class=\"sk-label-container\"><div class=\"sk-label sk-toggleable\"><input class=\"sk-toggleable__control sk-hidden--visually\" id=\"sk-estimator-id-3\" type=\"checkbox\" ><label for=\"sk-estimator-id-3\" class=\"sk-toggleable__label sk-toggleable__label-arrow\">estimator: RandomForestRegressor</label><div class=\"sk-toggleable__content\"><pre>RandomForestRegressor()</pre></div></div></div><div class=\"sk-serial\"><div class=\"sk-item\"><div class=\"sk-estimator sk-toggleable\"><input class=\"sk-toggleable__control sk-hidden--visually\" id=\"sk-estimator-id-4\" type=\"checkbox\" ><label for=\"sk-estimator-id-4\" class=\"sk-toggleable__label sk-toggleable__label-arrow\">RandomForestRegressor</label><div class=\"sk-toggleable__content\"><pre>RandomForestRegressor()</pre></div></div></div></div></div></div></div></div></div></div>"
      ],
      "text/plain": [
       "GridSearchCV(cv=5, estimator=RandomForestRegressor(),\n",
       "             param_grid={'max_features': ['sqrt', 1.0],\n",
       "                         'min_samples_leaf': [1, 3],\n",
       "                         'min_samples_split': [2, 5, 8],\n",
       "                         'n_estimators': [100, 400, 700]},\n",
       "             scoring='neg_mean_squared_error', verbose=5)"
      ]
     },
     "execution_count": 70,
     "metadata": {},
     "output_type": "execute_result"
    }
   ],
   "source": [
    "gd.fit(train_x, train_y)"
   ]
  },
  {
   "cell_type": "code",
   "execution_count": 71,
   "id": "17b5f070",
   "metadata": {},
   "outputs": [
    {
     "data": {
      "text/plain": [
       "0.9797197003799956"
      ]
     },
     "execution_count": 71,
     "metadata": {},
     "output_type": "execute_result"
    }
   ],
   "source": [
    "r2_score(gd.best_estimator_.predict(train_x), train_y)"
   ]
  },
  {
   "cell_type": "markdown",
   "id": "59ecd582",
   "metadata": {},
   "source": [
    "##### gradient boosting "
   ]
  },
  {
   "cell_type": "code",
   "execution_count": 74,
   "id": "4e146e7a",
   "metadata": {},
   "outputs": [],
   "source": [
    "learning_rate = list(np.linspace(0.01, 0.1, 3))\n",
    "n_estimators = list(range(100, 1000, 300))\n",
    "subsample = list(np.linspace(0.7, 1.0, 3))\n",
    "min_samples_split = list(range(2, 10, 3))\n",
    "min_samples_leaf = list(range(1, 5, 2))\n",
    "max_features = [\"sqrt\", 1.0]\n",
    "hyperparams = {\"learning_rate\": learning_rate, 'n_estimators': n_estimators, \"subsample\": subsample,\n",
    "               'min_samples_split': min_samples_split, \n",
    "               'min_samples_leaf': min_samples_leaf,\n",
    "               'max_features': max_features}\n",
    "gd_gbm = GridSearchCV(estimator = GradientBoostingRegressor(), param_grid = hyperparams, verbose=True,\n",
    "                cv=5, scoring = \"neg_mean_squared_error\")"
   ]
  },
  {
   "cell_type": "code",
   "execution_count": 75,
   "id": "1b1622b9",
   "metadata": {},
   "outputs": [
    {
     "name": "stdout",
     "output_type": "stream",
     "text": [
      "Fitting 5 folds for each of 324 candidates, totalling 1620 fits\n"
     ]
    },
    {
     "data": {
      "text/html": [
       "<style>#sk-container-id-3 {color: black;background-color: white;}#sk-container-id-3 pre{padding: 0;}#sk-container-id-3 div.sk-toggleable {background-color: white;}#sk-container-id-3 label.sk-toggleable__label {cursor: pointer;display: block;width: 100%;margin-bottom: 0;padding: 0.3em;box-sizing: border-box;text-align: center;}#sk-container-id-3 label.sk-toggleable__label-arrow:before {content: \"▸\";float: left;margin-right: 0.25em;color: #696969;}#sk-container-id-3 label.sk-toggleable__label-arrow:hover:before {color: black;}#sk-container-id-3 div.sk-estimator:hover label.sk-toggleable__label-arrow:before {color: black;}#sk-container-id-3 div.sk-toggleable__content {max-height: 0;max-width: 0;overflow: hidden;text-align: left;background-color: #f0f8ff;}#sk-container-id-3 div.sk-toggleable__content pre {margin: 0.2em;color: black;border-radius: 0.25em;background-color: #f0f8ff;}#sk-container-id-3 input.sk-toggleable__control:checked~div.sk-toggleable__content {max-height: 200px;max-width: 100%;overflow: auto;}#sk-container-id-3 input.sk-toggleable__control:checked~label.sk-toggleable__label-arrow:before {content: \"▾\";}#sk-container-id-3 div.sk-estimator input.sk-toggleable__control:checked~label.sk-toggleable__label {background-color: #d4ebff;}#sk-container-id-3 div.sk-label input.sk-toggleable__control:checked~label.sk-toggleable__label {background-color: #d4ebff;}#sk-container-id-3 input.sk-hidden--visually {border: 0;clip: rect(1px 1px 1px 1px);clip: rect(1px, 1px, 1px, 1px);height: 1px;margin: -1px;overflow: hidden;padding: 0;position: absolute;width: 1px;}#sk-container-id-3 div.sk-estimator {font-family: monospace;background-color: #f0f8ff;border: 1px dotted black;border-radius: 0.25em;box-sizing: border-box;margin-bottom: 0.5em;}#sk-container-id-3 div.sk-estimator:hover {background-color: #d4ebff;}#sk-container-id-3 div.sk-parallel-item::after {content: \"\";width: 100%;border-bottom: 1px solid gray;flex-grow: 1;}#sk-container-id-3 div.sk-label:hover label.sk-toggleable__label {background-color: #d4ebff;}#sk-container-id-3 div.sk-serial::before {content: \"\";position: absolute;border-left: 1px solid gray;box-sizing: border-box;top: 0;bottom: 0;left: 50%;z-index: 0;}#sk-container-id-3 div.sk-serial {display: flex;flex-direction: column;align-items: center;background-color: white;padding-right: 0.2em;padding-left: 0.2em;position: relative;}#sk-container-id-3 div.sk-item {position: relative;z-index: 1;}#sk-container-id-3 div.sk-parallel {display: flex;align-items: stretch;justify-content: center;background-color: white;position: relative;}#sk-container-id-3 div.sk-item::before, #sk-container-id-3 div.sk-parallel-item::before {content: \"\";position: absolute;border-left: 1px solid gray;box-sizing: border-box;top: 0;bottom: 0;left: 50%;z-index: -1;}#sk-container-id-3 div.sk-parallel-item {display: flex;flex-direction: column;z-index: 1;position: relative;background-color: white;}#sk-container-id-3 div.sk-parallel-item:first-child::after {align-self: flex-end;width: 50%;}#sk-container-id-3 div.sk-parallel-item:last-child::after {align-self: flex-start;width: 50%;}#sk-container-id-3 div.sk-parallel-item:only-child::after {width: 0;}#sk-container-id-3 div.sk-dashed-wrapped {border: 1px dashed gray;margin: 0 0.4em 0.5em 0.4em;box-sizing: border-box;padding-bottom: 0.4em;background-color: white;}#sk-container-id-3 div.sk-label label {font-family: monospace;font-weight: bold;display: inline-block;line-height: 1.2em;}#sk-container-id-3 div.sk-label-container {text-align: center;}#sk-container-id-3 div.sk-container {/* jupyter's `normalize.less` sets `[hidden] { display: none; }` but bootstrap.min.css set `[hidden] { display: none !important; }` so we also need the `!important` here to be able to override the default hidden behavior on the sphinx rendered scikit-learn.org. See: https://github.com/scikit-learn/scikit-learn/issues/21755 */display: inline-block !important;position: relative;}#sk-container-id-3 div.sk-text-repr-fallback {display: none;}</style><div id=\"sk-container-id-3\" class=\"sk-top-container\"><div class=\"sk-text-repr-fallback\"><pre>GridSearchCV(cv=5, estimator=GradientBoostingRegressor(),\n",
       "             param_grid={&#x27;learning_rate&#x27;: [0.01, 0.05500000000000001, 0.1],\n",
       "                         &#x27;max_features&#x27;: [&#x27;sqrt&#x27;, 1.0],\n",
       "                         &#x27;min_samples_leaf&#x27;: [1, 3],\n",
       "                         &#x27;min_samples_split&#x27;: [2, 5, 8],\n",
       "                         &#x27;n_estimators&#x27;: [100, 400, 700],\n",
       "                         &#x27;subsample&#x27;: [0.7, 0.85, 1.0]},\n",
       "             scoring=&#x27;neg_mean_squared_error&#x27;, verbose=True)</pre><b>In a Jupyter environment, please rerun this cell to show the HTML representation or trust the notebook. <br />On GitHub, the HTML representation is unable to render, please try loading this page with nbviewer.org.</b></div><div class=\"sk-container\" hidden><div class=\"sk-item sk-dashed-wrapped\"><div class=\"sk-label-container\"><div class=\"sk-label sk-toggleable\"><input class=\"sk-toggleable__control sk-hidden--visually\" id=\"sk-estimator-id-5\" type=\"checkbox\" ><label for=\"sk-estimator-id-5\" class=\"sk-toggleable__label sk-toggleable__label-arrow\">GridSearchCV</label><div class=\"sk-toggleable__content\"><pre>GridSearchCV(cv=5, estimator=GradientBoostingRegressor(),\n",
       "             param_grid={&#x27;learning_rate&#x27;: [0.01, 0.05500000000000001, 0.1],\n",
       "                         &#x27;max_features&#x27;: [&#x27;sqrt&#x27;, 1.0],\n",
       "                         &#x27;min_samples_leaf&#x27;: [1, 3],\n",
       "                         &#x27;min_samples_split&#x27;: [2, 5, 8],\n",
       "                         &#x27;n_estimators&#x27;: [100, 400, 700],\n",
       "                         &#x27;subsample&#x27;: [0.7, 0.85, 1.0]},\n",
       "             scoring=&#x27;neg_mean_squared_error&#x27;, verbose=True)</pre></div></div></div><div class=\"sk-parallel\"><div class=\"sk-parallel-item\"><div class=\"sk-item\"><div class=\"sk-label-container\"><div class=\"sk-label sk-toggleable\"><input class=\"sk-toggleable__control sk-hidden--visually\" id=\"sk-estimator-id-6\" type=\"checkbox\" ><label for=\"sk-estimator-id-6\" class=\"sk-toggleable__label sk-toggleable__label-arrow\">estimator: GradientBoostingRegressor</label><div class=\"sk-toggleable__content\"><pre>GradientBoostingRegressor()</pre></div></div></div><div class=\"sk-serial\"><div class=\"sk-item\"><div class=\"sk-estimator sk-toggleable\"><input class=\"sk-toggleable__control sk-hidden--visually\" id=\"sk-estimator-id-7\" type=\"checkbox\" ><label for=\"sk-estimator-id-7\" class=\"sk-toggleable__label sk-toggleable__label-arrow\">GradientBoostingRegressor</label><div class=\"sk-toggleable__content\"><pre>GradientBoostingRegressor()</pre></div></div></div></div></div></div></div></div></div></div>"
      ],
      "text/plain": [
       "GridSearchCV(cv=5, estimator=GradientBoostingRegressor(),\n",
       "             param_grid={'learning_rate': [0.01, 0.05500000000000001, 0.1],\n",
       "                         'max_features': ['sqrt', 1.0],\n",
       "                         'min_samples_leaf': [1, 3],\n",
       "                         'min_samples_split': [2, 5, 8],\n",
       "                         'n_estimators': [100, 400, 700],\n",
       "                         'subsample': [0.7, 0.85, 1.0]},\n",
       "             scoring='neg_mean_squared_error', verbose=True)"
      ]
     },
     "execution_count": 75,
     "metadata": {},
     "output_type": "execute_result"
    }
   ],
   "source": [
    "gd_gbm.fit(train_x, train_y)"
   ]
  },
  {
   "cell_type": "code",
   "execution_count": 76,
   "id": "f65ec9e8",
   "metadata": {},
   "outputs": [
    {
     "data": {
      "text/plain": [
       "0.9898424205103801"
      ]
     },
     "execution_count": 76,
     "metadata": {},
     "output_type": "execute_result"
    }
   ],
   "source": [
    "r2_score(gd_gbm.best_estimator_.predict(train_x), train_y)"
   ]
  },
  {
   "cell_type": "code",
   "execution_count": 91,
   "id": "c3ed4126",
   "metadata": {},
   "outputs": [],
   "source": [
    "test[\"SalePrice\"] = gd_gbm.best_estimator_.predict(test_x)"
   ]
  },
  {
   "cell_type": "code",
   "execution_count": 92,
   "id": "3d684d6b",
   "metadata": {},
   "outputs": [],
   "source": [
    "test[[\"Id\", \"SalePrice\"]].to_csv(\"submission.csv\", index=False)"
   ]
  },
  {
   "cell_type": "markdown",
   "id": "4729e55f",
   "metadata": {},
   "source": [
    "##### Try stacking"
   ]
  },
  {
   "cell_type": "code",
   "execution_count": 83,
   "id": "85847eb3",
   "metadata": {},
   "outputs": [],
   "source": [
    "estimators = [(\"rf\", gd.best_estimator_), (\"gbm\", gd_gbm.best_estimator_)]\n",
    "reg = StackingRegressor(estimators=estimators, final_estimator=RandomForestRegressor())"
   ]
  },
  {
   "cell_type": "code",
   "execution_count": 84,
   "id": "13f95b18",
   "metadata": {},
   "outputs": [
    {
     "data": {
      "text/html": [
       "<style>#sk-container-id-4 {color: black;background-color: white;}#sk-container-id-4 pre{padding: 0;}#sk-container-id-4 div.sk-toggleable {background-color: white;}#sk-container-id-4 label.sk-toggleable__label {cursor: pointer;display: block;width: 100%;margin-bottom: 0;padding: 0.3em;box-sizing: border-box;text-align: center;}#sk-container-id-4 label.sk-toggleable__label-arrow:before {content: \"▸\";float: left;margin-right: 0.25em;color: #696969;}#sk-container-id-4 label.sk-toggleable__label-arrow:hover:before {color: black;}#sk-container-id-4 div.sk-estimator:hover label.sk-toggleable__label-arrow:before {color: black;}#sk-container-id-4 div.sk-toggleable__content {max-height: 0;max-width: 0;overflow: hidden;text-align: left;background-color: #f0f8ff;}#sk-container-id-4 div.sk-toggleable__content pre {margin: 0.2em;color: black;border-radius: 0.25em;background-color: #f0f8ff;}#sk-container-id-4 input.sk-toggleable__control:checked~div.sk-toggleable__content {max-height: 200px;max-width: 100%;overflow: auto;}#sk-container-id-4 input.sk-toggleable__control:checked~label.sk-toggleable__label-arrow:before {content: \"▾\";}#sk-container-id-4 div.sk-estimator input.sk-toggleable__control:checked~label.sk-toggleable__label {background-color: #d4ebff;}#sk-container-id-4 div.sk-label input.sk-toggleable__control:checked~label.sk-toggleable__label {background-color: #d4ebff;}#sk-container-id-4 input.sk-hidden--visually {border: 0;clip: rect(1px 1px 1px 1px);clip: rect(1px, 1px, 1px, 1px);height: 1px;margin: -1px;overflow: hidden;padding: 0;position: absolute;width: 1px;}#sk-container-id-4 div.sk-estimator {font-family: monospace;background-color: #f0f8ff;border: 1px dotted black;border-radius: 0.25em;box-sizing: border-box;margin-bottom: 0.5em;}#sk-container-id-4 div.sk-estimator:hover {background-color: #d4ebff;}#sk-container-id-4 div.sk-parallel-item::after {content: \"\";width: 100%;border-bottom: 1px solid gray;flex-grow: 1;}#sk-container-id-4 div.sk-label:hover label.sk-toggleable__label {background-color: #d4ebff;}#sk-container-id-4 div.sk-serial::before {content: \"\";position: absolute;border-left: 1px solid gray;box-sizing: border-box;top: 0;bottom: 0;left: 50%;z-index: 0;}#sk-container-id-4 div.sk-serial {display: flex;flex-direction: column;align-items: center;background-color: white;padding-right: 0.2em;padding-left: 0.2em;position: relative;}#sk-container-id-4 div.sk-item {position: relative;z-index: 1;}#sk-container-id-4 div.sk-parallel {display: flex;align-items: stretch;justify-content: center;background-color: white;position: relative;}#sk-container-id-4 div.sk-item::before, #sk-container-id-4 div.sk-parallel-item::before {content: \"\";position: absolute;border-left: 1px solid gray;box-sizing: border-box;top: 0;bottom: 0;left: 50%;z-index: -1;}#sk-container-id-4 div.sk-parallel-item {display: flex;flex-direction: column;z-index: 1;position: relative;background-color: white;}#sk-container-id-4 div.sk-parallel-item:first-child::after {align-self: flex-end;width: 50%;}#sk-container-id-4 div.sk-parallel-item:last-child::after {align-self: flex-start;width: 50%;}#sk-container-id-4 div.sk-parallel-item:only-child::after {width: 0;}#sk-container-id-4 div.sk-dashed-wrapped {border: 1px dashed gray;margin: 0 0.4em 0.5em 0.4em;box-sizing: border-box;padding-bottom: 0.4em;background-color: white;}#sk-container-id-4 div.sk-label label {font-family: monospace;font-weight: bold;display: inline-block;line-height: 1.2em;}#sk-container-id-4 div.sk-label-container {text-align: center;}#sk-container-id-4 div.sk-container {/* jupyter's `normalize.less` sets `[hidden] { display: none; }` but bootstrap.min.css set `[hidden] { display: none !important; }` so we also need the `!important` here to be able to override the default hidden behavior on the sphinx rendered scikit-learn.org. See: https://github.com/scikit-learn/scikit-learn/issues/21755 */display: inline-block !important;position: relative;}#sk-container-id-4 div.sk-text-repr-fallback {display: none;}</style><div id=\"sk-container-id-4\" class=\"sk-top-container\"><div class=\"sk-text-repr-fallback\"><pre>StackingRegressor(estimators=[(&#x27;rf&#x27;, RandomForestRegressor(n_estimators=400)),\n",
       "                              (&#x27;gbm&#x27;,\n",
       "                               GradientBoostingRegressor(max_features=&#x27;sqrt&#x27;,\n",
       "                                                         min_samples_split=8,\n",
       "                                                         n_estimators=700,\n",
       "                                                         subsample=0.85))],\n",
       "                  final_estimator=RandomForestRegressor())</pre><b>In a Jupyter environment, please rerun this cell to show the HTML representation or trust the notebook. <br />On GitHub, the HTML representation is unable to render, please try loading this page with nbviewer.org.</b></div><div class=\"sk-container\" hidden><div class=\"sk-item sk-dashed-wrapped\"><div class=\"sk-label-container\"><div class=\"sk-label sk-toggleable\"><input class=\"sk-toggleable__control sk-hidden--visually\" id=\"sk-estimator-id-8\" type=\"checkbox\" ><label for=\"sk-estimator-id-8\" class=\"sk-toggleable__label sk-toggleable__label-arrow\">StackingRegressor</label><div class=\"sk-toggleable__content\"><pre>StackingRegressor(estimators=[(&#x27;rf&#x27;, RandomForestRegressor(n_estimators=400)),\n",
       "                              (&#x27;gbm&#x27;,\n",
       "                               GradientBoostingRegressor(max_features=&#x27;sqrt&#x27;,\n",
       "                                                         min_samples_split=8,\n",
       "                                                         n_estimators=700,\n",
       "                                                         subsample=0.85))],\n",
       "                  final_estimator=RandomForestRegressor())</pre></div></div></div><div class=\"sk-serial\"><div class=\"sk-item\"><div class=\"sk-parallel\"><div class=\"sk-parallel-item\"><div class=\"sk-item\"><div class=\"sk-label-container\"><div class=\"sk-label sk-toggleable\"><label>rf</label></div></div><div class=\"sk-serial\"><div class=\"sk-item\"><div class=\"sk-estimator sk-toggleable\"><input class=\"sk-toggleable__control sk-hidden--visually\" id=\"sk-estimator-id-9\" type=\"checkbox\" ><label for=\"sk-estimator-id-9\" class=\"sk-toggleable__label sk-toggleable__label-arrow\">RandomForestRegressor</label><div class=\"sk-toggleable__content\"><pre>RandomForestRegressor(n_estimators=400)</pre></div></div></div></div></div></div><div class=\"sk-parallel-item\"><div class=\"sk-item\"><div class=\"sk-label-container\"><div class=\"sk-label sk-toggleable\"><label>gbm</label></div></div><div class=\"sk-serial\"><div class=\"sk-item\"><div class=\"sk-estimator sk-toggleable\"><input class=\"sk-toggleable__control sk-hidden--visually\" id=\"sk-estimator-id-10\" type=\"checkbox\" ><label for=\"sk-estimator-id-10\" class=\"sk-toggleable__label sk-toggleable__label-arrow\">GradientBoostingRegressor</label><div class=\"sk-toggleable__content\"><pre>GradientBoostingRegressor(max_features=&#x27;sqrt&#x27;, min_samples_split=8,\n",
       "                          n_estimators=700, subsample=0.85)</pre></div></div></div></div></div></div></div></div><div class=\"sk-item\"><div class=\"sk-parallel\"><div class=\"sk-parallel-item\"><div class=\"sk-item\"><div class=\"sk-label-container\"><div class=\"sk-label sk-toggleable\"><label>final_estimator</label></div></div><div class=\"sk-serial\"><div class=\"sk-item\"><div class=\"sk-estimator sk-toggleable\"><input class=\"sk-toggleable__control sk-hidden--visually\" id=\"sk-estimator-id-11\" type=\"checkbox\" ><label for=\"sk-estimator-id-11\" class=\"sk-toggleable__label sk-toggleable__label-arrow\">RandomForestRegressor</label><div class=\"sk-toggleable__content\"><pre>RandomForestRegressor()</pre></div></div></div></div></div></div></div></div></div></div></div></div>"
      ],
      "text/plain": [
       "StackingRegressor(estimators=[('rf', RandomForestRegressor(n_estimators=400)),\n",
       "                              ('gbm',\n",
       "                               GradientBoostingRegressor(max_features='sqrt',\n",
       "                                                         min_samples_split=8,\n",
       "                                                         n_estimators=700,\n",
       "                                                         subsample=0.85))],\n",
       "                  final_estimator=RandomForestRegressor())"
      ]
     },
     "execution_count": 84,
     "metadata": {},
     "output_type": "execute_result"
    }
   ],
   "source": [
    "reg.fit(train_x, train_y)"
   ]
  },
  {
   "cell_type": "code",
   "execution_count": 88,
   "id": "c48a73e5",
   "metadata": {},
   "outputs": [],
   "source": [
    "test[\"SalePrice\"] = reg.predict(test_x)"
   ]
  },
  {
   "cell_type": "code",
   "execution_count": 90,
   "id": "9ffeb380",
   "metadata": {},
   "outputs": [],
   "source": [
    "test[[\"Id\", \"SalePrice\"]].to_csv(\"submission.csv\", index=False)"
   ]
  },
  {
   "cell_type": "code",
   "execution_count": null,
   "id": "aeb88299",
   "metadata": {},
   "outputs": [],
   "source": []
  }
 ],
 "metadata": {
  "kernelspec": {
   "display_name": "Python 3",
   "language": "python",
   "name": "python3"
  },
  "language_info": {
   "codemirror_mode": {
    "name": "ipython",
    "version": 3
   },
   "file_extension": ".py",
   "mimetype": "text/x-python",
   "name": "python",
   "nbconvert_exporter": "python",
   "pygments_lexer": "ipython3",
   "version": "3.9.16"
  }
 },
 "nbformat": 4,
 "nbformat_minor": 5
}
