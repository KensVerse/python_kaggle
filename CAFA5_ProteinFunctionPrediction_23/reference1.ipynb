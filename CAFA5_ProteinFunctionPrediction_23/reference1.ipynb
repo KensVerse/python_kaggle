{
 "cells": [
  {
   "cell_type": "markdown",
   "id": "21c0d785",
   "metadata": {
    "papermill": {
     "duration": 0.008203,
     "end_time": "2023-07-12T18:06:52.501265",
     "exception": false,
     "start_time": "2023-07-12T18:06:52.493062",
     "status": "completed"
    },
    "tags": []
   },
   "source": [
    "This notebook has been inspired by work of HENRI UPTON https://www.kaggle.com/code/henriupton/proteinet-pytorch-ems2-t5-protbert-embeddings"
   ]
  },
  {
   "cell_type": "code",
   "execution_count": 1,
   "id": "d5a2a88a",
   "metadata": {
    "execution": {
     "iopub.execute_input": "2023-07-12T18:06:52.519738Z",
     "iopub.status.busy": "2023-07-12T18:06:52.518861Z",
     "iopub.status.idle": "2023-07-12T18:06:52.841033Z",
     "shell.execute_reply": "2023-07-12T18:06:52.839904Z"
    },
    "papermill": {
     "duration": 0.334144,
     "end_time": "2023-07-12T18:06:52.843722",
     "exception": false,
     "start_time": "2023-07-12T18:06:52.509578",
     "status": "completed"
    },
    "tags": []
   },
   "outputs": [
    {
     "data": {
      "text/html": [
       "<div>\n",
       "<style scoped>\n",
       "    .dataframe tbody tr th:only-of-type {\n",
       "        vertical-align: middle;\n",
       "    }\n",
       "\n",
       "    .dataframe tbody tr th {\n",
       "        vertical-align: top;\n",
       "    }\n",
       "\n",
       "    .dataframe thead th {\n",
       "        text-align: right;\n",
       "    }\n",
       "</style>\n",
       "<table border=\"1\" class=\"dataframe\">\n",
       "  <thead>\n",
       "    <tr style=\"text-align: right;\">\n",
       "      <th></th>\n",
       "      <th>The Protein ID</th>\n",
       "      <th>The Gene Ontology term (GO) ID</th>\n",
       "      <th>Predicted link probability that GO appear in Protein</th>\n",
       "    </tr>\n",
       "  </thead>\n",
       "  <tbody>\n",
       "    <tr>\n",
       "      <th>0</th>\n",
       "      <td>A0A0A0MRZ7</td>\n",
       "      <td>GO:0000001</td>\n",
       "      <td>0.123</td>\n",
       "    </tr>\n",
       "    <tr>\n",
       "      <th>1</th>\n",
       "      <td>A0A0A0MRZ7</td>\n",
       "      <td>GO:0000002</td>\n",
       "      <td>0.123</td>\n",
       "    </tr>\n",
       "    <tr>\n",
       "      <th>2</th>\n",
       "      <td>A0A0A0MRZ8</td>\n",
       "      <td>GO:0000001</td>\n",
       "      <td>0.123</td>\n",
       "    </tr>\n",
       "    <tr>\n",
       "      <th>3</th>\n",
       "      <td>A0A0A0MRZ8</td>\n",
       "      <td>GO:0000002</td>\n",
       "      <td>0.123</td>\n",
       "    </tr>\n",
       "    <tr>\n",
       "      <th>4</th>\n",
       "      <td>A0A0A0MRZ9</td>\n",
       "      <td>GO:0000001</td>\n",
       "      <td>0.123</td>\n",
       "    </tr>\n",
       "  </tbody>\n",
       "</table>\n",
       "</div>"
      ],
      "text/plain": [
       "  The Protein ID The Gene Ontology term (GO) ID  \\\n",
       "0     A0A0A0MRZ7                     GO:0000001   \n",
       "1     A0A0A0MRZ7                     GO:0000002   \n",
       "2     A0A0A0MRZ8                     GO:0000001   \n",
       "3     A0A0A0MRZ8                     GO:0000002   \n",
       "4     A0A0A0MRZ9                     GO:0000001   \n",
       "\n",
       "   Predicted link probability that GO appear in Protein  \n",
       "0                                              0.123     \n",
       "1                                              0.123     \n",
       "2                                              0.123     \n",
       "3                                              0.123     \n",
       "4                                              0.123     "
      ]
     },
     "execution_count": 1,
     "metadata": {},
     "output_type": "execute_result"
    }
   ],
   "source": [
    "import pandas as pd\n",
    "sub = pd.read_csv(\"/kaggle/input/cafa-5-protein-function-prediction/sample_submission.tsv\", sep= \"\\t\", header = None)\n",
    "sub.columns = [\"The Protein ID\", \"The Gene Ontology term (GO) ID\", \"Predicted link probability that GO appear in Protein\"]\n",
    "sub.head(5)"
   ]
  },
  {
   "cell_type": "code",
   "execution_count": 2,
   "id": "7edb0e69",
   "metadata": {
    "_cell_guid": "b1076dfc-b9ad-4769-8c92-a6c4dae69d19",
    "_uuid": "8f2839f25d086af736a60e9eeb907d3b93b6e0e5",
    "execution": {
     "iopub.execute_input": "2023-07-12T18:06:52.861225Z",
     "iopub.status.busy": "2023-07-12T18:06:52.860818Z",
     "iopub.status.idle": "2023-07-12T18:07:09.325403Z",
     "shell.execute_reply": "2023-07-12T18:07:09.324549Z"
    },
    "papermill": {
     "duration": 16.476603,
     "end_time": "2023-07-12T18:07:09.328112",
     "exception": false,
     "start_time": "2023-07-12T18:06:52.851509",
     "status": "completed"
    },
    "tags": []
   },
   "outputs": [
    {
     "name": "stderr",
     "output_type": "stream",
     "text": [
      "/opt/conda/lib/python3.10/site-packages/tensorflow_io/python/ops/__init__.py:98: UserWarning: unable to load libtensorflow_io_plugins.so: unable to open file: libtensorflow_io_plugins.so, from paths: ['/opt/conda/lib/python3.10/site-packages/tensorflow_io/python/ops/libtensorflow_io_plugins.so']\n",
      "caused by: ['/opt/conda/lib/python3.10/site-packages/tensorflow_io/python/ops/libtensorflow_io_plugins.so: undefined symbol: _ZN3tsl6StatusC1EN10tensorflow5error4CodeESt17basic_string_viewIcSt11char_traitsIcEENS_14SourceLocationE']\n",
      "  warnings.warn(f\"unable to load libtensorflow_io_plugins.so: {e}\")\n",
      "/opt/conda/lib/python3.10/site-packages/tensorflow_io/python/ops/__init__.py:104: UserWarning: file system plugins are not loaded: unable to open file: libtensorflow_io.so, from paths: ['/opt/conda/lib/python3.10/site-packages/tensorflow_io/python/ops/libtensorflow_io.so']\n",
      "caused by: ['/opt/conda/lib/python3.10/site-packages/tensorflow_io/python/ops/libtensorflow_io.so: undefined symbol: _ZTVN10tensorflow13GcsFileSystemE']\n",
      "  warnings.warn(f\"file system plugins are not loaded: {e}\")\n"
     ]
    },
    {
     "name": "stdout",
     "output_type": "stream",
     "text": [
      "/kaggle/input/train-targets-top500/train_targets_top500.npy\n",
      "/kaggle/input/submission-zero-predictions/submission.tsv\n",
      "/kaggle/input/cafa-5-053818-pred/submission (3).tsv\n",
      "/kaggle/input/protbert-embeddings-for-cafa5/train_ids.npy\n",
      "/kaggle/input/protbert-embeddings-for-cafa5/train_embeddings.npy\n",
      "/kaggle/input/protbert-embeddings-for-cafa5/test_ids.npy\n",
      "/kaggle/input/protbert-embeddings-for-cafa5/test_embeddings.npy\n",
      "/kaggle/input/t5embeds/train_ids.npy\n",
      "/kaggle/input/t5embeds/test_embeds.npy\n",
      "/kaggle/input/t5embeds/train_embeds.npy\n",
      "/kaggle/input/t5embeds/test_ids.npy\n",
      "/kaggle/input/cafa-5-ems-2-embeddings-numpy/train_ids.npy\n",
      "/kaggle/input/cafa-5-ems-2-embeddings-numpy/train_embeddings.npy\n",
      "/kaggle/input/cafa-5-ems-2-embeddings-numpy/test_ids.npy\n",
      "/kaggle/input/cafa-5-ems-2-embeddings-numpy/test_embeddings.npy\n",
      "/kaggle/input/cafa-5-protein-function-prediction/sample_submission.tsv\n",
      "/kaggle/input/cafa-5-protein-function-prediction/IA.txt\n",
      "/kaggle/input/cafa-5-protein-function-prediction/Test (Targets)/testsuperset.fasta\n",
      "/kaggle/input/cafa-5-protein-function-prediction/Test (Targets)/testsuperset-taxon-list.tsv\n",
      "/kaggle/input/cafa-5-protein-function-prediction/Train/train_terms.tsv\n",
      "/kaggle/input/cafa-5-protein-function-prediction/Train/train_sequences.fasta\n",
      "/kaggle/input/cafa-5-protein-function-prediction/Train/train_taxonomy.tsv\n",
      "/kaggle/input/cafa-5-protein-function-prediction/Train/go-basic.obo\n"
     ]
    }
   ],
   "source": [
    "MAIN_DIR = \"/kaggle/input/cafa-5-protein-function-prediction\"\n",
    "\n",
    "# UTILITARIES\n",
    "import numpy as np\n",
    "from tqdm import tqdm\n",
    "import time\n",
    "import matplotlib.pyplot as plt\n",
    "plt.style.use('ggplot')\n",
    "\n",
    "# TORCH MODULES FOR METRICS COMPUTATION :\n",
    "import torch\n",
    "from torch.utils.data import Dataset\n",
    "from torch import nn\n",
    "from torch.utils.data import random_split\n",
    "from torch.optim.lr_scheduler import ReduceLROnPlateau\n",
    "from torchmetrics.classification import MultilabelF1Score\n",
    "from torchmetrics.classification import MultilabelAccuracy\n",
    "\n",
    "import pytorch_lightning as pl\n",
    "from pytorch_lightning import Trainer\n",
    "from pytorch_lightning.loggers import WandbLogger\n",
    "\n",
    "# WANDB FOR LIGHTNING :\n",
    "import wandb\n",
    "\n",
    "# FILES VISUALIZATION\n",
    "import os\n",
    "for dirname, _, filenames in os.walk('/kaggle/input'):\n",
    "    for filename in filenames:\n",
    "        print(os.path.join(dirname, filename))"
   ]
  },
  {
   "cell_type": "code",
   "execution_count": 3,
   "id": "de6aa105",
   "metadata": {
    "execution": {
     "iopub.execute_input": "2023-07-12T18:07:09.346668Z",
     "iopub.status.busy": "2023-07-12T18:07:09.346084Z",
     "iopub.status.idle": "2023-07-12T18:07:09.351706Z",
     "shell.execute_reply": "2023-07-12T18:07:09.350671Z"
    },
    "papermill": {
     "duration": 0.017844,
     "end_time": "2023-07-12T18:07:09.354153",
     "exception": false,
     "start_time": "2023-07-12T18:07:09.336309",
     "status": "completed"
    },
    "tags": []
   },
   "outputs": [],
   "source": [
    "class config:\n",
    "    train_sequences_path = MAIN_DIR  + \"/Train/train_sequences.fasta\"\n",
    "    train_labels_path = MAIN_DIR + \"/Train/train_terms.tsv\"\n",
    "    test_sequences_path = MAIN_DIR + \"/Test (Targets)/testsuperset.fasta\"\n",
    "    \n",
    "    num_labels = 500\n",
    "    n_epochs = 5\n",
    "    batch_size = 128\n",
    "    lr = 0.001\n",
    "    \n",
    "    device = torch.device('cuda' if torch.cuda.is_available() else 'cpu')"
   ]
  },
  {
   "cell_type": "code",
   "execution_count": 4,
   "id": "43ce19b0",
   "metadata": {
    "execution": {
     "iopub.execute_input": "2023-07-12T18:07:09.374155Z",
     "iopub.status.busy": "2023-07-12T18:07:09.373539Z",
     "iopub.status.idle": "2023-07-12T18:07:09.380033Z",
     "shell.execute_reply": "2023-07-12T18:07:09.377938Z"
    },
    "papermill": {
     "duration": 0.01829,
     "end_time": "2023-07-12T18:07:09.382427",
     "exception": false,
     "start_time": "2023-07-12T18:07:09.364137",
     "status": "completed"
    },
    "tags": []
   },
   "outputs": [
    {
     "name": "stdout",
     "output_type": "stream",
     "text": [
      "cpu\n"
     ]
    }
   ],
   "source": [
    "print(config.device)"
   ]
  },
  {
   "cell_type": "code",
   "execution_count": 5,
   "id": "8f912b13",
   "metadata": {
    "execution": {
     "iopub.execute_input": "2023-07-12T18:07:09.400483Z",
     "iopub.status.busy": "2023-07-12T18:07:09.400116Z",
     "iopub.status.idle": "2023-07-12T18:07:09.405398Z",
     "shell.execute_reply": "2023-07-12T18:07:09.404341Z"
    },
    "papermill": {
     "duration": 0.017042,
     "end_time": "2023-07-12T18:07:09.407627",
     "exception": false,
     "start_time": "2023-07-12T18:07:09.390585",
     "status": "completed"
    },
    "tags": []
   },
   "outputs": [],
   "source": [
    "# Directories for the different embedding vectors : \n",
    "embeds_map = {\n",
    "    \"T5\" : \"t5embeds\",\n",
    "    \"ProtBERT\" : \"protbert-embeddings-for-cafa5\",\n",
    "    \"EMS2\" : \"cafa-5-ems-2-embeddings-numpy\"\n",
    "}\n",
    "\n",
    "# Length of the different embedding vectors :\n",
    "embeds_dim = {\n",
    "    \"T5\" : 1024,\n",
    "    \"ProtBERT\" : 1024,\n",
    "    \"EMS2\" : 1280\n",
    "}"
   ]
  },
  {
   "cell_type": "code",
   "execution_count": 6,
   "id": "c97ce07e",
   "metadata": {
    "execution": {
     "iopub.execute_input": "2023-07-12T18:07:09.425716Z",
     "iopub.status.busy": "2023-07-12T18:07:09.425309Z",
     "iopub.status.idle": "2023-07-12T18:07:09.441103Z",
     "shell.execute_reply": "2023-07-12T18:07:09.440034Z"
    },
    "papermill": {
     "duration": 0.02765,
     "end_time": "2023-07-12T18:07:09.443417",
     "exception": false,
     "start_time": "2023-07-12T18:07:09.415767",
     "status": "completed"
    },
    "tags": []
   },
   "outputs": [],
   "source": [
    "class ProteinSequenceDataset(Dataset):\n",
    "    \n",
    "    def __init__(self, datatype, embeddings_source):\n",
    "        super(ProteinSequenceDataset).__init__()\n",
    "        self.datatype = datatype\n",
    "        \n",
    "        if embeddings_source in [\"ProtBERT\", \"EMS2\"]:\n",
    "            embeds = np.load(\"/kaggle/input/\"+embeds_map[embeddings_source]+\"/\"+datatype+\"_embeddings.npy\")\n",
    "            ids = np.load(\"/kaggle/input/\"+embeds_map[embeddings_source]+\"/\"+datatype+\"_ids.npy\")\n",
    "        \n",
    "        if embeddings_source == \"T5\":\n",
    "            embeds = np.load(\"/kaggle/input/\"+embeds_map[embeddings_source]+\"/\"+datatype+\"_embeds.npy\")\n",
    "            ids = np.load(\"/kaggle/input/\"+embeds_map[embeddings_source]+\"/\"+datatype+\"_ids.npy\")\n",
    "            \n",
    "        embeds_list = []\n",
    "        for l in range(embeds.shape[0]):\n",
    "            embeds_list.append(embeds[l,:])\n",
    "        self.df = pd.DataFrame(data={\"EntryID\": ids, \"embed\" : embeds_list})\n",
    "        \n",
    "        if datatype==\"train\":\n",
    "            np_labels = np.load(\n",
    "                \"/kaggle/input/train-targets-top\"+str(config.num_labels)+ \\\n",
    "                \"/train_targets_top\"+str(config.num_labels)+\".npy\")\n",
    "            df_labels = pd.DataFrame(self.df['EntryID'])\n",
    "            df_labels['labels_vect']=[row for row in np_labels]\n",
    "            self.df = self.df.merge(df_labels, on=\"EntryID\")\n",
    "            \n",
    "    def __len__(self):\n",
    "        return len(self.df)\n",
    "    \n",
    "    def __getitem__(self, index):\n",
    "        embed = torch.tensor(self.df.iloc[index][\"embed\"] , dtype = torch.float32)\n",
    "        if self.datatype==\"train\":\n",
    "            targets = torch.tensor(self.df.iloc[index][\"labels_vect\"], dtype = torch.float32)\n",
    "            return embed, targets\n",
    "        if self.datatype==\"test\":\n",
    "            id = self.df.iloc[index][\"EntryID\"]\n",
    "            return embed, id\n",
    "        "
   ]
  },
  {
   "cell_type": "markdown",
   "id": "e6187da6",
   "metadata": {
    "papermill": {
     "duration": 0.008264,
     "end_time": "2023-07-12T18:07:09.460391",
     "exception": false,
     "start_time": "2023-07-12T18:07:09.452127",
     "status": "completed"
    },
    "tags": []
   },
   "source": [
    "## MODEL ARCHITECTURE BUILDING AND TRAINING"
   ]
  },
  {
   "cell_type": "code",
   "execution_count": 7,
   "id": "ecfcc74f",
   "metadata": {
    "execution": {
     "iopub.execute_input": "2023-07-12T18:07:09.478930Z",
     "iopub.status.busy": "2023-07-12T18:07:09.478513Z",
     "iopub.status.idle": "2023-07-12T18:07:09.487296Z",
     "shell.execute_reply": "2023-07-12T18:07:09.486314Z"
    },
    "papermill": {
     "duration": 0.020741,
     "end_time": "2023-07-12T18:07:09.489326",
     "exception": false,
     "start_time": "2023-07-12T18:07:09.468585",
     "status": "completed"
    },
    "tags": []
   },
   "outputs": [],
   "source": [
    "class MultiLayerPerceptron(torch.nn.Module):\n",
    "\n",
    "    def __init__(self, input_dim, num_classes):\n",
    "        super(MultiLayerPerceptron, self).__init__()\n",
    "\n",
    "        self.linear1 = torch.nn.Linear(input_dim, 1012)\n",
    "        self.activation1 = torch.nn.Tanh()\n",
    "        self.linear2 = torch.nn.Linear(1012, 864)\n",
    "        self.activation2 = torch.nn.Tanh()\n",
    "        self.linear3 = torch.nn.Linear(864, 712)\n",
    "        self.activation3 = torch.nn.Tanh()\n",
    "        self.linear4 = torch.nn.Linear(712, num_classes)\n",
    "      \n",
    "\n",
    "    def forward(self, x):\n",
    "        x = self.linear1(x)\n",
    "        x = self.activation1(x)\n",
    "        x = self.linear2(x)\n",
    "        x = self.activation2(x)\n",
    "        x = self.linear3(x)\n",
    "        x = self.activation3(x)\n",
    "        x = self.linear4(x)\n",
    "        return x"
   ]
  },
  {
   "cell_type": "code",
   "execution_count": 8,
   "id": "fb229cbc",
   "metadata": {
    "execution": {
     "iopub.execute_input": "2023-07-12T18:07:09.507234Z",
     "iopub.status.busy": "2023-07-12T18:07:09.506183Z",
     "iopub.status.idle": "2023-07-12T18:07:09.516912Z",
     "shell.execute_reply": "2023-07-12T18:07:09.515914Z"
    },
    "papermill": {
     "duration": 0.022009,
     "end_time": "2023-07-12T18:07:09.519222",
     "exception": false,
     "start_time": "2023-07-12T18:07:09.497213",
     "status": "completed"
    },
    "tags": []
   },
   "outputs": [],
   "source": [
    "class CNN1D(nn.Module):\n",
    "    def __init__(self, input_dim, num_classes):\n",
    "        super(CNN1D, self).__init__()\n",
    "        # (batch_size, channels, embed_size)\n",
    "        self.conv1 = nn.Conv1d(in_channels=1, out_channels=3, kernel_size=3, dilation=1, padding=1, stride=1)\n",
    "        # (batch_size, 3, embed_size)\n",
    "        self.pool1 = nn.MaxPool1d(kernel_size=2, stride=2)\n",
    "        # (batch_size, 3, embed_size/2 = 512)\n",
    "        self.conv2 = nn.Conv1d(in_channels=3, out_channels=8, kernel_size=3, dilation=1, padding=1, stride=1)\n",
    "        # (batch_size, 8, embed_size/2 = 512)\n",
    "        self.pool2 = nn.MaxPool1d(kernel_size=2, stride=2)\n",
    "        # (batch_size, 8, embed_size/4 = 256)\n",
    "        self.fc1 = nn.Linear(in_features=int(8 * input_dim/4), out_features=128)\n",
    "        self.fc2 = nn.Linear(in_features=128, out_features=num_classes)\n",
    "\n",
    "    def forward(self, x):\n",
    "        x = x.reshape(x.shape[0], 1, x.shape[1])\n",
    "        x = self.pool1(nn.functional.relu(self.conv1(x)))\n",
    "        x = self.pool2(nn.functional.relu(self.conv2(x)))\n",
    "        x = torch.flatten(x, 1)\n",
    "        x = nn.functional.relu(self.fc1(x))\n",
    "        x = self.fc2(x)\n",
    "        return x\n"
   ]
  },
  {
   "cell_type": "code",
   "execution_count": 9,
   "id": "6478f8f5",
   "metadata": {
    "execution": {
     "iopub.execute_input": "2023-07-12T18:07:09.538220Z",
     "iopub.status.busy": "2023-07-12T18:07:09.537806Z",
     "iopub.status.idle": "2023-07-12T18:07:09.556902Z",
     "shell.execute_reply": "2023-07-12T18:07:09.555951Z"
    },
    "papermill": {
     "duration": 0.031729,
     "end_time": "2023-07-12T18:07:09.559273",
     "exception": false,
     "start_time": "2023-07-12T18:07:09.527544",
     "status": "completed"
    },
    "tags": []
   },
   "outputs": [],
   "source": [
    "def train_model(embeddings_source, model_type=\"linear\", train_size=0.9):\n",
    "    \n",
    "    train_dataset = ProteinSequenceDataset(datatype=\"train\", embeddings_source = embeddings_source)\n",
    "    \n",
    "    train_set, val_set = random_split(train_dataset, lengths = [int(len(train_dataset)*train_size), len(train_dataset)-int(len(train_dataset)*train_size)])\n",
    "    train_dataloader = torch.utils.data.DataLoader(train_set, batch_size=config.batch_size, shuffle=True)\n",
    "    val_dataloader = torch.utils.data.DataLoader(val_set, batch_size=config.batch_size, shuffle=True)\n",
    "\n",
    "    if model_type == \"linear\":\n",
    "        model = MultiLayerPerceptron(input_dim=embeds_dim[embeddings_source], num_classes=config.num_labels).to(config.device)\n",
    "    if model_type == \"convolutional\":\n",
    "        model = CNN1D(input_dim=embeds_dim[embeddings_source], num_classes=config.num_labels).to(config.device)\n",
    "\n",
    "    optimizer = torch.optim.Adam(model.parameters(), lr = config.lr)\n",
    "    scheduler = ReduceLROnPlateau(optimizer, factor=0.1, patience=1)\n",
    "    CrossEntropy = torch.nn.CrossEntropyLoss()\n",
    "    f1_score = MultilabelF1Score(num_labels=config.num_labels).to(config.device)\n",
    "    n_epochs = config.n_epochs\n",
    "\n",
    "    print(\"BEGIN TRAINING...\")\n",
    "    train_loss_history=[]\n",
    "    val_loss_history=[]\n",
    "    \n",
    "    train_f1score_history=[]\n",
    "    val_f1score_history=[]\n",
    "    for epoch in range(n_epochs):\n",
    "        print(\"EPOCH \", epoch+1)\n",
    "        ## TRAIN PHASE :\n",
    "        losses = []\n",
    "        scores = []\n",
    "        for embed, targets in tqdm(train_dataloader):\n",
    "            embed, targets = embed.to(config.device), targets.to(config.device)\n",
    "            optimizer.zero_grad()\n",
    "            preds = model(embed)\n",
    "            loss= CrossEntropy(preds, targets)\n",
    "            score=f1_score(preds, targets)\n",
    "            losses.append(loss.item()) \n",
    "            scores.append(score.item())\n",
    "            loss.backward()\n",
    "            optimizer.step()\n",
    "        avg_loss = np.mean(losses)\n",
    "        avg_score = np.mean(scores)\n",
    "        print(\"Running Average TRAIN Loss : \", avg_loss)\n",
    "        print(\"Running Average TRAIN F1-Score : \", avg_score)\n",
    "        train_loss_history.append(avg_loss)\n",
    "        train_f1score_history.append(avg_score)\n",
    "        \n",
    "        ## VALIDATION PHASE : \n",
    "        losses = []\n",
    "        scores = []\n",
    "        for embed, targets in val_dataloader:\n",
    "            embed, targets = embed.to(config.device), targets.to(config.device)\n",
    "            preds = model(embed)\n",
    "            loss= CrossEntropy(preds, targets)\n",
    "            score=f1_score(preds, targets)\n",
    "            losses.append(loss.item())\n",
    "            scores.append(score.item())\n",
    "        avg_loss = np.mean(losses)\n",
    "        avg_score = np.mean(scores)\n",
    "        print(\"Running Average VAL Loss : \", avg_loss)\n",
    "        print(\"Running Average VAL F1-Score : \", avg_score)\n",
    "        val_loss_history.append(avg_loss)\n",
    "        val_f1score_history.append(avg_score)\n",
    "        \n",
    "        scheduler.step(avg_loss)\n",
    "        print(\"\\n\")\n",
    "        \n",
    "    print(\"TRAINING FINISHED\")\n",
    "    print(\"FINAL TRAINING SCORE : \", train_f1score_history[-1])\n",
    "    print(\"FINAL VALIDATION SCORE : \", val_f1score_history[-1])\n",
    "    \n",
    "    losses_history = {\"train\" : train_loss_history, \"val\" : val_loss_history}\n",
    "    scores_history = {\"train\" : train_f1score_history, \"val\" : val_f1score_history}\n",
    "    \n",
    "    return model, losses_history, scores_history"
   ]
  },
  {
   "cell_type": "code",
   "execution_count": 10,
   "id": "b4238b81",
   "metadata": {
    "execution": {
     "iopub.execute_input": "2023-07-12T18:07:09.577095Z",
     "iopub.status.busy": "2023-07-12T18:07:09.576704Z",
     "iopub.status.idle": "2023-07-12T18:07:09.580930Z",
     "shell.execute_reply": "2023-07-12T18:07:09.580113Z"
    },
    "papermill": {
     "duration": 0.015821,
     "end_time": "2023-07-12T18:07:09.583170",
     "exception": false,
     "start_time": "2023-07-12T18:07:09.567349",
     "status": "completed"
    },
    "tags": []
   },
   "outputs": [],
   "source": [
    "#ems2_model, ems2_losses, ems2_scores = train_model(embeddings_source=\"EMS2\",model_type=\"convolutional\")"
   ]
  },
  {
   "cell_type": "code",
   "execution_count": 11,
   "id": "82d50aba",
   "metadata": {
    "execution": {
     "iopub.execute_input": "2023-07-12T18:07:09.600993Z",
     "iopub.status.busy": "2023-07-12T18:07:09.600634Z",
     "iopub.status.idle": "2023-07-12T18:13:08.670335Z",
     "shell.execute_reply": "2023-07-12T18:13:08.668939Z"
    },
    "papermill": {
     "duration": 359.0819,
     "end_time": "2023-07-12T18:13:08.673041",
     "exception": false,
     "start_time": "2023-07-12T18:07:09.591141",
     "status": "completed"
    },
    "tags": []
   },
   "outputs": [
    {
     "name": "stdout",
     "output_type": "stream",
     "text": [
      "BEGIN TRAINING...\n",
      "EPOCH  1\n"
     ]
    },
    {
     "name": "stderr",
     "output_type": "stream",
     "text": [
      "100%|██████████| 1001/1001 [01:02<00:00, 16.03it/s]\n"
     ]
    },
    {
     "name": "stdout",
     "output_type": "stream",
     "text": [
      "Running Average TRAIN Loss :  131.59560204504967\n",
      "Running Average TRAIN F1-Score :  0.15551414433401542\n",
      "Running Average VAL Loss :  130.60772480283464\n",
      "Running Average VAL F1-Score :  0.16682437660970859\n",
      "\n",
      "\n",
      "EPOCH  2\n"
     ]
    },
    {
     "name": "stderr",
     "output_type": "stream",
     "text": [
      "100%|██████████| 1001/1001 [01:02<00:00, 16.00it/s]\n"
     ]
    },
    {
     "name": "stdout",
     "output_type": "stream",
     "text": [
      "Running Average TRAIN Loss :  128.72154702292337\n",
      "Running Average TRAIN F1-Score :  0.1704804388942061\n",
      "Running Average VAL Loss :  129.80680860791887\n",
      "Running Average VAL F1-Score :  0.17224444009895837\n",
      "\n",
      "\n",
      "EPOCH  3\n"
     ]
    },
    {
     "name": "stderr",
     "output_type": "stream",
     "text": [
      "100%|██████████| 1001/1001 [01:00<00:00, 16.62it/s]\n"
     ]
    },
    {
     "name": "stdout",
     "output_type": "stream",
     "text": [
      "Running Average TRAIN Loss :  127.73877084981669\n",
      "Running Average TRAIN F1-Score :  0.1729389352725817\n",
      "Running Average VAL Loss :  128.71582385471888\n",
      "Running Average VAL F1-Score :  0.1729835269839636\n",
      "\n",
      "\n",
      "EPOCH  4\n"
     ]
    },
    {
     "name": "stderr",
     "output_type": "stream",
     "text": [
      "100%|██████████| 1001/1001 [01:07<00:00, 14.87it/s]\n"
     ]
    },
    {
     "name": "stdout",
     "output_type": "stream",
     "text": [
      "Running Average TRAIN Loss :  127.02417382422266\n",
      "Running Average TRAIN F1-Score :  0.17422182102511813\n",
      "Running Average VAL Loss :  128.75850582122803\n",
      "Running Average VAL F1-Score :  0.17434680661452667\n",
      "\n",
      "\n",
      "EPOCH  5\n"
     ]
    },
    {
     "name": "stderr",
     "output_type": "stream",
     "text": [
      "100%|██████████| 1001/1001 [01:06<00:00, 14.97it/s]\n"
     ]
    },
    {
     "name": "stdout",
     "output_type": "stream",
     "text": [
      "Running Average TRAIN Loss :  126.57455214920577\n",
      "Running Average TRAIN F1-Score :  0.17490332814065607\n",
      "Running Average VAL Loss :  128.5326348713466\n",
      "Running Average VAL F1-Score :  0.17273973753409727\n",
      "\n",
      "\n",
      "TRAINING FINISHED\n",
      "FINAL TRAINING SCORE :  0.17490332814065607\n",
      "FINAL VALIDATION SCORE :  0.17273973753409727\n"
     ]
    }
   ],
   "source": [
    "t5_model, t5_losses, t5_scores = train_model(embeddings_source=\"T5\",model_type=\"linear\")"
   ]
  },
  {
   "cell_type": "code",
   "execution_count": 12,
   "id": "a7af3085",
   "metadata": {
    "execution": {
     "iopub.execute_input": "2023-07-12T18:13:09.141152Z",
     "iopub.status.busy": "2023-07-12T18:13:09.140378Z",
     "iopub.status.idle": "2023-07-12T18:13:09.144841Z",
     "shell.execute_reply": "2023-07-12T18:13:09.144031Z"
    },
    "papermill": {
     "duration": 0.241385,
     "end_time": "2023-07-12T18:13:09.147146",
     "exception": false,
     "start_time": "2023-07-12T18:13:08.905761",
     "status": "completed"
    },
    "tags": []
   },
   "outputs": [],
   "source": [
    "#protbert_model, protbert_losses, protbert_scores = train_model(embeddings_source=\"T5\",model_type=\"convolutional\")"
   ]
  },
  {
   "cell_type": "code",
   "execution_count": 13,
   "id": "fff426da",
   "metadata": {
    "execution": {
     "iopub.execute_input": "2023-07-12T18:13:09.720712Z",
     "iopub.status.busy": "2023-07-12T18:13:09.719996Z",
     "iopub.status.idle": "2023-07-12T18:13:10.452175Z",
     "shell.execute_reply": "2023-07-12T18:13:10.450978Z"
    },
    "papermill": {
     "duration": 1.072398,
     "end_time": "2023-07-12T18:13:10.454917",
     "exception": false,
     "start_time": "2023-07-12T18:13:09.382519",
     "status": "completed"
    },
    "tags": []
   },
   "outputs": [
    {
     "data": {
      "image/png": "[encoded data removed]",
      "text/plain": [
       "<Figure size 1000x400 with 1 Axes>"
      ]
     },
     "metadata": {},
     "output_type": "display_data"
    },
    {
     "data": {
      "image/png": "[encoded data removed]",
      "text/plain": [
       "<Figure size 1000x400 with 1 Axes>"
      ]
     },
     "metadata": {},
     "output_type": "display_data"
    }
   ],
   "source": [
    "plt.figure(figsize = (10, 4))\n",
    "#plt.plot(ems2_losses[\"val\"], label = \"EMS2\")\n",
    "plt.plot(t5_losses[\"val\"], label = \"T5\")\n",
    "#plt.plot(protbert_losses[\"val\"], label = \"ProtBERT\") \n",
    "plt.title(\"Validation Losses for # Vector Embeddings\")\n",
    "plt.xlabel(\"Epochs\")\n",
    "plt.ylabel(\"Average Loss\")\n",
    "plt.legend()\n",
    "plt.show()\n",
    "\n",
    "plt.figure(figsize = (10, 4))\n",
    "#plt.plot(ems2_scores[\"val\"], label = \"EMS2\")\n",
    "plt.plot(t5_scores[\"val\"], label = \"T5\")\n",
    "#plt.plot(protbert_scores[\"val\"], label = \"ProtBERT\")\n",
    "plt.title(\"Validation F1-Scores for # Vector Embeddings\")\n",
    "plt.xlabel(\"Epochs\")\n",
    "plt.ylabel(\"Average F1-Score\")\n",
    "plt.legend()\n",
    "plt.show()"
   ]
  },
  {
   "cell_type": "markdown",
   "id": "60279871",
   "metadata": {
    "papermill": {
     "duration": 0.23888,
     "end_time": "2023-07-12T18:13:10.932161",
     "exception": false,
     "start_time": "2023-07-12T18:13:10.693281",
     "status": "completed"
    },
    "tags": []
   },
   "source": [
    "## PREDICTION"
   ]
  },
  {
   "cell_type": "code",
   "execution_count": 14,
   "id": "b4f55b68",
   "metadata": {
    "execution": {
     "iopub.execute_input": "2023-07-12T18:13:11.416653Z",
     "iopub.status.busy": "2023-07-12T18:13:11.415727Z",
     "iopub.status.idle": "2023-07-12T18:13:11.429406Z",
     "shell.execute_reply": "2023-07-12T18:13:11.428361Z"
    },
    "papermill": {
     "duration": 0.26022,
     "end_time": "2023-07-12T18:13:11.432078",
     "exception": false,
     "start_time": "2023-07-12T18:13:11.171858",
     "status": "completed"
    },
    "tags": []
   },
   "outputs": [],
   "source": [
    "def predict(embeddings_source):\n",
    "    \n",
    "    test_dataset = ProteinSequenceDataset(datatype=\"test\", embeddings_source = embeddings_source)\n",
    "    test_dataloader = torch.utils.data.DataLoader(test_dataset, batch_size=1, shuffle=False)\n",
    "    \n",
    "    if embeddings_source == \"T5\":\n",
    "        model = t5_model\n",
    "    if embeddings_source == \"ProtBERT\":\n",
    "        model = protbert_model\n",
    "    if embeddings_source == \"EMS2\":\n",
    "        model = ems2_model\n",
    "        \n",
    "    model.eval()\n",
    "    \n",
    "    labels = pd.read_csv(config.train_labels_path, sep = \"\\t\")\n",
    "    top_terms = labels.groupby(\"term\")[\"EntryID\"].count().sort_values(ascending=False)\n",
    "    labels_names = top_terms[:config.num_labels].index.values\n",
    "    print(\"GENERATE PREDICTION FOR TEST SET...\")\n",
    "\n",
    "    ids_ = np.empty(shape=(len(test_dataloader)*config.num_labels,), dtype=object)\n",
    "    go_terms_ = np.empty(shape=(len(test_dataloader)*config.num_labels,), dtype=object)\n",
    "    confs_ = np.empty(shape=(len(test_dataloader)*config.num_labels,), dtype=np.float32)\n",
    "\n",
    "    for i, (embed, id) in tqdm(enumerate(test_dataloader)):\n",
    "        embed = embed.to(config.device)\n",
    "        confs_[i*config.num_labels:(i+1)*config.num_labels] = torch.nn.functional.sigmoid(model(embed)).squeeze().detach().cpu().numpy()\n",
    "        ids_[i*config.num_labels:(i+1)*config.num_labels] = id[0]\n",
    "        go_terms_[i*config.num_labels:(i+1)*config.num_labels] = labels_names\n",
    "\n",
    "    submission_df = pd.DataFrame(data={\"Id\" : ids_, \"GO term\" : go_terms_, \"Confidence\" : confs_})\n",
    "    print(\"PREDICTIONS DONE\")\n",
    "    return submission_df"
   ]
  },
  {
   "cell_type": "code",
   "execution_count": 15,
   "id": "17207e57",
   "metadata": {
    "execution": {
     "iopub.execute_input": "2023-07-12T18:13:11.912183Z",
     "iopub.status.busy": "2023-07-12T18:13:11.911266Z",
     "iopub.status.idle": "2023-07-12T18:15:42.234138Z",
     "shell.execute_reply": "2023-07-12T18:15:42.232859Z"
    },
    "papermill": {
     "duration": 150.568032,
     "end_time": "2023-07-12T18:15:42.237164",
     "exception": false,
     "start_time": "2023-07-12T18:13:11.669132",
     "status": "completed"
    },
    "tags": []
   },
   "outputs": [
    {
     "name": "stdout",
     "output_type": "stream",
     "text": [
      "GENERATE PREDICTION FOR TEST SET...\n"
     ]
    },
    {
     "name": "stderr",
     "output_type": "stream",
     "text": [
      "141865it [02:10, 1090.45it/s]\n"
     ]
    },
    {
     "name": "stdout",
     "output_type": "stream",
     "text": [
      "PREDICTIONS DONE\n"
     ]
    }
   ],
   "source": [
    "submission_df = predict(\"T5\")"
   ]
  },
  {
   "cell_type": "code",
   "execution_count": 16,
   "id": "17a447cd",
   "metadata": {
    "execution": {
     "iopub.execute_input": "2023-07-12T18:15:43.036508Z",
     "iopub.status.busy": "2023-07-12T18:15:43.036045Z",
     "iopub.status.idle": "2023-07-12T18:15:43.043345Z",
     "shell.execute_reply": "2023-07-12T18:15:43.042244Z"
    },
    "papermill": {
     "duration": 0.459356,
     "end_time": "2023-07-12T18:15:43.045729",
     "exception": false,
     "start_time": "2023-07-12T18:15:42.586373",
     "status": "completed"
    },
    "tags": []
   },
   "outputs": [
    {
     "data": {
      "text/plain": [
       "70932500"
      ]
     },
     "execution_count": 16,
     "metadata": {},
     "output_type": "execute_result"
    }
   ],
   "source": [
    "len(submission_df)"
   ]
  },
  {
   "cell_type": "markdown",
   "id": "304fadce",
   "metadata": {
    "papermill": {
     "duration": 0.349731,
     "end_time": "2023-07-12T18:15:43.744879",
     "exception": false,
     "start_time": "2023-07-12T18:15:43.395148",
     "status": "completed"
    },
    "tags": []
   },
   "source": [
    "## ENSEMBLING WITH TOP PUBLIC SUBMISSION"
   ]
  },
  {
   "cell_type": "code",
   "execution_count": 17,
   "id": "c1fc7dc5",
   "metadata": {
    "execution": {
     "iopub.execute_input": "2023-07-12T18:15:44.434633Z",
     "iopub.status.busy": "2023-07-12T18:15:44.434155Z",
     "iopub.status.idle": "2023-07-12T18:15:53.729997Z",
     "shell.execute_reply": "2023-07-12T18:15:53.728928Z"
    },
    "papermill": {
     "duration": 9.644212,
     "end_time": "2023-07-12T18:15:53.733158",
     "exception": false,
     "start_time": "2023-07-12T18:15:44.088946",
     "status": "completed"
    },
    "tags": []
   },
   "outputs": [],
   "source": [
    "submission_best_public2 = pd.read_csv('/kaggle/input/cafa-5-053818-pred/submission (3).tsv',\n",
    "    sep='\\t', header=None, names=['Id2', 'GO term2', 'Confidence2'])"
   ]
  },
  {
   "cell_type": "code",
   "execution_count": 18,
   "id": "82e473d6",
   "metadata": {
    "execution": {
     "iopub.execute_input": "2023-07-12T18:15:54.434873Z",
     "iopub.status.busy": "2023-07-12T18:15:54.434065Z",
     "iopub.status.idle": "2023-07-12T18:17:32.257424Z",
     "shell.execute_reply": "2023-07-12T18:17:32.254536Z"
    },
    "papermill": {
     "duration": 98.18067,
     "end_time": "2023-07-12T18:17:32.263758",
     "exception": false,
     "start_time": "2023-07-12T18:15:54.083088",
     "status": "completed"
    },
    "tags": []
   },
   "outputs": [],
   "source": [
    "submissions = submission_best_public2.merge(submission_df, left_on=['Id2', 'GO term2'], \n",
    "                                                  right_on=['Id', 'GO term'], how='outer')"
   ]
  },
  {
   "cell_type": "code",
   "execution_count": 19,
   "id": "04b0c0a9",
   "metadata": {
    "execution": {
     "iopub.execute_input": "2023-07-12T18:17:33.091756Z",
     "iopub.status.busy": "2023-07-12T18:17:33.090266Z",
     "iopub.status.idle": "2023-07-12T18:42:33.223634Z",
     "shell.execute_reply": "2023-07-12T18:42:33.221988Z"
    },
    "papermill": {
     "duration": 1500.486286,
     "end_time": "2023-07-12T18:42:33.227598",
     "exception": false,
     "start_time": "2023-07-12T18:17:32.741312",
     "status": "completed"
    },
    "tags": []
   },
   "outputs": [],
   "source": [
    "submissions.drop(['Id', 'GO term'], axis=1, inplace=True)\n",
    "submissions['confidence_combined'] = submissions.apply(lambda row: row['Confidence2'] if not np.isnan(row['Confidence2']) else row['Confidence'], axis=1)"
   ]
  },
  {
   "cell_type": "code",
   "execution_count": 20,
   "id": "f40b6dcf",
   "metadata": {
    "execution": {
     "iopub.execute_input": "2023-07-12T18:42:33.942682Z",
     "iopub.status.busy": "2023-07-12T18:42:33.941964Z",
     "iopub.status.idle": "2023-07-12T18:47:57.324645Z",
     "shell.execute_reply": "2023-07-12T18:47:57.323533Z"
    },
    "papermill": {
     "duration": 323.742028,
     "end_time": "2023-07-12T18:47:57.328362",
     "exception": false,
     "start_time": "2023-07-12T18:42:33.586334",
     "status": "completed"
    },
    "tags": []
   },
   "outputs": [],
   "source": [
    "submissions[['Id2', 'GO term2', 'confidence_combined']].to_csv('submission.tsv', sep='\\t', header=False, index=False)"
   ]
  },
  {
   "cell_type": "markdown",
   "id": "92417197",
   "metadata": {
    "papermill": {
     "duration": 0.348918,
     "end_time": "2023-07-12T18:47:58.031133",
     "exception": false,
     "start_time": "2023-07-12T18:47:57.682215",
     "status": "completed"
    },
    "tags": []
   },
   "source": [
    "# ENSEMBLING WITH Zero-shot predictions \n",
    "#### We also make predictions for 2,935 classes without any functional annotations. Predictions are available for download from here:\n",
    "#### zero_predictions.tar.gz\n",
    "#### https://github.com/bio-ontology-research-group/deepgozero/tree/main"
   ]
  },
  {
   "cell_type": "code",
   "execution_count": 21,
   "id": "80bc8a7b",
   "metadata": {
    "execution": {
     "iopub.execute_input": "2023-07-12T18:47:58.797812Z",
     "iopub.status.busy": "2023-07-12T18:47:58.797294Z",
     "iopub.status.idle": "2023-07-12T18:48:36.826160Z",
     "shell.execute_reply": "2023-07-12T18:48:36.824798Z"
    },
    "papermill": {
     "duration": 38.373664,
     "end_time": "2023-07-12T18:48:36.829053",
     "exception": false,
     "start_time": "2023-07-12T18:47:58.455389",
     "status": "completed"
    },
    "tags": []
   },
   "outputs": [],
   "source": [
    "import pandas as pd\n",
    "df_submission = pd.read_csv('/kaggle/input/submission-zero-predictions/submission.tsv', sep='\\t', header=None, names=['Protein Id', 'GO Term Id','Prediction'])\n",
    "\n",
    " \n",
    "df_submission[['Protein Id', 'GO Term Id','Prediction']].to_csv(\"submission.tsv\",mode='a',header=False, index=False, sep=\"\\t\")"
   ]
  }
 ],
 "metadata": {
  "kernelspec": {
   "display_name": "Python 3",
   "language": "python",
   "name": "python3"
  },
  "language_info": {
   "codemirror_mode": {
    "name": "ipython",
    "version": 3
   },
   "file_extension": ".py",
   "mimetype": "text/x-python",
   "name": "python",
   "nbconvert_exporter": "python",
   "pygments_lexer": "ipython3",
   "version": "3.10.10"
  },
  "papermill": {
   "default_parameters": {},
   "duration": 2520.536056,
   "end_time": "2023-07-12T18:48:39.800713",
   "environment_variables": {},
   "exception": null,
   "input_path": "__notebook__.ipynb",
   "output_path": "__notebook__.ipynb",
   "parameters": {},
   "start_time": "2023-07-12T18:06:39.264657",
   "version": "2.4.0"
  }
 },
 "nbformat": 4,
 "nbformat_minor": 5
}
