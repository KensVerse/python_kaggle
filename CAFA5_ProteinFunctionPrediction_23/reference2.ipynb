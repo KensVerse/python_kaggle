{
 "cells": [
  {
   "cell_type": "markdown",
   "id": "63876633",
   "metadata": {
    "papermill": {
     "duration": 0.019728,
     "end_time": "2023-07-19T09:46:24.937216",
     "exception": false,
     "start_time": "2023-07-19T09:46:24.917488",
     "status": "completed"
    },
    "tags": []
   },
   "source": [
    "# CAFA 5 Competition : Protein Function Prediction"
   ]
  },
  {
   "cell_type": "markdown",
   "id": "bd2ca6ae",
   "metadata": {
    "papermill": {
     "duration": 0.01063,
     "end_time": "2023-07-19T09:46:24.959738",
     "exception": false,
     "start_time": "2023-07-19T09:46:24.949108",
     "status": "completed"
    },
    "tags": []
   },
   "source": [
    "# Problem Framing"
   ]
  },
  {
   "cell_type": "markdown",
   "id": "68698445",
   "metadata": {
    "papermill": {
     "duration": 0.009975,
     "end_time": "2023-07-19T09:46:24.979782",
     "exception": false,
     "start_time": "2023-07-19T09:46:24.969807",
     "status": "completed"
    },
    "tags": []
   },
   "source": [
    "This Kaggle competition aims to predict the function of proteins using their amino-acid sequences and additional data. Understanding protein function is crucial for comprehending cellular processes and developing new treatments for diseases. With the abundance of genomic sequence data available, assigning accurate biological functions to proteins becomes challenging due to their multifunctionality and interactions with various partners. This competition, hosted by the Function Community of Special Interest (Function-COSI), brings together computational biologists, experimental biologists, and biocurators to improve protein function prediction through data science and machine learning approaches. The goal is to contribute to advancements in medicine, agriculture, and overall human and animal health."
   ]
  },
  {
   "cell_type": "markdown",
   "id": "0db7c5d8",
   "metadata": {
    "papermill": {
     "duration": 0.009841,
     "end_time": "2023-07-19T09:46:24.999799",
     "exception": false,
     "start_time": "2023-07-19T09:46:24.989958",
     "status": "completed"
    },
    "tags": []
   },
   "source": [
    "![image-intro](https://upload.wikimedia.org/wikipedia/commons/thumb/4/4a/Computational_solvent_mapping_of_AMA1_using_FTMAP.TIF/lossy-page1-500px-Computational_solvent_mapping_of_AMA1_using_FTMAP.TIF.jpg)"
   ]
  },
  {
   "cell_type": "markdown",
   "id": "67991cfe",
   "metadata": {
    "papermill": {
     "duration": 0.01045,
     "end_time": "2023-07-19T09:46:25.020373",
     "exception": false,
     "start_time": "2023-07-19T09:46:25.009923",
     "status": "completed"
    },
    "tags": []
   },
   "source": [
    "# What to submit ?"
   ]
  },
  {
   "cell_type": "markdown",
   "id": "ac2c5e60",
   "metadata": {
    "papermill": {
     "duration": 0.009958,
     "end_time": "2023-07-19T09:46:25.040412",
     "exception": false,
     "start_time": "2023-07-19T09:46:25.030454",
     "status": "completed"
    },
    "tags": []
   },
   "source": [
    "This competition evaluates participants' predictions of Gene Ontology (GO) terms for protein sequences. The evaluation is performed on a test set of proteins that initially have no assigned functions but may accumulate experimental annotations after the submission deadline. The test set is divided into three subontologies: Molecular Function (MF), Biological Process (BP), and Cellular Component (CC). Participants are scored separately for each subontology. The final performance measure is the arithmetic mean of the maximum F-measures calculated on the three subontologies. Weighted precision and recall are used, taking into account the hierarchical structure of the GO. The evaluation code is publicly available. The leaderboard displays performance on a subset of proteins not included in the final test set, so generalization performance is crucial. Submission files should contain protein-target pairs with corresponding GO terms and estimated probabilities, within a specific score range. The predictions are propagated to parent terms if not explicitly listed. There is a limit on the number of terms associated with each protein. If a protein is not listed in the submission file, it is assumed that all predictions for that protein are zero."
   ]
  },
  {
   "cell_type": "code",
   "execution_count": 1,
   "id": "0d607b16",
   "metadata": {
    "execution": {
     "iopub.execute_input": "2023-07-19T09:46:25.062851Z",
     "iopub.status.busy": "2023-07-19T09:46:25.062389Z",
     "iopub.status.idle": "2023-07-19T09:46:25.309185Z",
     "shell.execute_reply": "2023-07-19T09:46:25.308223Z"
    },
    "papermill": {
     "duration": 0.260663,
     "end_time": "2023-07-19T09:46:25.311439",
     "exception": false,
     "start_time": "2023-07-19T09:46:25.050776",
     "status": "completed"
    },
    "tags": []
   },
   "outputs": [
    {
     "data": {
      "text/html": [
       "<div>\n",
       "<style scoped>\n",
       "    .dataframe tbody tr th:only-of-type {\n",
       "        vertical-align: middle;\n",
       "    }\n",
       "\n",
       "    .dataframe tbody tr th {\n",
       "        vertical-align: top;\n",
       "    }\n",
       "\n",
       "    .dataframe thead th {\n",
       "        text-align: right;\n",
       "    }\n",
       "</style>\n",
       "<table border=\"1\" class=\"dataframe\">\n",
       "  <thead>\n",
       "    <tr style=\"text-align: right;\">\n",
       "      <th></th>\n",
       "      <th>The Protein ID</th>\n",
       "      <th>The Gene Ontology term (GO) ID</th>\n",
       "      <th>Predicted link probability that GO appear in Protein</th>\n",
       "    </tr>\n",
       "  </thead>\n",
       "  <tbody>\n",
       "    <tr>\n",
       "      <th>0</th>\n",
       "      <td>A0A0A0MRZ7</td>\n",
       "      <td>GO:0000001</td>\n",
       "      <td>0.123</td>\n",
       "    </tr>\n",
       "    <tr>\n",
       "      <th>1</th>\n",
       "      <td>A0A0A0MRZ7</td>\n",
       "      <td>GO:0000002</td>\n",
       "      <td>0.123</td>\n",
       "    </tr>\n",
       "    <tr>\n",
       "      <th>2</th>\n",
       "      <td>A0A0A0MRZ8</td>\n",
       "      <td>GO:0000001</td>\n",
       "      <td>0.123</td>\n",
       "    </tr>\n",
       "    <tr>\n",
       "      <th>3</th>\n",
       "      <td>A0A0A0MRZ8</td>\n",
       "      <td>GO:0000002</td>\n",
       "      <td>0.123</td>\n",
       "    </tr>\n",
       "    <tr>\n",
       "      <th>4</th>\n",
       "      <td>A0A0A0MRZ9</td>\n",
       "      <td>GO:0000001</td>\n",
       "      <td>0.123</td>\n",
       "    </tr>\n",
       "  </tbody>\n",
       "</table>\n",
       "</div>"
      ],
      "text/plain": [
       "  The Protein ID The Gene Ontology term (GO) ID  \\\n",
       "0     A0A0A0MRZ7                     GO:0000001   \n",
       "1     A0A0A0MRZ7                     GO:0000002   \n",
       "2     A0A0A0MRZ8                     GO:0000001   \n",
       "3     A0A0A0MRZ8                     GO:0000002   \n",
       "4     A0A0A0MRZ9                     GO:0000001   \n",
       "\n",
       "   Predicted link probability that GO appear in Protein  \n",
       "0                                              0.123     \n",
       "1                                              0.123     \n",
       "2                                              0.123     \n",
       "3                                              0.123     \n",
       "4                                              0.123     "
      ]
     },
     "execution_count": 1,
     "metadata": {},
     "output_type": "execute_result"
    }
   ],
   "source": [
    "import pandas as pd\n",
    "sub = pd.read_csv(\"/kaggle/input/cafa-5-protein-function-prediction/sample_submission.tsv\", sep= \"\\t\", header = None)\n",
    "sub.columns = [\"The Protein ID\", \"The Gene Ontology term (GO) ID\", \"Predicted link probability that GO appear in Protein\"]\n",
    "sub.head(5)"
   ]
  },
  {
   "cell_type": "markdown",
   "id": "cf6379e5",
   "metadata": {
    "papermill": {
     "duration": 0.012647,
     "end_time": "2023-07-19T09:46:25.336308",
     "exception": false,
     "start_time": "2023-07-19T09:46:25.323661",
     "status": "completed"
    },
    "tags": []
   },
   "source": [
    "The evaluation metric used in this competition is the weighted F-measure, which combines precision and recall, taking into account the hierarchical structure of the Gene Ontology (GO). The formula for calculating the weighted F-measure is as follows:\n",
    "\n",
    "$Weighted \\ F-measure = \\frac{(1 + β^2) * (weighted \\ precision * weighted recall)}{((β^2 * weighted \\ precision) + weighted \\ recall)}$\n",
    "\n",
    "where:\n",
    "- β is a parameter that controls the trade-off between precision and recall. In this competition, β is set to 1, resulting in an equal weighting of precision and recall.\n",
    "- Weighted precision is the precision score, considering the weights of the predicted terms. It is calculated as the sum of the products of the predicted term's weight and its true positive count, divided by the sum of the weights of all predicted terms.\n",
    "- Weighted recall is the recall score, considering the weights of the true positive terms. It is calculated as the sum of the products of the true positive term's weight and its count, divided by the sum of the weights of all true positive terms.\n",
    "\n",
    "Note: The specific formulas for weighted precision and weighted recall are provided in the competition materials and utilize additional information such as term weights and true positive counts."
   ]
  },
  {
   "cell_type": "markdown",
   "id": "211a5187",
   "metadata": {
    "papermill": {
     "duration": 0.010035,
     "end_time": "2023-07-19T09:46:25.356693",
     "exception": false,
     "start_time": "2023-07-19T09:46:25.346658",
     "status": "completed"
    },
    "tags": []
   },
   "source": [
    "# General Baseline in this Notebook"
   ]
  },
  {
   "cell_type": "markdown",
   "id": "cbfd4058",
   "metadata": {
    "papermill": {
     "duration": 0.010255,
     "end_time": "2023-07-19T09:46:25.377613",
     "exception": false,
     "start_time": "2023-07-19T09:46:25.367358",
     "status": "completed"
    },
    "tags": []
   },
   "source": [
    "- **1 - Collect Embedding vectors from pre-trained protein function prediction models (T5, ProtBERT or EMS2) :**\n",
    "\n",
    "Sources for embeddings vectors : \n",
    "- *T5* : https://www.kaggle.com/datasets/sergeifironov/t5embeds\n",
    "\n",
    "- *ProtBERT* : https://www.kaggle.com/datasets/henriupton/protbert-embeddings-for-cafa5\n",
    "\n",
    "- *EMS2* : https://www.kaggle.com/datasets/viktorfairuschin/cafa-5-ems-2-embeddings-numpy\n",
    "\n",
    "- **2 - Generate labels from train_terms file** : by considering the top K most common GO terms in all Proteins set, generate for each protein a sparse vector of length K to indicate the true probabilities that each of the K GO terms are in the Protein (0 or 1). Here we retain K = 600\n",
    "\n",
    "- **3 - Create Pytorch Dataset class that can handle Protein ID and embeddings**.\n",
    "\n",
    "- **4 - Create Pytorch Model class for prediction** : can be any architecture of Multilabel classification model that can turn embeddings of shape (E,) to probabilities of shape (K,). Here we explore **MultiLayerPerceptron** and **ConvNN1d** Networks.\n",
    "\n",
    "- **5 - Make Cross Validation w.r.t the F-1 measure and do Hyperparameter tuning thanks to Weights and Biases package (Wandb)**"
   ]
  },
  {
   "cell_type": "markdown",
   "id": "e979c514",
   "metadata": {
    "papermill": {
     "duration": 0.010165,
     "end_time": "2023-07-19T09:46:25.398786",
     "exception": false,
     "start_time": "2023-07-19T09:46:25.388621",
     "status": "completed"
    },
    "tags": []
   },
   "source": [
    "![baseline-image](https://www.researchgate.net/publication/334642149/figure/fig1/AS:783995214249986@1563930433525/Flow-chart-of-STRING2GO-based-protein-function-prediction-method.png)\n",
    "\n",
    "## **Flow-chart of STRING2GO-based protein function prediction method**"
   ]
  },
  {
   "cell_type": "markdown",
   "id": "374b438b",
   "metadata": {
    "papermill": {
     "duration": 0.01017,
     "end_time": "2023-07-19T09:46:25.419239",
     "exception": false,
     "start_time": "2023-07-19T09:46:25.409069",
     "status": "completed"
    },
    "tags": []
   },
   "source": [
    "# So now lets get started !"
   ]
  },
  {
   "cell_type": "markdown",
   "id": "deffa49a",
   "metadata": {
    "papermill": {
     "duration": 0.010685,
     "end_time": "2023-07-19T09:46:25.440253",
     "exception": false,
     "start_time": "2023-07-19T09:46:25.429568",
     "status": "completed"
    },
    "tags": []
   },
   "source": [
    "# 1. Imports / Config"
   ]
  },
  {
   "cell_type": "code",
   "execution_count": 2,
   "id": "4fadf311",
   "metadata": {
    "_cell_guid": "b1076dfc-b9ad-4769-8c92-a6c4dae69d19",
    "_uuid": "8f2839f25d086af736a60e9eeb907d3b93b6e0e5",
    "execution": {
     "iopub.execute_input": "2023-07-19T09:46:25.464265Z",
     "iopub.status.busy": "2023-07-19T09:46:25.462427Z",
     "iopub.status.idle": "2023-07-19T09:46:36.571237Z",
     "shell.execute_reply": "2023-07-19T09:46:36.570273Z"
    },
    "papermill": {
     "duration": 11.12298,
     "end_time": "2023-07-19T09:46:36.573578",
     "exception": false,
     "start_time": "2023-07-19T09:46:25.450598",
     "status": "completed"
    },
    "tags": []
   },
   "outputs": [
    {
     "name": "stderr",
     "output_type": "stream",
     "text": [
      "/opt/conda/lib/python3.10/site-packages/scipy/__init__.py:146: UserWarning: A NumPy version >=1.16.5 and <1.23.0 is required for this version of SciPy (detected version 1.23.5\n",
      "  warnings.warn(f\"A NumPy version >={np_minversion} and <{np_maxversion}\"\n"
     ]
    },
    {
     "name": "stdout",
     "output_type": "stream",
     "text": [
      "/kaggle/input/cafa-5-ems-2-embeddings-numpy/train_ids.npy\n",
      "/kaggle/input/cafa-5-ems-2-embeddings-numpy/train_embeddings.npy\n",
      "/kaggle/input/cafa-5-ems-2-embeddings-numpy/test_ids.npy\n",
      "/kaggle/input/cafa-5-ems-2-embeddings-numpy/test_embeddings.npy\n",
      "/kaggle/input/protbert-embeddings-for-cafa5/train_ids.npy\n",
      "/kaggle/input/protbert-embeddings-for-cafa5/train_embeddings.npy\n",
      "/kaggle/input/protbert-embeddings-for-cafa5/test_ids.npy\n",
      "/kaggle/input/protbert-embeddings-for-cafa5/test_embeddings.npy\n",
      "/kaggle/input/t5embeds/train_ids.npy\n",
      "/kaggle/input/t5embeds/test_embeds.npy\n",
      "/kaggle/input/t5embeds/train_embeds.npy\n",
      "/kaggle/input/t5embeds/test_ids.npy\n",
      "/kaggle/input/cafa-5-protein-function-prediction/sample_submission.tsv\n",
      "/kaggle/input/cafa-5-protein-function-prediction/IA.txt\n",
      "/kaggle/input/cafa-5-protein-function-prediction/Test (Targets)/testsuperset.fasta\n",
      "/kaggle/input/cafa-5-protein-function-prediction/Test (Targets)/testsuperset-taxon-list.tsv\n",
      "/kaggle/input/cafa-5-protein-function-prediction/Train/train_terms.tsv\n",
      "/kaggle/input/cafa-5-protein-function-prediction/Train/train_sequences.fasta\n",
      "/kaggle/input/cafa-5-protein-function-prediction/Train/train_taxonomy.tsv\n",
      "/kaggle/input/cafa-5-protein-function-prediction/Train/go-basic.obo\n"
     ]
    }
   ],
   "source": [
    "MAIN_DIR = \"/kaggle/input/cafa-5-protein-function-prediction\"\n",
    "\n",
    "# UTILITARIES\n",
    "import numpy as np\n",
    "from tqdm import tqdm\n",
    "import time\n",
    "import matplotlib.pyplot as plt\n",
    "plt.style.use('ggplot')\n",
    "\n",
    "# TORCH MODULES FOR METRICS COMPUTATION :\n",
    "import torch\n",
    "from torch.utils.data import Dataset\n",
    "from torch import nn\n",
    "from torch.utils.data import random_split\n",
    "from torch.optim.lr_scheduler import ReduceLROnPlateau\n",
    "from torchmetrics.classification import MultilabelF1Score\n",
    "from torchmetrics.classification import MultilabelAccuracy\n",
    "\n",
    "# FILES VISUALIZATION\n",
    "import os\n",
    "for dirname, _, filenames in os.walk('/kaggle/input'):\n",
    "    for filename in filenames:\n",
    "        print(os.path.join(dirname, filename))"
   ]
  },
  {
   "cell_type": "code",
   "execution_count": 3,
   "id": "6c3209ce",
   "metadata": {
    "execution": {
     "iopub.execute_input": "2023-07-19T09:46:36.596913Z",
     "iopub.status.busy": "2023-07-19T09:46:36.596593Z",
     "iopub.status.idle": "2023-07-19T09:46:36.655335Z",
     "shell.execute_reply": "2023-07-19T09:46:36.654322Z"
    },
    "papermill": {
     "duration": 0.072638,
     "end_time": "2023-07-19T09:46:36.657589",
     "exception": false,
     "start_time": "2023-07-19T09:46:36.584951",
     "status": "completed"
    },
    "tags": []
   },
   "outputs": [],
   "source": [
    "class config:\n",
    "    train_sequences_path = MAIN_DIR  + \"/Train/train_sequences.fasta\"\n",
    "    train_labels_path = MAIN_DIR + \"/Train/train_terms.tsv\"\n",
    "    test_sequences_path = MAIN_DIR + \"/Test (Targets)/testsuperset.fasta\"\n",
    "    \n",
    "    num_labels = 500\n",
    "    n_epochs = 5\n",
    "    batch_size = 128\n",
    "    lr = 0.001\n",
    "    \n",
    "    device = torch.device('cuda' if torch.cuda.is_available() else 'cpu')"
   ]
  },
  {
   "cell_type": "code",
   "execution_count": 4,
   "id": "bd61782b",
   "metadata": {
    "execution": {
     "iopub.execute_input": "2023-07-19T09:46:36.681445Z",
     "iopub.status.busy": "2023-07-19T09:46:36.679958Z",
     "iopub.status.idle": "2023-07-19T09:46:36.685793Z",
     "shell.execute_reply": "2023-07-19T09:46:36.684555Z"
    },
    "papermill": {
     "duration": 0.019533,
     "end_time": "2023-07-19T09:46:36.687818",
     "exception": false,
     "start_time": "2023-07-19T09:46:36.668285",
     "status": "completed"
    },
    "tags": []
   },
   "outputs": [
    {
     "name": "stdout",
     "output_type": "stream",
     "text": [
      "cuda\n"
     ]
    }
   ],
   "source": [
    "print(config.device)"
   ]
  },
  {
   "cell_type": "markdown",
   "id": "59126ebe",
   "metadata": {
    "papermill": {
     "duration": 0.010637,
     "end_time": "2023-07-19T09:46:36.709178",
     "exception": false,
     "start_time": "2023-07-19T09:46:36.698541",
     "status": "completed"
    },
    "tags": []
   },
   "source": [
    "# 2. Baseline"
   ]
  },
  {
   "cell_type": "markdown",
   "id": "d0901fa1",
   "metadata": {
    "papermill": {
     "duration": 0.010622,
     "end_time": "2023-07-19T09:46:36.730733",
     "exception": false,
     "start_time": "2023-07-19T09:46:36.720111",
     "status": "completed"
    },
    "tags": []
   },
   "source": [
    "- Use ProtBERT/T5 embedding vectors for each Sequence ID and its associated Protein Sequence. \n",
    "\n",
    "- Define a Pytorch Dataset to load all ids/sequences of the train+test sets and their respective ProtBert embeddings\n",
    "\n",
    "- Define Pytorch Model architecture in order to use these embeddings to proceed classification task : to each ID we associate a probability to be associated to each GO term **For this part, just consider the top_n most common GO terms as labels**\n",
    "\n",
    "- Return desired probabilities for test set"
   ]
  },
  {
   "cell_type": "markdown",
   "id": "06fb638a",
   "metadata": {
    "papermill": {
     "duration": 0.01031,
     "end_time": "2023-07-19T09:46:36.752123",
     "exception": false,
     "start_time": "2023-07-19T09:46:36.741813",
     "status": "completed"
    },
    "tags": []
   },
   "source": [
    "# 3. Collect ProtBERT Embedding Vectors"
   ]
  },
  {
   "cell_type": "markdown",
   "id": "ddc436b9",
   "metadata": {
    "papermill": {
     "duration": 0.010502,
     "end_time": "2023-07-19T09:46:36.773346",
     "exception": false,
     "start_time": "2023-07-19T09:46:36.762844",
     "status": "completed"
    },
    "tags": []
   },
   "source": [
    "### Here is a Dataset Card I have created if you want to understand better what are pre-trained model embedding vectors, and if you want to download it directly from it : https://www.kaggle.com/datasets/henriupton/protbert-embeddings-for-cafa5"
   ]
  },
  {
   "cell_type": "markdown",
   "id": "e5caf5f0",
   "metadata": {
    "execution": {
     "iopub.execute_input": "2023-05-05T08:54:24.396067Z",
     "iopub.status.busy": "2023-05-05T08:54:24.395576Z",
     "iopub.status.idle": "2023-05-05T08:54:35.014197Z",
     "shell.execute_reply": "2023-05-05T08:54:35.012847Z",
     "shell.execute_reply.started": "2023-05-05T08:54:24.396028Z"
    },
    "papermill": {
     "duration": 0.010521,
     "end_time": "2023-07-19T09:46:36.794412",
     "exception": false,
     "start_time": "2023-07-19T09:46:36.783891",
     "status": "completed"
    },
    "tags": []
   },
   "source": [
    "##### SCRIPT FOR VECTOR EMBEDDINGS COLLECTING #####\n",
    "#### RUN THIS ONLY ONE TIME AND SAVE IT IN LOCAL ####\n",
    "\n",
    "```python\n",
    "\n",
    "print(\"Load ProtBERT Model...\")\n",
    "# PROT BERT LOADING :\n",
    "from transformers import BertModel, BertTokenizer\n",
    "tokenizer = BertTokenizer.from_pretrained(\"Rostlab/prot_bert\", do_lower_case=False )\n",
    "model = BertModel.from_pretrained(\"Rostlab/prot_bert\").to(config.device)\n",
    "\n",
    "def get_bert_embedding(\n",
    "    sequence : str,\n",
    "    len_seq_limit : int\n",
    "):\n",
    "    '''\n",
    "    Function to collect last hidden state embedding vector from pre-trained ProtBERT Model\n",
    "    \n",
    "    INPUTS:\n",
    "    - sequence (str) : protein sequence (ex : AAABBB) from fasta file\n",
    "    - len_seq_limit (int) : maximum sequence lenght (i.e nb of letters) for truncation\n",
    "    \n",
    "    OUTPUTS:\n",
    "    - output_hidden : last hidden state embedding vector for input sequence of length 1024\n",
    "    '''\n",
    "    sequence_w_spaces = ' '.join(list(sequence))\n",
    "    encoded_input = tokenizer(\n",
    "        sequence_w_spaces,\n",
    "        truncation=True,\n",
    "        max_length=len_seq_limit,\n",
    "        padding='max_length',\n",
    "        return_tensors='pt').to(config.device)\n",
    "    output = model(**encoded_input)\n",
    "    output_hidden = output['last_hidden_state'][:,0][0].detach().cpu().numpy()\n",
    "    assert len(output_hidden)==1024\n",
    "    return output_hidden\n",
    "\n",
    "### COLLECTING FOR TRAIN SAMPLES :\n",
    "print(\"Loading train set ProtBERT Embeddings...\")\n",
    "fasta_train = SeqIO.parse(config.train_sequences_path, \"fasta\")\n",
    "print(\"Total Nb of Elements : \", len(list(fasta_train)))\n",
    "fasta_train = SeqIO.parse(config.train_sequences_path, \"fasta\")\n",
    "ids_list = []\n",
    "embed_vects_list = []\n",
    "t0 = time.time()\n",
    "checkpoint = 0\n",
    "for item in tqdm(fasta_train):\n",
    "    ids_list.append(item.id)\n",
    "    embed_vects_list.append(\n",
    "        get_bert_embedding(sequence = item.seq, len_seq_limit = 1200))\n",
    "    checkpoint+=1\n",
    "    if checkpoint>=100:\n",
    "        df_res = pd.DataFrame(data={\"id\" : ids_list, \"embed_vect\" : embed_vects_list})\n",
    "        np.save('/kaggle/working/train_ids.npy',np.array(ids_list))\n",
    "        np.save('/kaggle/working/train_embeddings.npy',np.array(embed_vects_list))\n",
    "        checkpoint=0\n",
    "        \n",
    "np.save('/kaggle/working/train_ids.npy',np.array(ids_list))\n",
    "np.save('/kaggle/working/train_embeddings.npy',np.array(embed_vects_list))\n",
    "print('Total Elapsed Time:',time.time()-t0)\n",
    "\n",
    "### COLLECTING FOR TEST SAMPLES :\n",
    "print(\"Loading test set ProtBERT Embeddings...\")\n",
    "fasta_test = SeqIO.parse(config.test_sequences_path, \"fasta\")\n",
    "print(\"Total Nb of Elements : \", len(list(fasta_test)))\n",
    "fasta_test = SeqIO.parse(config.test_sequences_path, \"fasta\")\n",
    "ids_list = []\n",
    "embed_vects_list = []\n",
    "t0 = time.time()\n",
    "checkpoint=0\n",
    "for item in tqdm(fasta_test):\n",
    "    ids_list.append(item.id)\n",
    "    embed_vects_list.append(\n",
    "        get_bert_embedding(sequence = item.seq, len_seq_limit = 1200))\n",
    "    checkpoint+=1\n",
    "    if checkpoint>=100:\n",
    "        np.save('/kaggle/working/test_ids.npy',np.array(ids_list))\n",
    "        np.save('/kaggle/working/test_embeddings.npy',np.array(embed_vects_list))\n",
    "        checkpoint=0\n",
    "        \n",
    "np.save('/kaggle/working/test_ids.npy',np.array(ids_list))\n",
    "np.save('/kaggle/working/test_embeddings.npy',np.array(embed_vects_list))\n",
    "print('Total Elasped Time:',time.time()-t0)\n",
    "```"
   ]
  },
  {
   "cell_type": "markdown",
   "id": "dfef5378",
   "metadata": {
    "papermill": {
     "duration": 0.010245,
     "end_time": "2023-07-19T09:46:36.815135",
     "exception": false,
     "start_time": "2023-07-19T09:46:36.804890",
     "status": "completed"
    },
    "tags": []
   },
   "source": [
    "# 4. Collect labels vectors for train/test"
   ]
  },
  {
   "cell_type": "code",
   "execution_count": 5,
   "id": "96c81cfd",
   "metadata": {
    "execution": {
     "iopub.execute_input": "2023-07-19T09:46:36.839313Z",
     "iopub.status.busy": "2023-07-19T09:46:36.837609Z",
     "iopub.status.idle": "2023-07-19T09:47:51.528486Z",
     "shell.execute_reply": "2023-07-19T09:47:51.526223Z"
    },
    "papermill": {
     "duration": 74.704983,
     "end_time": "2023-07-19T09:47:51.530611",
     "exception": false,
     "start_time": "2023-07-19T09:46:36.825628",
     "status": "completed"
    },
    "tags": []
   },
   "outputs": [
    {
     "name": "stdout",
     "output_type": "stream",
     "text": [
      "GENERATE TARGETS FOR ENTRY IDS (500 MOST COMMON GO TERMS)\n"
     ]
    },
    {
     "name": "stderr",
     "output_type": "stream",
     "text": [
      "142246it [01:01, 2327.38it/s]\n"
     ]
    },
    {
     "name": "stdout",
     "output_type": "stream",
     "text": [
      "GENERATION FINISHED!\n"
     ]
    }
   ],
   "source": [
    "##### SCRIPT FOR LABELS (TARGETS) VECTORS COLLECTING #####\n",
    "\n",
    "#```python\n",
    "print(\"GENERATE TARGETS FOR ENTRY IDS (\"+str(config.num_labels)+\" MOST COMMON GO TERMS)\")\n",
    "ids = np.load(\"/kaggle/input/protbert-embeddings-for-cafa5/train_ids.npy\")\n",
    "labels = pd.read_csv(config.train_labels_path, sep = \"\\t\")\n",
    "\n",
    "top_terms = labels.groupby(\"term\")[\"EntryID\"].count().sort_values(ascending=False)\n",
    "labels_names = top_terms[:config.num_labels].index.values\n",
    "train_labels_sub = labels[(labels.term.isin(labels_names)) & (labels.EntryID.isin(ids))]\n",
    "id_labels = train_labels_sub.groupby('EntryID')['term'].apply(list).to_dict()\n",
    "\n",
    "go_terms_map = {label: i for i, label in enumerate(labels_names)}\n",
    "labels_matrix = np.empty((len(ids), len(labels_names)))\n",
    "\n",
    "for index, id in tqdm(enumerate(ids)):\n",
    "    id_gos_list = id_labels[id]\n",
    "    temp = [go_terms_map[go] for go in labels_names if go in id_gos_list]\n",
    "    labels_matrix[index, temp] = 1\n",
    "\n",
    "labels_list = []\n",
    "for l in range(labels_matrix.shape[0]):\n",
    "    labels_list.append(labels_matrix[l, :])\n",
    "\n",
    "labels_df = pd.DataFrame(data={\"EntryID\":ids, \"labels_vect\":labels_list})\n",
    "labels_df.to_pickle(\"/kaggle/working/train_targets_top\"+str(config.num_labels)+\".pkl\")\n",
    "print(\"GENERATION FINISHED!\")\n",
    "#```"
   ]
  },
  {
   "cell_type": "markdown",
   "id": "79ca76a2",
   "metadata": {
    "papermill": {
     "duration": 0.053367,
     "end_time": "2023-07-19T09:47:51.637794",
     "exception": false,
     "start_time": "2023-07-19T09:47:51.584427",
     "status": "completed"
    },
    "tags": []
   },
   "source": [
    "# 5. Pytorch Dataset Architecture"
   ]
  },
  {
   "cell_type": "code",
   "execution_count": 6,
   "id": "b827e28c",
   "metadata": {
    "execution": {
     "iopub.execute_input": "2023-07-19T09:47:51.749394Z",
     "iopub.status.busy": "2023-07-19T09:47:51.749040Z",
     "iopub.status.idle": "2023-07-19T09:47:51.754067Z",
     "shell.execute_reply": "2023-07-19T09:47:51.753050Z"
    },
    "papermill": {
     "duration": 0.065316,
     "end_time": "2023-07-19T09:47:51.756211",
     "exception": false,
     "start_time": "2023-07-19T09:47:51.690895",
     "status": "completed"
    },
    "tags": []
   },
   "outputs": [],
   "source": [
    "# Directories for the different embedding vectors : \n",
    "embeds_map = {\n",
    "    \"T5\" : \"t5embeds\",\n",
    "    \"ProtBERT\" : \"protbert-embeddings-for-cafa5\",\n",
    "    \"EMS2\" : \"cafa-5-ems-2-embeddings-numpy\"\n",
    "}\n",
    "\n",
    "# Length of the different embedding vectors :\n",
    "embeds_dim = {\n",
    "    \"T5\" : 1024,\n",
    "    \"ProtBERT\" : 1024,\n",
    "    \"EMS2\" : 1280\n",
    "}"
   ]
  },
  {
   "cell_type": "code",
   "execution_count": 7,
   "id": "39329d43",
   "metadata": {
    "execution": {
     "iopub.execute_input": "2023-07-19T09:47:51.865066Z",
     "iopub.status.busy": "2023-07-19T09:47:51.864677Z",
     "iopub.status.idle": "2023-07-19T09:47:51.876509Z",
     "shell.execute_reply": "2023-07-19T09:47:51.875485Z"
    },
    "papermill": {
     "duration": 0.068879,
     "end_time": "2023-07-19T09:47:51.878583",
     "exception": false,
     "start_time": "2023-07-19T09:47:51.809704",
     "status": "completed"
    },
    "tags": []
   },
   "outputs": [],
   "source": [
    "class ProteinSequenceDataset(Dataset):\n",
    "    \n",
    "    def __init__(self, datatype, embeddings_source):\n",
    "        super(ProteinSequenceDataset).__init__()\n",
    "        self.datatype = datatype\n",
    "        \n",
    "        if embeddings_source in [\"ProtBERT\", \"EMS2\"]:\n",
    "            embeds = np.load(\"/kaggle/input/\"+embeds_map[embeddings_source]+\"/\"+datatype+\"_embeddings.npy\")\n",
    "            ids = np.load(\"/kaggle/input/\"+embeds_map[embeddings_source]+\"/\"+datatype+\"_ids.npy\")\n",
    "        \n",
    "        if embeddings_source == \"T5\":\n",
    "            embeds = np.load(\"/kaggle/input/\"+embeds_map[embeddings_source]+\"/\"+datatype+\"_embeds.npy\")\n",
    "            ids = np.load(\"/kaggle/input/\"+embeds_map[embeddings_source]+\"/\"+datatype+\"_ids.npy\")\n",
    "            \n",
    "        embeds_list = []\n",
    "        for l in range(embeds.shape[0]):\n",
    "            embeds_list.append(embeds[l,:])\n",
    "        self.df = pd.DataFrame(data={\"EntryID\": ids, \"embed\" : embeds_list})\n",
    "        \n",
    "        if datatype==\"train\":\n",
    "            df_labels = pd.read_pickle(\n",
    "                \"/kaggle/working/train_targets_top\"+str(config.num_labels)+\".pkl\")\n",
    "            self.df = self.df.merge(df_labels, on=\"EntryID\")\n",
    "        \n",
    "    def __len__(self):\n",
    "        return len(self.df)\n",
    "    \n",
    "    def __getitem__(self, index):\n",
    "        embed = torch.tensor(self.df.iloc[index][\"embed\"] , dtype = torch.float32)\n",
    "        if self.datatype==\"train\":\n",
    "            targets = torch.tensor(self.df.iloc[index][\"labels_vect\"], dtype = torch.float32)\n",
    "            return embed, targets\n",
    "        if self.datatype==\"test\":\n",
    "            id = self.df.iloc[index][\"EntryID\"]\n",
    "            return embed, id\n",
    "        "
   ]
  },
  {
   "cell_type": "code",
   "execution_count": 8,
   "id": "ff99db59",
   "metadata": {
    "execution": {
     "iopub.execute_input": "2023-07-19T09:47:51.988115Z",
     "iopub.status.busy": "2023-07-19T09:47:51.987746Z",
     "iopub.status.idle": "2023-07-19T09:48:03.333045Z",
     "shell.execute_reply": "2023-07-19T09:48:03.332005Z"
    },
    "papermill": {
     "duration": 11.403063,
     "end_time": "2023-07-19T09:48:03.335379",
     "exception": false,
     "start_time": "2023-07-19T09:47:51.932316",
     "status": "completed"
    },
    "tags": []
   },
   "outputs": [],
   "source": [
    "dataset = ProteinSequenceDataset(datatype=\"train\",embeddings_source=\"T5\")"
   ]
  },
  {
   "cell_type": "code",
   "execution_count": 9,
   "id": "37644a70",
   "metadata": {
    "execution": {
     "iopub.execute_input": "2023-07-19T09:48:03.486423Z",
     "iopub.status.busy": "2023-07-19T09:48:03.485963Z",
     "iopub.status.idle": "2023-07-19T09:48:03.610651Z",
     "shell.execute_reply": "2023-07-19T09:48:03.609726Z"
    },
    "papermill": {
     "duration": 0.223531,
     "end_time": "2023-07-19T09:48:03.613957",
     "exception": false,
     "start_time": "2023-07-19T09:48:03.390426",
     "status": "completed"
    },
    "tags": []
   },
   "outputs": [
    {
     "name": "stdout",
     "output_type": "stream",
     "text": [
      "COMPONENTS FOR FIRST PROTEIN : \n",
      "EMBEDDINGS VECTOR : \n",
      "  tensor([ 0.0495, -0.0329,  0.0325,  ..., -0.0435,  0.0965,  0.0731]) \n",
      "\n",
      "TARGETS LABELS VECTOR : \n",
      "  tensor([0., 1., 0., 1., 0., 1., 0., 0., 1., 0., 0., 0., 1., 0., 0., 0., 0., 1.,\n",
      "        0., 0., 0., 1., 0., 0., 0., 1., 1., 0., 1., 0., 0., 0., 0., 0., 0., 1.,\n",
      "        0., 0., 0., 0., 0., 0., 0., 0., 0., 0., 0., 0., 0., 0., 0., 0., 0., 0.,\n",
      "        0., 0., 0., 0., 0., 0., 0., 0., 0., 0., 0., 1., 0., 1., 0., 0., 0., 1.,\n",
      "        0., 1., 0., 1., 0., 0., 1., 0., 0., 0., 0., 0., 1., 0., 0., 0., 0., 0.,\n",
      "        0., 1., 0., 0., 0., 0., 0., 0., 0., 0., 0., 0., 0., 0., 1., 0., 0., 0.,\n",
      "        0., 0., 0., 0., 0., 0., 0., 0., 1., 0., 0., 0., 0., 0., 0., 0., 0., 0.,\n",
      "        0., 0., 0., 0., 0., 0., 0., 0., 0., 0., 0., 0., 0., 0., 0., 0., 0., 0.,\n",
      "        0., 0., 0., 0., 0., 0., 0., 0., 0., 0., 0., 0., 0., 0., 0., 0., 0., 0.,\n",
      "        0., 0., 0., 0., 0., 0., 0., 1., 0., 0., 0., 0., 0., 0., 0., 0., 0., 0.,\n",
      "        0., 0., 0., 0., 0., 0., 0., 0., 1., 0., 0., 0., 1., 0., 0., 0., 0., 0.,\n",
      "        0., 0., 0., 0., 0., 0., 0., 0., 0., 0., 0., 0., 0., 0., 0., 0., 0., 0.,\n",
      "        0., 0., 0., 0., 0., 0., 0., 0., 0., 0., 0., 0., 0., 0., 0., 0., 0., 0.,\n",
      "        0., 0., 0., 0., 0., 1., 0., 0., 1., 0., 0., 0., 0., 0., 0., 0., 0., 0.,\n",
      "        0., 0., 0., 0., 0., 0., 0., 0., 0., 0., 0., 0., 0., 0., 0., 0., 0., 0.,\n",
      "        0., 0., 0., 0., 0., 0., 0., 0., 0., 0., 0., 0., 0., 0., 0., 0., 0., 0.,\n",
      "        0., 0., 0., 0., 0., 0., 0., 0., 0., 0., 0., 0., 0., 0., 0., 0., 0., 0.,\n",
      "        0., 0., 1., 0., 0., 0., 0., 0., 0., 0., 0., 0., 0., 0., 0., 0., 0., 0.,\n",
      "        0., 0., 0., 0., 0., 0., 0., 0., 0., 0., 0., 0., 0., 0., 0., 0., 0., 0.,\n",
      "        0., 0., 0., 0., 0., 0., 0., 0., 0., 0., 0., 0., 0., 0., 0., 0., 1., 0.,\n",
      "        0., 0., 0., 0., 0., 0., 0., 0., 0., 0., 0., 0., 0., 0., 0., 0., 0., 0.,\n",
      "        0., 0., 0., 0., 0., 0., 0., 0., 0., 0., 0., 0., 0., 0., 0., 0., 0., 0.,\n",
      "        0., 0., 0., 0., 0., 0., 0., 0., 0., 0., 0., 0., 0., 0., 0., 0., 0., 0.,\n",
      "        0., 0., 0., 0., 0., 0., 0., 0., 0., 0., 0., 0., 0., 0., 0., 0., 0., 0.,\n",
      "        0., 0., 0., 0., 0., 0., 0., 0., 0., 0., 0., 0., 0., 0., 0., 0., 0., 0.,\n",
      "        0., 0., 0., 0., 0., 0., 0., 0., 0., 0., 0., 0., 0., 0., 0., 0., 0., 0.,\n",
      "        0., 0., 0., 0., 0., 0., 0., 0., 0., 0., 0., 0., 0., 0., 0., 0., 0., 0.,\n",
      "        0., 0., 0., 0., 0., 0., 0., 0., 0., 0., 0., 0., 0., 0.]) \n",
      "\n"
     ]
    }
   ],
   "source": [
    "embeddings, labels = dataset.__getitem__(0)\n",
    "print(\"COMPONENTS FOR FIRST PROTEIN : \")\n",
    "print(\"EMBEDDINGS VECTOR : \\n \", embeddings, \"\\n\")\n",
    "print(\"TARGETS LABELS VECTOR : \\n \", labels, \"\\n\")"
   ]
  },
  {
   "cell_type": "markdown",
   "id": "7efc1007",
   "metadata": {
    "papermill": {
     "duration": 0.054377,
     "end_time": "2023-07-19T09:48:03.722559",
     "exception": false,
     "start_time": "2023-07-19T09:48:03.668182",
     "status": "completed"
    },
    "tags": []
   },
   "source": [
    "# 6. Pytorch Models Architectures"
   ]
  },
  {
   "cell_type": "code",
   "execution_count": 10,
   "id": "c335df73",
   "metadata": {
    "execution": {
     "iopub.execute_input": "2023-07-19T09:48:03.833081Z",
     "iopub.status.busy": "2023-07-19T09:48:03.832699Z",
     "iopub.status.idle": "2023-07-19T09:48:03.841485Z",
     "shell.execute_reply": "2023-07-19T09:48:03.840655Z"
    },
    "papermill": {
     "duration": 0.067482,
     "end_time": "2023-07-19T09:48:03.843544",
     "exception": false,
     "start_time": "2023-07-19T09:48:03.776062",
     "status": "completed"
    },
    "tags": []
   },
   "outputs": [],
   "source": [
    "class MultiLayerPerceptron(torch.nn.Module):\n",
    "\n",
    "    def __init__(self, input_dim, num_classes):\n",
    "        super(MultiLayerPerceptron, self).__init__()\n",
    "\n",
    "        self.linear1 = torch.nn.Linear(input_dim, 1012)\n",
    "        self.activation1 = torch.nn.ReLU()\n",
    "        self.linear2 = torch.nn.Linear(1012, 712)\n",
    "        self.activation2 = torch.nn.ReLU()\n",
    "        self.linear3 = torch.nn.Linear(712, num_classes)\n",
    "\n",
    "    def forward(self, x):\n",
    "        x = self.linear1(x)\n",
    "        x = self.activation1(x)\n",
    "        x = self.linear2(x)\n",
    "        x = self.activation2(x)\n",
    "        x = self.linear3(x)\n",
    "        return x"
   ]
  },
  {
   "cell_type": "code",
   "execution_count": 11,
   "id": "2ffa4f41",
   "metadata": {
    "execution": {
     "iopub.execute_input": "2023-07-19T09:48:03.953701Z",
     "iopub.status.busy": "2023-07-19T09:48:03.952846Z",
     "iopub.status.idle": "2023-07-19T09:48:03.962695Z",
     "shell.execute_reply": "2023-07-19T09:48:03.961699Z"
    },
    "papermill": {
     "duration": 0.067928,
     "end_time": "2023-07-19T09:48:03.964770",
     "exception": false,
     "start_time": "2023-07-19T09:48:03.896842",
     "status": "completed"
    },
    "tags": []
   },
   "outputs": [],
   "source": [
    "class CNN1D(nn.Module):\n",
    "    def __init__(self, input_dim, num_classes):\n",
    "        super(CNN1D, self).__init__()\n",
    "        # (batch_size, channels, embed_size)\n",
    "        self.conv1 = nn.Conv1d(in_channels=1, out_channels=3, kernel_size=3, dilation=1, padding=1, stride=1)\n",
    "        # (batch_size, 3, embed_size)\n",
    "        self.pool1 = nn.MaxPool1d(kernel_size=2, stride=2)\n",
    "        # (batch_size, 3, embed_size/2 = 512)\n",
    "        self.conv2 = nn.Conv1d(in_channels=3, out_channels=8, kernel_size=3, dilation=1, padding=1, stride=1)\n",
    "        # (batch_size, 8, embed_size/2 = 512)\n",
    "        self.pool2 = nn.MaxPool1d(kernel_size=2, stride=2)\n",
    "        # (batch_size, 8, embed_size/4 = 256)\n",
    "        self.fc1 = nn.Linear(in_features=int(8 * input_dim/4), out_features=128)\n",
    "        self.fc2 = nn.Linear(in_features=128, out_features=num_classes)\n",
    "\n",
    "    def forward(self, x):\n",
    "        x = x.reshape(x.shape[0], 1, x.shape[1])\n",
    "        x = self.pool1(nn.functional.relu(self.conv1(x)))\n",
    "        x = self.pool2(nn.functional.relu(self.conv2(x)))\n",
    "        x = torch.flatten(x, 1)\n",
    "        x = nn.functional.relu(self.fc1(x))\n",
    "        x = self.fc2(x)\n",
    "        return x\n"
   ]
  },
  {
   "cell_type": "markdown",
   "id": "3d8f9d69",
   "metadata": {
    "papermill": {
     "duration": 0.053595,
     "end_time": "2023-07-19T09:48:04.072117",
     "exception": false,
     "start_time": "2023-07-19T09:48:04.018522",
     "status": "completed"
    },
    "tags": []
   },
   "source": [
    "# 7. Train the Model"
   ]
  },
  {
   "cell_type": "code",
   "execution_count": 12,
   "id": "032288db",
   "metadata": {
    "execution": {
     "iopub.execute_input": "2023-07-19T09:48:04.183273Z",
     "iopub.status.busy": "2023-07-19T09:48:04.182899Z",
     "iopub.status.idle": "2023-07-19T09:48:04.200877Z",
     "shell.execute_reply": "2023-07-19T09:48:04.199967Z"
    },
    "papermill": {
     "duration": 0.075481,
     "end_time": "2023-07-19T09:48:04.202913",
     "exception": false,
     "start_time": "2023-07-19T09:48:04.127432",
     "status": "completed"
    },
    "tags": []
   },
   "outputs": [],
   "source": [
    "def train_model(embeddings_source, model_type=\"linear\", train_size=0.9):\n",
    "    \n",
    "    train_dataset = ProteinSequenceDataset(datatype=\"train\", embeddings_source = embeddings_source)\n",
    "    \n",
    "    train_set, val_set = random_split(train_dataset, lengths = [int(len(train_dataset)*train_size), len(train_dataset)-int(len(train_dataset)*train_size)])\n",
    "    train_dataloader = torch.utils.data.DataLoader(train_set, batch_size=config.batch_size, shuffle=True)\n",
    "    val_dataloader = torch.utils.data.DataLoader(val_set, batch_size=config.batch_size, shuffle=True)\n",
    "\n",
    "    if model_type == \"linear\":\n",
    "        model = MultiLayerPerceptron(input_dim=embeds_dim[embeddings_source], num_classes=config.num_labels).to(config.device)\n",
    "    if model_type == \"convolutional\":\n",
    "        model = CNN1D(input_dim=embeds_dim[embeddings_source], num_classes=config.num_labels).to(config.device)\n",
    "\n",
    "    optimizer = torch.optim.Adam(model.parameters(), lr = config.lr)\n",
    "    scheduler = ReduceLROnPlateau(optimizer, factor=0.1, patience=1)\n",
    "    CrossEntropy = torch.nn.CrossEntropyLoss()\n",
    "    f1_score = MultilabelF1Score(num_labels=config.num_labels).to(config.device)\n",
    "    n_epochs = config.n_epochs\n",
    "\n",
    "    print(\"BEGIN TRAINING...\")\n",
    "    train_loss_history=[]\n",
    "    val_loss_history=[]\n",
    "    \n",
    "    train_f1score_history=[]\n",
    "    val_f1score_history=[]\n",
    "    for epoch in range(n_epochs):\n",
    "        print(\"EPOCH \", epoch+1)\n",
    "        ## TRAIN PHASE :\n",
    "        losses = []\n",
    "        scores = []\n",
    "        for embed, targets in tqdm(train_dataloader):\n",
    "            embed, targets = embed.to(config.device), targets.to(config.device)\n",
    "            optimizer.zero_grad()\n",
    "            preds = model(embed)\n",
    "            loss= CrossEntropy(preds, targets)\n",
    "            score=f1_score(preds, targets)\n",
    "            losses.append(loss.item()) \n",
    "            scores.append(score.item())\n",
    "            loss.backward()\n",
    "            optimizer.step()\n",
    "        avg_loss = np.mean(losses)\n",
    "        avg_score = np.mean(scores)\n",
    "        print(\"Running Average TRAIN Loss : \", avg_loss)\n",
    "        print(\"Running Average TRAIN F1-Score : \", avg_score)\n",
    "        train_loss_history.append(avg_loss)\n",
    "        train_f1score_history.append(avg_score)\n",
    "        \n",
    "        ## VALIDATION PHASE : \n",
    "        losses = []\n",
    "        scores = []\n",
    "        for embed, targets in val_dataloader:\n",
    "            embed, targets = embed.to(config.device), targets.to(config.device)\n",
    "            preds = model(embed)\n",
    "            loss= CrossEntropy(preds, targets)\n",
    "            score=f1_score(preds, targets)\n",
    "            losses.append(loss.item())\n",
    "            scores.append(score.item())\n",
    "        avg_loss = np.mean(losses)\n",
    "        avg_score = np.mean(scores)\n",
    "        print(\"Running Average VAL Loss : \", avg_loss)\n",
    "        print(\"Running Average VAL F1-Score : \", avg_score)\n",
    "        val_loss_history.append(avg_loss)\n",
    "        val_f1score_history.append(avg_score)\n",
    "        \n",
    "        scheduler.step(avg_loss)\n",
    "        print(\"\\n\")\n",
    "        \n",
    "    print(\"TRAINING FINISHED\")\n",
    "    print(\"FINAL TRAINING SCORE : \", train_f1score_history[-1])\n",
    "    print(\"FINAL VALIDATION SCORE : \", val_f1score_history[-1])\n",
    "    \n",
    "    losses_history = {\"train\" : train_loss_history, \"val\" : val_loss_history}\n",
    "    scores_history = {\"train\" : train_f1score_history, \"val\" : val_f1score_history}\n",
    "    \n",
    "    return model, losses_history, scores_history"
   ]
  },
  {
   "cell_type": "markdown",
   "id": "edb3cfef",
   "metadata": {
    "papermill": {
     "duration": 0.055312,
     "end_time": "2023-07-19T09:48:04.313512",
     "exception": false,
     "start_time": "2023-07-19T09:48:04.258200",
     "status": "completed"
    },
    "tags": []
   },
   "source": [
    "## 7.1. Training Usecase"
   ]
  },
  {
   "cell_type": "code",
   "execution_count": 13,
   "id": "a4abc943",
   "metadata": {
    "execution": {
     "iopub.execute_input": "2023-07-19T09:48:04.424355Z",
     "iopub.status.busy": "2023-07-19T09:48:04.423963Z",
     "iopub.status.idle": "2023-07-19T09:50:32.291671Z",
     "shell.execute_reply": "2023-07-19T09:50:32.289395Z"
    },
    "papermill": {
     "duration": 147.925529,
     "end_time": "2023-07-19T09:50:32.293943",
     "exception": false,
     "start_time": "2023-07-19T09:48:04.368414",
     "status": "completed"
    },
    "tags": []
   },
   "outputs": [
    {
     "name": "stdout",
     "output_type": "stream",
     "text": [
      "BEGIN TRAINING...\n",
      "EPOCH  1\n"
     ]
    },
    {
     "name": "stderr",
     "output_type": "stream",
     "text": [
      "100%|██████████| 1001/1001 [00:25<00:00, 39.76it/s]\n"
     ]
    },
    {
     "name": "stdout",
     "output_type": "stream",
     "text": [
      "Running Average TRAIN Loss :  132.47256845479959\n",
      "Running Average TRAIN F1-Score :  0.15920529057542523\n",
      "Running Average VAL Loss :  129.81104053769792\n",
      "Running Average VAL F1-Score :  0.1863000996943031\n",
      "\n",
      "\n",
      "EPOCH  2\n"
     ]
    },
    {
     "name": "stderr",
     "output_type": "stream",
     "text": [
      "100%|██████████| 1001/1001 [00:24<00:00, 41.37it/s]\n"
     ]
    },
    {
     "name": "stdout",
     "output_type": "stream",
     "text": [
      "Running Average TRAIN Loss :  128.88759090945675\n",
      "Running Average TRAIN F1-Score :  0.1927813611902319\n",
      "Running Average VAL Loss :  128.44544662748064\n",
      "Running Average VAL F1-Score :  0.19774561268942698\n",
      "\n",
      "\n",
      "EPOCH  3\n"
     ]
    },
    {
     "name": "stderr",
     "output_type": "stream",
     "text": [
      "100%|██████████| 1001/1001 [00:24<00:00, 40.72it/s]\n"
     ]
    },
    {
     "name": "stdout",
     "output_type": "stream",
     "text": [
      "Running Average TRAIN Loss :  127.5511232846743\n",
      "Running Average TRAIN F1-Score :  0.20440208405762406\n",
      "Running Average VAL Loss :  127.45537083489555\n",
      "Running Average VAL F1-Score :  0.2055709431213992\n",
      "\n",
      "\n",
      "EPOCH  4\n"
     ]
    },
    {
     "name": "stderr",
     "output_type": "stream",
     "text": [
      "100%|██████████| 1001/1001 [00:24<00:00, 41.52it/s]\n"
     ]
    },
    {
     "name": "stdout",
     "output_type": "stream",
     "text": [
      "Running Average TRAIN Loss :  126.52975014182594\n",
      "Running Average TRAIN F1-Score :  0.21401370780451315\n",
      "Running Average VAL Loss :  127.07108300072807\n",
      "Running Average VAL F1-Score :  0.21275311668536492\n",
      "\n",
      "\n",
      "EPOCH  5\n"
     ]
    },
    {
     "name": "stderr",
     "output_type": "stream",
     "text": [
      "100%|██████████| 1001/1001 [00:24<00:00, 41.43it/s]\n"
     ]
    },
    {
     "name": "stdout",
     "output_type": "stream",
     "text": [
      "Running Average TRAIN Loss :  125.66190741326544\n",
      "Running Average TRAIN F1-Score :  0.22222193314895763\n",
      "Running Average VAL Loss :  126.41400705065045\n",
      "Running Average VAL F1-Score :  0.21750457391941122\n",
      "\n",
      "\n",
      "TRAINING FINISHED\n",
      "FINAL TRAINING SCORE :  0.22222193314895763\n",
      "FINAL VALIDATION SCORE :  0.21750457391941122\n"
     ]
    }
   ],
   "source": [
    "ems2_model, ems2_losses, ems2_scores = train_model(embeddings_source=\"EMS2\",model_type=\"linear\")"
   ]
  },
  {
   "cell_type": "code",
   "execution_count": 14,
   "id": "2ce28728",
   "metadata": {
    "execution": {
     "iopub.execute_input": "2023-07-19T09:50:32.553099Z",
     "iopub.status.busy": "2023-07-19T09:50:32.552719Z",
     "iopub.status.idle": "2023-07-19T09:52:45.540322Z",
     "shell.execute_reply": "2023-07-19T09:52:45.538494Z"
    },
    "papermill": {
     "duration": 133.118967,
     "end_time": "2023-07-19T09:52:45.542623",
     "exception": false,
     "start_time": "2023-07-19T09:50:32.423656",
     "status": "completed"
    },
    "tags": []
   },
   "outputs": [
    {
     "name": "stdout",
     "output_type": "stream",
     "text": [
      "BEGIN TRAINING...\n",
      "EPOCH  1\n"
     ]
    },
    {
     "name": "stderr",
     "output_type": "stream",
     "text": [
      "100%|██████████| 1001/1001 [00:23<00:00, 42.13it/s]\n"
     ]
    },
    {
     "name": "stdout",
     "output_type": "stream",
     "text": [
      "Running Average TRAIN Loss :  131.63943539370786\n",
      "Running Average TRAIN F1-Score :  0.16887766550798397\n",
      "Running Average VAL Loss :  127.27282960074288\n",
      "Running Average VAL F1-Score :  0.19564900919795036\n",
      "\n",
      "\n",
      "EPOCH  2\n"
     ]
    },
    {
     "name": "stderr",
     "output_type": "stream",
     "text": [
      "100%|██████████| 1001/1001 [00:23<00:00, 42.79it/s]\n"
     ]
    },
    {
     "name": "stdout",
     "output_type": "stream",
     "text": [
      "Running Average TRAIN Loss :  127.77615195625907\n",
      "Running Average TRAIN F1-Score :  0.20406948680525178\n",
      "Running Average VAL Loss :  126.08672850472587\n",
      "Running Average VAL F1-Score :  0.20690402973975455\n",
      "\n",
      "\n",
      "EPOCH  3\n"
     ]
    },
    {
     "name": "stderr",
     "output_type": "stream",
     "text": [
      "100%|██████████| 1001/1001 [00:23<00:00, 42.06it/s]\n"
     ]
    },
    {
     "name": "stdout",
     "output_type": "stream",
     "text": [
      "Running Average TRAIN Loss :  126.21333077475504\n",
      "Running Average TRAIN F1-Score :  0.21660974620284137\n",
      "Running Average VAL Loss :  125.41153369631085\n",
      "Running Average VAL F1-Score :  0.2171755534197603\n",
      "\n",
      "\n",
      "EPOCH  4\n"
     ]
    },
    {
     "name": "stderr",
     "output_type": "stream",
     "text": [
      "100%|██████████| 1001/1001 [00:24<00:00, 41.38it/s]\n"
     ]
    },
    {
     "name": "stdout",
     "output_type": "stream",
     "text": [
      "Running Average TRAIN Loss :  125.00049887551414\n",
      "Running Average TRAIN F1-Score :  0.22794590406603626\n",
      "Running Average VAL Loss :  124.4958519254412\n",
      "Running Average VAL F1-Score :  0.224016036705247\n",
      "\n",
      "\n",
      "EPOCH  5\n"
     ]
    },
    {
     "name": "stderr",
     "output_type": "stream",
     "text": [
      "100%|██████████| 1001/1001 [00:24<00:00, 41.55it/s]\n"
     ]
    },
    {
     "name": "stdout",
     "output_type": "stream",
     "text": [
      "Running Average TRAIN Loss :  123.86796485984718\n",
      "Running Average TRAIN F1-Score :  0.23797318835060793\n",
      "Running Average VAL Loss :  124.21995428630284\n",
      "Running Average VAL F1-Score :  0.22842528830681527\n",
      "\n",
      "\n",
      "TRAINING FINISHED\n",
      "FINAL TRAINING SCORE :  0.23797318835060793\n",
      "FINAL VALIDATION SCORE :  0.22842528830681527\n"
     ]
    }
   ],
   "source": [
    "t5_model, t5_losses, t5_scores = train_model(embeddings_source=\"T5\",model_type=\"linear\")"
   ]
  },
  {
   "cell_type": "code",
   "execution_count": 15,
   "id": "b7994439",
   "metadata": {
    "execution": {
     "iopub.execute_input": "2023-07-19T09:52:46.004760Z",
     "iopub.status.busy": "2023-07-19T09:52:46.004401Z",
     "iopub.status.idle": "2023-07-19T09:55:03.619715Z",
     "shell.execute_reply": "2023-07-19T09:55:03.618752Z"
    },
    "papermill": {
     "duration": 137.87329,
     "end_time": "2023-07-19T09:55:03.622846",
     "exception": false,
     "start_time": "2023-07-19T09:52:45.749556",
     "status": "completed"
    },
    "tags": []
   },
   "outputs": [
    {
     "name": "stdout",
     "output_type": "stream",
     "text": [
      "BEGIN TRAINING...\n",
      "EPOCH  1\n"
     ]
    },
    {
     "name": "stderr",
     "output_type": "stream",
     "text": [
      "100%|██████████| 1001/1001 [00:24<00:00, 41.67it/s]\n"
     ]
    },
    {
     "name": "stdout",
     "output_type": "stream",
     "text": [
      "Running Average TRAIN Loss :  137.94938950819687\n",
      "Running Average TRAIN F1-Score :  0.10270608711492765\n",
      "Running Average VAL Loss :  136.41248668943132\n",
      "Running Average VAL F1-Score :  0.12962447765416332\n",
      "\n",
      "\n",
      "EPOCH  2\n"
     ]
    },
    {
     "name": "stderr",
     "output_type": "stream",
     "text": [
      "100%|██████████| 1001/1001 [00:23<00:00, 42.37it/s]\n"
     ]
    },
    {
     "name": "stdout",
     "output_type": "stream",
     "text": [
      "Running Average TRAIN Loss :  135.01952042708268\n",
      "Running Average TRAIN F1-Score :  0.1399934945793657\n",
      "Running Average VAL Loss :  135.37828826904297\n",
      "Running Average VAL F1-Score :  0.14779992328424538\n",
      "\n",
      "\n",
      "EPOCH  3\n"
     ]
    },
    {
     "name": "stderr",
     "output_type": "stream",
     "text": [
      "100%|██████████| 1001/1001 [00:23<00:00, 42.83it/s]\n"
     ]
    },
    {
     "name": "stdout",
     "output_type": "stream",
     "text": [
      "Running Average TRAIN Loss :  133.95473226419577\n",
      "Running Average TRAIN F1-Score :  0.1522939890533775\n",
      "Running Average VAL Loss :  134.5924060004098\n",
      "Running Average VAL F1-Score :  0.15585117334766047\n",
      "\n",
      "\n",
      "EPOCH  4\n"
     ]
    },
    {
     "name": "stderr",
     "output_type": "stream",
     "text": [
      "100%|██████████| 1001/1001 [00:23<00:00, 42.43it/s]\n"
     ]
    },
    {
     "name": "stdout",
     "output_type": "stream",
     "text": [
      "Running Average TRAIN Loss :  133.12881267749583\n",
      "Running Average TRAIN F1-Score :  0.16004742091739332\n",
      "Running Average VAL Loss :  133.98496164594377\n",
      "Running Average VAL F1-Score :  0.15934390614607505\n",
      "\n",
      "\n",
      "EPOCH  5\n"
     ]
    },
    {
     "name": "stderr",
     "output_type": "stream",
     "text": [
      "100%|██████████| 1001/1001 [00:24<00:00, 41.70it/s]\n"
     ]
    },
    {
     "name": "stdout",
     "output_type": "stream",
     "text": [
      "Running Average TRAIN Loss :  132.62492337831847\n",
      "Running Average TRAIN F1-Score :  0.16549365610241532\n",
      "Running Average VAL Loss :  133.53005879265922\n",
      "Running Average VAL F1-Score :  0.1644162211034979\n",
      "\n",
      "\n",
      "TRAINING FINISHED\n",
      "FINAL TRAINING SCORE :  0.16549365610241532\n",
      "FINAL VALIDATION SCORE :  0.1644162211034979\n"
     ]
    }
   ],
   "source": [
    "protbert_model, protbert_losses, protbert_scores = train_model(embeddings_source=\"ProtBERT\",model_type=\"linear\")"
   ]
  },
  {
   "cell_type": "markdown",
   "id": "61df3a75",
   "metadata": {
    "papermill": {
     "duration": 0.284451,
     "end_time": "2023-07-19T09:55:04.190822",
     "exception": false,
     "start_time": "2023-07-19T09:55:03.906371",
     "status": "completed"
    },
    "tags": []
   },
   "source": [
    "## 7.3. Train/Val Losses "
   ]
  },
  {
   "cell_type": "code",
   "execution_count": 16,
   "id": "ee0ae6b7",
   "metadata": {
    "execution": {
     "iopub.execute_input": "2023-07-19T09:55:04.761261Z",
     "iopub.status.busy": "2023-07-19T09:55:04.760891Z",
     "iopub.status.idle": "2023-07-19T09:55:05.357728Z",
     "shell.execute_reply": "2023-07-19T09:55:05.356818Z"
    },
    "papermill": {
     "duration": 0.885398,
     "end_time": "2023-07-19T09:55:05.359888",
     "exception": false,
     "start_time": "2023-07-19T09:55:04.474490",
     "status": "completed"
    },
    "tags": []
   },
   "outputs": [
    {
     "data": {
      "image/png": "[encoded data removed]",
      "text/plain": [
       "<Figure size 1000x400 with 1 Axes>"
      ]
     },
     "metadata": {},
     "output_type": "display_data"
    },
    {
     "data": {
      "image/png": "[encoded data removed]",
      "text/plain": [
       "<Figure size 1000x400 with 1 Axes>"
      ]
     },
     "metadata": {},
     "output_type": "display_data"
    }
   ],
   "source": [
    "plt.figure(figsize = (10, 4))\n",
    "plt.plot(ems2_losses[\"val\"], label = \"EMS2\")\n",
    "plt.plot(t5_losses[\"val\"], label = \"T5\")\n",
    "plt.plot(protbert_losses[\"val\"], label = \"ProtBERT\")\n",
    "plt.title(\"Validation Losses for # Vector Embeddings\")\n",
    "plt.xlabel(\"Epochs\")\n",
    "plt.ylabel(\"Average Loss\")\n",
    "plt.legend()\n",
    "plt.show()\n",
    "\n",
    "plt.figure(figsize = (10, 4))\n",
    "plt.plot(ems2_scores[\"val\"], label = \"EMS2\")\n",
    "plt.plot(t5_scores[\"val\"], label = \"T5\")\n",
    "plt.plot(protbert_scores[\"val\"], label = \"ProtBERT\")\n",
    "plt.title(\"Validation F1-Scores for # Vector Embeddings\")\n",
    "plt.xlabel(\"Epochs\")\n",
    "plt.ylabel(\"Average F1-Score\")\n",
    "plt.legend()\n",
    "plt.show()"
   ]
  },
  {
   "cell_type": "markdown",
   "id": "3d0a38e1",
   "metadata": {
    "papermill": {
     "duration": 0.285838,
     "end_time": "2023-07-19T09:55:05.977620",
     "exception": false,
     "start_time": "2023-07-19T09:55:05.691782",
     "status": "completed"
    },
    "tags": []
   },
   "source": [
    "# 8. Make Predictions"
   ]
  },
  {
   "cell_type": "code",
   "execution_count": 17,
   "id": "ac97bbab",
   "metadata": {
    "execution": {
     "iopub.execute_input": "2023-07-19T09:55:06.574920Z",
     "iopub.status.busy": "2023-07-19T09:55:06.573810Z",
     "iopub.status.idle": "2023-07-19T09:55:06.587142Z",
     "shell.execute_reply": "2023-07-19T09:55:06.586062Z"
    },
    "papermill": {
     "duration": 0.325119,
     "end_time": "2023-07-19T09:55:06.589505",
     "exception": false,
     "start_time": "2023-07-19T09:55:06.264386",
     "status": "completed"
    },
    "tags": []
   },
   "outputs": [],
   "source": [
    "def predict(embeddings_source):\n",
    "    \n",
    "    test_dataset = ProteinSequenceDataset(datatype=\"test\", embeddings_source = embeddings_source)\n",
    "    test_dataloader = torch.utils.data.DataLoader(test_dataset, batch_size=1, shuffle=False)\n",
    "    \n",
    "    if embeddings_source == \"T5\":\n",
    "        model = t5_model\n",
    "    if embeddings_source == \"ProtBERT\":\n",
    "        model = protbert_model\n",
    "    if embeddings_source == \"EMS2\":\n",
    "        model = ems2_model\n",
    "        \n",
    "    model.eval()\n",
    "    \n",
    "    labels = pd.read_csv(config.train_labels_path, sep = \"\\t\")\n",
    "    top_terms = labels.groupby(\"term\")[\"EntryID\"].count().sort_values(ascending=False)\n",
    "    labels_names = top_terms[:config.num_labels].index.values\n",
    "    print(\"GENERATE PREDICTION FOR TEST SET...\")\n",
    "\n",
    "    ids_ = np.empty(shape=(len(test_dataloader)*config.num_labels,), dtype=object)\n",
    "    go_terms_ = np.empty(shape=(len(test_dataloader)*config.num_labels,), dtype=object)\n",
    "    confs_ = np.empty(shape=(len(test_dataloader)*config.num_labels,), dtype=np.float32)\n",
    "\n",
    "    for i, (embed, id) in tqdm(enumerate(test_dataloader)):\n",
    "        embed = embed.to(config.device)\n",
    "        confs_[i*config.num_labels:(i+1)*config.num_labels] = torch.nn.functional.sigmoid(model(embed)).squeeze().detach().cpu().numpy()\n",
    "        ids_[i*config.num_labels:(i+1)*config.num_labels] = id[0]\n",
    "        go_terms_[i*config.num_labels:(i+1)*config.num_labels] = labels_names\n",
    "\n",
    "    submission_df = pd.DataFrame(data={\"Id\" : ids_, \"GO term\" : go_terms_, \"Confidence\" : confs_})\n",
    "    print(\"PREDICTIONS DONE\")\n",
    "    return submission_df"
   ]
  },
  {
   "cell_type": "code",
   "execution_count": 18,
   "id": "befccdfd",
   "metadata": {
    "execution": {
     "iopub.execute_input": "2023-07-19T09:55:07.172058Z",
     "iopub.status.busy": "2023-07-19T09:55:07.171683Z",
     "iopub.status.idle": "2023-07-19T09:56:58.450582Z",
     "shell.execute_reply": "2023-07-19T09:56:58.449486Z"
    },
    "papermill": {
     "duration": 111.569273,
     "end_time": "2023-07-19T09:56:58.452918",
     "exception": false,
     "start_time": "2023-07-19T09:55:06.883645",
     "status": "completed"
    },
    "tags": []
   },
   "outputs": [
    {
     "name": "stdout",
     "output_type": "stream",
     "text": [
      "GENERATE PREDICTION FOR TEST SET...\n"
     ]
    },
    {
     "name": "stderr",
     "output_type": "stream",
     "text": [
      "141865it [01:33, 1523.50it/s]\n"
     ]
    },
    {
     "name": "stdout",
     "output_type": "stream",
     "text": [
      "PREDICTIONS DONE\n"
     ]
    }
   ],
   "source": [
    "submission_df = predict(\"T5\")"
   ]
  },
  {
   "cell_type": "code",
   "execution_count": 19,
   "id": "8e7ba27d",
   "metadata": {
    "execution": {
     "iopub.execute_input": "2023-07-19T09:56:59.163309Z",
     "iopub.status.busy": "2023-07-19T09:56:59.162929Z",
     "iopub.status.idle": "2023-07-19T09:56:59.180627Z",
     "shell.execute_reply": "2023-07-19T09:56:59.179744Z"
    },
    "papermill": {
     "duration": 0.374396,
     "end_time": "2023-07-19T09:56:59.182648",
     "exception": false,
     "start_time": "2023-07-19T09:56:58.808252",
     "status": "completed"
    },
    "tags": []
   },
   "outputs": [
    {
     "data": {
      "text/html": [
       "<div>\n",
       "<style scoped>\n",
       "    .dataframe tbody tr th:only-of-type {\n",
       "        vertical-align: middle;\n",
       "    }\n",
       "\n",
       "    .dataframe tbody tr th {\n",
       "        vertical-align: top;\n",
       "    }\n",
       "\n",
       "    .dataframe thead th {\n",
       "        text-align: right;\n",
       "    }\n",
       "</style>\n",
       "<table border=\"1\" class=\"dataframe\">\n",
       "  <thead>\n",
       "    <tr style=\"text-align: right;\">\n",
       "      <th></th>\n",
       "      <th>Id</th>\n",
       "      <th>GO term</th>\n",
       "      <th>Confidence</th>\n",
       "    </tr>\n",
       "  </thead>\n",
       "  <tbody>\n",
       "    <tr>\n",
       "      <th>0</th>\n",
       "      <td>Q9CQV8</td>\n",
       "      <td>GO:0005575</td>\n",
       "      <td>0.900060</td>\n",
       "    </tr>\n",
       "    <tr>\n",
       "      <th>1</th>\n",
       "      <td>Q9CQV8</td>\n",
       "      <td>GO:0008150</td>\n",
       "      <td>0.894986</td>\n",
       "    </tr>\n",
       "    <tr>\n",
       "      <th>2</th>\n",
       "      <td>Q9CQV8</td>\n",
       "      <td>GO:0110165</td>\n",
       "      <td>0.893226</td>\n",
       "    </tr>\n",
       "    <tr>\n",
       "      <th>3</th>\n",
       "      <td>Q9CQV8</td>\n",
       "      <td>GO:0003674</td>\n",
       "      <td>0.891319</td>\n",
       "    </tr>\n",
       "    <tr>\n",
       "      <th>4</th>\n",
       "      <td>Q9CQV8</td>\n",
       "      <td>GO:0005622</td>\n",
       "      <td>0.882667</td>\n",
       "    </tr>\n",
       "    <tr>\n",
       "      <th>5</th>\n",
       "      <td>Q9CQV8</td>\n",
       "      <td>GO:0009987</td>\n",
       "      <td>0.856230</td>\n",
       "    </tr>\n",
       "    <tr>\n",
       "      <th>6</th>\n",
       "      <td>Q9CQV8</td>\n",
       "      <td>GO:0043226</td>\n",
       "      <td>0.874933</td>\n",
       "    </tr>\n",
       "    <tr>\n",
       "      <th>7</th>\n",
       "      <td>Q9CQV8</td>\n",
       "      <td>GO:0043229</td>\n",
       "      <td>0.862011</td>\n",
       "    </tr>\n",
       "    <tr>\n",
       "      <th>8</th>\n",
       "      <td>Q9CQV8</td>\n",
       "      <td>GO:0005488</td>\n",
       "      <td>0.882287</td>\n",
       "    </tr>\n",
       "    <tr>\n",
       "      <th>9</th>\n",
       "      <td>Q9CQV8</td>\n",
       "      <td>GO:0043227</td>\n",
       "      <td>0.861707</td>\n",
       "    </tr>\n",
       "    <tr>\n",
       "      <th>10</th>\n",
       "      <td>Q9CQV8</td>\n",
       "      <td>GO:0005737</td>\n",
       "      <td>0.866373</td>\n",
       "    </tr>\n",
       "    <tr>\n",
       "      <th>11</th>\n",
       "      <td>Q9CQV8</td>\n",
       "      <td>GO:0043231</td>\n",
       "      <td>0.851314</td>\n",
       "    </tr>\n",
       "    <tr>\n",
       "      <th>12</th>\n",
       "      <td>Q9CQV8</td>\n",
       "      <td>GO:0005515</td>\n",
       "      <td>0.869338</td>\n",
       "    </tr>\n",
       "    <tr>\n",
       "      <th>13</th>\n",
       "      <td>Q9CQV8</td>\n",
       "      <td>GO:0065007</td>\n",
       "      <td>0.868766</td>\n",
       "    </tr>\n",
       "    <tr>\n",
       "      <th>14</th>\n",
       "      <td>Q9CQV8</td>\n",
       "      <td>GO:0050789</td>\n",
       "      <td>0.868605</td>\n",
       "    </tr>\n",
       "    <tr>\n",
       "      <th>15</th>\n",
       "      <td>Q9CQV8</td>\n",
       "      <td>GO:0050794</td>\n",
       "      <td>0.870709</td>\n",
       "    </tr>\n",
       "    <tr>\n",
       "      <th>16</th>\n",
       "      <td>Q9CQV8</td>\n",
       "      <td>GO:0050896</td>\n",
       "      <td>0.832431</td>\n",
       "    </tr>\n",
       "    <tr>\n",
       "      <th>17</th>\n",
       "      <td>Q9CQV8</td>\n",
       "      <td>GO:0008152</td>\n",
       "      <td>0.242790</td>\n",
       "    </tr>\n",
       "    <tr>\n",
       "      <th>18</th>\n",
       "      <td>Q9CQV8</td>\n",
       "      <td>GO:0032501</td>\n",
       "      <td>0.753081</td>\n",
       "    </tr>\n",
       "    <tr>\n",
       "      <th>19</th>\n",
       "      <td>Q9CQV8</td>\n",
       "      <td>GO:0005634</td>\n",
       "      <td>0.738007</td>\n",
       "    </tr>\n",
       "    <tr>\n",
       "      <th>20</th>\n",
       "      <td>Q9CQV8</td>\n",
       "      <td>GO:0032502</td>\n",
       "      <td>0.741006</td>\n",
       "    </tr>\n",
       "    <tr>\n",
       "      <th>21</th>\n",
       "      <td>Q9CQV8</td>\n",
       "      <td>GO:0071704</td>\n",
       "      <td>0.194341</td>\n",
       "    </tr>\n",
       "    <tr>\n",
       "      <th>22</th>\n",
       "      <td>Q9CQV8</td>\n",
       "      <td>GO:0048856</td>\n",
       "      <td>0.720011</td>\n",
       "    </tr>\n",
       "    <tr>\n",
       "      <th>23</th>\n",
       "      <td>Q9CQV8</td>\n",
       "      <td>GO:0016020</td>\n",
       "      <td>0.770683</td>\n",
       "    </tr>\n",
       "    <tr>\n",
       "      <th>24</th>\n",
       "      <td>Q9CQV8</td>\n",
       "      <td>GO:0003824</td>\n",
       "      <td>0.104317</td>\n",
       "    </tr>\n",
       "    <tr>\n",
       "      <th>25</th>\n",
       "      <td>Q9CQV8</td>\n",
       "      <td>GO:0044237</td>\n",
       "      <td>0.253524</td>\n",
       "    </tr>\n",
       "    <tr>\n",
       "      <th>26</th>\n",
       "      <td>Q9CQV8</td>\n",
       "      <td>GO:0044238</td>\n",
       "      <td>0.157942</td>\n",
       "    </tr>\n",
       "    <tr>\n",
       "      <th>27</th>\n",
       "      <td>Q9CQV8</td>\n",
       "      <td>GO:0007275</td>\n",
       "      <td>0.675178</td>\n",
       "    </tr>\n",
       "    <tr>\n",
       "      <th>28</th>\n",
       "      <td>Q9CQV8</td>\n",
       "      <td>GO:0006807</td>\n",
       "      <td>0.132100</td>\n",
       "    </tr>\n",
       "    <tr>\n",
       "      <th>29</th>\n",
       "      <td>Q9CQV8</td>\n",
       "      <td>GO:0071944</td>\n",
       "      <td>0.747042</td>\n",
       "    </tr>\n",
       "    <tr>\n",
       "      <th>30</th>\n",
       "      <td>Q9CQV8</td>\n",
       "      <td>GO:0071840</td>\n",
       "      <td>0.641837</td>\n",
       "    </tr>\n",
       "    <tr>\n",
       "      <th>31</th>\n",
       "      <td>Q9CQV8</td>\n",
       "      <td>GO:0019222</td>\n",
       "      <td>0.715940</td>\n",
       "    </tr>\n",
       "    <tr>\n",
       "      <th>32</th>\n",
       "      <td>Q9CQV8</td>\n",
       "      <td>GO:0016043</td>\n",
       "      <td>0.665429</td>\n",
       "    </tr>\n",
       "    <tr>\n",
       "      <th>33</th>\n",
       "      <td>Q9CQV8</td>\n",
       "      <td>GO:0048518</td>\n",
       "      <td>0.640690</td>\n",
       "    </tr>\n",
       "    <tr>\n",
       "      <th>34</th>\n",
       "      <td>Q9CQV8</td>\n",
       "      <td>GO:0005829</td>\n",
       "      <td>0.826381</td>\n",
       "    </tr>\n",
       "    <tr>\n",
       "      <th>35</th>\n",
       "      <td>Q9CQV8</td>\n",
       "      <td>GO:0043170</td>\n",
       "      <td>0.159256</td>\n",
       "    </tr>\n",
       "    <tr>\n",
       "      <th>36</th>\n",
       "      <td>Q9CQV8</td>\n",
       "      <td>GO:0048731</td>\n",
       "      <td>0.627963</td>\n",
       "    </tr>\n",
       "    <tr>\n",
       "      <th>37</th>\n",
       "      <td>Q9CQV8</td>\n",
       "      <td>GO:0060255</td>\n",
       "      <td>0.667052</td>\n",
       "    </tr>\n",
       "    <tr>\n",
       "      <th>38</th>\n",
       "      <td>Q9CQV8</td>\n",
       "      <td>GO:0051716</td>\n",
       "      <td>0.821975</td>\n",
       "    </tr>\n",
       "    <tr>\n",
       "      <th>39</th>\n",
       "      <td>Q9CQV8</td>\n",
       "      <td>GO:0005886</td>\n",
       "      <td>0.722867</td>\n",
       "    </tr>\n",
       "    <tr>\n",
       "      <th>40</th>\n",
       "      <td>Q9CQV8</td>\n",
       "      <td>GO:0032991</td>\n",
       "      <td>0.645202</td>\n",
       "    </tr>\n",
       "    <tr>\n",
       "      <th>41</th>\n",
       "      <td>Q9CQV8</td>\n",
       "      <td>GO:0043228</td>\n",
       "      <td>0.597967</td>\n",
       "    </tr>\n",
       "    <tr>\n",
       "      <th>42</th>\n",
       "      <td>Q9CQV8</td>\n",
       "      <td>GO:0043232</td>\n",
       "      <td>0.608252</td>\n",
       "    </tr>\n",
       "    <tr>\n",
       "      <th>43</th>\n",
       "      <td>Q9CQV8</td>\n",
       "      <td>GO:0031974</td>\n",
       "      <td>0.521063</td>\n",
       "    </tr>\n",
       "    <tr>\n",
       "      <th>44</th>\n",
       "      <td>Q9CQV8</td>\n",
       "      <td>GO:0043233</td>\n",
       "      <td>0.511773</td>\n",
       "    </tr>\n",
       "    <tr>\n",
       "      <th>45</th>\n",
       "      <td>Q9CQV8</td>\n",
       "      <td>GO:0070013</td>\n",
       "      <td>0.509126</td>\n",
       "    </tr>\n",
       "    <tr>\n",
       "      <th>46</th>\n",
       "      <td>Q9CQV8</td>\n",
       "      <td>GO:0048519</td>\n",
       "      <td>0.706080</td>\n",
       "    </tr>\n",
       "    <tr>\n",
       "      <th>47</th>\n",
       "      <td>Q9CQV8</td>\n",
       "      <td>GO:0048522</td>\n",
       "      <td>0.604562</td>\n",
       "    </tr>\n",
       "    <tr>\n",
       "      <th>48</th>\n",
       "      <td>Q9CQV8</td>\n",
       "      <td>GO:0080090</td>\n",
       "      <td>0.672649</td>\n",
       "    </tr>\n",
       "    <tr>\n",
       "      <th>49</th>\n",
       "      <td>Q9CQV8</td>\n",
       "      <td>GO:0031323</td>\n",
       "      <td>0.648108</td>\n",
       "    </tr>\n",
       "  </tbody>\n",
       "</table>\n",
       "</div>"
      ],
      "text/plain": [
       "        Id     GO term  Confidence\n",
       "0   Q9CQV8  GO:0005575    0.900060\n",
       "1   Q9CQV8  GO:0008150    0.894986\n",
       "2   Q9CQV8  GO:0110165    0.893226\n",
       "3   Q9CQV8  GO:0003674    0.891319\n",
       "4   Q9CQV8  GO:0005622    0.882667\n",
       "5   Q9CQV8  GO:0009987    0.856230\n",
       "6   Q9CQV8  GO:0043226    0.874933\n",
       "7   Q9CQV8  GO:0043229    0.862011\n",
       "8   Q9CQV8  GO:0005488    0.882287\n",
       "9   Q9CQV8  GO:0043227    0.861707\n",
       "10  Q9CQV8  GO:0005737    0.866373\n",
       "11  Q9CQV8  GO:0043231    0.851314\n",
       "12  Q9CQV8  GO:0005515    0.869338\n",
       "13  Q9CQV8  GO:0065007    0.868766\n",
       "14  Q9CQV8  GO:0050789    0.868605\n",
       "15  Q9CQV8  GO:0050794    0.870709\n",
       "16  Q9CQV8  GO:0050896    0.832431\n",
       "17  Q9CQV8  GO:0008152    0.242790\n",
       "18  Q9CQV8  GO:0032501    0.753081\n",
       "19  Q9CQV8  GO:0005634    0.738007\n",
       "20  Q9CQV8  GO:0032502    0.741006\n",
       "21  Q9CQV8  GO:0071704    0.194341\n",
       "22  Q9CQV8  GO:0048856    0.720011\n",
       "23  Q9CQV8  GO:0016020    0.770683\n",
       "24  Q9CQV8  GO:0003824    0.104317\n",
       "25  Q9CQV8  GO:0044237    0.253524\n",
       "26  Q9CQV8  GO:0044238    0.157942\n",
       "27  Q9CQV8  GO:0007275    0.675178\n",
       "28  Q9CQV8  GO:0006807    0.132100\n",
       "29  Q9CQV8  GO:0071944    0.747042\n",
       "30  Q9CQV8  GO:0071840    0.641837\n",
       "31  Q9CQV8  GO:0019222    0.715940\n",
       "32  Q9CQV8  GO:0016043    0.665429\n",
       "33  Q9CQV8  GO:0048518    0.640690\n",
       "34  Q9CQV8  GO:0005829    0.826381\n",
       "35  Q9CQV8  GO:0043170    0.159256\n",
       "36  Q9CQV8  GO:0048731    0.627963\n",
       "37  Q9CQV8  GO:0060255    0.667052\n",
       "38  Q9CQV8  GO:0051716    0.821975\n",
       "39  Q9CQV8  GO:0005886    0.722867\n",
       "40  Q9CQV8  GO:0032991    0.645202\n",
       "41  Q9CQV8  GO:0043228    0.597967\n",
       "42  Q9CQV8  GO:0043232    0.608252\n",
       "43  Q9CQV8  GO:0031974    0.521063\n",
       "44  Q9CQV8  GO:0043233    0.511773\n",
       "45  Q9CQV8  GO:0070013    0.509126\n",
       "46  Q9CQV8  GO:0048519    0.706080\n",
       "47  Q9CQV8  GO:0048522    0.604562\n",
       "48  Q9CQV8  GO:0080090    0.672649\n",
       "49  Q9CQV8  GO:0031323    0.648108"
      ]
     },
     "execution_count": 19,
     "metadata": {},
     "output_type": "execute_result"
    }
   ],
   "source": [
    "submission_df.head(50)"
   ]
  },
  {
   "cell_type": "code",
   "execution_count": 20,
   "id": "3e992f62",
   "metadata": {
    "execution": {
     "iopub.execute_input": "2023-07-19T09:56:59.898382Z",
     "iopub.status.busy": "2023-07-19T09:56:59.898007Z",
     "iopub.status.idle": "2023-07-19T09:56:59.903900Z",
     "shell.execute_reply": "2023-07-19T09:56:59.903036Z"
    },
    "papermill": {
     "duration": 0.370581,
     "end_time": "2023-07-19T09:56:59.905880",
     "exception": false,
     "start_time": "2023-07-19T09:56:59.535299",
     "status": "completed"
    },
    "tags": []
   },
   "outputs": [
    {
     "data": {
      "text/plain": [
       "70932500"
      ]
     },
     "execution_count": 20,
     "metadata": {},
     "output_type": "execute_result"
    }
   ],
   "source": [
    "len(submission_df)"
   ]
  },
  {
   "cell_type": "code",
   "execution_count": 21,
   "id": "ec2e0ca0",
   "metadata": {
    "execution": {
     "iopub.execute_input": "2023-07-19T09:57:00.620628Z",
     "iopub.status.busy": "2023-07-19T09:57:00.619896Z",
     "iopub.status.idle": "2023-07-19T10:01:35.622647Z",
     "shell.execute_reply": "2023-07-19T10:01:35.621600Z"
    },
    "papermill": {
     "duration": 275.358953,
     "end_time": "2023-07-19T10:01:35.625205",
     "exception": false,
     "start_time": "2023-07-19T09:57:00.266252",
     "status": "completed"
    },
    "tags": []
   },
   "outputs": [],
   "source": [
    "submission_df.to_csv('submission.tsv', sep='\\t', index=False)"
   ]
  },
  {
   "cell_type": "markdown",
   "id": "87f5c2ed",
   "metadata": {
    "papermill": {
     "duration": 0.360473,
     "end_time": "2023-07-19T10:01:36.404693",
     "exception": false,
     "start_time": "2023-07-19T10:01:36.044220",
     "status": "completed"
    },
    "tags": []
   },
   "source": [
    "### *I appreciate any feedback or Upvote as support*\n",
    "### *Also open for teaming, contact me in comments or mp*"
   ]
  }
 ],
 "metadata": {
  "kernelspec": {
   "display_name": "Python 3",
   "language": "python",
   "name": "python3"
  },
  "language_info": {
   "codemirror_mode": {
    "name": "ipython",
    "version": 3
   },
   "file_extension": ".py",
   "mimetype": "text/x-python",
   "name": "python",
   "nbconvert_exporter": "python",
   "pygments_lexer": "ipython3",
   "version": "3.10.10"
  },
  "papermill": {
   "default_parameters": {},
   "duration": 925.03113,
   "end_time": "2023-07-19T10:01:39.577937",
   "environment_variables": {},
   "exception": null,
   "input_path": "__notebook__.ipynb",
   "output_path": "__notebook__.ipynb",
   "parameters": {},
   "start_time": "2023-07-19T09:46:14.546807",
   "version": "2.4.0"
  }
 },
 "nbformat": 4,
 "nbformat_minor": 5
}
