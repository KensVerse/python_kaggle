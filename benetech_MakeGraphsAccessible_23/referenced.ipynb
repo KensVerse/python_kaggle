{
 "cells": [
  {
   "cell_type": "markdown",
   "id": "abf52b52",
   "metadata": {
    "papermill": {
     "duration": 0.010662,
     "end_time": "2023-06-19T07:52:50.696363",
     "exception": false,
     "start_time": "2023-06-19T07:52:50.685701",
     "status": "completed"
    },
    "tags": []
   },
   "source": [
    "### Imports"
   ]
  },
  {
   "cell_type": "code",
   "execution_count": 1,
   "id": "37469a9d",
   "metadata": {
    "execution": {
     "iopub.execute_input": "2023-06-19T07:52:50.719165Z",
     "iopub.status.busy": "2023-06-19T07:52:50.718706Z",
     "iopub.status.idle": "2023-06-19T07:52:53.798274Z",
     "shell.execute_reply": "2023-06-19T07:52:53.797083Z"
    },
    "papermill": {
     "duration": 3.09405,
     "end_time": "2023-06-19T07:52:53.801004",
     "exception": false,
     "start_time": "2023-06-19T07:52:50.706954",
     "status": "completed"
    },
    "tags": []
   },
   "outputs": [],
   "source": [
    "import os\n",
    "import sys\n",
    "import json \n",
    "import glob\n",
    "import gc\n",
    "import torch\n",
    "\n",
    "import pandas as pd\n",
    "import numpy as np\n",
    "\n",
    "from PIL import Image\n",
    "from pathlib import Path"
   ]
  },
  {
   "cell_type": "code",
   "execution_count": 2,
   "id": "df2351de",
   "metadata": {
    "execution": {
     "iopub.execute_input": "2023-06-19T07:52:53.824939Z",
     "iopub.status.busy": "2023-06-19T07:52:53.824070Z",
     "iopub.status.idle": "2023-06-19T07:52:53.975007Z",
     "shell.execute_reply": "2023-06-19T07:52:53.973838Z"
    },
    "papermill": {
     "duration": 0.166472,
     "end_time": "2023-06-19T07:52:53.977844",
     "exception": false,
     "start_time": "2023-06-19T07:52:53.811372",
     "status": "completed"
    },
    "tags": []
   },
   "outputs": [],
   "source": [
    "sys.path.insert(0, '/kaggle/input/omegaconf')\n",
    "from omegaconf import OmegaConf"
   ]
  },
  {
   "cell_type": "code",
   "execution_count": 3,
   "id": "fba60658",
   "metadata": {
    "execution": {
     "iopub.execute_input": "2023-06-19T07:52:54.004026Z",
     "iopub.status.busy": "2023-06-19T07:52:54.002086Z",
     "iopub.status.idle": "2023-06-19T07:53:01.123367Z",
     "shell.execute_reply": "2023-06-19T07:53:01.122235Z"
    },
    "papermill": {
     "duration": 7.136565,
     "end_time": "2023-06-19T07:53:01.125835",
     "exception": false,
     "start_time": "2023-06-19T07:52:53.989270",
     "status": "completed"
    },
    "tags": []
   },
   "outputs": [
    {
     "name": "stderr",
     "output_type": "stream",
     "text": [
      "/opt/conda/lib/python3.10/site-packages/scipy/__init__.py:146: UserWarning: A NumPy version >=1.16.5 and <1.23.0 is required for this version of SciPy (detected version 1.23.5\n",
      "  warnings.warn(f\"A NumPy version >={np_minversion} and <{np_maxversion}\"\n"
     ]
    }
   ],
   "source": [
    "from torch.utils.data import DataLoader\n",
    "from accelerate import Accelerator\n",
    "from transformers import GenerationConfig\n",
    "from tqdm.auto import tqdm"
   ]
  },
  {
   "cell_type": "markdown",
   "id": "c9018f03",
   "metadata": {
    "papermill": {
     "duration": 0.013859,
     "end_time": "2023-06-19T07:53:01.154347",
     "exception": false,
     "start_time": "2023-06-19T07:53:01.140488",
     "status": "completed"
    },
    "tags": []
   },
   "source": [
    "# Config"
   ]
  },
  {
   "cell_type": "code",
   "execution_count": 4,
   "id": "be464fb5",
   "metadata": {
    "execution": {
     "iopub.execute_input": "2023-06-19T07:53:01.181623Z",
     "iopub.status.busy": "2023-06-19T07:53:01.181242Z",
     "iopub.status.idle": "2023-06-19T07:53:01.193003Z",
     "shell.execute_reply": "2023-06-19T07:53:01.190188Z"
    },
    "papermill": {
     "duration": 0.02878,
     "end_time": "2023-06-19T07:53:01.195888",
     "exception": false,
     "start_time": "2023-06-19T07:53:01.167108",
     "status": "completed"
    },
    "tags": []
   },
   "outputs": [
    {
     "name": "stdout",
     "output_type": "stream",
     "text": [
      "Writing mga_cfg_deplot.yaml\n"
     ]
    }
   ],
   "source": [
    "%%writefile mga_cfg_deplot.yaml\n",
    "model:\n",
    "    backbone_path: /kaggle/input/google-deplot\n",
    "    max_length: 8\n",
    "    max_patches: 3072\n",
    "    patch_size: 16\n",
    "    len_tokenizer: ???\n",
    "    pad_token_id: ???\n",
    "    decoder_start_token_id: ???\n",
    "    bos_token_id: ???\n",
    "        \n",
    "predict_params:\n",
    "    bs: 1\n",
    "    checkpoint_path: /kaggle/input/mga-r-final-matcha-v2-ft-i2/mga_model_fold_0.pth.tar\n",
    "\n",
    "competition_dataset:\n",
    "    data_dir: /kaggle/input/benetech-making-graphs-accessible"
   ]
  },
  {
   "cell_type": "code",
   "execution_count": 5,
   "id": "09781b27",
   "metadata": {
    "execution": {
     "iopub.execute_input": "2023-06-19T07:53:01.231069Z",
     "iopub.status.busy": "2023-06-19T07:53:01.230622Z",
     "iopub.status.idle": "2023-06-19T07:53:01.248450Z",
     "shell.execute_reply": "2023-06-19T07:53:01.247551Z"
    },
    "papermill": {
     "duration": 0.038415,
     "end_time": "2023-06-19T07:53:01.251372",
     "exception": false,
     "start_time": "2023-06-19T07:53:01.212957",
     "status": "completed"
    },
    "tags": []
   },
   "outputs": [
    {
     "data": {
      "text/plain": [
       "{'model': {'backbone_path': '/kaggle/input/google-deplot', 'max_length': 8, 'max_patches': 3072, 'patch_size': 16, 'len_tokenizer': '???', 'pad_token_id': '???', 'decoder_start_token_id': '???', 'bos_token_id': '???'}, 'predict_params': {'bs': 1, 'checkpoint_path': '/kaggle/input/mga-r-final-matcha-v2-ft-i2/mga_model_fold_0.pth.tar'}, 'competition_dataset': {'data_dir': '/kaggle/input/benetech-making-graphs-accessible'}}"
      ]
     },
     "execution_count": 5,
     "metadata": {},
     "output_type": "execute_result"
    }
   ],
   "source": [
    "cfg = OmegaConf.load('mga_cfg_deplot.yaml')\n",
    "cfg"
   ]
  },
  {
   "cell_type": "markdown",
   "id": "e4f9fc73",
   "metadata": {
    "papermill": {
     "duration": 0.014304,
     "end_time": "2023-06-19T07:53:01.292577",
     "exception": false,
     "start_time": "2023-06-19T07:53:01.278273",
     "status": "completed"
    },
    "tags": []
   },
   "source": [
    "# Dataset"
   ]
  },
  {
   "cell_type": "code",
   "execution_count": 6,
   "id": "5d69d9dd",
   "metadata": {
    "execution": {
     "iopub.execute_input": "2023-06-19T07:53:01.324267Z",
     "iopub.status.busy": "2023-06-19T07:53:01.323501Z",
     "iopub.status.idle": "2023-06-19T07:53:01.707491Z",
     "shell.execute_reply": "2023-06-19T07:53:01.706597Z"
    },
    "papermill": {
     "duration": 0.402872,
     "end_time": "2023-06-19T07:53:01.710080",
     "exception": false,
     "start_time": "2023-06-19T07:53:01.307208",
     "status": "completed"
    },
    "tags": []
   },
   "outputs": [],
   "source": [
    "# Reference: https://www.kaggle.com/code/nbroad/donut-train-benetech\n",
    "\n",
    "import json\n",
    "import os\n",
    "import pdb\n",
    "from copy import deepcopy\n",
    "\n",
    "import torch\n",
    "from PIL import Image\n",
    "from tokenizers import AddedToken\n",
    "from torch.utils.data import Dataset\n",
    "from transformers import Pix2StructProcessor\n",
    "\n",
    "# -- token map --#\n",
    "TOKEN_MAP = {\n",
    "    \"line\": \"[<lines>]\",\n",
    "    \"vertical_bar\": \"[<vertical_bar>]\",\n",
    "    \"scatter\": \"[<scatter>]\",\n",
    "    \"dot\": \"[<dot>]\",\n",
    "    \"horizontal_bar\": \"[<horizontal_bar>]\",\n",
    "    \"histogram\": \"[<histogram>]\",\n",
    "\n",
    "    \"c_start\": \"[<c_start>]\",\n",
    "    \"c_end\": \"[<c_end>]\",\n",
    "    \"x_start\": \"[<x_start>]\",\n",
    "    \"x_end\": \"[<x_end>]\",\n",
    "    \"y_start\": \"[<y_start>]\",\n",
    "    \"y_end\": \"[<y_end>]\",\n",
    "\n",
    "    \"p_start\": \"[<p_start>]\",\n",
    "    \"p_end\": \"[<p_end>]\",\n",
    "\n",
    "    \"bos_token\": \"[<mga>]\",\n",
    "}\n",
    "\n",
    "\n",
    "# -----\n",
    "\n",
    "def is_nan(val):\n",
    "    return val != val\n",
    "\n",
    "\n",
    "def get_processor(cfg):\n",
    "    \"\"\"\n",
    "    load the processor\n",
    "    \"\"\"\n",
    "    processor_path = cfg.model.backbone_path\n",
    "    print(f\"loading processor from {processor_path}\")\n",
    "    processor = Pix2StructProcessor.from_pretrained(processor_path)\n",
    "    processor.image_processor.is_vqa = False\n",
    "    processor.image_processor.patch_size = {\n",
    "        \"height\": cfg.model.patch_size,\n",
    "        \"width\": cfg.model.patch_size\n",
    "    }\n",
    "\n",
    "    # NEW TOKENS\n",
    "    print(\"adding new tokens...\")\n",
    "    new_tokens = []\n",
    "    for _, this_tok in TOKEN_MAP.items():\n",
    "        new_tokens.append(this_tok)\n",
    "    new_tokens = sorted(new_tokens)\n",
    "\n",
    "    tokens_to_add = []\n",
    "    for this_tok in new_tokens:\n",
    "        tokens_to_add.append(AddedToken(this_tok, lstrip=False, rstrip=False))\n",
    "\n",
    "    processor.tokenizer.add_tokens(tokens_to_add)\n",
    "\n",
    "    return processor\n",
    "\n",
    "\n",
    "class MGADataset(Dataset):\n",
    "    \"\"\"Dataset class for MGA dataset\n",
    "    \"\"\"\n",
    "\n",
    "    def __init__(self, cfg, graph_ids, transform=None):\n",
    "\n",
    "        self.cfg = cfg\n",
    "        self.data_dir = cfg.competition_dataset.data_dir.rstrip(\"/\")\n",
    "        self.image_dir = os.path.join(self.data_dir, \"test\", \"images\")\n",
    "\n",
    "        self.graph_ids = deepcopy(graph_ids)\n",
    "        self.transform = transform\n",
    "\n",
    "        # load processor\n",
    "        self.load_processor()\n",
    "\n",
    "    def load_processor(self):\n",
    "        self.processor = get_processor(self.cfg)\n",
    "\n",
    "    def load_image(self, graph_id):\n",
    "        image_path = os.path.join(self.image_dir, f\"{graph_id}.jpg\")\n",
    "        image = Image.open(image_path)\n",
    "        if image.mode != 'RGB':\n",
    "            image = image.convert('RGB')\n",
    "\n",
    "        return image\n",
    "\n",
    "    def __len__(self):\n",
    "        return len(self.graph_ids)\n",
    "\n",
    "    def __getitem__(self, index):\n",
    "        graph_id = self.graph_ids[index]\n",
    "        image = self.load_image(graph_id)\n",
    "\n",
    "        p_img = self.processor(\n",
    "            images=image,\n",
    "            max_patches=self.cfg.model.max_patches,\n",
    "            add_special_tokens=True,\n",
    "        )\n",
    "\n",
    "        r = {}\n",
    "        r['id'] = graph_id\n",
    "        r['image'] = image\n",
    "        r['flattened_patches'] = p_img['flattened_patches']\n",
    "        r['attention_mask'] = p_img['attention_mask']\n",
    "\n",
    "        return r"
   ]
  },
  {
   "cell_type": "markdown",
   "id": "070596d5",
   "metadata": {
    "papermill": {
     "duration": 0.01407,
     "end_time": "2023-06-19T07:53:01.738844",
     "exception": false,
     "start_time": "2023-06-19T07:53:01.724774",
     "status": "completed"
    },
    "tags": []
   },
   "source": [
    "# Data Loader"
   ]
  },
  {
   "cell_type": "code",
   "execution_count": 7,
   "id": "d036ba43",
   "metadata": {
    "execution": {
     "iopub.execute_input": "2023-06-19T07:53:01.769777Z",
     "iopub.status.busy": "2023-06-19T07:53:01.769032Z",
     "iopub.status.idle": "2023-06-19T07:53:02.409808Z",
     "shell.execute_reply": "2023-06-19T07:53:02.408835Z"
    },
    "papermill": {
     "duration": 0.659066,
     "end_time": "2023-06-19T07:53:02.412191",
     "exception": false,
     "start_time": "2023-06-19T07:53:01.753125",
     "status": "completed"
    },
    "tags": []
   },
   "outputs": [],
   "source": [
    "import pdb\n",
    "from copy import deepcopy\n",
    "from dataclasses import dataclass\n",
    "\n",
    "import numpy as np\n",
    "import torch\n",
    "from transformers import DataCollatorWithPadding\n",
    "\n",
    "\n",
    "@dataclass\n",
    "class MGACollator(DataCollatorWithPadding):\n",
    "    \"\"\"\n",
    "    data collector for mga task\n",
    "    \"\"\"\n",
    "\n",
    "    tokenizer = None\n",
    "    padding = True\n",
    "    max_length = None\n",
    "    pad_to_multiple_of = None\n",
    "    return_tensors = \"pt\"\n",
    "\n",
    "    def __call__(self, features):\n",
    "        batch = dict()\n",
    "\n",
    "        # graph ids\n",
    "        batch[\"id\"] = [feature[\"id\"] for feature in features]\n",
    "        batch[\"images\"] = [feature[\"image\"] for feature in features]\n",
    "\n",
    "        # image features ---\n",
    "        flattened_patches = [feature[\"flattened_patches\"] for feature in features]\n",
    "        attention_mask = [feature[\"attention_mask\"] for feature in features]\n",
    "\n",
    "        flattened_patches = np.concatenate(flattened_patches, axis=0)\n",
    "        attention_mask = np.concatenate(attention_mask, axis=0)\n",
    "\n",
    "        batch[\"flattened_patches\"] = flattened_patches\n",
    "        batch[\"attention_mask\"] = attention_mask\n",
    "\n",
    "        # casting ---\n",
    "        tensor_keys = [\"flattened_patches\", \"attention_mask\"]\n",
    "        \n",
    "        for key in tensor_keys:\n",
    "            if key != \"flattened_patches\":\n",
    "                batch[key] = torch.tensor(batch[key], dtype=torch.int64)\n",
    "            else:\n",
    "                batch[key] = torch.tensor(batch[key], dtype=torch.float32)\n",
    "\n",
    "        return batch\n"
   ]
  },
  {
   "cell_type": "markdown",
   "id": "2f81d185",
   "metadata": {
    "papermill": {
     "duration": 0.01012,
     "end_time": "2023-06-19T07:53:02.432989",
     "exception": false,
     "start_time": "2023-06-19T07:53:02.422869",
     "status": "completed"
    },
    "tags": []
   },
   "source": [
    "# Model"
   ]
  },
  {
   "cell_type": "code",
   "execution_count": 8,
   "id": "f525540c",
   "metadata": {
    "execution": {
     "iopub.execute_input": "2023-06-19T07:53:02.455530Z",
     "iopub.status.busy": "2023-06-19T07:53:02.455194Z",
     "iopub.status.idle": "2023-06-19T07:53:02.534029Z",
     "shell.execute_reply": "2023-06-19T07:53:02.533094Z"
    },
    "papermill": {
     "duration": 0.09309,
     "end_time": "2023-06-19T07:53:02.536451",
     "exception": false,
     "start_time": "2023-06-19T07:53:02.443361",
     "status": "completed"
    },
    "tags": []
   },
   "outputs": [],
   "source": [
    "import sys\n",
    "from pathlib import Path\n",
    "\n",
    "import numpy as np\n",
    "import torch\n",
    "import torch.nn as nn\n",
    "import torch.nn.functional as F\n",
    "import torch.utils.checkpoint\n",
    "from transformers import (AutoConfig, AutoModel, Pix2StructConfig,\n",
    "                          Pix2StructForConditionalGeneration)\n",
    "\n",
    "\n",
    "def get_model(cfg):\n",
    "    model = Pix2StructForConditionalGeneration.from_pretrained(cfg.model.backbone_path)\n",
    "    return model\n",
    "\n",
    "\n",
    "class MGAModel(nn.Module):\n",
    "    \"\"\"\n",
    "    The MGA model\n",
    "    \"\"\"\n",
    "\n",
    "    def __init__(self, cfg):\n",
    "        print(\"initializing the MGA model...\")\n",
    "\n",
    "        super(MGAModel, self).__init__()\n",
    "        self.cfg = cfg\n",
    "\n",
    "        backbone_config = Pix2StructConfig.from_pretrained(cfg.model.backbone_path)\n",
    "        backbone_config.text_config.max_length = cfg.model.max_length\n",
    "        backbone_config.text_config.is_decoder = True\n",
    "\n",
    "        backbone_config.text_config.pad_token_id = cfg.model.pad_token_id\n",
    "        backbone_config.text_config.decoder_start_token_id = cfg.model.decoder_start_token_id\n",
    "        backbone_config.text_config.bos_token_id = cfg.model.bos_token_id\n",
    "\n",
    "        # backbone_config.decoder.max_length = cfg.model.max_length\n",
    "\n",
    "        self.backbone = Pix2StructForConditionalGeneration.from_pretrained(\n",
    "            cfg.model.backbone_path,\n",
    "            config=backbone_config,\n",
    "        )\n",
    "\n",
    "        # resize model embeddings\n",
    "        print(\"resizing model embeddings...\")\n",
    "        print(f\"tokenizer length = {cfg.model.len_tokenizer}\")\n",
    "        self.backbone.decoder.resize_token_embeddings(cfg.model.len_tokenizer)\n",
    "\n",
    "        self.loss_fn = nn.CrossEntropyLoss(\n",
    "            ignore_index=-100,\n",
    "            reduction=\"mean\",\n",
    "        )\n",
    "\n",
    "    def forward(\n",
    "            self,\n",
    "            flattened_patches,\n",
    "            attention_mask,\n",
    "            labels,\n",
    "    ):\n",
    "\n",
    "        outputs = self.backbone(\n",
    "            flattened_patches=flattened_patches,\n",
    "            attention_mask=attention_mask,\n",
    "            labels=labels,\n",
    "        )\n",
    "\n",
    "        loss_main = outputs.loss\n",
    "\n",
    "        # logits = outputs.logits  # [:, 0]  # (bs, vocab)\n",
    "        # labels_cls = labels[:, 0]  # (bs, )\n",
    "        # loss = self.loss_fn(logits, labels)\n",
    "\n",
    "        # logits_num = outputs.logits[:, 1]  # (bs, vocab)\n",
    "        # labels_num = labels[:, 1]  # (bs, )\n",
    "        # loss_num = self.loss_fn(logits_num, labels_num)\n",
    "\n",
    "        loss = loss_main  # + 0.10 * loss_cls\n",
    "\n",
    "        loss_dict = {\n",
    "            \"loss_main\": loss_main,\n",
    "            \"loss_cls\": loss,\n",
    "        }\n",
    "\n",
    "        return loss, loss_dict\n"
   ]
  },
  {
   "cell_type": "markdown",
   "id": "461b469a",
   "metadata": {
    "papermill": {
     "duration": 0.010169,
     "end_time": "2023-06-19T07:53:02.557296",
     "exception": false,
     "start_time": "2023-06-19T07:53:02.547127",
     "status": "completed"
    },
    "tags": []
   },
   "source": [
    "# Inference"
   ]
  },
  {
   "cell_type": "code",
   "execution_count": 9,
   "id": "6e6f1faf",
   "metadata": {
    "execution": {
     "iopub.execute_input": "2023-06-19T07:53:02.579648Z",
     "iopub.status.busy": "2023-06-19T07:53:02.579300Z",
     "iopub.status.idle": "2023-06-19T07:53:02.589787Z",
     "shell.execute_reply": "2023-06-19T07:53:02.588898Z"
    },
    "papermill": {
     "duration": 0.024247,
     "end_time": "2023-06-19T07:53:02.591885",
     "exception": false,
     "start_time": "2023-06-19T07:53:02.567638",
     "status": "completed"
    },
    "tags": []
   },
   "outputs": [],
   "source": [
    "def post_process(pred_string, token_map, delimiter=\"|\"):\n",
    "    # get chart type ---\n",
    "    chart_options = [\n",
    "        \"horizontal_bar\",\n",
    "        \"dot\",\n",
    "        \"scatter\",\n",
    "        \"vertical_bar\",\n",
    "        \"line\",\n",
    "        \"histogram\",\n",
    "    ]\n",
    "\n",
    "    chart_type = \"line\"  # default type\n",
    "\n",
    "    for ct in chart_options:\n",
    "        if token_map[ct] in pred_string:\n",
    "            chart_type = ct\n",
    "            break\n",
    "\n",
    "    if chart_type == \"histogram\":\n",
    "        chart_type = \"vertical_bar\"\n",
    "\n",
    "    # get x series ---\n",
    "    x_start_tok = token_map[\"x_start\"]\n",
    "    x_end_tok = token_map[\"x_end\"]\n",
    "\n",
    "    try:\n",
    "        x = pred_string.split(x_start_tok)[1].split(x_end_tok)[0].split(delimiter)\n",
    "        x = [elem.strip() for elem in x if len(elem.strip()) > 0]\n",
    "    except IndexError:\n",
    "        x = []\n",
    "\n",
    "    # get y series ---\n",
    "    y_start_tok = token_map[\"y_start\"]\n",
    "    y_end_tok = token_map[\"y_end\"]\n",
    "\n",
    "    try:\n",
    "        y = pred_string.split(y_start_tok)[1].split(y_end_tok)[0].split(delimiter)\n",
    "        y = [elem.strip() for elem in y if len(elem.strip()) > 0]\n",
    "    except IndexError:\n",
    "        y = []\n",
    "\n",
    "    return chart_type, x, y\n"
   ]
  },
  {
   "cell_type": "code",
   "execution_count": 10,
   "id": "b5004818",
   "metadata": {
    "execution": {
     "iopub.execute_input": "2023-06-19T07:53:02.615256Z",
     "iopub.status.busy": "2023-06-19T07:53:02.614911Z",
     "iopub.status.idle": "2023-06-19T07:53:02.627022Z",
     "shell.execute_reply": "2023-06-19T07:53:02.625963Z"
    },
    "papermill": {
     "duration": 0.026503,
     "end_time": "2023-06-19T07:53:02.629873",
     "exception": false,
     "start_time": "2023-06-19T07:53:02.603370",
     "status": "completed"
    },
    "tags": []
   },
   "outputs": [],
   "source": [
    "def run_evaluation(model, infer_dl, tokenizer, token_map, max_len):\n",
    "\n",
    "    # # config for text generation ---\n",
    "    conf_g = {\n",
    "        \"max_new_tokens\": max_len, # 1024, # 512,\n",
    "        \"do_sample\": False,\n",
    "        \"top_k\": 1,\n",
    "        \"use_cache\": True,\n",
    "    }\n",
    "\n",
    "    generation_config = GenerationConfig(**conf_g)\n",
    "\n",
    "    # put model in eval mode ---\n",
    "    model.eval()\n",
    "\n",
    "    all_ids = []\n",
    "    all_texts = []\n",
    "\n",
    "    progress_bar = tqdm(range(len(infer_dl)))\n",
    "    for batch in infer_dl:\n",
    "        with torch.no_grad():\n",
    "            batch_ids = batch[\"id\"]\n",
    "            generated_ids = model.backbone.generate(\n",
    "                flattened_patches=batch['flattened_patches'],\n",
    "                attention_mask=batch['attention_mask'],\n",
    "                generation_config=generation_config,\n",
    "            )\n",
    "            generated_texts = tokenizer.batch_decode(generated_ids, skip_special_tokens=True)\n",
    "\n",
    "            all_ids.extend(batch_ids)\n",
    "            all_texts.extend(generated_texts)\n",
    "\n",
    "        progress_bar.update(1)\n",
    "    progress_bar.close()\n",
    "\n",
    "    # prepare output dataframe ---\n",
    "    preds = []\n",
    "    extended_preds = []\n",
    "    for this_id, this_text in zip(all_ids, all_texts):\n",
    "        id_x = f\"{this_id}_x\"\n",
    "        id_y = f\"{this_id}_y\"\n",
    "        pred_chart, pred_x, pred_y = post_process(this_text, token_map)\n",
    "\n",
    "        preds.append([id_x, pred_x, pred_chart])\n",
    "        preds.append([id_y, pred_y, pred_chart])\n",
    "\n",
    "        extended_preds.append([id_x, pred_x, pred_chart, this_text])\n",
    "        extended_preds.append([id_y, pred_y, pred_chart, this_text])\n",
    "\n",
    "    pred_df = pd.DataFrame(preds)\n",
    "    pred_df.columns = [\"id\", \"data_series\", \"chart_type\"]\n",
    "\n",
    "    return pred_df"
   ]
  },
  {
   "cell_type": "markdown",
   "id": "0bb65658",
   "metadata": {
    "papermill": {
     "duration": 0.01026,
     "end_time": "2023-06-19T07:53:02.651006",
     "exception": false,
     "start_time": "2023-06-19T07:53:02.640746",
     "status": "completed"
    },
    "tags": []
   },
   "source": [
    "### Inference"
   ]
  },
  {
   "cell_type": "code",
   "execution_count": 11,
   "id": "c9018513",
   "metadata": {
    "execution": {
     "iopub.execute_input": "2023-06-19T07:53:02.674817Z",
     "iopub.status.busy": "2023-06-19T07:53:02.674472Z",
     "iopub.status.idle": "2023-06-19T07:53:42.643285Z",
     "shell.execute_reply": "2023-06-19T07:53:42.642045Z"
    },
    "papermill": {
     "duration": 39.984291,
     "end_time": "2023-06-19T07:53:42.646357",
     "exception": false,
     "start_time": "2023-06-19T07:53:02.662066",
     "status": "completed"
    },
    "tags": []
   },
   "outputs": [
    {
     "name": "stdout",
     "output_type": "stream",
     "text": [
      "['000b92c3b098', '01b45b831589', '00f5404753cf', '00dcf883a459', '007a18eb4e09']\n",
      "loading processor from /kaggle/input/google-deplot\n",
      "adding new tokens...\n",
      "initializing the MGA model...\n",
      "resizing model embeddings...\n",
      "tokenizer length = 50359\n",
      "====================================================================================================\n",
      "loading model from checkpoint: /kaggle/input/mga-r-final-matcha-v2-ft-i2/mga_model_fold_0.pth.tar\n",
      "loaded!\n",
      "accelerator setup...\n",
      "model is in eval mode\n",
      "====================================================================================================\n"
     ]
    },
    {
     "data": {
      "application/vnd.jupyter.widget-view+json": {
       "model_id": "375b0d2b0018419e8004e899ff5fa956",
       "version_major": 2,
       "version_minor": 0
      },
      "text/plain": [
       "  0%|          | 0/5 [00:00<?, ?it/s]"
      ]
     },
     "metadata": {},
     "output_type": "display_data"
    },
    {
     "data": {
      "text/html": [
       "<div>\n",
       "<style scoped>\n",
       "    .dataframe tbody tr th:only-of-type {\n",
       "        vertical-align: middle;\n",
       "    }\n",
       "\n",
       "    .dataframe tbody tr th {\n",
       "        vertical-align: top;\n",
       "    }\n",
       "\n",
       "    .dataframe thead th {\n",
       "        text-align: right;\n",
       "    }\n",
       "</style>\n",
       "<table border=\"1\" class=\"dataframe\">\n",
       "  <thead>\n",
       "    <tr style=\"text-align: right;\">\n",
       "      <th></th>\n",
       "      <th>id</th>\n",
       "      <th>data_series</th>\n",
       "      <th>chart_type</th>\n",
       "    </tr>\n",
       "  </thead>\n",
       "  <tbody>\n",
       "    <tr>\n",
       "      <th>0</th>\n",
       "      <td>000b92c3b098_x</td>\n",
       "      <td></td>\n",
       "      <td>line</td>\n",
       "    </tr>\n",
       "    <tr>\n",
       "      <th>1</th>\n",
       "      <td>000b92c3b098_y</td>\n",
       "      <td></td>\n",
       "      <td>line</td>\n",
       "    </tr>\n",
       "    <tr>\n",
       "      <th>2</th>\n",
       "      <td>01b45b831589_x</td>\n",
       "      <td></td>\n",
       "      <td>vertical_bar</td>\n",
       "    </tr>\n",
       "    <tr>\n",
       "      <th>3</th>\n",
       "      <td>01b45b831589_y</td>\n",
       "      <td></td>\n",
       "      <td>vertical_bar</td>\n",
       "    </tr>\n",
       "    <tr>\n",
       "      <th>4</th>\n",
       "      <td>00f5404753cf_x</td>\n",
       "      <td></td>\n",
       "      <td>scatter</td>\n",
       "    </tr>\n",
       "  </tbody>\n",
       "</table>\n",
       "</div>"
      ],
      "text/plain": [
       "               id data_series    chart_type\n",
       "0  000b92c3b098_x                      line\n",
       "1  000b92c3b098_y                      line\n",
       "2  01b45b831589_x              vertical_bar\n",
       "3  01b45b831589_y              vertical_bar\n",
       "4  00f5404753cf_x                   scatter"
      ]
     },
     "execution_count": 11,
     "metadata": {},
     "output_type": "execute_result"
    }
   ],
   "source": [
    "image_dir = Path('/kaggle/input/benetech-making-graphs-accessible/test/images')\n",
    "image_paths = list(image_dir.glob(\"*.jpg\"))\n",
    "image_ids = [str(pth).split(\"/\")[-1].split(\".jpg\")[0] for pth in image_paths]\n",
    "print(image_ids[:5])\n",
    "\n",
    "infer_ds = MGADataset(cfg, image_ids)\n",
    "\n",
    "tokenizer = infer_ds.processor.tokenizer\n",
    "cfg.model.len_tokenizer = len(tokenizer)\n",
    "\n",
    "cfg.model.pad_token_id = tokenizer.pad_token_id\n",
    "BOS_TOKEN = TOKEN_MAP[\"bos_token\"]\n",
    "\n",
    "cfg.model.decoder_start_token_id = tokenizer.convert_tokens_to_ids([BOS_TOKEN])[0]\n",
    "cfg.model.bos_token_id = tokenizer.convert_tokens_to_ids([BOS_TOKEN])[0]\n",
    "\n",
    "collate_fn = MGACollator(tokenizer=tokenizer)\n",
    "\n",
    "infer_dl = DataLoader(\n",
    "    infer_ds,\n",
    "    batch_size=cfg.predict_params.bs,\n",
    "    collate_fn=collate_fn,\n",
    "    shuffle=False,\n",
    ")\n",
    "\n",
    "cfg_dict = OmegaConf.to_container(cfg, resolve=True)\n",
    "\n",
    "model = MGAModel(cfg)\n",
    "\n",
    "print(\"==\"*50)\n",
    "checkpoint_path = cfg.predict_params.checkpoint_path\n",
    "print(f\"loading model from checkpoint: {checkpoint_path}\")\n",
    "ckpt = torch.load(checkpoint_path)\n",
    "model.load_state_dict(ckpt['state_dict'])\n",
    "del ckpt\n",
    "gc.collect()\n",
    "print(\"loaded!\")\n",
    "\n",
    "print(\"accelerator setup...\")\n",
    "accelerator = Accelerator()  # cpu = True\n",
    "\n",
    "model, infer_dl = accelerator.prepare(model, infer_dl)\n",
    "\n",
    "model.eval()\n",
    "print(\"model is in eval mode\")\n",
    "print(\"==\"*50)\n",
    "\n",
    "pred_df = run_evaluation(model, infer_dl, tokenizer, TOKEN_MAP,  max_len=cfg.model.max_length)\n",
    "\n",
    "pred_df[\"data_series\"] = pred_df[\"data_series\"].apply(lambda x: \";\".join(x))\n",
    "pred_df.head()"
   ]
  },
  {
   "cell_type": "code",
   "execution_count": 12,
   "id": "1c615900",
   "metadata": {
    "execution": {
     "iopub.execute_input": "2023-06-19T07:53:42.672369Z",
     "iopub.status.busy": "2023-06-19T07:53:42.671764Z",
     "iopub.status.idle": "2023-06-19T07:53:42.992279Z",
     "shell.execute_reply": "2023-06-19T07:53:42.991148Z"
    },
    "papermill": {
     "duration": 0.335657,
     "end_time": "2023-06-19T07:53:42.994293",
     "exception": false,
     "start_time": "2023-06-19T07:53:42.658636",
     "status": "completed"
    },
    "tags": []
   },
   "outputs": [],
   "source": [
    "del model\n",
    "gc.collect()\n",
    "torch.cuda.empty_cache()"
   ]
  },
  {
   "cell_type": "markdown",
   "id": "45ba761f",
   "metadata": {
    "papermill": {
     "duration": 0.011178,
     "end_time": "2023-06-19T07:53:43.017192",
     "exception": false,
     "start_time": "2023-06-19T07:53:43.006014",
     "status": "completed"
    },
    "tags": []
   },
   "source": [
    "# SPLIT"
   ]
  },
  {
   "cell_type": "code",
   "execution_count": 13,
   "id": "ce765fc1",
   "metadata": {
    "execution": {
     "iopub.execute_input": "2023-06-19T07:53:43.041527Z",
     "iopub.status.busy": "2023-06-19T07:53:43.041186Z",
     "iopub.status.idle": "2023-06-19T07:53:43.050785Z",
     "shell.execute_reply": "2023-06-19T07:53:43.049918Z"
    },
    "papermill": {
     "duration": 0.024084,
     "end_time": "2023-06-19T07:53:43.052924",
     "exception": false,
     "start_time": "2023-06-19T07:53:43.028840",
     "status": "completed"
    },
    "tags": []
   },
   "outputs": [],
   "source": [
    "scatter_ids = pred_df[pred_df['chart_type'] == 'scatter']['id'].values.tolist()\n",
    "scatter_ids = [this_id.split('_x')[0].split('_y')[0] for this_id in scatter_ids]\n",
    "scatter_ids = list(set(scatter_ids))\n",
    "\n",
    "other_ids = pred_df[pred_df['chart_type'] != 'scatter']['id'].values.tolist()\n",
    "other_ids = [this_id.split('_x')[0].split('_y')[0] for this_id in other_ids]\n",
    "other_ids = list(set(other_ids))"
   ]
  },
  {
   "cell_type": "code",
   "execution_count": 14,
   "id": "a8487255",
   "metadata": {
    "execution": {
     "iopub.execute_input": "2023-06-19T07:53:43.077224Z",
     "iopub.status.busy": "2023-06-19T07:53:43.076827Z",
     "iopub.status.idle": "2023-06-19T07:53:43.081536Z",
     "shell.execute_reply": "2023-06-19T07:53:43.080638Z"
    },
    "papermill": {
     "duration": 0.019174,
     "end_time": "2023-06-19T07:53:43.083545",
     "exception": false,
     "start_time": "2023-06-19T07:53:43.064371",
     "status": "completed"
    },
    "tags": []
   },
   "outputs": [],
   "source": [
    "pred_df_v0 = deepcopy(pred_df)"
   ]
  },
  {
   "cell_type": "markdown",
   "id": "301c1955",
   "metadata": {
    "execution": {
     "iopub.execute_input": "2023-05-10T02:48:45.53304Z",
     "iopub.status.busy": "2023-05-10T02:48:45.530364Z",
     "iopub.status.idle": "2023-05-10T02:49:03.11857Z",
     "shell.execute_reply": "2023-05-10T02:49:03.117603Z",
     "shell.execute_reply.started": "2023-05-10T02:48:45.533006Z"
    },
    "papermill": {
     "duration": 0.01114,
     "end_time": "2023-06-19T07:53:43.106011",
     "exception": false,
     "start_time": "2023-06-19T07:53:43.094871",
     "status": "completed"
    },
    "tags": []
   },
   "source": [
    "# Pass 2 - Other"
   ]
  },
  {
   "cell_type": "code",
   "execution_count": 15,
   "id": "2dfe8543",
   "metadata": {
    "execution": {
     "iopub.execute_input": "2023-06-19T07:53:43.130518Z",
     "iopub.status.busy": "2023-06-19T07:53:43.129598Z",
     "iopub.status.idle": "2023-06-19T07:53:43.135865Z",
     "shell.execute_reply": "2023-06-19T07:53:43.134961Z"
    },
    "papermill": {
     "duration": 0.02055,
     "end_time": "2023-06-19T07:53:43.137945",
     "exception": false,
     "start_time": "2023-06-19T07:53:43.117395",
     "status": "completed"
    },
    "tags": []
   },
   "outputs": [
    {
     "name": "stdout",
     "output_type": "stream",
     "text": [
      "Overwriting mga_cfg_deplot.yaml\n"
     ]
    }
   ],
   "source": [
    "%%writefile mga_cfg_deplot.yaml\n",
    "model:\n",
    "    backbone_path: /kaggle/input/google-deplot\n",
    "    max_length: 1024\n",
    "    max_patches: 4096\n",
    "    patch_size: 16\n",
    "    len_tokenizer: ???\n",
    "    pad_token_id: ???\n",
    "    decoder_start_token_id: ???\n",
    "    bos_token_id: ???\n",
    "        \n",
    "predict_params:\n",
    "    bs: 1\n",
    "    checkpoint_path: /kaggle/input/mga-r-rest-v2/mga_model_fold_0.pth.tar\n",
    "\n",
    "competition_dataset:\n",
    "    data_dir: /kaggle/input/benetech-making-graphs-accessible"
   ]
  },
  {
   "cell_type": "code",
   "execution_count": 16,
   "id": "72b1b3c7",
   "metadata": {
    "execution": {
     "iopub.execute_input": "2023-06-19T07:53:43.162180Z",
     "iopub.status.busy": "2023-06-19T07:53:43.161794Z",
     "iopub.status.idle": "2023-06-19T07:53:43.174860Z",
     "shell.execute_reply": "2023-06-19T07:53:43.173819Z"
    },
    "papermill": {
     "duration": 0.027552,
     "end_time": "2023-06-19T07:53:43.176853",
     "exception": false,
     "start_time": "2023-06-19T07:53:43.149301",
     "status": "completed"
    },
    "tags": []
   },
   "outputs": [
    {
     "data": {
      "text/plain": [
       "{'model': {'backbone_path': '/kaggle/input/google-deplot', 'max_length': 1024, 'max_patches': 4096, 'patch_size': 16, 'len_tokenizer': '???', 'pad_token_id': '???', 'decoder_start_token_id': '???', 'bos_token_id': '???'}, 'predict_params': {'bs': 1, 'checkpoint_path': '/kaggle/input/mga-r-rest-v2/mga_model_fold_0.pth.tar'}, 'competition_dataset': {'data_dir': '/kaggle/input/benetech-making-graphs-accessible'}}"
      ]
     },
     "execution_count": 16,
     "metadata": {},
     "output_type": "execute_result"
    }
   ],
   "source": [
    "cfg = OmegaConf.load('mga_cfg_deplot.yaml')\n",
    "cfg"
   ]
  },
  {
   "cell_type": "code",
   "execution_count": 17,
   "id": "f50b8297",
   "metadata": {
    "execution": {
     "iopub.execute_input": "2023-06-19T07:53:43.202636Z",
     "iopub.status.busy": "2023-06-19T07:53:43.202316Z",
     "iopub.status.idle": "2023-06-19T07:54:08.115299Z",
     "shell.execute_reply": "2023-06-19T07:54:08.114351Z"
    },
    "papermill": {
     "duration": 24.928457,
     "end_time": "2023-06-19T07:54:08.117222",
     "exception": false,
     "start_time": "2023-06-19T07:53:43.188765",
     "status": "completed"
    },
    "tags": []
   },
   "outputs": [
    {
     "name": "stdout",
     "output_type": "stream",
     "text": [
      "loading processor from /kaggle/input/google-deplot\n",
      "adding new tokens...\n",
      "initializing the MGA model...\n",
      "resizing model embeddings...\n",
      "tokenizer length = 50359\n",
      "====================================================================================================\n",
      "loading model from checkpoint: /kaggle/input/mga-r-rest-v2/mga_model_fold_0.pth.tar\n",
      "loaded!\n",
      "accelerator setup...\n",
      "model is in eval mode\n",
      "====================================================================================================\n"
     ]
    },
    {
     "data": {
      "application/vnd.jupyter.widget-view+json": {
       "model_id": "bcd40945e59b44e196a9651ab4375cff",
       "version_major": 2,
       "version_minor": 0
      },
      "text/plain": [
       "  0%|          | 0/4 [00:00<?, ?it/s]"
      ]
     },
     "metadata": {},
     "output_type": "display_data"
    },
    {
     "data": {
      "text/html": [
       "<div>\n",
       "<style scoped>\n",
       "    .dataframe tbody tr th:only-of-type {\n",
       "        vertical-align: middle;\n",
       "    }\n",
       "\n",
       "    .dataframe tbody tr th {\n",
       "        vertical-align: top;\n",
       "    }\n",
       "\n",
       "    .dataframe thead th {\n",
       "        text-align: right;\n",
       "    }\n",
       "</style>\n",
       "<table border=\"1\" class=\"dataframe\">\n",
       "  <thead>\n",
       "    <tr style=\"text-align: right;\">\n",
       "      <th></th>\n",
       "      <th>id</th>\n",
       "      <th>data_series</th>\n",
       "      <th>chart_type</th>\n",
       "    </tr>\n",
       "  </thead>\n",
       "  <tbody>\n",
       "    <tr>\n",
       "      <th>0</th>\n",
       "      <td>000b92c3b098_x</td>\n",
       "      <td>0;6;12;18;24</td>\n",
       "      <td>line</td>\n",
       "    </tr>\n",
       "    <tr>\n",
       "      <th>1</th>\n",
       "      <td>000b92c3b098_y</td>\n",
       "      <td>1.03e-02;-6.82e-01;-1.38e+00;-2.08e+00;-2.74e+00</td>\n",
       "      <td>line</td>\n",
       "    </tr>\n",
       "    <tr>\n",
       "      <th>2</th>\n",
       "      <td>00dcf883a459_x</td>\n",
       "      <td>Group 1;Group 2</td>\n",
       "      <td>vertical_bar</td>\n",
       "    </tr>\n",
       "    <tr>\n",
       "      <th>3</th>\n",
       "      <td>00dcf883a459_y</td>\n",
       "      <td>3.60e+00;8.40e+00</td>\n",
       "      <td>vertical_bar</td>\n",
       "    </tr>\n",
       "    <tr>\n",
       "      <th>4</th>\n",
       "      <td>007a18eb4e09_x</td>\n",
       "      <td>0.0;0.4;0.8;1.2;1.6;2.0;2.4</td>\n",
       "      <td>line</td>\n",
       "    </tr>\n",
       "  </tbody>\n",
       "</table>\n",
       "</div>"
      ],
      "text/plain": [
       "               id                                       data_series  \\\n",
       "0  000b92c3b098_x                                      0;6;12;18;24   \n",
       "1  000b92c3b098_y  1.03e-02;-6.82e-01;-1.38e+00;-2.08e+00;-2.74e+00   \n",
       "2  00dcf883a459_x                                   Group 1;Group 2   \n",
       "3  00dcf883a459_y                                 3.60e+00;8.40e+00   \n",
       "4  007a18eb4e09_x                       0.0;0.4;0.8;1.2;1.6;2.0;2.4   \n",
       "\n",
       "     chart_type  \n",
       "0          line  \n",
       "1          line  \n",
       "2  vertical_bar  \n",
       "3  vertical_bar  \n",
       "4          line  "
      ]
     },
     "execution_count": 17,
     "metadata": {},
     "output_type": "execute_result"
    }
   ],
   "source": [
    "image_ids = deepcopy(other_ids)\n",
    "infer_ds = MGADataset(cfg, image_ids)\n",
    "\n",
    "tokenizer = infer_ds.processor.tokenizer\n",
    "cfg.model.len_tokenizer = len(tokenizer)\n",
    "\n",
    "cfg.model.pad_token_id = tokenizer.pad_token_id\n",
    "BOS_TOKEN = TOKEN_MAP[\"bos_token\"]\n",
    "\n",
    "cfg.model.decoder_start_token_id = tokenizer.convert_tokens_to_ids([BOS_TOKEN])[0]\n",
    "cfg.model.bos_token_id = tokenizer.convert_tokens_to_ids([BOS_TOKEN])[0]\n",
    "\n",
    "collate_fn = MGACollator(tokenizer=tokenizer)\n",
    "\n",
    "infer_dl = DataLoader(\n",
    "    infer_ds,\n",
    "    batch_size=cfg.predict_params.bs,\n",
    "    collate_fn=collate_fn,\n",
    "    shuffle=False,\n",
    ")\n",
    "\n",
    "cfg_dict = OmegaConf.to_container(cfg, resolve=True)\n",
    "\n",
    "model = MGAModel(cfg)\n",
    "\n",
    "print(\"==\"*50)\n",
    "checkpoint_path = cfg.predict_params.checkpoint_path\n",
    "print(f\"loading model from checkpoint: {checkpoint_path}\")\n",
    "ckpt = torch.load(checkpoint_path)\n",
    "model.load_state_dict(ckpt['state_dict'])\n",
    "del ckpt\n",
    "gc.collect()\n",
    "print(\"loaded!\")\n",
    "\n",
    "print(\"accelerator setup...\")\n",
    "accelerator = Accelerator()  # cpu = True\n",
    "\n",
    "model, infer_dl = accelerator.prepare(model, infer_dl)\n",
    "\n",
    "model.eval()\n",
    "print(\"model is in eval mode\")\n",
    "print(\"==\"*50)\n",
    "\n",
    "pred_df = run_evaluation(model, infer_dl, tokenizer, TOKEN_MAP,  max_len=cfg.model.max_length)\n",
    "\n",
    "pred_df[\"data_series\"] = pred_df[\"data_series\"].apply(lambda x: \";\".join(x))\n",
    "pred_df.head()"
   ]
  },
  {
   "cell_type": "code",
   "execution_count": 18,
   "id": "133cc4f6",
   "metadata": {
    "execution": {
     "iopub.execute_input": "2023-06-19T07:54:08.144027Z",
     "iopub.status.busy": "2023-06-19T07:54:08.143680Z",
     "iopub.status.idle": "2023-06-19T07:54:08.148642Z",
     "shell.execute_reply": "2023-06-19T07:54:08.147610Z"
    },
    "papermill": {
     "duration": 0.021546,
     "end_time": "2023-06-19T07:54:08.151197",
     "exception": false,
     "start_time": "2023-06-19T07:54:08.129651",
     "status": "completed"
    },
    "tags": []
   },
   "outputs": [],
   "source": [
    "pred_df_v1_p1 = deepcopy(pred_df)"
   ]
  },
  {
   "cell_type": "code",
   "execution_count": 19,
   "id": "20141989",
   "metadata": {
    "execution": {
     "iopub.execute_input": "2023-06-19T07:54:08.176915Z",
     "iopub.status.busy": "2023-06-19T07:54:08.176568Z",
     "iopub.status.idle": "2023-06-19T07:54:08.610108Z",
     "shell.execute_reply": "2023-06-19T07:54:08.609125Z"
    },
    "papermill": {
     "duration": 0.449205,
     "end_time": "2023-06-19T07:54:08.612626",
     "exception": false,
     "start_time": "2023-06-19T07:54:08.163421",
     "status": "completed"
    },
    "tags": []
   },
   "outputs": [],
   "source": [
    "del model\n",
    "gc.collect()\n",
    "torch.cuda.empty_cache()"
   ]
  },
  {
   "cell_type": "markdown",
   "id": "8cd442fc",
   "metadata": {
    "papermill": {
     "duration": 0.011893,
     "end_time": "2023-06-19T07:54:08.637118",
     "exception": false,
     "start_time": "2023-06-19T07:54:08.625225",
     "status": "completed"
    },
    "tags": []
   },
   "source": [
    "# Pass 2 - Scatter"
   ]
  },
  {
   "cell_type": "code",
   "execution_count": 20,
   "id": "cb5d9bde",
   "metadata": {
    "execution": {
     "iopub.execute_input": "2023-06-19T07:54:08.663826Z",
     "iopub.status.busy": "2023-06-19T07:54:08.662858Z",
     "iopub.status.idle": "2023-06-19T07:54:08.669845Z",
     "shell.execute_reply": "2023-06-19T07:54:08.668684Z"
    },
    "papermill": {
     "duration": 0.023379,
     "end_time": "2023-06-19T07:54:08.672933",
     "exception": false,
     "start_time": "2023-06-19T07:54:08.649554",
     "status": "completed"
    },
    "tags": []
   },
   "outputs": [
    {
     "name": "stdout",
     "output_type": "stream",
     "text": [
      "Overwriting mga_cfg_deplot.yaml\n"
     ]
    }
   ],
   "source": [
    "%%writefile mga_cfg_deplot.yaml\n",
    "model:\n",
    "    backbone_path: /kaggle/input/google-deplot\n",
    "    max_length: 1280\n",
    "    max_patches: 3072\n",
    "    patch_size: 16\n",
    "    len_tokenizer: ???\n",
    "    pad_token_id: ???\n",
    "    decoder_start_token_id: ???\n",
    "    bos_token_id: ???\n",
    "        \n",
    "predict_params:\n",
    "    bs: 1\n",
    "    checkpoint_path: /kaggle/input/mga-r-scatter-matcha/mga_model_fold_0.pth.tar\n",
    "\n",
    "competition_dataset:\n",
    "    data_dir: /kaggle/input/benetech-making-graphs-accessible"
   ]
  },
  {
   "cell_type": "code",
   "execution_count": 21,
   "id": "5f7d1f3f",
   "metadata": {
    "execution": {
     "iopub.execute_input": "2023-06-19T07:54:08.699959Z",
     "iopub.status.busy": "2023-06-19T07:54:08.699500Z",
     "iopub.status.idle": "2023-06-19T07:54:08.712627Z",
     "shell.execute_reply": "2023-06-19T07:54:08.711597Z"
    },
    "papermill": {
     "duration": 0.029591,
     "end_time": "2023-06-19T07:54:08.715013",
     "exception": false,
     "start_time": "2023-06-19T07:54:08.685422",
     "status": "completed"
    },
    "tags": []
   },
   "outputs": [
    {
     "data": {
      "text/plain": [
       "{'model': {'backbone_path': '/kaggle/input/google-deplot', 'max_length': 1280, 'max_patches': 3072, 'patch_size': 16, 'len_tokenizer': '???', 'pad_token_id': '???', 'decoder_start_token_id': '???', 'bos_token_id': '???'}, 'predict_params': {'bs': 1, 'checkpoint_path': '/kaggle/input/mga-r-scatter-matcha/mga_model_fold_0.pth.tar'}, 'competition_dataset': {'data_dir': '/kaggle/input/benetech-making-graphs-accessible'}}"
      ]
     },
     "execution_count": 21,
     "metadata": {},
     "output_type": "execute_result"
    }
   ],
   "source": [
    "cfg = OmegaConf.load('mga_cfg_deplot.yaml')\n",
    "cfg"
   ]
  },
  {
   "cell_type": "code",
   "execution_count": 22,
   "id": "a5a44182",
   "metadata": {
    "execution": {
     "iopub.execute_input": "2023-06-19T07:54:08.741667Z",
     "iopub.status.busy": "2023-06-19T07:54:08.741343Z",
     "iopub.status.idle": "2023-06-19T07:54:39.745009Z",
     "shell.execute_reply": "2023-06-19T07:54:39.744019Z"
    },
    "papermill": {
     "duration": 31.034232,
     "end_time": "2023-06-19T07:54:39.761943",
     "exception": false,
     "start_time": "2023-06-19T07:54:08.727711",
     "status": "completed"
    },
    "tags": []
   },
   "outputs": [
    {
     "name": "stdout",
     "output_type": "stream",
     "text": [
      "loading processor from /kaggle/input/google-deplot\n",
      "adding new tokens...\n",
      "initializing the MGA model...\n",
      "resizing model embeddings...\n",
      "tokenizer length = 50359\n",
      "====================================================================================================\n",
      "loading model from checkpoint: /kaggle/input/mga-r-scatter-matcha/mga_model_fold_0.pth.tar\n",
      "loaded!\n",
      "accelerator setup...\n",
      "model is in eval mode\n",
      "====================================================================================================\n"
     ]
    },
    {
     "data": {
      "application/vnd.jupyter.widget-view+json": {
       "model_id": "d28e986512374adab3f0a8b81337dee9",
       "version_major": 2,
       "version_minor": 0
      },
      "text/plain": [
       "  0%|          | 0/1 [00:00<?, ?it/s]"
      ]
     },
     "metadata": {},
     "output_type": "display_data"
    },
    {
     "data": {
      "text/html": [
       "<div>\n",
       "<style scoped>\n",
       "    .dataframe tbody tr th:only-of-type {\n",
       "        vertical-align: middle;\n",
       "    }\n",
       "\n",
       "    .dataframe tbody tr th {\n",
       "        vertical-align: top;\n",
       "    }\n",
       "\n",
       "    .dataframe thead th {\n",
       "        text-align: right;\n",
       "    }\n",
       "</style>\n",
       "<table border=\"1\" class=\"dataframe\">\n",
       "  <thead>\n",
       "    <tr style=\"text-align: right;\">\n",
       "      <th></th>\n",
       "      <th>id</th>\n",
       "      <th>data_series</th>\n",
       "      <th>chart_type</th>\n",
       "    </tr>\n",
       "  </thead>\n",
       "  <tbody>\n",
       "    <tr>\n",
       "      <th>0</th>\n",
       "      <td>00f5404753cf_x</td>\n",
       "      <td>5.00e+00;5.00e+00;5.00e+00;6.00e+00;6.00e+00;6...</td>\n",
       "      <td>scatter</td>\n",
       "    </tr>\n",
       "    <tr>\n",
       "      <th>1</th>\n",
       "      <td>00f5404753cf_y</td>\n",
       "      <td>1.10e+01;1.20e+01;1.40e+01;1.20e+01;1.30e+01;1...</td>\n",
       "      <td>scatter</td>\n",
       "    </tr>\n",
       "  </tbody>\n",
       "</table>\n",
       "</div>"
      ],
      "text/plain": [
       "               id                                        data_series  \\\n",
       "0  00f5404753cf_x  5.00e+00;5.00e+00;5.00e+00;6.00e+00;6.00e+00;6...   \n",
       "1  00f5404753cf_y  1.10e+01;1.20e+01;1.40e+01;1.20e+01;1.30e+01;1...   \n",
       "\n",
       "  chart_type  \n",
       "0    scatter  \n",
       "1    scatter  "
      ]
     },
     "execution_count": 22,
     "metadata": {},
     "output_type": "execute_result"
    }
   ],
   "source": [
    "image_ids = deepcopy(scatter_ids)\n",
    "infer_ds = MGADataset(cfg, image_ids)\n",
    "\n",
    "tokenizer = infer_ds.processor.tokenizer\n",
    "cfg.model.len_tokenizer = len(tokenizer)\n",
    "\n",
    "cfg.model.pad_token_id = tokenizer.pad_token_id\n",
    "BOS_TOKEN = TOKEN_MAP[\"bos_token\"]\n",
    "\n",
    "cfg.model.decoder_start_token_id = tokenizer.convert_tokens_to_ids([BOS_TOKEN])[0]\n",
    "cfg.model.bos_token_id = tokenizer.convert_tokens_to_ids([BOS_TOKEN])[0]\n",
    "\n",
    "collate_fn = MGACollator(tokenizer=tokenizer)\n",
    "\n",
    "infer_dl = DataLoader(\n",
    "    infer_ds,\n",
    "    batch_size=cfg.predict_params.bs,\n",
    "    collate_fn=collate_fn,\n",
    "    shuffle=False,\n",
    ")\n",
    "\n",
    "cfg_dict = OmegaConf.to_container(cfg, resolve=True)\n",
    "\n",
    "model = MGAModel(cfg)\n",
    "\n",
    "print(\"==\"*50)\n",
    "checkpoint_path = cfg.predict_params.checkpoint_path\n",
    "print(f\"loading model from checkpoint: {checkpoint_path}\")\n",
    "ckpt = torch.load(checkpoint_path)\n",
    "model.load_state_dict(ckpt['state_dict'])\n",
    "del ckpt\n",
    "gc.collect()\n",
    "print(\"loaded!\")\n",
    "\n",
    "print(\"accelerator setup...\")\n",
    "accelerator = Accelerator()  # cpu = True\n",
    "\n",
    "model, infer_dl = accelerator.prepare(model, infer_dl)\n",
    "\n",
    "model.eval()\n",
    "print(\"model is in eval mode\")\n",
    "print(\"==\"*50)\n",
    "\n",
    "pred_df = run_evaluation(model, infer_dl, tokenizer, TOKEN_MAP,  max_len=cfg.model.max_length)\n",
    "\n",
    "pred_df[\"data_series\"] = pred_df[\"data_series\"].apply(lambda x: \";\".join(x))\n",
    "pred_df.head()"
   ]
  },
  {
   "cell_type": "code",
   "execution_count": 23,
   "id": "60b086e7",
   "metadata": {
    "execution": {
     "iopub.execute_input": "2023-06-19T07:54:39.790450Z",
     "iopub.status.busy": "2023-06-19T07:54:39.790093Z",
     "iopub.status.idle": "2023-06-19T07:54:39.794871Z",
     "shell.execute_reply": "2023-06-19T07:54:39.793960Z"
    },
    "papermill": {
     "duration": 0.021615,
     "end_time": "2023-06-19T07:54:39.796968",
     "exception": false,
     "start_time": "2023-06-19T07:54:39.775353",
     "status": "completed"
    },
    "tags": []
   },
   "outputs": [],
   "source": [
    "pred_df_v1_p2 = deepcopy(pred_df)"
   ]
  },
  {
   "cell_type": "markdown",
   "id": "ff6baff6",
   "metadata": {
    "papermill": {
     "duration": 0.012992,
     "end_time": "2023-06-19T07:54:39.823518",
     "exception": false,
     "start_time": "2023-06-19T07:54:39.810526",
     "status": "completed"
    },
    "tags": []
   },
   "source": [
    "# Merge"
   ]
  },
  {
   "cell_type": "code",
   "execution_count": 24,
   "id": "8ad6bb15",
   "metadata": {
    "execution": {
     "iopub.execute_input": "2023-06-19T07:54:39.853048Z",
     "iopub.status.busy": "2023-06-19T07:54:39.851292Z",
     "iopub.status.idle": "2023-06-19T07:54:39.864781Z",
     "shell.execute_reply": "2023-06-19T07:54:39.863840Z"
    },
    "papermill": {
     "duration": 0.030049,
     "end_time": "2023-06-19T07:54:39.866747",
     "exception": false,
     "start_time": "2023-06-19T07:54:39.836698",
     "status": "completed"
    },
    "tags": []
   },
   "outputs": [
    {
     "data": {
      "text/html": [
       "<div>\n",
       "<style scoped>\n",
       "    .dataframe tbody tr th:only-of-type {\n",
       "        vertical-align: middle;\n",
       "    }\n",
       "\n",
       "    .dataframe tbody tr th {\n",
       "        vertical-align: top;\n",
       "    }\n",
       "\n",
       "    .dataframe thead th {\n",
       "        text-align: right;\n",
       "    }\n",
       "</style>\n",
       "<table border=\"1\" class=\"dataframe\">\n",
       "  <thead>\n",
       "    <tr style=\"text-align: right;\">\n",
       "      <th></th>\n",
       "      <th>id</th>\n",
       "      <th>data_series</th>\n",
       "      <th>chart_type</th>\n",
       "    </tr>\n",
       "  </thead>\n",
       "  <tbody>\n",
       "    <tr>\n",
       "      <th>0</th>\n",
       "      <td>000b92c3b098_x</td>\n",
       "      <td>0;6;12;18;24</td>\n",
       "      <td>line</td>\n",
       "    </tr>\n",
       "    <tr>\n",
       "      <th>1</th>\n",
       "      <td>000b92c3b098_y</td>\n",
       "      <td>1.03e-02;-6.82e-01;-1.38e+00;-2.08e+00;-2.74e+00</td>\n",
       "      <td>line</td>\n",
       "    </tr>\n",
       "    <tr>\n",
       "      <th>2</th>\n",
       "      <td>00dcf883a459_x</td>\n",
       "      <td>Group 1;Group 2</td>\n",
       "      <td>vertical_bar</td>\n",
       "    </tr>\n",
       "    <tr>\n",
       "      <th>3</th>\n",
       "      <td>00dcf883a459_y</td>\n",
       "      <td>3.60e+00;8.40e+00</td>\n",
       "      <td>vertical_bar</td>\n",
       "    </tr>\n",
       "    <tr>\n",
       "      <th>4</th>\n",
       "      <td>007a18eb4e09_x</td>\n",
       "      <td>0.0;0.4;0.8;1.2;1.6;2.0;2.4</td>\n",
       "      <td>line</td>\n",
       "    </tr>\n",
       "  </tbody>\n",
       "</table>\n",
       "</div>"
      ],
      "text/plain": [
       "               id                                       data_series  \\\n",
       "0  000b92c3b098_x                                      0;6;12;18;24   \n",
       "1  000b92c3b098_y  1.03e-02;-6.82e-01;-1.38e+00;-2.08e+00;-2.74e+00   \n",
       "2  00dcf883a459_x                                   Group 1;Group 2   \n",
       "3  00dcf883a459_y                                 3.60e+00;8.40e+00   \n",
       "4  007a18eb4e09_x                       0.0;0.4;0.8;1.2;1.6;2.0;2.4   \n",
       "\n",
       "     chart_type  \n",
       "0          line  \n",
       "1          line  \n",
       "2  vertical_bar  \n",
       "3  vertical_bar  \n",
       "4          line  "
      ]
     },
     "execution_count": 24,
     "metadata": {},
     "output_type": "execute_result"
    }
   ],
   "source": [
    "pred_df = pd.concat([pred_df_v1_p1, pred_df_v1_p2])\n",
    "pred_df = pred_df.reset_index(drop=True)\n",
    "pred_df.head()"
   ]
  },
  {
   "cell_type": "code",
   "execution_count": 25,
   "id": "376d34e2",
   "metadata": {
    "execution": {
     "iopub.execute_input": "2023-06-19T07:54:39.894936Z",
     "iopub.status.busy": "2023-06-19T07:54:39.894579Z",
     "iopub.status.idle": "2023-06-19T07:54:39.913600Z",
     "shell.execute_reply": "2023-06-19T07:54:39.912597Z"
    },
    "papermill": {
     "duration": 0.035458,
     "end_time": "2023-06-19T07:54:39.915740",
     "exception": false,
     "start_time": "2023-06-19T07:54:39.880282",
     "status": "completed"
    },
    "tags": []
   },
   "outputs": [],
   "source": [
    "pred_df_final = pd.merge(pred_df_v0[['id', 'chart_type']], pred_df[['id', 'data_series']], on='id', how='left')\n",
    "pred_df_final['data_series'] = pred_df_final['data_series'].fillna('')"
   ]
  },
  {
   "cell_type": "code",
   "execution_count": 26,
   "id": "fc67a313",
   "metadata": {
    "execution": {
     "iopub.execute_input": "2023-06-19T07:54:39.944709Z",
     "iopub.status.busy": "2023-06-19T07:54:39.944376Z",
     "iopub.status.idle": "2023-06-19T07:54:39.953418Z",
     "shell.execute_reply": "2023-06-19T07:54:39.949621Z"
    },
    "papermill": {
     "duration": 0.026782,
     "end_time": "2023-06-19T07:54:39.956221",
     "exception": false,
     "start_time": "2023-06-19T07:54:39.929439",
     "status": "completed"
    },
    "tags": []
   },
   "outputs": [],
   "source": [
    "pred_df_final = pred_df_final[[\"id\", \"data_series\", \"chart_type\"]].copy()\n",
    "pred_df_final = pred_df_final.reset_index(drop=True)"
   ]
  },
  {
   "cell_type": "code",
   "execution_count": 27,
   "id": "30153339",
   "metadata": {
    "execution": {
     "iopub.execute_input": "2023-06-19T07:54:39.986185Z",
     "iopub.status.busy": "2023-06-19T07:54:39.984738Z",
     "iopub.status.idle": "2023-06-19T07:54:39.994721Z",
     "shell.execute_reply": "2023-06-19T07:54:39.993838Z"
    },
    "papermill": {
     "duration": 0.026503,
     "end_time": "2023-06-19T07:54:39.996686",
     "exception": false,
     "start_time": "2023-06-19T07:54:39.970183",
     "status": "completed"
    },
    "tags": []
   },
   "outputs": [],
   "source": [
    "pred_df_final.to_csv(\"submission.csv\", index=False)"
   ]
  },
  {
   "cell_type": "code",
   "execution_count": 28,
   "id": "cf4a63b3",
   "metadata": {
    "execution": {
     "iopub.execute_input": "2023-06-19T07:54:40.025705Z",
     "iopub.status.busy": "2023-06-19T07:54:40.024800Z",
     "iopub.status.idle": "2023-06-19T07:54:40.036179Z",
     "shell.execute_reply": "2023-06-19T07:54:40.035097Z"
    },
    "papermill": {
     "duration": 0.028469,
     "end_time": "2023-06-19T07:54:40.039016",
     "exception": false,
     "start_time": "2023-06-19T07:54:40.010547",
     "status": "completed"
    },
    "tags": []
   },
   "outputs": [
    {
     "data": {
      "text/html": [
       "<div>\n",
       "<style scoped>\n",
       "    .dataframe tbody tr th:only-of-type {\n",
       "        vertical-align: middle;\n",
       "    }\n",
       "\n",
       "    .dataframe tbody tr th {\n",
       "        vertical-align: top;\n",
       "    }\n",
       "\n",
       "    .dataframe thead th {\n",
       "        text-align: right;\n",
       "    }\n",
       "</style>\n",
       "<table border=\"1\" class=\"dataframe\">\n",
       "  <thead>\n",
       "    <tr style=\"text-align: right;\">\n",
       "      <th></th>\n",
       "      <th>id</th>\n",
       "      <th>data_series</th>\n",
       "      <th>chart_type</th>\n",
       "    </tr>\n",
       "  </thead>\n",
       "  <tbody>\n",
       "    <tr>\n",
       "      <th>0</th>\n",
       "      <td>000b92c3b098_x</td>\n",
       "      <td>0;6;12;18;24</td>\n",
       "      <td>line</td>\n",
       "    </tr>\n",
       "    <tr>\n",
       "      <th>1</th>\n",
       "      <td>000b92c3b098_y</td>\n",
       "      <td>1.03e-02;-6.82e-01;-1.38e+00;-2.08e+00;-2.74e+00</td>\n",
       "      <td>line</td>\n",
       "    </tr>\n",
       "    <tr>\n",
       "      <th>2</th>\n",
       "      <td>01b45b831589_x</td>\n",
       "      <td>21-Feb;22-Feb;23-Feb;24-Feb;25-Feb;26-Feb;27-F...</td>\n",
       "      <td>vertical_bar</td>\n",
       "    </tr>\n",
       "    <tr>\n",
       "      <th>3</th>\n",
       "      <td>01b45b831589_y</td>\n",
       "      <td>8.83e+04;1.50e+05;1.71e+05;1.76e+05;1.37e+05;9...</td>\n",
       "      <td>vertical_bar</td>\n",
       "    </tr>\n",
       "    <tr>\n",
       "      <th>4</th>\n",
       "      <td>00f5404753cf_x</td>\n",
       "      <td>5.00e+00;5.00e+00;5.00e+00;6.00e+00;6.00e+00;6...</td>\n",
       "      <td>scatter</td>\n",
       "    </tr>\n",
       "    <tr>\n",
       "      <th>5</th>\n",
       "      <td>00f5404753cf_y</td>\n",
       "      <td>1.10e+01;1.20e+01;1.40e+01;1.20e+01;1.30e+01;1...</td>\n",
       "      <td>scatter</td>\n",
       "    </tr>\n",
       "    <tr>\n",
       "      <th>6</th>\n",
       "      <td>00dcf883a459_x</td>\n",
       "      <td>Group 1;Group 2</td>\n",
       "      <td>vertical_bar</td>\n",
       "    </tr>\n",
       "    <tr>\n",
       "      <th>7</th>\n",
       "      <td>00dcf883a459_y</td>\n",
       "      <td>3.60e+00;8.40e+00</td>\n",
       "      <td>vertical_bar</td>\n",
       "    </tr>\n",
       "    <tr>\n",
       "      <th>8</th>\n",
       "      <td>007a18eb4e09_x</td>\n",
       "      <td>0.0;0.4;0.8;1.2;1.6;2.0;2.4</td>\n",
       "      <td>line</td>\n",
       "    </tr>\n",
       "    <tr>\n",
       "      <th>9</th>\n",
       "      <td>007a18eb4e09_y</td>\n",
       "      <td>1.33e-02;1.33e-02;1.33e-02;1.33e-02;1.33e-02;1...</td>\n",
       "      <td>line</td>\n",
       "    </tr>\n",
       "  </tbody>\n",
       "</table>\n",
       "</div>"
      ],
      "text/plain": [
       "               id                                        data_series  \\\n",
       "0  000b92c3b098_x                                       0;6;12;18;24   \n",
       "1  000b92c3b098_y   1.03e-02;-6.82e-01;-1.38e+00;-2.08e+00;-2.74e+00   \n",
       "2  01b45b831589_x  21-Feb;22-Feb;23-Feb;24-Feb;25-Feb;26-Feb;27-F...   \n",
       "3  01b45b831589_y  8.83e+04;1.50e+05;1.71e+05;1.76e+05;1.37e+05;9...   \n",
       "4  00f5404753cf_x  5.00e+00;5.00e+00;5.00e+00;6.00e+00;6.00e+00;6...   \n",
       "5  00f5404753cf_y  1.10e+01;1.20e+01;1.40e+01;1.20e+01;1.30e+01;1...   \n",
       "6  00dcf883a459_x                                    Group 1;Group 2   \n",
       "7  00dcf883a459_y                                  3.60e+00;8.40e+00   \n",
       "8  007a18eb4e09_x                        0.0;0.4;0.8;1.2;1.6;2.0;2.4   \n",
       "9  007a18eb4e09_y  1.33e-02;1.33e-02;1.33e-02;1.33e-02;1.33e-02;1...   \n",
       "\n",
       "     chart_type  \n",
       "0          line  \n",
       "1          line  \n",
       "2  vertical_bar  \n",
       "3  vertical_bar  \n",
       "4       scatter  \n",
       "5       scatter  \n",
       "6  vertical_bar  \n",
       "7  vertical_bar  \n",
       "8          line  \n",
       "9          line  "
      ]
     },
     "execution_count": 28,
     "metadata": {},
     "output_type": "execute_result"
    }
   ],
   "source": [
    "pred_df_final.head(10)"
   ]
  },
  {
   "cell_type": "code",
   "execution_count": null,
   "id": "96cdc8ac",
   "metadata": {
    "papermill": {
     "duration": 0.01391,
     "end_time": "2023-06-19T07:54:40.067283",
     "exception": false,
     "start_time": "2023-06-19T07:54:40.053373",
     "status": "completed"
    },
    "tags": []
   },
   "outputs": [],
   "source": []
  },
  {
   "cell_type": "code",
   "execution_count": null,
   "id": "5b2596e9",
   "metadata": {
    "papermill": {
     "duration": 0.013336,
     "end_time": "2023-06-19T07:54:40.094328",
     "exception": false,
     "start_time": "2023-06-19T07:54:40.080992",
     "status": "completed"
    },
    "tags": []
   },
   "outputs": [],
   "source": []
  }
 ],
 "metadata": {
  "kernelspec": {
   "display_name": "Python 3",
   "language": "python",
   "name": "python3"
  },
  "language_info": {
   "codemirror_mode": {
    "name": "ipython",
    "version": 3
   },
   "file_extension": ".py",
   "mimetype": "text/x-python",
   "name": "python",
   "nbconvert_exporter": "python",
   "pygments_lexer": "ipython3",
   "version": "3.10.10"
  },
  "papermill": {
   "default_parameters": {},
   "duration": 122.76612,
   "end_time": "2023-06-19T07:54:43.066143",
   "environment_variables": {},
   "exception": null,
   "input_path": "__notebook__.ipynb",
   "output_path": "__notebook__.ipynb",
   "parameters": {},
   "start_time": "2023-06-19T07:52:40.300023",
   "version": "2.4.0"
  },
  "widgets": {
   "application/vnd.jupyter.widget-state+json": {
    "state": {
     "0f57b65c38724b348b5e7ef07c8fe9ff": {
      "model_module": "@jupyter-widgets/base",
      "model_module_version": "1.2.0",
      "model_name": "LayoutModel",
      "state": {
       "_model_module": "@jupyter-widgets/base",
       "_model_module_version": "1.2.0",
       "_model_name": "LayoutModel",
       "_view_count": null,
       "_view_module": "@jupyter-widgets/base",
       "_view_module_version": "1.2.0",
       "_view_name": "LayoutView",
       "align_content": null,
       "align_items": null,
       "align_self": null,
       "border": null,
       "bottom": null,
       "display": null,
       "flex": null,
       "flex_flow": null,
       "grid_area": null,
       "grid_auto_columns": null,
       "grid_auto_flow": null,
       "grid_auto_rows": null,
       "grid_column": null,
       "grid_gap": null,
       "grid_row": null,
       "grid_template_areas": null,
       "grid_template_columns": null,
       "grid_template_rows": null,
       "height": null,
       "justify_content": null,
       "justify_items": null,
       "left": null,
       "margin": null,
       "max_height": null,
       "max_width": null,
       "min_height": null,
       "min_width": null,
       "object_fit": null,
       "object_position": null,
       "order": null,
       "overflow": null,
       "overflow_x": null,
       "overflow_y": null,
       "padding": null,
       "right": null,
       "top": null,
       "visibility": null,
       "width": null
      }
     },
     "193eb0815856488498f6c251ba7b15f4": {
      "model_module": "@jupyter-widgets/controls",
      "model_module_version": "1.5.0",
      "model_name": "DescriptionStyleModel",
      "state": {
       "_model_module": "@jupyter-widgets/controls",
       "_model_module_version": "1.5.0",
       "_model_name": "DescriptionStyleModel",
       "_view_count": null,
       "_view_module": "@jupyter-widgets/base",
       "_view_module_version": "1.2.0",
       "_view_name": "StyleView",
       "description_width": ""
      }
     },
     "19e289c8631a43da8dea573741e87a1a": {
      "model_module": "@jupyter-widgets/controls",
      "model_module_version": "1.5.0",
      "model_name": "HTMLModel",
      "state": {
       "_dom_classes": [],
       "_model_module": "@jupyter-widgets/controls",
       "_model_module_version": "1.5.0",
       "_model_name": "HTMLModel",
       "_view_count": null,
       "_view_module": "@jupyter-widgets/controls",
       "_view_module_version": "1.5.0",
       "_view_name": "HTMLView",
       "description": "",
       "description_tooltip": null,
       "layout": "IPY_MODEL_f24d1c48fe7d4533b7e3ffca885fde18",
       "placeholder": "​",
       "style": "IPY_MODEL_e43fe9d4cd914e1d9ae06ee5940969d4",
       "value": "100%"
      }
     },
     "22ebc0625775436e800696fe28121120": {
      "model_module": "@jupyter-widgets/base",
      "model_module_version": "1.2.0",
      "model_name": "LayoutModel",
      "state": {
       "_model_module": "@jupyter-widgets/base",
       "_model_module_version": "1.2.0",
       "_model_name": "LayoutModel",
       "_view_count": null,
       "_view_module": "@jupyter-widgets/base",
       "_view_module_version": "1.2.0",
       "_view_name": "LayoutView",
       "align_content": null,
       "align_items": null,
       "align_self": null,
       "border": null,
       "bottom": null,
       "display": null,
       "flex": null,
       "flex_flow": null,
       "grid_area": null,
       "grid_auto_columns": null,
       "grid_auto_flow": null,
       "grid_auto_rows": null,
       "grid_column": null,
       "grid_gap": null,
       "grid_row": null,
       "grid_template_areas": null,
       "grid_template_columns": null,
       "grid_template_rows": null,
       "height": null,
       "justify_content": null,
       "justify_items": null,
       "left": null,
       "margin": null,
       "max_height": null,
       "max_width": null,
       "min_height": null,
       "min_width": null,
       "object_fit": null,
       "object_position": null,
       "order": null,
       "overflow": null,
       "overflow_x": null,
       "overflow_y": null,
       "padding": null,
       "right": null,
       "top": null,
       "visibility": null,
       "width": null
      }
     },
     "230c0bfd842c445da16c0916d352f1ea": {
      "model_module": "@jupyter-widgets/controls",
      "model_module_version": "1.5.0",
      "model_name": "ProgressStyleModel",
      "state": {
       "_model_module": "@jupyter-widgets/controls",
       "_model_module_version": "1.5.0",
       "_model_name": "ProgressStyleModel",
       "_view_count": null,
       "_view_module": "@jupyter-widgets/base",
       "_view_module_version": "1.2.0",
       "_view_name": "StyleView",
       "bar_color": null,
       "description_width": ""
      }
     },
     "375b0d2b0018419e8004e899ff5fa956": {
      "model_module": "@jupyter-widgets/controls",
      "model_module_version": "1.5.0",
      "model_name": "HBoxModel",
      "state": {
       "_dom_classes": [],
       "_model_module": "@jupyter-widgets/controls",
       "_model_module_version": "1.5.0",
       "_model_name": "HBoxModel",
       "_view_count": null,
       "_view_module": "@jupyter-widgets/controls",
       "_view_module_version": "1.5.0",
       "_view_name": "HBoxView",
       "box_style": "",
       "children": [
        "IPY_MODEL_379d3143b1424ffba8ba7e27f394b19c",
        "IPY_MODEL_40cf1d9fdb594462b72f0e670c1b4d91",
        "IPY_MODEL_ee7eeea215d843a78523cb5aa29e0cba"
       ],
       "layout": "IPY_MODEL_56614db58562442cb8ee2616ae5efeef"
      }
     },
     "379d3143b1424ffba8ba7e27f394b19c": {
      "model_module": "@jupyter-widgets/controls",
      "model_module_version": "1.5.0",
      "model_name": "HTMLModel",
      "state": {
       "_dom_classes": [],
       "_model_module": "@jupyter-widgets/controls",
       "_model_module_version": "1.5.0",
       "_model_name": "HTMLModel",
       "_view_count": null,
       "_view_module": "@jupyter-widgets/controls",
       "_view_module_version": "1.5.0",
       "_view_name": "HTMLView",
       "description": "",
       "description_tooltip": null,
       "layout": "IPY_MODEL_b9e6b18689ad433d80b24c4754693163",
       "placeholder": "​",
       "style": "IPY_MODEL_fe571153e46947f38016f1451c65c329",
       "value": "100%"
      }
     },
     "40cf1d9fdb594462b72f0e670c1b4d91": {
      "model_module": "@jupyter-widgets/controls",
      "model_module_version": "1.5.0",
      "model_name": "FloatProgressModel",
      "state": {
       "_dom_classes": [],
       "_model_module": "@jupyter-widgets/controls",
       "_model_module_version": "1.5.0",
       "_model_name": "FloatProgressModel",
       "_view_count": null,
       "_view_module": "@jupyter-widgets/controls",
       "_view_module_version": "1.5.0",
       "_view_name": "ProgressView",
       "bar_style": "success",
       "description": "",
       "description_tooltip": null,
       "layout": "IPY_MODEL_c06f1484bbf24be499a093051e55ea46",
       "max": 5.0,
       "min": 0.0,
       "orientation": "horizontal",
       "style": "IPY_MODEL_820169afa936453a9b0e4299f50b4266",
       "value": 5.0
      }
     },
     "425fffc86044416389901a7a08218938": {
      "model_module": "@jupyter-widgets/controls",
      "model_module_version": "1.5.0",
      "model_name": "HTMLModel",
      "state": {
       "_dom_classes": [],
       "_model_module": "@jupyter-widgets/controls",
       "_model_module_version": "1.5.0",
       "_model_name": "HTMLModel",
       "_view_count": null,
       "_view_module": "@jupyter-widgets/controls",
       "_view_module_version": "1.5.0",
       "_view_name": "HTMLView",
       "description": "",
       "description_tooltip": null,
       "layout": "IPY_MODEL_bcc39c0cf4f74825a94d0d95c0c64147",
       "placeholder": "​",
       "style": "IPY_MODEL_ed2dd864e1f24cf5aefc9f7f9caf2b98",
       "value": " 4/4 [00:11&lt;00:00,  3.43s/it]"
      }
     },
     "4632746f713341ccb170b813dac6905c": {
      "model_module": "@jupyter-widgets/base",
      "model_module_version": "1.2.0",
      "model_name": "LayoutModel",
      "state": {
       "_model_module": "@jupyter-widgets/base",
       "_model_module_version": "1.2.0",
       "_model_name": "LayoutModel",
       "_view_count": null,
       "_view_module": "@jupyter-widgets/base",
       "_view_module_version": "1.2.0",
       "_view_name": "LayoutView",
       "align_content": null,
       "align_items": null,
       "align_self": null,
       "border": null,
       "bottom": null,
       "display": null,
       "flex": null,
       "flex_flow": null,
       "grid_area": null,
       "grid_auto_columns": null,
       "grid_auto_flow": null,
       "grid_auto_rows": null,
       "grid_column": null,
       "grid_gap": null,
       "grid_row": null,
       "grid_template_areas": null,
       "grid_template_columns": null,
       "grid_template_rows": null,
       "height": null,
       "justify_content": null,
       "justify_items": null,
       "left": null,
       "margin": null,
       "max_height": null,
       "max_width": null,
       "min_height": null,
       "min_width": null,
       "object_fit": null,
       "object_position": null,
       "order": null,
       "overflow": null,
       "overflow_x": null,
       "overflow_y": null,
       "padding": null,
       "right": null,
       "top": null,
       "visibility": null,
       "width": null
      }
     },
     "56614db58562442cb8ee2616ae5efeef": {
      "model_module": "@jupyter-widgets/base",
      "model_module_version": "1.2.0",
      "model_name": "LayoutModel",
      "state": {
       "_model_module": "@jupyter-widgets/base",
       "_model_module_version": "1.2.0",
       "_model_name": "LayoutModel",
       "_view_count": null,
       "_view_module": "@jupyter-widgets/base",
       "_view_module_version": "1.2.0",
       "_view_name": "LayoutView",
       "align_content": null,
       "align_items": null,
       "align_self": null,
       "border": null,
       "bottom": null,
       "display": null,
       "flex": null,
       "flex_flow": null,
       "grid_area": null,
       "grid_auto_columns": null,
       "grid_auto_flow": null,
       "grid_auto_rows": null,
       "grid_column": null,
       "grid_gap": null,
       "grid_row": null,
       "grid_template_areas": null,
       "grid_template_columns": null,
       "grid_template_rows": null,
       "height": null,
       "justify_content": null,
       "justify_items": null,
       "left": null,
       "margin": null,
       "max_height": null,
       "max_width": null,
       "min_height": null,
       "min_width": null,
       "object_fit": null,
       "object_position": null,
       "order": null,
       "overflow": null,
       "overflow_x": null,
       "overflow_y": null,
       "padding": null,
       "right": null,
       "top": null,
       "visibility": null,
       "width": null
      }
     },
     "5c93966040754248bfd0f2ee2ab8685b": {
      "model_module": "@jupyter-widgets/controls",
      "model_module_version": "1.5.0",
      "model_name": "HTMLModel",
      "state": {
       "_dom_classes": [],
       "_model_module": "@jupyter-widgets/controls",
       "_model_module_version": "1.5.0",
       "_model_name": "HTMLModel",
       "_view_count": null,
       "_view_module": "@jupyter-widgets/controls",
       "_view_module_version": "1.5.0",
       "_view_name": "HTMLView",
       "description": "",
       "description_tooltip": null,
       "layout": "IPY_MODEL_ee3aea13bc734de78688b40b78d0cbd6",
       "placeholder": "​",
       "style": "IPY_MODEL_193eb0815856488498f6c251ba7b15f4",
       "value": " 1/1 [00:12&lt;00:00, 12.83s/it]"
      }
     },
     "6e253c92ab6e4262bc62367a94938709": {
      "model_module": "@jupyter-widgets/controls",
      "model_module_version": "1.5.0",
      "model_name": "FloatProgressModel",
      "state": {
       "_dom_classes": [],
       "_model_module": "@jupyter-widgets/controls",
       "_model_module_version": "1.5.0",
       "_model_name": "FloatProgressModel",
       "_view_count": null,
       "_view_module": "@jupyter-widgets/controls",
       "_view_module_version": "1.5.0",
       "_view_name": "ProgressView",
       "bar_style": "success",
       "description": "",
       "description_tooltip": null,
       "layout": "IPY_MODEL_22ebc0625775436e800696fe28121120",
       "max": 4.0,
       "min": 0.0,
       "orientation": "horizontal",
       "style": "IPY_MODEL_c1e882af5a4b49208d2d4f25d9d7f8d3",
       "value": 4.0
      }
     },
     "820169afa936453a9b0e4299f50b4266": {
      "model_module": "@jupyter-widgets/controls",
      "model_module_version": "1.5.0",
      "model_name": "ProgressStyleModel",
      "state": {
       "_model_module": "@jupyter-widgets/controls",
       "_model_module_version": "1.5.0",
       "_model_name": "ProgressStyleModel",
       "_view_count": null,
       "_view_module": "@jupyter-widgets/base",
       "_view_module_version": "1.2.0",
       "_view_name": "StyleView",
       "bar_color": null,
       "description_width": ""
      }
     },
     "a6a7ec460ecd4e2fbbfc2b04e6a6e1ea": {
      "model_module": "@jupyter-widgets/controls",
      "model_module_version": "1.5.0",
      "model_name": "HTMLModel",
      "state": {
       "_dom_classes": [],
       "_model_module": "@jupyter-widgets/controls",
       "_model_module_version": "1.5.0",
       "_model_name": "HTMLModel",
       "_view_count": null,
       "_view_module": "@jupyter-widgets/controls",
       "_view_module_version": "1.5.0",
       "_view_name": "HTMLView",
       "description": "",
       "description_tooltip": null,
       "layout": "IPY_MODEL_c1b89b36d3f1434f8d64ffef2d86af72",
       "placeholder": "​",
       "style": "IPY_MODEL_cd5f08d6bfb64a27a72440dcea3bfe6f",
       "value": "100%"
      }
     },
     "aec4440f18b240d39ef074509a525c66": {
      "model_module": "@jupyter-widgets/base",
      "model_module_version": "1.2.0",
      "model_name": "LayoutModel",
      "state": {
       "_model_module": "@jupyter-widgets/base",
       "_model_module_version": "1.2.0",
       "_model_name": "LayoutModel",
       "_view_count": null,
       "_view_module": "@jupyter-widgets/base",
       "_view_module_version": "1.2.0",
       "_view_name": "LayoutView",
       "align_content": null,
       "align_items": null,
       "align_self": null,
       "border": null,
       "bottom": null,
       "display": null,
       "flex": null,
       "flex_flow": null,
       "grid_area": null,
       "grid_auto_columns": null,
       "grid_auto_flow": null,
       "grid_auto_rows": null,
       "grid_column": null,
       "grid_gap": null,
       "grid_row": null,
       "grid_template_areas": null,
       "grid_template_columns": null,
       "grid_template_rows": null,
       "height": null,
       "justify_content": null,
       "justify_items": null,
       "left": null,
       "margin": null,
       "max_height": null,
       "max_width": null,
       "min_height": null,
       "min_width": null,
       "object_fit": null,
       "object_position": null,
       "order": null,
       "overflow": null,
       "overflow_x": null,
       "overflow_y": null,
       "padding": null,
       "right": null,
       "top": null,
       "visibility": null,
       "width": null
      }
     },
     "b719572b7d9b47af812bd275d5fba548": {
      "model_module": "@jupyter-widgets/controls",
      "model_module_version": "1.5.0",
      "model_name": "DescriptionStyleModel",
      "state": {
       "_model_module": "@jupyter-widgets/controls",
       "_model_module_version": "1.5.0",
       "_model_name": "DescriptionStyleModel",
       "_view_count": null,
       "_view_module": "@jupyter-widgets/base",
       "_view_module_version": "1.2.0",
       "_view_name": "StyleView",
       "description_width": ""
      }
     },
     "b9e6b18689ad433d80b24c4754693163": {
      "model_module": "@jupyter-widgets/base",
      "model_module_version": "1.2.0",
      "model_name": "LayoutModel",
      "state": {
       "_model_module": "@jupyter-widgets/base",
       "_model_module_version": "1.2.0",
       "_model_name": "LayoutModel",
       "_view_count": null,
       "_view_module": "@jupyter-widgets/base",
       "_view_module_version": "1.2.0",
       "_view_name": "LayoutView",
       "align_content": null,
       "align_items": null,
       "align_self": null,
       "border": null,
       "bottom": null,
       "display": null,
       "flex": null,
       "flex_flow": null,
       "grid_area": null,
       "grid_auto_columns": null,
       "grid_auto_flow": null,
       "grid_auto_rows": null,
       "grid_column": null,
       "grid_gap": null,
       "grid_row": null,
       "grid_template_areas": null,
       "grid_template_columns": null,
       "grid_template_rows": null,
       "height": null,
       "justify_content": null,
       "justify_items": null,
       "left": null,
       "margin": null,
       "max_height": null,
       "max_width": null,
       "min_height": null,
       "min_width": null,
       "object_fit": null,
       "object_position": null,
       "order": null,
       "overflow": null,
       "overflow_x": null,
       "overflow_y": null,
       "padding": null,
       "right": null,
       "top": null,
       "visibility": null,
       "width": null
      }
     },
     "bcc39c0cf4f74825a94d0d95c0c64147": {
      "model_module": "@jupyter-widgets/base",
      "model_module_version": "1.2.0",
      "model_name": "LayoutModel",
      "state": {
       "_model_module": "@jupyter-widgets/base",
       "_model_module_version": "1.2.0",
       "_model_name": "LayoutModel",
       "_view_count": null,
       "_view_module": "@jupyter-widgets/base",
       "_view_module_version": "1.2.0",
       "_view_name": "LayoutView",
       "align_content": null,
       "align_items": null,
       "align_self": null,
       "border": null,
       "bottom": null,
       "display": null,
       "flex": null,
       "flex_flow": null,
       "grid_area": null,
       "grid_auto_columns": null,
       "grid_auto_flow": null,
       "grid_auto_rows": null,
       "grid_column": null,
       "grid_gap": null,
       "grid_row": null,
       "grid_template_areas": null,
       "grid_template_columns": null,
       "grid_template_rows": null,
       "height": null,
       "justify_content": null,
       "justify_items": null,
       "left": null,
       "margin": null,
       "max_height": null,
       "max_width": null,
       "min_height": null,
       "min_width": null,
       "object_fit": null,
       "object_position": null,
       "order": null,
       "overflow": null,
       "overflow_x": null,
       "overflow_y": null,
       "padding": null,
       "right": null,
       "top": null,
       "visibility": null,
       "width": null
      }
     },
     "bcd40945e59b44e196a9651ab4375cff": {
      "model_module": "@jupyter-widgets/controls",
      "model_module_version": "1.5.0",
      "model_name": "HBoxModel",
      "state": {
       "_dom_classes": [],
       "_model_module": "@jupyter-widgets/controls",
       "_model_module_version": "1.5.0",
       "_model_name": "HBoxModel",
       "_view_count": null,
       "_view_module": "@jupyter-widgets/controls",
       "_view_module_version": "1.5.0",
       "_view_name": "HBoxView",
       "box_style": "",
       "children": [
        "IPY_MODEL_19e289c8631a43da8dea573741e87a1a",
        "IPY_MODEL_6e253c92ab6e4262bc62367a94938709",
        "IPY_MODEL_425fffc86044416389901a7a08218938"
       ],
       "layout": "IPY_MODEL_fdaae9a96fe343628d4ea1cb45fe6439"
      }
     },
     "bd952b5c9a2740a88ff6acf661ad5e70": {
      "model_module": "@jupyter-widgets/controls",
      "model_module_version": "1.5.0",
      "model_name": "FloatProgressModel",
      "state": {
       "_dom_classes": [],
       "_model_module": "@jupyter-widgets/controls",
       "_model_module_version": "1.5.0",
       "_model_name": "FloatProgressModel",
       "_view_count": null,
       "_view_module": "@jupyter-widgets/controls",
       "_view_module_version": "1.5.0",
       "_view_name": "ProgressView",
       "bar_style": "success",
       "description": "",
       "description_tooltip": null,
       "layout": "IPY_MODEL_aec4440f18b240d39ef074509a525c66",
       "max": 1.0,
       "min": 0.0,
       "orientation": "horizontal",
       "style": "IPY_MODEL_230c0bfd842c445da16c0916d352f1ea",
       "value": 1.0
      }
     },
     "c06f1484bbf24be499a093051e55ea46": {
      "model_module": "@jupyter-widgets/base",
      "model_module_version": "1.2.0",
      "model_name": "LayoutModel",
      "state": {
       "_model_module": "@jupyter-widgets/base",
       "_model_module_version": "1.2.0",
       "_model_name": "LayoutModel",
       "_view_count": null,
       "_view_module": "@jupyter-widgets/base",
       "_view_module_version": "1.2.0",
       "_view_name": "LayoutView",
       "align_content": null,
       "align_items": null,
       "align_self": null,
       "border": null,
       "bottom": null,
       "display": null,
       "flex": null,
       "flex_flow": null,
       "grid_area": null,
       "grid_auto_columns": null,
       "grid_auto_flow": null,
       "grid_auto_rows": null,
       "grid_column": null,
       "grid_gap": null,
       "grid_row": null,
       "grid_template_areas": null,
       "grid_template_columns": null,
       "grid_template_rows": null,
       "height": null,
       "justify_content": null,
       "justify_items": null,
       "left": null,
       "margin": null,
       "max_height": null,
       "max_width": null,
       "min_height": null,
       "min_width": null,
       "object_fit": null,
       "object_position": null,
       "order": null,
       "overflow": null,
       "overflow_x": null,
       "overflow_y": null,
       "padding": null,
       "right": null,
       "top": null,
       "visibility": null,
       "width": null
      }
     },
     "c1b89b36d3f1434f8d64ffef2d86af72": {
      "model_module": "@jupyter-widgets/base",
      "model_module_version": "1.2.0",
      "model_name": "LayoutModel",
      "state": {
       "_model_module": "@jupyter-widgets/base",
       "_model_module_version": "1.2.0",
       "_model_name": "LayoutModel",
       "_view_count": null,
       "_view_module": "@jupyter-widgets/base",
       "_view_module_version": "1.2.0",
       "_view_name": "LayoutView",
       "align_content": null,
       "align_items": null,
       "align_self": null,
       "border": null,
       "bottom": null,
       "display": null,
       "flex": null,
       "flex_flow": null,
       "grid_area": null,
       "grid_auto_columns": null,
       "grid_auto_flow": null,
       "grid_auto_rows": null,
       "grid_column": null,
       "grid_gap": null,
       "grid_row": null,
       "grid_template_areas": null,
       "grid_template_columns": null,
       "grid_template_rows": null,
       "height": null,
       "justify_content": null,
       "justify_items": null,
       "left": null,
       "margin": null,
       "max_height": null,
       "max_width": null,
       "min_height": null,
       "min_width": null,
       "object_fit": null,
       "object_position": null,
       "order": null,
       "overflow": null,
       "overflow_x": null,
       "overflow_y": null,
       "padding": null,
       "right": null,
       "top": null,
       "visibility": null,
       "width": null
      }
     },
     "c1e882af5a4b49208d2d4f25d9d7f8d3": {
      "model_module": "@jupyter-widgets/controls",
      "model_module_version": "1.5.0",
      "model_name": "ProgressStyleModel",
      "state": {
       "_model_module": "@jupyter-widgets/controls",
       "_model_module_version": "1.5.0",
       "_model_name": "ProgressStyleModel",
       "_view_count": null,
       "_view_module": "@jupyter-widgets/base",
       "_view_module_version": "1.2.0",
       "_view_name": "StyleView",
       "bar_color": null,
       "description_width": ""
      }
     },
     "cd5f08d6bfb64a27a72440dcea3bfe6f": {
      "model_module": "@jupyter-widgets/controls",
      "model_module_version": "1.5.0",
      "model_name": "DescriptionStyleModel",
      "state": {
       "_model_module": "@jupyter-widgets/controls",
       "_model_module_version": "1.5.0",
       "_model_name": "DescriptionStyleModel",
       "_view_count": null,
       "_view_module": "@jupyter-widgets/base",
       "_view_module_version": "1.2.0",
       "_view_name": "StyleView",
       "description_width": ""
      }
     },
     "d28e986512374adab3f0a8b81337dee9": {
      "model_module": "@jupyter-widgets/controls",
      "model_module_version": "1.5.0",
      "model_name": "HBoxModel",
      "state": {
       "_dom_classes": [],
       "_model_module": "@jupyter-widgets/controls",
       "_model_module_version": "1.5.0",
       "_model_name": "HBoxModel",
       "_view_count": null,
       "_view_module": "@jupyter-widgets/controls",
       "_view_module_version": "1.5.0",
       "_view_name": "HBoxView",
       "box_style": "",
       "children": [
        "IPY_MODEL_a6a7ec460ecd4e2fbbfc2b04e6a6e1ea",
        "IPY_MODEL_bd952b5c9a2740a88ff6acf661ad5e70",
        "IPY_MODEL_5c93966040754248bfd0f2ee2ab8685b"
       ],
       "layout": "IPY_MODEL_0f57b65c38724b348b5e7ef07c8fe9ff"
      }
     },
     "e43fe9d4cd914e1d9ae06ee5940969d4": {
      "model_module": "@jupyter-widgets/controls",
      "model_module_version": "1.5.0",
      "model_name": "DescriptionStyleModel",
      "state": {
       "_model_module": "@jupyter-widgets/controls",
       "_model_module_version": "1.5.0",
       "_model_name": "DescriptionStyleModel",
       "_view_count": null,
       "_view_module": "@jupyter-widgets/base",
       "_view_module_version": "1.2.0",
       "_view_name": "StyleView",
       "description_width": ""
      }
     },
     "ed2dd864e1f24cf5aefc9f7f9caf2b98": {
      "model_module": "@jupyter-widgets/controls",
      "model_module_version": "1.5.0",
      "model_name": "DescriptionStyleModel",
      "state": {
       "_model_module": "@jupyter-widgets/controls",
       "_model_module_version": "1.5.0",
       "_model_name": "DescriptionStyleModel",
       "_view_count": null,
       "_view_module": "@jupyter-widgets/base",
       "_view_module_version": "1.2.0",
       "_view_name": "StyleView",
       "description_width": ""
      }
     },
     "ee3aea13bc734de78688b40b78d0cbd6": {
      "model_module": "@jupyter-widgets/base",
      "model_module_version": "1.2.0",
      "model_name": "LayoutModel",
      "state": {
       "_model_module": "@jupyter-widgets/base",
       "_model_module_version": "1.2.0",
       "_model_name": "LayoutModel",
       "_view_count": null,
       "_view_module": "@jupyter-widgets/base",
       "_view_module_version": "1.2.0",
       "_view_name": "LayoutView",
       "align_content": null,
       "align_items": null,
       "align_self": null,
       "border": null,
       "bottom": null,
       "display": null,
       "flex": null,
       "flex_flow": null,
       "grid_area": null,
       "grid_auto_columns": null,
       "grid_auto_flow": null,
       "grid_auto_rows": null,
       "grid_column": null,
       "grid_gap": null,
       "grid_row": null,
       "grid_template_areas": null,
       "grid_template_columns": null,
       "grid_template_rows": null,
       "height": null,
       "justify_content": null,
       "justify_items": null,
       "left": null,
       "margin": null,
       "max_height": null,
       "max_width": null,
       "min_height": null,
       "min_width": null,
       "object_fit": null,
       "object_position": null,
       "order": null,
       "overflow": null,
       "overflow_x": null,
       "overflow_y": null,
       "padding": null,
       "right": null,
       "top": null,
       "visibility": null,
       "width": null
      }
     },
     "ee7eeea215d843a78523cb5aa29e0cba": {
      "model_module": "@jupyter-widgets/controls",
      "model_module_version": "1.5.0",
      "model_name": "HTMLModel",
      "state": {
       "_dom_classes": [],
       "_model_module": "@jupyter-widgets/controls",
       "_model_module_version": "1.5.0",
       "_model_name": "HTMLModel",
       "_view_count": null,
       "_view_module": "@jupyter-widgets/controls",
       "_view_module_version": "1.5.0",
       "_view_name": "HTMLView",
       "description": "",
       "description_tooltip": null,
       "layout": "IPY_MODEL_4632746f713341ccb170b813dac6905c",
       "placeholder": "​",
       "style": "IPY_MODEL_b719572b7d9b47af812bd275d5fba548",
       "value": " 5/5 [00:05&lt;00:00,  1.34it/s]"
      }
     },
     "f24d1c48fe7d4533b7e3ffca885fde18": {
      "model_module": "@jupyter-widgets/base",
      "model_module_version": "1.2.0",
      "model_name": "LayoutModel",
      "state": {
       "_model_module": "@jupyter-widgets/base",
       "_model_module_version": "1.2.0",
       "_model_name": "LayoutModel",
       "_view_count": null,
       "_view_module": "@jupyter-widgets/base",
       "_view_module_version": "1.2.0",
       "_view_name": "LayoutView",
       "align_content": null,
       "align_items": null,
       "align_self": null,
       "border": null,
       "bottom": null,
       "display": null,
       "flex": null,
       "flex_flow": null,
       "grid_area": null,
       "grid_auto_columns": null,
       "grid_auto_flow": null,
       "grid_auto_rows": null,
       "grid_column": null,
       "grid_gap": null,
       "grid_row": null,
       "grid_template_areas": null,
       "grid_template_columns": null,
       "grid_template_rows": null,
       "height": null,
       "justify_content": null,
       "justify_items": null,
       "left": null,
       "margin": null,
       "max_height": null,
       "max_width": null,
       "min_height": null,
       "min_width": null,
       "object_fit": null,
       "object_position": null,
       "order": null,
       "overflow": null,
       "overflow_x": null,
       "overflow_y": null,
       "padding": null,
       "right": null,
       "top": null,
       "visibility": null,
       "width": null
      }
     },
     "fdaae9a96fe343628d4ea1cb45fe6439": {
      "model_module": "@jupyter-widgets/base",
      "model_module_version": "1.2.0",
      "model_name": "LayoutModel",
      "state": {
       "_model_module": "@jupyter-widgets/base",
       "_model_module_version": "1.2.0",
       "_model_name": "LayoutModel",
       "_view_count": null,
       "_view_module": "@jupyter-widgets/base",
       "_view_module_version": "1.2.0",
       "_view_name": "LayoutView",
       "align_content": null,
       "align_items": null,
       "align_self": null,
       "border": null,
       "bottom": null,
       "display": null,
       "flex": null,
       "flex_flow": null,
       "grid_area": null,
       "grid_auto_columns": null,
       "grid_auto_flow": null,
       "grid_auto_rows": null,
       "grid_column": null,
       "grid_gap": null,
       "grid_row": null,
       "grid_template_areas": null,
       "grid_template_columns": null,
       "grid_template_rows": null,
       "height": null,
       "justify_content": null,
       "justify_items": null,
       "left": null,
       "margin": null,
       "max_height": null,
       "max_width": null,
       "min_height": null,
       "min_width": null,
       "object_fit": null,
       "object_position": null,
       "order": null,
       "overflow": null,
       "overflow_x": null,
       "overflow_y": null,
       "padding": null,
       "right": null,
       "top": null,
       "visibility": null,
       "width": null
      }
     },
     "fe571153e46947f38016f1451c65c329": {
      "model_module": "@jupyter-widgets/controls",
      "model_module_version": "1.5.0",
      "model_name": "DescriptionStyleModel",
      "state": {
       "_model_module": "@jupyter-widgets/controls",
       "_model_module_version": "1.5.0",
       "_model_name": "DescriptionStyleModel",
       "_view_count": null,
       "_view_module": "@jupyter-widgets/base",
       "_view_module_version": "1.2.0",
       "_view_name": "StyleView",
       "description_width": ""
      }
     }
    },
    "version_major": 2,
    "version_minor": 0
   }
  }
 },
 "nbformat": 4,
 "nbformat_minor": 5
}
