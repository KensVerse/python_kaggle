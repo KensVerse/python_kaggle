{
 "cells": [
  {
   "cell_type": "code",
   "execution_count": 1,
   "id": "5f638a16",
   "metadata": {
    "execution": {
     "iopub.execute_input": "2023-06-09T03:40:39.229061Z",
     "iopub.status.busy": "2023-06-09T03:40:39.228257Z",
     "iopub.status.idle": "2023-06-09T03:40:40.815671Z",
     "shell.execute_reply": "2023-06-09T03:40:40.814568Z"
    },
    "papermill": {
     "duration": 1.603625,
     "end_time": "2023-06-09T03:40:40.818835",
     "exception": false,
     "start_time": "2023-06-09T03:40:39.215210",
     "status": "completed"
    },
    "tags": []
   },
   "outputs": [],
   "source": [
    "import pandas as pd, numpy as np\n",
    "from catboost import CatBoostClassifier\n",
    "import pickle\n",
    "import sys"
   ]
  },
  {
   "cell_type": "markdown",
   "id": "d64c9ec3",
   "metadata": {
    "papermill": {
     "duration": 0.009149,
     "end_time": "2023-06-09T03:40:40.837837",
     "exception": false,
     "start_time": "2023-06-09T03:40:40.828688",
     "status": "completed"
    },
    "tags": []
   },
   "source": [
    "# Load Train Data and Labels"
   ]
  },
  {
   "cell_type": "code",
   "execution_count": 2,
   "id": "3a54cf9d",
   "metadata": {
    "execution": {
     "iopub.execute_input": "2023-06-09T03:40:40.858977Z",
     "iopub.status.busy": "2023-06-09T03:40:40.858226Z",
     "iopub.status.idle": "2023-06-09T03:40:40.867210Z",
     "shell.execute_reply": "2023-06-09T03:40:40.866361Z"
    },
    "papermill": {
     "duration": 0.02232,
     "end_time": "2023-06-09T03:40:40.869708",
     "exception": false,
     "start_time": "2023-06-09T03:40:40.847388",
     "status": "completed"
    },
    "tags": []
   },
   "outputs": [],
   "source": [
    "dtypes = {\"session_id\": 'int64',\n",
    "          \"index\": np.int16,\n",
    "          \"elapsed_time\": np.int32,\n",
    "          \"event_name\": 'category',\n",
    "          \"name\": 'category',\n",
    "          \"level\": np.int8,\n",
    "          \"page\": np.float16,\n",
    "          \"room_coor_x\": np.float16,\n",
    "          \"room_coor_y\": np.float16,\n",
    "          \"screen_coor_x\": np.float16,\n",
    "          \"screen_coor_y\": np.float16,\n",
    "          \"hover_duration\": np.float32,\n",
    "          \"text\": 'category',\n",
    "          \"fqid\": 'category',\n",
    "          \"room_fqid\": 'category',\n",
    "          \"text_fqid\": 'category',\n",
    "          \"fullscreen\": np.int8,\n",
    "          \"hq\": np.int8,\n",
    "          \"music\": np.int8,\n",
    "          \"level_group\": 'category'\n",
    "          }\n",
    "use_col = ['session_id', 'index', 'elapsed_time', 'event_name', 'name', 'level', 'page',\n",
    "           'room_coor_x', 'room_coor_y', 'hover_duration', 'text', 'fqid', 'room_fqid', 'text_fqid', 'level_group']"
   ]
  },
  {
   "cell_type": "code",
   "execution_count": 3,
   "id": "30a73405",
   "metadata": {
    "execution": {
     "iopub.execute_input": "2023-06-09T03:40:40.891690Z",
     "iopub.status.busy": "2023-06-09T03:40:40.890920Z",
     "iopub.status.idle": "2023-06-09T03:40:42.498388Z",
     "shell.execute_reply": "2023-06-09T03:40:42.497415Z"
    },
    "papermill": {
     "duration": 1.621235,
     "end_time": "2023-06-09T03:40:42.500672",
     "exception": false,
     "start_time": "2023-06-09T03:40:40.879437",
     "status": "completed"
    },
    "tags": []
   },
   "outputs": [
    {
     "name": "stdout",
     "output_type": "stream",
     "text": [
      "(424116, 4)\n"
     ]
    },
    {
     "data": {
      "text/html": [
       "<div>\n",
       "<style scoped>\n",
       "    .dataframe tbody tr th:only-of-type {\n",
       "        vertical-align: middle;\n",
       "    }\n",
       "\n",
       "    .dataframe tbody tr th {\n",
       "        vertical-align: top;\n",
       "    }\n",
       "\n",
       "    .dataframe thead th {\n",
       "        text-align: right;\n",
       "    }\n",
       "</style>\n",
       "<table border=\"1\" class=\"dataframe\">\n",
       "  <thead>\n",
       "    <tr style=\"text-align: right;\">\n",
       "      <th></th>\n",
       "      <th>session_id</th>\n",
       "      <th>correct</th>\n",
       "      <th>session</th>\n",
       "      <th>q</th>\n",
       "    </tr>\n",
       "  </thead>\n",
       "  <tbody>\n",
       "    <tr>\n",
       "      <th>0</th>\n",
       "      <td>20090312431273200_q1</td>\n",
       "      <td>1</td>\n",
       "      <td>20090312431273200</td>\n",
       "      <td>1</td>\n",
       "    </tr>\n",
       "    <tr>\n",
       "      <th>1</th>\n",
       "      <td>20090312433251036_q1</td>\n",
       "      <td>0</td>\n",
       "      <td>20090312433251036</td>\n",
       "      <td>1</td>\n",
       "    </tr>\n",
       "    <tr>\n",
       "      <th>2</th>\n",
       "      <td>20090312455206810_q1</td>\n",
       "      <td>1</td>\n",
       "      <td>20090312455206810</td>\n",
       "      <td>1</td>\n",
       "    </tr>\n",
       "    <tr>\n",
       "      <th>3</th>\n",
       "      <td>20090313091715820_q1</td>\n",
       "      <td>0</td>\n",
       "      <td>20090313091715820</td>\n",
       "      <td>1</td>\n",
       "    </tr>\n",
       "    <tr>\n",
       "      <th>4</th>\n",
       "      <td>20090313571836404_q1</td>\n",
       "      <td>1</td>\n",
       "      <td>20090313571836404</td>\n",
       "      <td>1</td>\n",
       "    </tr>\n",
       "  </tbody>\n",
       "</table>\n",
       "</div>"
      ],
      "text/plain": [
       "             session_id  correct            session  q\n",
       "0  20090312431273200_q1        1  20090312431273200  1\n",
       "1  20090312433251036_q1        0  20090312433251036  1\n",
       "2  20090312455206810_q1        1  20090312455206810  1\n",
       "3  20090313091715820_q1        0  20090313091715820  1\n",
       "4  20090313571836404_q1        1  20090313571836404  1"
      ]
     },
     "execution_count": 3,
     "metadata": {},
     "output_type": "execute_result"
    }
   ],
   "source": [
    "targets = pd.read_csv('/kaggle/input/predict-student-performance-from-game-play/train_labels.csv')\n",
    "targets['session'] = targets.session_id.apply(lambda x: int(x.split('_')[0]) )\n",
    "targets['q'] = targets.session_id.apply(lambda x: int(x.split('_')[-1][1:]) )\n",
    "print( targets.shape )\n",
    "targets.head()"
   ]
  },
  {
   "cell_type": "code",
   "execution_count": 4,
   "id": "82f19986",
   "metadata": {
    "execution": {
     "iopub.execute_input": "2023-06-09T03:40:42.523175Z",
     "iopub.status.busy": "2023-06-09T03:40:42.522331Z",
     "iopub.status.idle": "2023-06-09T03:40:42.680643Z",
     "shell.execute_reply": "2023-06-09T03:40:42.679525Z"
    },
    "papermill": {
     "duration": 0.172873,
     "end_time": "2023-06-09T03:40:42.683618",
     "exception": false,
     "start_time": "2023-06-09T03:40:42.510745",
     "status": "completed"
    },
    "tags": []
   },
   "outputs": [],
   "source": [
    "feature_df = pd.read_csv('/kaggle/input/featur/feature_sort.csv')"
   ]
  },
  {
   "cell_type": "markdown",
   "id": "30542314",
   "metadata": {
    "papermill": {
     "duration": 0.009618,
     "end_time": "2023-06-09T03:40:42.703284",
     "exception": false,
     "start_time": "2023-06-09T03:40:42.693666",
     "status": "completed"
    },
    "tags": []
   },
   "source": [
    "# Feature Engineer"
   ]
  },
  {
   "cell_type": "code",
   "execution_count": 5,
   "id": "927ad972",
   "metadata": {
    "execution": {
     "iopub.execute_input": "2023-06-09T03:40:42.725773Z",
     "iopub.status.busy": "2023-06-09T03:40:42.724783Z",
     "iopub.status.idle": "2023-06-09T03:40:42.731690Z",
     "shell.execute_reply": "2023-06-09T03:40:42.730900Z"
    },
    "papermill": {
     "duration": 0.020539,
     "end_time": "2023-06-09T03:40:42.734026",
     "exception": false,
     "start_time": "2023-06-09T03:40:42.713487",
     "status": "completed"
    },
    "tags": []
   },
   "outputs": [],
   "source": [
    "def delt_time_def(df):\n",
    "    df.sort_values(by=['session_id', 'elapsed_time'], inplace=True)\n",
    "    df['d_time'] = df['elapsed_time'].diff(1)\n",
    "    df['d_time'].fillna(0, inplace=True)\n",
    "    df['delt_time'] = df['d_time'].clip(0, 103000)\n",
    "    df['delt_time_next'] = df['delt_time'].shift(-1)\n",
    "    return df"
   ]
  },
  {
   "cell_type": "code",
   "execution_count": 6,
   "id": "980f14ac",
   "metadata": {
    "execution": {
     "iopub.execute_input": "2023-06-09T03:40:42.756739Z",
     "iopub.status.busy": "2023-06-09T03:40:42.755598Z",
     "iopub.status.idle": "2023-06-09T03:40:42.772395Z",
     "shell.execute_reply": "2023-06-09T03:40:42.771211Z"
    },
    "papermill": {
     "duration": 0.031246,
     "end_time": "2023-06-09T03:40:42.775410",
     "exception": false,
     "start_time": "2023-06-09T03:40:42.744164",
     "status": "completed"
    },
    "tags": []
   },
   "outputs": [],
   "source": [
    "def feature_engineer(train, kol_f):\n",
    "    global kol_col, kol_col_max\n",
    "    kol_col = 9\n",
    "    kol_col_max = 11+kol_f*2\n",
    "    col = [i for i in range(0,kol_col_max)]\n",
    "    new_train = pd.DataFrame(index=train['session_id'].unique(), columns=col, dtype=np.float16)  \n",
    "    new_train[10] = new_train.index # \"session_id\"    \n",
    "\n",
    "    new_train[0] = train.groupby(['session_id'])['d_time'].quantile(q=0.3)\n",
    "    new_train[1] = train.groupby(['session_id'])['d_time'].quantile(q=0.8)\n",
    "    new_train[2] = train.groupby(['session_id'])['d_time'].quantile(q=0.5)\n",
    "    new_train[3] = train.groupby(['session_id'])['d_time'].quantile(q=0.65)\n",
    "    new_train[4] = train.groupby(['session_id'])['hover_duration'].agg('mean')\n",
    "    new_train[5] = train.groupby(['session_id'])['hover_duration'].agg('std')    \n",
    "    new_train[6] = new_train[10].apply(lambda x: int(str(x)[:2])).astype(np.uint8) # \"year\"\n",
    "    new_train[7] = new_train[10].apply(lambda x: int(str(x)[2:4])+1).astype(np.uint8) # \"month\"\n",
    "    new_train[8] = new_train[10].apply(lambda x: int(str(x)[4:6])).astype(np.uint8) # \"day\"\n",
    "    new_train[9] = new_train[10].apply(lambda x: int(str(x)[6:8])).astype(np.uint8) + new_train[10].apply(lambda x: int(str(x)[8:10])).astype(np.uint8)/60\n",
    "    new_train[10] = 0\n",
    "    new_train = new_train.fillna(-1)\n",
    "    \n",
    "    return new_train"
   ]
  },
  {
   "cell_type": "code",
   "execution_count": 7,
   "id": "c4a7d3fa",
   "metadata": {
    "execution": {
     "iopub.execute_input": "2023-06-09T03:40:42.798108Z",
     "iopub.status.busy": "2023-06-09T03:40:42.797681Z",
     "iopub.status.idle": "2023-06-09T03:40:42.809629Z",
     "shell.execute_reply": "2023-06-09T03:40:42.808710Z"
    },
    "papermill": {
     "duration": 0.026331,
     "end_time": "2023-06-09T03:40:42.811929",
     "exception": false,
     "start_time": "2023-06-09T03:40:42.785598",
     "status": "completed"
    },
    "tags": []
   },
   "outputs": [],
   "source": [
    "def feature_next_t(row_f, new_train, train, gran_1, gran_2, i):\n",
    "    global kol_col\n",
    "    kol_col +=1\n",
    "    col1 = row_f['col1']\n",
    "    val1 = row_f['val1']\n",
    "    maska = (train[col1] == val1)\n",
    "    if row_f['kol_col'] == 1:       \n",
    "        new_train[kol_col] = train[maska].groupby(['session_id'])['delt_time_next'].sum()\n",
    "        if gran_1:\n",
    "            kol_col +=1\n",
    "            new_train[kol_col] = train[maska].groupby(['session_id'])['delt_time'].mean()\n",
    "        if gran_2:\n",
    "            kol_col +=1\n",
    "            new_train[kol_col] = train[maska].groupby(['session_id'])['index'].count()          \n",
    "    elif row_f['kol_col'] == 2: \n",
    "        col2 = row_f['col2']\n",
    "        val2 = row_f['val2']\n",
    "        maska = maska & (train[col2] == val2)        \n",
    "        new_train[kol_col] = train[maska].groupby(['session_id'])['delt_time_next'].sum()\n",
    "        if gran_1:\n",
    "            kol_col +=1\n",
    "            new_train[kol_col] = train[maska].groupby(['session_id'])['delt_time'].mean()\n",
    "        if gran_2:\n",
    "            kol_col +=1\n",
    "            new_train[kol_col] = train[maska].groupby(['session_id'])['index'].count()\n",
    "    return new_train"
   ]
  },
  {
   "cell_type": "code",
   "execution_count": 8,
   "id": "30ff91bd",
   "metadata": {
    "execution": {
     "iopub.execute_input": "2023-06-09T03:40:42.833679Z",
     "iopub.status.busy": "2023-06-09T03:40:42.833289Z",
     "iopub.status.idle": "2023-06-09T03:40:42.844768Z",
     "shell.execute_reply": "2023-06-09T03:40:42.843807Z"
    },
    "papermill": {
     "duration": 0.025038,
     "end_time": "2023-06-09T03:40:42.847178",
     "exception": false,
     "start_time": "2023-06-09T03:40:42.822140",
     "status": "completed"
    },
    "tags": []
   },
   "outputs": [],
   "source": [
    "def feature_next_t_otvet(row_f, new_train, train, gran_1, gran_2, i):\n",
    "    global kol_col\n",
    "    kol_col +=1\n",
    "    col1 = row_f['col1']\n",
    "    val1 = row_f['val1']\n",
    "    maska = (train[col1] == val1)\n",
    "    if row_f['kol_col'] == 1:      \n",
    "        new_train[kol_col] = train[maska]['delt_time_next'].sum()\n",
    "        if gran_1:\n",
    "            kol_col +=1\n",
    "            new_train[kol_col] = train[maska]['delt_time'].mean()\n",
    "        if gran_2:\n",
    "            kol_col +=1\n",
    "            new_train[kol_col] = train[maska]['index'].count()          \n",
    "    elif row_f['kol_col'] == 2: \n",
    "        col2 = row_f['col2']\n",
    "        val2 = row_f['val2']\n",
    "        maska = maska & (train[col2] == val2)        \n",
    "        new_train[kol_col] = train[maska]['delt_time_next'].sum()\n",
    "        if gran_1:\n",
    "            kol_col +=1\n",
    "            new_train[kol_col] = train[maska]['delt_time'].mean()\n",
    "        if gran_2:\n",
    "            kol_col +=1\n",
    "            new_train[kol_col] = train[maska]['index'].count()\n",
    "    return new_train"
   ]
  },
  {
   "cell_type": "code",
   "execution_count": 9,
   "id": "bb42f1b6",
   "metadata": {
    "execution": {
     "iopub.execute_input": "2023-06-09T03:40:42.868991Z",
     "iopub.status.busy": "2023-06-09T03:40:42.868582Z",
     "iopub.status.idle": "2023-06-09T03:40:42.879217Z",
     "shell.execute_reply": "2023-06-09T03:40:42.878273Z"
    },
    "papermill": {
     "duration": 0.024469,
     "end_time": "2023-06-09T03:40:42.881703",
     "exception": false,
     "start_time": "2023-06-09T03:40:42.857234",
     "status": "completed"
    },
    "tags": []
   },
   "outputs": [],
   "source": [
    "def experiment_feature_next_t_otvet(row_f, new_train, train, gran_1, gran_2, i):\n",
    "    global kol_col\n",
    "    kol_col +=1\n",
    "    if row_f['kol_col'] == 1: \n",
    "        maska = train[row_f['col1']] == row_f['val1']\n",
    "        new_train[kol_col] = train[maska]['delt_time_next'].sum()\n",
    "        if gran_1:\n",
    "            kol_col +=1\n",
    "            new_train[kol_col] = train[maska]['delt_time'].mean()\n",
    "        if gran_2:\n",
    "            kol_col +=1\n",
    "            new_train[kol_col] = train[maska]['index'].count()          \n",
    "    elif row_f['kol_col'] == 2: \n",
    "        col2 = row_f['col2']\n",
    "        val2 = row_f['val2']\n",
    "        maska = (train[col1] == val1) & (train[col2] == val2)        \n",
    "        new_train[kol_col] = train[maska]['delt_time_next'].sum()\n",
    "        if gran_1:\n",
    "            kol_col +=1\n",
    "            new_train[kol_col] = train[maska]['delt_time'].mean()\n",
    "        if gran_2:\n",
    "            kol_col +=1\n",
    "            new_train[kol_col] = train[maska]['index'].count()\n",
    "    return new_train"
   ]
  },
  {
   "cell_type": "code",
   "execution_count": 10,
   "id": "a37a5e29",
   "metadata": {
    "execution": {
     "iopub.execute_input": "2023-06-09T03:40:42.904121Z",
     "iopub.status.busy": "2023-06-09T03:40:42.903176Z",
     "iopub.status.idle": "2023-06-09T03:40:42.911574Z",
     "shell.execute_reply": "2023-06-09T03:40:42.910759Z"
    },
    "papermill": {
     "duration": 0.022073,
     "end_time": "2023-06-09T03:40:42.913858",
     "exception": false,
     "start_time": "2023-06-09T03:40:42.891785",
     "status": "completed"
    },
    "tags": []
   },
   "outputs": [],
   "source": [
    "def feature_quest_otvet(new_train, train, quest, kol_f):\n",
    "    global kol_col\n",
    "    kol_col = 9\n",
    "    g1 = 0.7 \n",
    "    g2 = 0.3 \n",
    "\n",
    "    feature_q = feature_df[feature_df['quest'] == quest].copy()\n",
    "    feature_q.reset_index(drop=True, inplace=True)\n",
    "    \n",
    "    gran1 = round(kol_f * g1)\n",
    "    gran2 = round(kol_f * g2)    \n",
    "    for i in range(0, kol_f):         \n",
    "        row_f = feature_q.loc[i]\n",
    "        new_train = feature_next_t_otvet(row_f, new_train, train, i < gran1, i <  gran2, i) \n",
    "    col = [i for i in range(0,kol_col+1)]\n",
    "    return new_train[col]"
   ]
  },
  {
   "cell_type": "code",
   "execution_count": 11,
   "id": "f7ce1f5e",
   "metadata": {
    "execution": {
     "iopub.execute_input": "2023-06-09T03:40:42.936079Z",
     "iopub.status.busy": "2023-06-09T03:40:42.935270Z",
     "iopub.status.idle": "2023-06-09T03:40:42.941759Z",
     "shell.execute_reply": "2023-06-09T03:40:42.940942Z"
    },
    "papermill": {
     "duration": 0.02019,
     "end_time": "2023-06-09T03:40:42.944055",
     "exception": false,
     "start_time": "2023-06-09T03:40:42.923865",
     "status": "completed"
    },
    "tags": []
   },
   "outputs": [],
   "source": [
    "def feature_engineer_new(new_train, train, feature_q, kol_f):\n",
    "    g1 = 0.7 \n",
    "    g2 = 0.3 \n",
    "    gran1 = round(kol_f * g1)\n",
    "    gran2 = round(kol_f * g2)    \n",
    "    for i in range(0, kol_f): \n",
    "        row_f = feature_q.loc[i]       \n",
    "        new_train = feature_next_t(row_f, new_train, train, i < gran1, i <  gran2, i)         \n",
    "    return new_train"
   ]
  },
  {
   "cell_type": "code",
   "execution_count": 12,
   "id": "45d5ca27",
   "metadata": {
    "execution": {
     "iopub.execute_input": "2023-06-09T03:40:42.966386Z",
     "iopub.status.busy": "2023-06-09T03:40:42.965638Z",
     "iopub.status.idle": "2023-06-09T03:40:42.972769Z",
     "shell.execute_reply": "2023-06-09T03:40:42.971945Z"
    },
    "papermill": {
     "duration": 0.021014,
     "end_time": "2023-06-09T03:40:42.975183",
     "exception": false,
     "start_time": "2023-06-09T03:40:42.954169",
     "status": "completed"
    },
    "tags": []
   },
   "outputs": [],
   "source": [
    "def feature_quest(new_train, train, quest, kol_f):\n",
    "    global kol_col\n",
    "    kol_col = 9\n",
    "    feature_q = feature_df[feature_df['quest'] == quest].copy()\n",
    "    feature_q.reset_index(drop=True, inplace=True)\n",
    "    new_train = feature_engineer_new(new_train, train, feature_q, kol_f)\n",
    "    col = [i for i in range(0,kol_col+1)]\n",
    "    return new_train[col]"
   ]
  },
  {
   "cell_type": "code",
   "execution_count": 13,
   "id": "7fd7b7f1",
   "metadata": {
    "execution": {
     "iopub.execute_input": "2023-06-09T03:40:42.997280Z",
     "iopub.status.busy": "2023-06-09T03:40:42.996608Z",
     "iopub.status.idle": "2023-06-09T03:40:43.005786Z",
     "shell.execute_reply": "2023-06-09T03:40:43.004940Z"
    },
    "papermill": {
     "duration": 0.023079,
     "end_time": "2023-06-09T03:40:43.008244",
     "exception": false,
     "start_time": "2023-06-09T03:40:42.985165",
     "status": "completed"
    },
    "tags": []
   },
   "outputs": [],
   "source": [
    "def create_model(old_train, quests, models, list_kol_f):\n",
    "    \n",
    "    kol_quest = len(quests)\n",
    "    # ITERATE THRU QUESTIONS\n",
    "    for q in quests:\n",
    "        print('### quest ', q, end='')\n",
    "        new_train = feature_engineer(old_train, list_kol_f[q])\n",
    "        train_x = feature_quest(new_train, old_train, q, list_kol_f[q])\n",
    "        print (' ---- ', 'train_q.shape = ', train_x.shape)\n",
    "           \n",
    "        # TRAIN DATA\n",
    "        train_users = train_x.index.values\n",
    "        train_y = targets.loc[targets.q==q].set_index('session').loc[train_users]\n",
    "\n",
    "        # TRAIN MODEL \n",
    "\n",
    "        model = CatBoostClassifier(\n",
    "            n_estimators = 300,\n",
    "            learning_rate= 0.045,\n",
    "            depth = 6\n",
    "        )\n",
    "        \n",
    "        model.fit(train_x.astype('float32'), train_y['correct'], verbose=False)\n",
    "\n",
    "        # SAVE MODEL, PREDICT VALID OOF\n",
    "        models[f'{q}'] = model\n",
    "    print('***')\n",
    "    \n",
    "    return models"
   ]
  },
  {
   "cell_type": "code",
   "execution_count": 14,
   "id": "7e8888b4",
   "metadata": {
    "execution": {
     "iopub.execute_input": "2023-06-09T03:40:43.030824Z",
     "iopub.status.busy": "2023-06-09T03:40:43.030104Z",
     "iopub.status.idle": "2023-06-09T03:40:43.034765Z",
     "shell.execute_reply": "2023-06-09T03:40:43.033869Z"
    },
    "papermill": {
     "duration": 0.019119,
     "end_time": "2023-06-09T03:40:43.037441",
     "exception": false,
     "start_time": "2023-06-09T03:40:43.018322",
     "status": "completed"
    },
    "tags": []
   },
   "outputs": [],
   "source": [
    "models = {}\n",
    "best_threshold = 0.63"
   ]
  },
  {
   "cell_type": "code",
   "execution_count": 15,
   "id": "48777192",
   "metadata": {
    "execution": {
     "iopub.execute_input": "2023-06-09T03:40:43.059951Z",
     "iopub.status.busy": "2023-06-09T03:40:43.059204Z",
     "iopub.status.idle": "2023-06-09T03:40:43.064701Z",
     "shell.execute_reply": "2023-06-09T03:40:43.063938Z"
    },
    "papermill": {
     "duration": 0.019279,
     "end_time": "2023-06-09T03:40:43.066958",
     "exception": false,
     "start_time": "2023-06-09T03:40:43.047679",
     "status": "completed"
    },
    "tags": []
   },
   "outputs": [],
   "source": [
    "list_kol_f = {\n",
    "    1:140,3:110,\n",
    "    4:120, 5:220, 6:130, 7:110, 8:110, 9:100, 10:140, 11:120,\n",
    "    14: 160, 15:160, 16:130, 17:140             \n",
    "             }"
   ]
  },
  {
   "cell_type": "code",
   "execution_count": 16,
   "id": "b0d087c1",
   "metadata": {
    "execution": {
     "iopub.execute_input": "2023-06-09T03:40:43.088814Z",
     "iopub.status.busy": "2023-06-09T03:40:43.088120Z",
     "iopub.status.idle": "2023-06-09T03:42:10.232769Z",
     "shell.execute_reply": "2023-06-09T03:42:10.231605Z"
    },
    "papermill": {
     "duration": 87.158188,
     "end_time": "2023-06-09T03:42:10.235162",
     "exception": false,
     "start_time": "2023-06-09T03:40:43.076974",
     "status": "completed"
    },
    "tags": []
   },
   "outputs": [
    {
     "name": "stdout",
     "output_type": "stream",
     "text": [
      "### quest  1 ----  train_q.shape =  (23562, 290)\n",
      "### quest  3 ----  train_q.shape =  (23562, 230)\n",
      "***\n"
     ]
    }
   ],
   "source": [
    "df0_4 = pd.read_csv('/kaggle/input/featur/train_0_4t.csv', dtype=dtypes) \n",
    "kol_lvl = (df0_4 .groupby(['session_id'])['level'].agg('nunique') < 5)\n",
    "list_session = kol_lvl[kol_lvl].index\n",
    "df0_4  = df0_4 [~df0_4 ['session_id'].isin(list_session)]\n",
    "df0_4 = delt_time_def(df0_4)\n",
    "\n",
    "quests_0_4 = [1, 3] \n",
    "# list_kol_f = {1:140,3:110}\n",
    "\n",
    "models = create_model(df0_4, quests_0_4, models, list_kol_f)\n",
    "del df0_4"
   ]
  },
  {
   "cell_type": "code",
   "execution_count": 17,
   "id": "16bd6956",
   "metadata": {
    "execution": {
     "iopub.execute_input": "2023-06-09T03:42:10.257926Z",
     "iopub.status.busy": "2023-06-09T03:42:10.257517Z",
     "iopub.status.idle": "2023-06-09T03:49:38.417719Z",
     "shell.execute_reply": "2023-06-09T03:49:38.416800Z"
    },
    "papermill": {
     "duration": 448.186573,
     "end_time": "2023-06-09T03:49:38.432208",
     "exception": false,
     "start_time": "2023-06-09T03:42:10.245635",
     "status": "completed"
    },
    "tags": []
   },
   "outputs": [
    {
     "name": "stdout",
     "output_type": "stream",
     "text": [
      "### quest  4 ----  train_q.shape =  (23561, 250)\n",
      "### quest  5 ----  train_q.shape =  (23561, 450)\n",
      "### quest  6 ----  train_q.shape =  (23561, 270)\n",
      "### quest  7 ----  train_q.shape =  (23561, 230)\n",
      "### quest  8 ----  train_q.shape =  (23561, 230)\n",
      "### quest  9 ----  train_q.shape =  (23561, 210)\n",
      "### quest  10 ----  train_q.shape =  (23561, 290)\n",
      "### quest  11 ----  train_q.shape =  (23561, 250)\n",
      "***\n"
     ]
    }
   ],
   "source": [
    "df5_12 = pd.read_csv('/kaggle/input/featur/train_5_12t.csv', dtype=dtypes)\n",
    "kol_lvl = (df5_12.groupby(['session_id'])['level'].agg('nunique') < 8)\n",
    "list_session = kol_lvl[kol_lvl].index\n",
    "df5_12 = df5_12[~df5_12['session_id'].isin(list_session)]\n",
    "df5_12 = delt_time_def(df5_12)\n",
    "quests_5_12 = [4, 5, 6, 7, 8, 9, 10, 11] \n",
    "\n",
    "# list_kol_f = {4:110, 5:220, 6:120, 7:110, 8:110, 9:100, 10:140, 11:120}\n",
    "\n",
    "models = create_model(df5_12, quests_5_12, models, list_kol_f)\n",
    "del df5_12"
   ]
  },
  {
   "cell_type": "code",
   "execution_count": 18,
   "id": "b75d0877",
   "metadata": {
    "execution": {
     "iopub.execute_input": "2023-06-09T03:49:38.459132Z",
     "iopub.status.busy": "2023-06-09T03:49:38.458288Z",
     "iopub.status.idle": "2023-06-09T03:54:51.909389Z",
     "shell.execute_reply": "2023-06-09T03:54:51.907976Z"
    },
    "papermill": {
     "duration": 313.467992,
     "end_time": "2023-06-09T03:54:51.912359",
     "exception": false,
     "start_time": "2023-06-09T03:49:38.444367",
     "status": "completed"
    },
    "tags": []
   },
   "outputs": [
    {
     "name": "stdout",
     "output_type": "stream",
     "text": [
      "### quest  14 ----  train_q.shape =  (22986, 330)\n",
      "### quest  15 ----  train_q.shape =  (22986, 330)\n",
      "### quest  16 ----  train_q.shape =  (22986, 270)\n",
      "### quest  17 ----  train_q.shape =  (22986, 290)\n",
      "***\n"
     ]
    }
   ],
   "source": [
    "df13_22 = pd.read_csv('/kaggle/input/featur/train_13_22t.csv', dtype=dtypes) \n",
    "kol_lvl = (df13_22 .groupby(['session_id'])['level'].agg('nunique') < 10)\n",
    "list_session = kol_lvl[kol_lvl].index\n",
    "df13_22  = df13_22 [~df13_22 ['session_id'].isin(list_session)]\n",
    "df13_22 = delt_time_def(df13_22)\n",
    "\n",
    "quests_13_22 = [14, 15, 16, 17] \n",
    "# list_kol_f = {14: 160, 15:160, 16:105, 17:140}\n",
    "\n",
    "models = create_model(df13_22, quests_13_22, models, list_kol_f)\n"
   ]
  },
  {
   "cell_type": "code",
   "execution_count": 19,
   "id": "3822caa6",
   "metadata": {
    "execution": {
     "iopub.execute_input": "2023-06-09T03:54:51.941051Z",
     "iopub.status.busy": "2023-06-09T03:54:51.939939Z",
     "iopub.status.idle": "2023-06-09T03:54:51.944954Z",
     "shell.execute_reply": "2023-06-09T03:54:51.944069Z"
    },
    "papermill": {
     "duration": 0.022067,
     "end_time": "2023-06-09T03:54:51.947378",
     "exception": false,
     "start_time": "2023-06-09T03:54:51.925311",
     "status": "completed"
    },
    "tags": []
   },
   "outputs": [],
   "source": [
    "#Saving a Model\n",
    "# for q in quests_0_4 + quests_5_12 + quests_13_22:\n",
    "#     models[q].save_model(f'cat_model_{q}.bin')"
   ]
  },
  {
   "cell_type": "code",
   "execution_count": 20,
   "id": "f26a0493",
   "metadata": {
    "execution": {
     "iopub.execute_input": "2023-06-09T03:54:51.975175Z",
     "iopub.status.busy": "2023-06-09T03:54:51.974387Z",
     "iopub.status.idle": "2023-06-09T03:54:51.978737Z",
     "shell.execute_reply": "2023-06-09T03:54:51.977919Z"
    },
    "papermill": {
     "duration": 0.020395,
     "end_time": "2023-06-09T03:54:51.980853",
     "exception": false,
     "start_time": "2023-06-09T03:54:51.960458",
     "status": "completed"
    },
    "tags": []
   },
   "outputs": [],
   "source": [
    "#Model Reading\n",
    "# dir = '/kaggle/input/catbust/'\n",
    "# for q in quests_0_4 + quests_5_12 + quests_13_22:\n",
    "#     models[q] = CatBoostClassifier().load_model(dir+f'cat_model_{q}.bin')"
   ]
  },
  {
   "cell_type": "markdown",
   "id": "fb780281",
   "metadata": {
    "papermill": {
     "duration": 0.012106,
     "end_time": "2023-06-09T03:54:52.005241",
     "exception": false,
     "start_time": "2023-06-09T03:54:51.993135",
     "status": "completed"
    },
    "tags": []
   },
   "source": [
    "**Infer Test Data**"
   ]
  },
  {
   "cell_type": "code",
   "execution_count": 21,
   "id": "fca7c5a8",
   "metadata": {
    "execution": {
     "iopub.execute_input": "2023-06-09T03:54:52.032791Z",
     "iopub.status.busy": "2023-06-09T03:54:52.031515Z",
     "iopub.status.idle": "2023-06-09T03:54:52.070092Z",
     "shell.execute_reply": "2023-06-09T03:54:52.069118Z"
    },
    "papermill": {
     "duration": 0.055104,
     "end_time": "2023-06-09T03:54:52.072758",
     "exception": false,
     "start_time": "2023-06-09T03:54:52.017654",
     "status": "completed"
    },
    "tags": []
   },
   "outputs": [],
   "source": [
    "import jo_wilder\n",
    "\n",
    "try:\n",
    "    jo_wilder.make_env.__called__ = False\n",
    "    env.__called__ = False\n",
    "    type(env)._state = type(type(env)._state).__dict__['INIT']\n",
    "except:\n",
    "    pass\n",
    "\n",
    "env = jo_wilder.make_env()\n",
    "iter_test = env.iter_test()    "
   ]
  },
  {
   "cell_type": "code",
   "execution_count": 22,
   "id": "4d245ae4",
   "metadata": {
    "execution": {
     "iopub.execute_input": "2023-06-09T03:54:52.099944Z",
     "iopub.status.busy": "2023-06-09T03:54:52.098941Z",
     "iopub.status.idle": "2023-06-09T03:54:52.103915Z",
     "shell.execute_reply": "2023-06-09T03:54:52.102999Z"
    },
    "papermill": {
     "duration": 0.020917,
     "end_time": "2023-06-09T03:54:52.106235",
     "exception": false,
     "start_time": "2023-06-09T03:54:52.085318",
     "status": "completed"
    },
    "tags": []
   },
   "outputs": [],
   "source": [
    "import time"
   ]
  },
  {
   "cell_type": "code",
   "execution_count": 23,
   "id": "c0b22c67",
   "metadata": {
    "execution": {
     "iopub.execute_input": "2023-06-09T03:54:52.134090Z",
     "iopub.status.busy": "2023-06-09T03:54:52.133217Z",
     "iopub.status.idle": "2023-06-09T03:55:04.452914Z",
     "shell.execute_reply": "2023-06-09T03:55:04.451920Z"
    },
    "papermill": {
     "duration": 12.336681,
     "end_time": "2023-06-09T03:55:04.455695",
     "exception": false,
     "start_time": "2023-06-09T03:54:52.119014",
     "status": "completed"
    },
    "tags": []
   },
   "outputs": [
    {
     "name": "stdout",
     "output_type": "stream",
     "text": [
      "This version of the API is not optimized and should not be used to estimate the runtime of your code on the hidden test set.\n"
     ]
    }
   ],
   "source": [
    "g_end4 = 0\n",
    "g_end5 = 0\n",
    "\n",
    "list_q = {'0-4':quests_0_4, '5-12':quests_5_12, '13-22':quests_13_22}\n",
    "for (test, sam_sub) in iter_test:\n",
    "    sam_sub['question'] = [int(label.split('_')[1][1:]) for label in sam_sub['session_id']]    \n",
    "    grp = test.level_group.values[0]   \n",
    "    sam_sub['correct'] = 1\n",
    "    sam_sub.loc[sam_sub.question.isin([5, 8, 10, 13, 15]), 'correct'] = 0  \n",
    "    old_train = delt_time_def(test[test.level_group == grp])\n",
    "       \n",
    "    for q in list_q[grp]:\n",
    "        \n",
    "        start4 = time.time()\n",
    "        new_train = feature_engineer(old_train, list_kol_f[q])\n",
    "        new_train = feature_quest_otvet(new_train, old_train, q, list_kol_f[q])\n",
    "#         new_train = feature_quest(new_train, old_train, q, kol_f)\n",
    "        \n",
    "        end4 = time.time() - start4\n",
    "        g_end4 += end4\n",
    "        \n",
    "        start5 = time.time()        \n",
    "        \n",
    "        clf = models[f'{q}']\n",
    "        p = clf.predict_proba(new_train.astype('float32'))[:,1]        \n",
    "        \n",
    "        end5 = time.time() - start5\n",
    "        g_end5 += end5\n",
    "             \n",
    "        \n",
    "        mask = sam_sub.question == q \n",
    "        x = int(p[0]>best_threshold)\n",
    "        sam_sub.loc[mask,'correct'] = x      \n",
    "        \n",
    "        \n",
    "    sam_sub = sam_sub[['session_id', 'correct']]      \n",
    "    env.predict(sam_sub)"
   ]
  },
  {
   "cell_type": "markdown",
   "id": "e7af7113",
   "metadata": {
    "papermill": {
     "duration": 0.012715,
     "end_time": "2023-06-09T03:55:04.481961",
     "exception": false,
     "start_time": "2023-06-09T03:55:04.469246",
     "status": "completed"
    },
    "tags": []
   },
   "source": [
    "# EDA submission.csv"
   ]
  },
  {
   "cell_type": "code",
   "execution_count": 24,
   "id": "f9a741d8",
   "metadata": {
    "execution": {
     "iopub.execute_input": "2023-06-09T03:55:04.509675Z",
     "iopub.status.busy": "2023-06-09T03:55:04.508935Z",
     "iopub.status.idle": "2023-06-09T03:55:04.512968Z",
     "shell.execute_reply": "2023-06-09T03:55:04.512099Z"
    },
    "papermill": {
     "duration": 0.020568,
     "end_time": "2023-06-09T03:55:04.515293",
     "exception": false,
     "start_time": "2023-06-09T03:55:04.494725",
     "status": "completed"
    },
    "tags": []
   },
   "outputs": [],
   "source": [
    "# df = pd.read_csv('submission.csv')\n",
    "# print( df.shape )\n",
    "# df.head(60)"
   ]
  }
 ],
 "metadata": {
  "kernelspec": {
   "display_name": "Python 3",
   "language": "python",
   "name": "python3"
  },
  "language_info": {
   "codemirror_mode": {
    "name": "ipython",
    "version": 3
   },
   "file_extension": ".py",
   "mimetype": "text/x-python",
   "name": "python",
   "nbconvert_exporter": "python",
   "pygments_lexer": "ipython3",
   "version": "3.7.12"
  },
  "papermill": {
   "default_parameters": {},
   "duration": 877.306385,
   "end_time": "2023-06-09T03:55:05.455065",
   "environment_variables": {},
   "exception": null,
   "input_path": "__notebook__.ipynb",
   "output_path": "__notebook__.ipynb",
   "parameters": {},
   "start_time": "2023-06-09T03:40:28.148680",
   "version": "2.3.4"
  }
 },
 "nbformat": 4,
 "nbformat_minor": 5
}
