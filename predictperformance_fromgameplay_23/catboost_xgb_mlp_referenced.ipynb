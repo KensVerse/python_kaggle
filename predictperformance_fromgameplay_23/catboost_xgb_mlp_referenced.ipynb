{
 "cells": [
  {
   "cell_type": "markdown",
   "id": "ae92c744",
   "metadata": {
    "papermill": {
     "duration": 0.011775,
     "end_time": "2023-06-16T22:40:45.641220",
     "exception": false,
     "start_time": "2023-06-16T22:40:45.629445",
     "status": "completed"
    },
    "tags": []
   },
   "source": [
    "This notebook was copied with edits from VADIM KAMAEV's notebook :\n",
    "https://www.kaggle.com/code/vadimkamaev/catboost-new/notebook"
   ]
  },
  {
   "cell_type": "code",
   "execution_count": 1,
   "id": "0eed481e",
   "metadata": {
    "execution": {
     "iopub.execute_input": "2023-06-16T22:40:45.658410Z",
     "iopub.status.busy": "2023-06-16T22:40:45.657641Z",
     "iopub.status.idle": "2023-06-16T22:40:47.902125Z",
     "shell.execute_reply": "2023-06-16T22:40:47.901134Z"
    },
    "papermill": {
     "duration": 2.256149,
     "end_time": "2023-06-16T22:40:47.904720",
     "exception": false,
     "start_time": "2023-06-16T22:40:45.648571",
     "status": "completed"
    },
    "tags": []
   },
   "outputs": [
    {
     "data": {
      "text/html": [
       "<style type='text/css'>\n",
       ".datatable table.frame { margin-bottom: 0; }\n",
       ".datatable table.frame thead { border-bottom: none; }\n",
       ".datatable table.frame tr.coltypes td {  color: #FFFFFF;  line-height: 6px;  padding: 0 0.5em;}\n",
       ".datatable .bool    { background: #DDDD99; }\n",
       ".datatable .object  { background: #565656; }\n",
       ".datatable .int     { background: #5D9E5D; }\n",
       ".datatable .float   { background: #4040CC; }\n",
       ".datatable .str     { background: #CC4040; }\n",
       ".datatable .time    { background: #40CC40; }\n",
       ".datatable .row_index {  background: var(--jp-border-color3);  border-right: 1px solid var(--jp-border-color0);  color: var(--jp-ui-font-color3);  font-size: 9px;}\n",
       ".datatable .frame tbody td { text-align: left; }\n",
       ".datatable .frame tr.coltypes .row_index {  background: var(--jp-border-color0);}\n",
       ".datatable th:nth-child(2) { padding-left: 12px; }\n",
       ".datatable .hellipsis {  color: var(--jp-cell-editor-border-color);}\n",
       ".datatable .vellipsis {  background: var(--jp-layout-color0);  color: var(--jp-cell-editor-border-color);}\n",
       ".datatable .na {  color: var(--jp-cell-editor-border-color);  font-size: 80%;}\n",
       ".datatable .sp {  opacity: 0.25;}\n",
       ".datatable .footer { font-size: 9px; }\n",
       ".datatable .frame_dimensions {  background: var(--jp-border-color3);  border-top: 1px solid var(--jp-border-color0);  color: var(--jp-ui-font-color3);  display: inline-block;  opacity: 0.6;  padding: 1px 10px 1px 5px;}\n",
       "</style>\n"
      ],
      "text/plain": [
       "<IPython.core.display.HTML object>"
      ]
     },
     "metadata": {},
     "output_type": "display_data"
    }
   ],
   "source": [
    "import pandas as pd, numpy as np\n",
    "from catboost import CatBoostClassifier\n",
    "import lightgbm as lgb\n",
    "import pickle\n",
    "import sys"
   ]
  },
  {
   "cell_type": "markdown",
   "id": "a281b8b7",
   "metadata": {
    "papermill": {
     "duration": 0.007193,
     "end_time": "2023-06-16T22:40:47.920249",
     "exception": false,
     "start_time": "2023-06-16T22:40:47.913056",
     "status": "completed"
    },
    "tags": []
   },
   "source": [
    "# Load Train Data and Labels"
   ]
  },
  {
   "cell_type": "code",
   "execution_count": 2,
   "id": "8dcc8c7d",
   "metadata": {
    "execution": {
     "iopub.execute_input": "2023-06-16T22:40:47.937803Z",
     "iopub.status.busy": "2023-06-16T22:40:47.937037Z",
     "iopub.status.idle": "2023-06-16T22:40:47.944270Z",
     "shell.execute_reply": "2023-06-16T22:40:47.943382Z"
    },
    "papermill": {
     "duration": 0.018832,
     "end_time": "2023-06-16T22:40:47.946568",
     "exception": false,
     "start_time": "2023-06-16T22:40:47.927736",
     "status": "completed"
    },
    "tags": []
   },
   "outputs": [],
   "source": [
    "dtypes = {\"session_id\": 'int64',\n",
    "          \"index\": np.int16,\n",
    "          \"elapsed_time\": np.int32,\n",
    "          \"event_name\": 'category',\n",
    "          \"name\": 'category',\n",
    "          \"level\": np.int8,\n",
    "          \"page\": np.float16,\n",
    "          \"room_coor_x\": np.float16,\n",
    "          \"room_coor_y\": np.float16,\n",
    "          \"screen_coor_x\": np.float16,\n",
    "          \"screen_coor_y\": np.float16,\n",
    "          \"hover_duration\": np.float32,\n",
    "          \"text\": 'category',\n",
    "          \"fqid\": 'category',\n",
    "          \"room_fqid\": 'category',\n",
    "          \"text_fqid\": 'category',\n",
    "          \"fullscreen\": np.int8,\n",
    "          \"hq\": np.int8,\n",
    "          \"music\": np.int8,\n",
    "          \"level_group\": 'category'\n",
    "          }\n",
    "use_col = ['session_id', 'index', 'elapsed_time', 'event_name', 'name', 'level', 'page',\n",
    "           'room_coor_x', 'room_coor_y', 'hover_duration', 'text', 'fqid', 'room_fqid', 'text_fqid', 'level_group']"
   ]
  },
  {
   "cell_type": "code",
   "execution_count": 3,
   "id": "b4ef2f62",
   "metadata": {
    "execution": {
     "iopub.execute_input": "2023-06-16T22:40:47.966169Z",
     "iopub.status.busy": "2023-06-16T22:40:47.965397Z",
     "iopub.status.idle": "2023-06-16T22:40:49.189961Z",
     "shell.execute_reply": "2023-06-16T22:40:49.189125Z"
    },
    "papermill": {
     "duration": 1.237075,
     "end_time": "2023-06-16T22:40:49.192176",
     "exception": false,
     "start_time": "2023-06-16T22:40:47.955101",
     "status": "completed"
    },
    "tags": []
   },
   "outputs": [
    {
     "name": "stdout",
     "output_type": "stream",
     "text": [
      "(424116, 4)\n"
     ]
    },
    {
     "data": {
      "text/html": [
       "<div>\n",
       "<style scoped>\n",
       "    .dataframe tbody tr th:only-of-type {\n",
       "        vertical-align: middle;\n",
       "    }\n",
       "\n",
       "    .dataframe tbody tr th {\n",
       "        vertical-align: top;\n",
       "    }\n",
       "\n",
       "    .dataframe thead th {\n",
       "        text-align: right;\n",
       "    }\n",
       "</style>\n",
       "<table border=\"1\" class=\"dataframe\">\n",
       "  <thead>\n",
       "    <tr style=\"text-align: right;\">\n",
       "      <th></th>\n",
       "      <th>session_id</th>\n",
       "      <th>correct</th>\n",
       "      <th>session</th>\n",
       "      <th>q</th>\n",
       "    </tr>\n",
       "  </thead>\n",
       "  <tbody>\n",
       "    <tr>\n",
       "      <th>0</th>\n",
       "      <td>20090312431273200_q1</td>\n",
       "      <td>1</td>\n",
       "      <td>20090312431273200</td>\n",
       "      <td>1</td>\n",
       "    </tr>\n",
       "    <tr>\n",
       "      <th>1</th>\n",
       "      <td>20090312433251036_q1</td>\n",
       "      <td>0</td>\n",
       "      <td>20090312433251036</td>\n",
       "      <td>1</td>\n",
       "    </tr>\n",
       "    <tr>\n",
       "      <th>2</th>\n",
       "      <td>20090312455206810_q1</td>\n",
       "      <td>1</td>\n",
       "      <td>20090312455206810</td>\n",
       "      <td>1</td>\n",
       "    </tr>\n",
       "    <tr>\n",
       "      <th>3</th>\n",
       "      <td>20090313091715820_q1</td>\n",
       "      <td>0</td>\n",
       "      <td>20090313091715820</td>\n",
       "      <td>1</td>\n",
       "    </tr>\n",
       "    <tr>\n",
       "      <th>4</th>\n",
       "      <td>20090313571836404_q1</td>\n",
       "      <td>1</td>\n",
       "      <td>20090313571836404</td>\n",
       "      <td>1</td>\n",
       "    </tr>\n",
       "  </tbody>\n",
       "</table>\n",
       "</div>"
      ],
      "text/plain": [
       "             session_id  correct            session  q\n",
       "0  20090312431273200_q1        1  20090312431273200  1\n",
       "1  20090312433251036_q1        0  20090312433251036  1\n",
       "2  20090312455206810_q1        1  20090312455206810  1\n",
       "3  20090313091715820_q1        0  20090313091715820  1\n",
       "4  20090313571836404_q1        1  20090313571836404  1"
      ]
     },
     "execution_count": 3,
     "metadata": {},
     "output_type": "execute_result"
    }
   ],
   "source": [
    "targets = pd.read_csv('/kaggle/input/predict-student-performance-from-game-play/train_labels.csv')\n",
    "targets['session'] = targets.session_id.apply(lambda x: int(x.split('_')[0]) )\n",
    "targets['q'] = targets.session_id.apply(lambda x: int(x.split('_')[-1][1:]) )\n",
    "print( targets.shape )\n",
    "targets.head()"
   ]
  },
  {
   "cell_type": "code",
   "execution_count": 4,
   "id": "d520bdc9",
   "metadata": {
    "execution": {
     "iopub.execute_input": "2023-06-16T22:40:49.210368Z",
     "iopub.status.busy": "2023-06-16T22:40:49.209178Z",
     "iopub.status.idle": "2023-06-16T22:40:49.352444Z",
     "shell.execute_reply": "2023-06-16T22:40:49.351378Z"
    },
    "papermill": {
     "duration": 0.155497,
     "end_time": "2023-06-16T22:40:49.355514",
     "exception": false,
     "start_time": "2023-06-16T22:40:49.200017",
     "status": "completed"
    },
    "tags": []
   },
   "outputs": [],
   "source": [
    "feature_df = pd.read_csv('/kaggle/input/featur/feature_sort.csv')"
   ]
  },
  {
   "cell_type": "markdown",
   "id": "5e725034",
   "metadata": {
    "papermill": {
     "duration": 0.007596,
     "end_time": "2023-06-16T22:40:49.371056",
     "exception": false,
     "start_time": "2023-06-16T22:40:49.363460",
     "status": "completed"
    },
    "tags": []
   },
   "source": [
    "# Feature Engineer"
   ]
  },
  {
   "cell_type": "code",
   "execution_count": 5,
   "id": "afc549d3",
   "metadata": {
    "execution": {
     "iopub.execute_input": "2023-06-16T22:40:49.390116Z",
     "iopub.status.busy": "2023-06-16T22:40:49.389112Z",
     "iopub.status.idle": "2023-06-16T22:40:49.395385Z",
     "shell.execute_reply": "2023-06-16T22:40:49.394511Z"
    },
    "papermill": {
     "duration": 0.018639,
     "end_time": "2023-06-16T22:40:49.397624",
     "exception": false,
     "start_time": "2023-06-16T22:40:49.378985",
     "status": "completed"
    },
    "tags": []
   },
   "outputs": [],
   "source": [
    "def delt_time_def(df):\n",
    "    df.sort_values(by=['session_id', 'elapsed_time'], inplace=True)\n",
    "    df['d_time'] = df['elapsed_time'].diff(1)\n",
    "    df['d_time'].fillna(0, inplace=True)\n",
    "    df['delt_time'] = df['d_time'].clip(0, 103000)\n",
    "    df['delt_time_next'] = df['delt_time'].shift(-1)\n",
    "    return df"
   ]
  },
  {
   "cell_type": "code",
   "execution_count": 6,
   "id": "b6682b41",
   "metadata": {
    "execution": {
     "iopub.execute_input": "2023-06-16T22:40:49.415365Z",
     "iopub.status.busy": "2023-06-16T22:40:49.414554Z",
     "iopub.status.idle": "2023-06-16T22:40:49.427266Z",
     "shell.execute_reply": "2023-06-16T22:40:49.426245Z"
    },
    "papermill": {
     "duration": 0.024415,
     "end_time": "2023-06-16T22:40:49.429807",
     "exception": false,
     "start_time": "2023-06-16T22:40:49.405392",
     "status": "completed"
    },
    "tags": []
   },
   "outputs": [],
   "source": [
    "def feature_engineer(train, kol_f):\n",
    "    global kol_col, kol_col_max\n",
    "    kol_col = 9\n",
    "    kol_col_max = 11+kol_f*2\n",
    "    col = [i for i in range(0,kol_col_max)]\n",
    "    new_train = pd.DataFrame(index=train['session_id'].unique(), columns=col, dtype=np.float16)  \n",
    "    new_train[10] = new_train.index # \"session_id\"    \n",
    "\n",
    "    new_train[0] = train.groupby(['session_id'])['d_time'].quantile(q=0.3)\n",
    "    new_train[1] = train.groupby(['session_id'])['d_time'].quantile(q=0.8)\n",
    "    new_train[2] = train.groupby(['session_id'])['d_time'].quantile(q=0.5)\n",
    "    new_train[3] = train.groupby(['session_id'])['d_time'].quantile(q=0.65)\n",
    "    new_train[4] = train.groupby(['session_id'])['hover_duration'].agg('mean')\n",
    "    new_train[5] = train.groupby(['session_id'])['hover_duration'].agg('std')    \n",
    "    new_train[6] = new_train[10].apply(lambda x: int(str(x)[:2])).astype(np.uint8) # \"year\"\n",
    "    new_train[7] = new_train[10].apply(lambda x: int(str(x)[2:4])+1).astype(np.uint8) # \"month\"\n",
    "    new_train[8] = new_train[10].apply(lambda x: int(str(x)[4:6])).astype(np.uint8) # \"day\"\n",
    "    new_train[9] = new_train[10].apply(lambda x: int(str(x)[6:8])).astype(np.uint8) + new_train[10].apply(lambda x: int(str(x)[8:10])).astype(np.uint8)/60\n",
    "    new_train[10] = 0\n",
    "    new_train = new_train.fillna(-1)\n",
    "    \n",
    "    return new_train"
   ]
  },
  {
   "cell_type": "code",
   "execution_count": 7,
   "id": "888f4609",
   "metadata": {
    "execution": {
     "iopub.execute_input": "2023-06-16T22:40:49.447950Z",
     "iopub.status.busy": "2023-06-16T22:40:49.447211Z",
     "iopub.status.idle": "2023-06-16T22:40:49.457237Z",
     "shell.execute_reply": "2023-06-16T22:40:49.456017Z"
    },
    "papermill": {
     "duration": 0.021741,
     "end_time": "2023-06-16T22:40:49.459757",
     "exception": false,
     "start_time": "2023-06-16T22:40:49.438016",
     "status": "completed"
    },
    "tags": []
   },
   "outputs": [],
   "source": [
    "def feature_next_t(row_f, new_train, train, gran_1, gran_2, i):\n",
    "    global kol_col\n",
    "    kol_col +=1\n",
    "    col1 = row_f['col1']\n",
    "    val1 = row_f['val1']\n",
    "    maska = (train[col1] == val1)\n",
    "    if row_f['kol_col'] == 1:       \n",
    "        new_train[kol_col] = train[maska].groupby(['session_id'])['delt_time_next'].sum()\n",
    "        if gran_1:\n",
    "            kol_col +=1\n",
    "            new_train[kol_col] = train[maska].groupby(['session_id'])['delt_time'].mean()\n",
    "        if gran_2:\n",
    "            kol_col +=1\n",
    "            new_train[kol_col] = train[maska].groupby(['session_id'])['index'].count()          \n",
    "    elif row_f['kol_col'] == 2: \n",
    "        col2 = row_f['col2']\n",
    "        val2 = row_f['val2']\n",
    "        maska = maska & (train[col2] == val2)        \n",
    "        new_train[kol_col] = train[maska].groupby(['session_id'])['delt_time_next'].sum()\n",
    "        if gran_1:\n",
    "            kol_col +=1\n",
    "            new_train[kol_col] = train[maska].groupby(['session_id'])['delt_time'].mean()\n",
    "        if gran_2:\n",
    "            kol_col +=1\n",
    "            new_train[kol_col] = train[maska].groupby(['session_id'])['index'].count()\n",
    "    return new_train"
   ]
  },
  {
   "cell_type": "code",
   "execution_count": 8,
   "id": "51b88627",
   "metadata": {
    "execution": {
     "iopub.execute_input": "2023-06-16T22:40:49.477342Z",
     "iopub.status.busy": "2023-06-16T22:40:49.476567Z",
     "iopub.status.idle": "2023-06-16T22:40:49.486087Z",
     "shell.execute_reply": "2023-06-16T22:40:49.485184Z"
    },
    "papermill": {
     "duration": 0.021235,
     "end_time": "2023-06-16T22:40:49.488620",
     "exception": false,
     "start_time": "2023-06-16T22:40:49.467385",
     "status": "completed"
    },
    "tags": []
   },
   "outputs": [],
   "source": [
    "def feature_next_t_otvet(row_f, new_train, train, gran_1, gran_2, i):\n",
    "    global kol_col\n",
    "    kol_col +=1\n",
    "    col1 = row_f['col1']\n",
    "    val1 = row_f['val1']\n",
    "    maska = (train[col1] == val1)\n",
    "    if row_f['kol_col'] == 1:      \n",
    "        new_train[kol_col] = train[maska]['delt_time_next'].sum()\n",
    "        if gran_1:\n",
    "            kol_col +=1\n",
    "            new_train[kol_col] = train[maska]['delt_time'].mean()\n",
    "        if gran_2:\n",
    "            kol_col +=1\n",
    "            new_train[kol_col] = train[maska]['index'].count()          \n",
    "    elif row_f['kol_col'] == 2: \n",
    "        col2 = row_f['col2']\n",
    "        val2 = row_f['val2']\n",
    "        maska = maska & (train[col2] == val2)        \n",
    "        new_train[kol_col] = train[maska]['delt_time_next'].sum()\n",
    "        if gran_1:\n",
    "            kol_col +=1\n",
    "            new_train[kol_col] = train[maska]['delt_time'].mean()\n",
    "        if gran_2:\n",
    "            kol_col +=1\n",
    "            new_train[kol_col] = train[maska]['index'].count()\n",
    "    return new_train"
   ]
  },
  {
   "cell_type": "code",
   "execution_count": 9,
   "id": "5e0bdb1a",
   "metadata": {
    "execution": {
     "iopub.execute_input": "2023-06-16T22:40:49.506261Z",
     "iopub.status.busy": "2023-06-16T22:40:49.505474Z",
     "iopub.status.idle": "2023-06-16T22:40:49.514401Z",
     "shell.execute_reply": "2023-06-16T22:40:49.513637Z"
    },
    "papermill": {
     "duration": 0.020081,
     "end_time": "2023-06-16T22:40:49.516495",
     "exception": false,
     "start_time": "2023-06-16T22:40:49.496414",
     "status": "completed"
    },
    "tags": []
   },
   "outputs": [],
   "source": [
    "def experiment_feature_next_t_otvet(row_f, new_train, train, gran_1, gran_2, i):\n",
    "    global kol_col\n",
    "    kol_col +=1\n",
    "    if row_f['kol_col'] == 1: \n",
    "        maska = train[row_f['col1']] == row_f['val1']\n",
    "        new_train[kol_col] = train[maska]['delt_time_next'].sum()\n",
    "        if gran_1:\n",
    "            kol_col +=1\n",
    "            new_train[kol_col] = train[maska]['delt_time'].mean()\n",
    "        if gran_2:\n",
    "            kol_col +=1\n",
    "            new_train[kol_col] = train[maska]['index'].count()          \n",
    "    elif row_f['kol_col'] == 2: \n",
    "        col2 = row_f['col2']\n",
    "        val2 = row_f['val2']\n",
    "        maska = (train[col1] == val1) & (train[col2] == val2)        \n",
    "        new_train[kol_col] = train[maska]['delt_time_next'].sum()\n",
    "        if gran_1:\n",
    "            kol_col +=1\n",
    "            new_train[kol_col] = train[maska]['delt_time'].mean()\n",
    "        if gran_2:\n",
    "            kol_col +=1\n",
    "            new_train[kol_col] = train[maska]['index'].count()\n",
    "    return new_train"
   ]
  },
  {
   "cell_type": "code",
   "execution_count": 10,
   "id": "c86f4719",
   "metadata": {
    "execution": {
     "iopub.execute_input": "2023-06-16T22:40:49.533782Z",
     "iopub.status.busy": "2023-06-16T22:40:49.533059Z",
     "iopub.status.idle": "2023-06-16T22:40:49.540595Z",
     "shell.execute_reply": "2023-06-16T22:40:49.539575Z"
    },
    "papermill": {
     "duration": 0.018842,
     "end_time": "2023-06-16T22:40:49.542944",
     "exception": false,
     "start_time": "2023-06-16T22:40:49.524102",
     "status": "completed"
    },
    "tags": []
   },
   "outputs": [],
   "source": [
    "def feature_quest_otvet(new_train, train, quest, kol_f):\n",
    "    global kol_col\n",
    "    kol_col = 9\n",
    "    g1 = 0.7 \n",
    "    g2 = 0.3 \n",
    "\n",
    "    feature_q = feature_df[feature_df['quest'] == quest].copy()\n",
    "    feature_q.reset_index(drop=True, inplace=True)\n",
    "    \n",
    "    gran1 = round(kol_f * g1)\n",
    "    gran2 = round(kol_f * g2)    \n",
    "    for i in range(0, kol_f):         \n",
    "        row_f = feature_q.loc[i]\n",
    "        new_train = feature_next_t_otvet(row_f, new_train, train, i < gran1, i <  gran2, i) \n",
    "    col = [i for i in range(0,kol_col+1)]\n",
    "    return new_train[col]"
   ]
  },
  {
   "cell_type": "code",
   "execution_count": 11,
   "id": "6d4351da",
   "metadata": {
    "execution": {
     "iopub.execute_input": "2023-06-16T22:40:49.560372Z",
     "iopub.status.busy": "2023-06-16T22:40:49.559703Z",
     "iopub.status.idle": "2023-06-16T22:40:49.565329Z",
     "shell.execute_reply": "2023-06-16T22:40:49.564616Z"
    },
    "papermill": {
     "duration": 0.016482,
     "end_time": "2023-06-16T22:40:49.567277",
     "exception": false,
     "start_time": "2023-06-16T22:40:49.550795",
     "status": "completed"
    },
    "tags": []
   },
   "outputs": [],
   "source": [
    "def feature_engineer_new(new_train, train, feature_q, kol_f):\n",
    "    g1 = 0.7 \n",
    "    g2 = 0.3 \n",
    "    gran1 = round(kol_f * g1)\n",
    "    gran2 = round(kol_f * g2)    \n",
    "    for i in range(0, kol_f): \n",
    "        row_f = feature_q.loc[i]       \n",
    "        new_train = feature_next_t(row_f, new_train, train, i < gran1, i <  gran2, i)         \n",
    "    return new_train"
   ]
  },
  {
   "cell_type": "code",
   "execution_count": 12,
   "id": "c295a9b4",
   "metadata": {
    "execution": {
     "iopub.execute_input": "2023-06-16T22:40:49.584422Z",
     "iopub.status.busy": "2023-06-16T22:40:49.583681Z",
     "iopub.status.idle": "2023-06-16T22:40:49.589861Z",
     "shell.execute_reply": "2023-06-16T22:40:49.589014Z"
    },
    "papermill": {
     "duration": 0.017276,
     "end_time": "2023-06-16T22:40:49.592093",
     "exception": false,
     "start_time": "2023-06-16T22:40:49.574817",
     "status": "completed"
    },
    "tags": []
   },
   "outputs": [],
   "source": [
    "def feature_quest(new_train, train, quest, kol_f):\n",
    "    global kol_col\n",
    "    kol_col = 9\n",
    "    feature_q = feature_df[feature_df['quest'] == quest].copy()\n",
    "    feature_q.reset_index(drop=True, inplace=True)\n",
    "    new_train = feature_engineer_new(new_train, train, feature_q, kol_f)\n",
    "    col = [i for i in range(0,kol_col+1)]\n",
    "    return new_train[col]"
   ]
  },
  {
   "cell_type": "code",
   "execution_count": 13,
   "id": "cfdc1aa3",
   "metadata": {
    "execution": {
     "iopub.execute_input": "2023-06-16T22:40:49.610322Z",
     "iopub.status.busy": "2023-06-16T22:40:49.609410Z",
     "iopub.status.idle": "2023-06-16T22:40:49.707625Z",
     "shell.execute_reply": "2023-06-16T22:40:49.706347Z"
    },
    "papermill": {
     "duration": 0.110329,
     "end_time": "2023-06-16T22:40:49.710249",
     "exception": false,
     "start_time": "2023-06-16T22:40:49.599920",
     "status": "completed"
    },
    "tags": []
   },
   "outputs": [],
   "source": [
    "from sklearn.linear_model import LogisticRegression\n",
    "from xgboost import XGBClassifier\n",
    "\n",
    "from sklearn.neural_network import MLPClassifier\n",
    "\n",
    "def create_model(old_train, quests, models, list_kol_f):\n",
    "\n",
    "    kol_quest = len(quests)\n",
    "    \n",
    "    # Iterate through questions\n",
    "    for q in quests:\n",
    "        print('### quest ', q, end='')\n",
    "        new_train = feature_engineer(old_train, list_kol_f[q])\n",
    "        train_x = feature_quest(new_train, old_train, q, list_kol_f[q])\n",
    "        print(' ---- ', 'train_q.shape = ', train_x.shape)\n",
    "\n",
    "        # TRAIN DATA\n",
    "        train_users = train_x.index.values\n",
    "        train_y = targets.loc[targets.q == q].set_index('session').loc[train_users]\n",
    "    \n",
    "     \n",
    "        # XGBoost model\n",
    "        xgb_model = XGBClassifier(\n",
    "            learning_rate=0.25,\n",
    "            max_depth= 10,\n",
    "            n_estimators= 600,\n",
    "            gamma = 0.01, \n",
    "            alpha = 0.05,  \n",
    "          \n",
    "        )\n",
    "        xgb_model.fit(train_x.astype('float32'), train_y['correct'])\n",
    "        models[f'{q}_xgboost'] = xgb_model\n",
    "\n",
    "\n",
    "    print('***')\n",
    "\n",
    "    return models"
   ]
  },
  {
   "cell_type": "code",
   "execution_count": 14,
   "id": "a5ee7207",
   "metadata": {
    "execution": {
     "iopub.execute_input": "2023-06-16T22:40:49.727565Z",
     "iopub.status.busy": "2023-06-16T22:40:49.726848Z",
     "iopub.status.idle": "2023-06-16T22:40:49.731651Z",
     "shell.execute_reply": "2023-06-16T22:40:49.730726Z"
    },
    "papermill": {
     "duration": 0.016155,
     "end_time": "2023-06-16T22:40:49.734018",
     "exception": false,
     "start_time": "2023-06-16T22:40:49.717863",
     "status": "completed"
    },
    "tags": []
   },
   "outputs": [],
   "source": [
    "models = {}\n",
    "best_threshold = 0.63"
   ]
  },
  {
   "cell_type": "code",
   "execution_count": 15,
   "id": "c2d1392d",
   "metadata": {
    "execution": {
     "iopub.execute_input": "2023-06-16T22:40:49.751842Z",
     "iopub.status.busy": "2023-06-16T22:40:49.751046Z",
     "iopub.status.idle": "2023-06-16T22:40:49.756289Z",
     "shell.execute_reply": "2023-06-16T22:40:49.755432Z"
    },
    "papermill": {
     "duration": 0.016739,
     "end_time": "2023-06-16T22:40:49.758529",
     "exception": false,
     "start_time": "2023-06-16T22:40:49.741790",
     "status": "completed"
    },
    "tags": []
   },
   "outputs": [],
   "source": [
    "list_kol_f = {\n",
    "    1:140,3:110,\n",
    "    4:120, 5:220, 6:130, 7:110, 8:110, 9:100, 10:140, 11:120,\n",
    "    14: 160, 15:160, 16:130, 17:140             \n",
    "             }"
   ]
  },
  {
   "cell_type": "code",
   "execution_count": 16,
   "id": "972a42ff",
   "metadata": {
    "execution": {
     "iopub.execute_input": "2023-06-16T22:40:49.776965Z",
     "iopub.status.busy": "2023-06-16T22:40:49.776082Z",
     "iopub.status.idle": "2023-06-16T22:56:50.186940Z",
     "shell.execute_reply": "2023-06-16T22:56:50.185828Z"
    },
    "papermill": {
     "duration": 960.425751,
     "end_time": "2023-06-16T22:56:50.192712",
     "exception": false,
     "start_time": "2023-06-16T22:40:49.766961",
     "status": "completed"
    },
    "tags": []
   },
   "outputs": [
    {
     "name": "stdout",
     "output_type": "stream",
     "text": [
      "### quest  1 ----  train_q.shape =  (23562, 290)\n",
      "### quest  3 ----  train_q.shape =  (23562, 230)\n",
      "***\n"
     ]
    }
   ],
   "source": [
    "df0_4 = pd.read_csv('/kaggle/input/featur/train_0_4t.csv', dtype=dtypes) \n",
    "kol_lvl = (df0_4 .groupby(['session_id'])['level'].agg('nunique') < 5)\n",
    "list_session = kol_lvl[kol_lvl].index\n",
    "df0_4  = df0_4 [~df0_4 ['session_id'].isin(list_session)]\n",
    "df0_4 = delt_time_def(df0_4)\n",
    "\n",
    "quests_0_4 = [1, 3] \n",
    "# list_kol_f = {1:140,3:110}\n",
    "\n",
    "models = create_model(df0_4, quests_0_4, models, list_kol_f)\n",
    "del df0_4"
   ]
  },
  {
   "cell_type": "code",
   "execution_count": 17,
   "id": "efa3fdd2",
   "metadata": {
    "execution": {
     "iopub.execute_input": "2023-06-16T22:56:50.211078Z",
     "iopub.status.busy": "2023-06-16T22:56:50.210425Z",
     "iopub.status.idle": "2023-06-17T00:05:07.514058Z",
     "shell.execute_reply": "2023-06-17T00:05:07.512610Z"
    },
    "papermill": {
     "duration": 4097.32243,
     "end_time": "2023-06-17T00:05:07.523285",
     "exception": false,
     "start_time": "2023-06-16T22:56:50.200855",
     "status": "completed"
    },
    "tags": []
   },
   "outputs": [
    {
     "name": "stdout",
     "output_type": "stream",
     "text": [
      "### quest  4 ----  train_q.shape =  (23561, 250)\n",
      "### quest  5 ----  train_q.shape =  (23561, 450)\n",
      "### quest  6 ----  train_q.shape =  (23561, 270)\n",
      "### quest  7 ----  train_q.shape =  (23561, 230)\n",
      "### quest  8 ----  train_q.shape =  (23561, 230)\n",
      "### quest  9 ----  train_q.shape =  (23561, 210)\n",
      "### quest  10 ----  train_q.shape =  (23561, 290)\n",
      "### quest  11 ----  train_q.shape =  (23561, 250)\n",
      "***\n"
     ]
    }
   ],
   "source": [
    "df5_12 = pd.read_csv('/kaggle/input/featur/train_5_12t.csv', dtype=dtypes)\n",
    "kol_lvl = (df5_12.groupby(['session_id'])['level'].agg('nunique') < 8)\n",
    "list_session = kol_lvl[kol_lvl].index\n",
    "df5_12 = df5_12[~df5_12['session_id'].isin(list_session)]\n",
    "df5_12 = delt_time_def(df5_12)\n",
    "quests_5_12 = [4, 5, 6, 7, 8, 9, 10, 11] \n",
    "\n",
    "# list_kol_f = {4:110, 5:220, 6:120, 7:110, 8:110, 9:100, 10:140, 11:120}\n",
    "\n",
    "models = create_model(df5_12, quests_5_12, models, list_kol_f)\n",
    "del df5_12"
   ]
  },
  {
   "cell_type": "code",
   "execution_count": 18,
   "id": "bb536792",
   "metadata": {
    "execution": {
     "iopub.execute_input": "2023-06-17T00:05:07.547576Z",
     "iopub.status.busy": "2023-06-17T00:05:07.546833Z",
     "iopub.status.idle": "2023-06-17T00:45:27.112548Z",
     "shell.execute_reply": "2023-06-17T00:45:27.110863Z"
    },
    "papermill": {
     "duration": 2419.589344,
     "end_time": "2023-06-17T00:45:27.123304",
     "exception": false,
     "start_time": "2023-06-17T00:05:07.533960",
     "status": "completed"
    },
    "tags": []
   },
   "outputs": [
    {
     "name": "stdout",
     "output_type": "stream",
     "text": [
      "### quest  14 ----  train_q.shape =  (22986, 330)\n",
      "### quest  15 ----  train_q.shape =  (22986, 330)\n",
      "### quest  16 ----  train_q.shape =  (22986, 270)\n",
      "### quest  17 ----  train_q.shape =  (22986, 290)\n",
      "***\n"
     ]
    }
   ],
   "source": [
    "df13_22 = pd.read_csv('/kaggle/input/featur/train_13_22t.csv', dtype=dtypes) \n",
    "kol_lvl = (df13_22 .groupby(['session_id'])['level'].agg('nunique') < 10)\n",
    "list_session = kol_lvl[kol_lvl].index\n",
    "df13_22  = df13_22 [~df13_22 ['session_id'].isin(list_session)]\n",
    "df13_22 = delt_time_def(df13_22)\n",
    "\n",
    "quests_13_22 = [14, 15, 16, 17] \n",
    "# list_kol_f = {14: 160, 15:160, 16:105, 17:140}\n",
    "\n",
    "models = create_model(df13_22, quests_13_22, models, list_kol_f)\n",
    "del df13_22"
   ]
  },
  {
   "cell_type": "code",
   "execution_count": 19,
   "id": "9065d553",
   "metadata": {
    "execution": {
     "iopub.execute_input": "2023-06-17T00:45:27.146525Z",
     "iopub.status.busy": "2023-06-17T00:45:27.145784Z",
     "iopub.status.idle": "2023-06-17T00:45:27.150149Z",
     "shell.execute_reply": "2023-06-17T00:45:27.149188Z"
    },
    "papermill": {
     "duration": 0.019302,
     "end_time": "2023-06-17T00:45:27.152907",
     "exception": false,
     "start_time": "2023-06-17T00:45:27.133605",
     "status": "completed"
    },
    "tags": []
   },
   "outputs": [],
   "source": [
    "# #Saving a Model\n",
    "# import joblib\n",
    "\n",
    "# for q in quests_0_4 + quests_5_12 + quests_13_22:\n",
    "#     joblib.dump(models[str(q)+\"_mlp\"], f'mlp_model_{q}.joblib')"
   ]
  },
  {
   "cell_type": "code",
   "execution_count": 20,
   "id": "15ef5785",
   "metadata": {
    "execution": {
     "iopub.execute_input": "2023-06-17T00:45:27.179145Z",
     "iopub.status.busy": "2023-06-17T00:45:27.178158Z",
     "iopub.status.idle": "2023-06-17T00:45:27.184113Z",
     "shell.execute_reply": "2023-06-17T00:45:27.182894Z"
    },
    "papermill": {
     "duration": 0.022444,
     "end_time": "2023-06-17T00:45:27.186777",
     "exception": false,
     "start_time": "2023-06-17T00:45:27.164333",
     "status": "completed"
    },
    "tags": []
   },
   "outputs": [],
   "source": [
    "# for q in quests_0_4 + quests_5_12 + quests_13_22:\n",
    "#     models[str(q)+\"_catboost\"].save_model(f'cat_model_{q}.bin')"
   ]
  },
  {
   "cell_type": "code",
   "execution_count": 21,
   "id": "0fb9c1bf",
   "metadata": {
    "execution": {
     "iopub.execute_input": "2023-06-17T00:45:27.210139Z",
     "iopub.status.busy": "2023-06-17T00:45:27.209229Z",
     "iopub.status.idle": "2023-06-17T00:45:27.214663Z",
     "shell.execute_reply": "2023-06-17T00:45:27.213299Z"
    },
    "papermill": {
     "duration": 0.020973,
     "end_time": "2023-06-17T00:45:27.217947",
     "exception": false,
     "start_time": "2023-06-17T00:45:27.196974",
     "status": "completed"
    },
    "tags": []
   },
   "outputs": [],
   "source": [
    "# for q in quests_0_4 + quests_5_12 + quests_13_22:\n",
    "#     models[str(q)+\"_xgboost\"].save_model(f'xgb_model_{q}.bin')"
   ]
  },
  {
   "cell_type": "code",
   "execution_count": 22,
   "id": "a4d86768",
   "metadata": {
    "execution": {
     "iopub.execute_input": "2023-06-17T00:45:27.242191Z",
     "iopub.status.busy": "2023-06-17T00:45:27.240524Z",
     "iopub.status.idle": "2023-06-17T00:45:27.246055Z",
     "shell.execute_reply": "2023-06-17T00:45:27.245069Z"
    },
    "papermill": {
     "duration": 0.020038,
     "end_time": "2023-06-17T00:45:27.248483",
     "exception": false,
     "start_time": "2023-06-17T00:45:27.228445",
     "status": "completed"
    },
    "tags": []
   },
   "outputs": [],
   "source": [
    "# for q in quests_0_4 + quests_5_12 + quests_13_22:\n",
    "#     models[str(q)+\"_lgb\"].save_model(f'lgb_model_{q}.bin')"
   ]
  },
  {
   "cell_type": "code",
   "execution_count": 23,
   "id": "28c0fcf1",
   "metadata": {
    "execution": {
     "iopub.execute_input": "2023-06-17T00:45:27.270928Z",
     "iopub.status.busy": "2023-06-17T00:45:27.270171Z",
     "iopub.status.idle": "2023-06-17T00:45:30.347583Z",
     "shell.execute_reply": "2023-06-17T00:45:30.345838Z"
    },
    "papermill": {
     "duration": 3.092099,
     "end_time": "2023-06-17T00:45:30.350913",
     "exception": false,
     "start_time": "2023-06-17T00:45:27.258814",
     "status": "completed"
    },
    "tags": []
   },
   "outputs": [],
   "source": [
    "#Model Reading\n",
    "import joblib\n",
    "dir = '/kaggle/input/my-model'\n",
    "for q in quests_0_4 + quests_5_12 + quests_13_22:\n",
    "    for i in [\"_catboost\",\"_xgboost\",\"_mlp\"] :\n",
    "#             models[f'{str(q)+i}'] =  CatBoostClassifier().load_model(dir+f'cat_model_{q}.bin')\n",
    "\n",
    "            if i == \"_catboost\" :\n",
    "                models[f'{str(q)+i}'] = CatBoostClassifier().load_model(dir+f'/cat_model_{q}.bin')\n",
    "#             elif i == \"_xgboost\":\n",
    "#                 models[f'{str(q)+i}'] = XGBClassifier().load_model(dir+f'/xgb_model_{q}.bin')            \n",
    "            elif i == \"_mlp\" :\n",
    "                models[f'{str(q)+i}'] = joblib.load(dir+f'/mlp_model_{q}.joblib')"
   ]
  },
  {
   "cell_type": "markdown",
   "id": "130768e8",
   "metadata": {
    "papermill": {
     "duration": 0.010589,
     "end_time": "2023-06-17T00:45:30.372001",
     "exception": false,
     "start_time": "2023-06-17T00:45:30.361412",
     "status": "completed"
    },
    "tags": []
   },
   "source": [
    "**Infer Test Data**"
   ]
  },
  {
   "cell_type": "code",
   "execution_count": 24,
   "id": "4ab912ba",
   "metadata": {
    "execution": {
     "iopub.execute_input": "2023-06-17T00:45:30.395434Z",
     "iopub.status.busy": "2023-06-17T00:45:30.394634Z",
     "iopub.status.idle": "2023-06-17T00:45:30.417874Z",
     "shell.execute_reply": "2023-06-17T00:45:30.416915Z"
    },
    "papermill": {
     "duration": 0.038629,
     "end_time": "2023-06-17T00:45:30.421071",
     "exception": false,
     "start_time": "2023-06-17T00:45:30.382442",
     "status": "completed"
    },
    "tags": []
   },
   "outputs": [],
   "source": [
    "import jo_wilder\n",
    "\n",
    "try:\n",
    "    jo_wilder.make_env.__called__ = False\n",
    "    env.__called__ = False\n",
    "    type(env)._state = type(type(env)._state).__dict__['INIT']\n",
    "except:\n",
    "    pass\n",
    "\n",
    "env = jo_wilder.make_env()\n",
    "iter_test = env.iter_test()    "
   ]
  },
  {
   "cell_type": "code",
   "execution_count": 25,
   "id": "6b3103e7",
   "metadata": {
    "execution": {
     "iopub.execute_input": "2023-06-17T00:45:30.444578Z",
     "iopub.status.busy": "2023-06-17T00:45:30.443833Z",
     "iopub.status.idle": "2023-06-17T00:45:30.448633Z",
     "shell.execute_reply": "2023-06-17T00:45:30.447579Z"
    },
    "papermill": {
     "duration": 0.019019,
     "end_time": "2023-06-17T00:45:30.451360",
     "exception": false,
     "start_time": "2023-06-17T00:45:30.432341",
     "status": "completed"
    },
    "tags": []
   },
   "outputs": [],
   "source": [
    "import time"
   ]
  },
  {
   "cell_type": "code",
   "execution_count": 26,
   "id": "58b1d979",
   "metadata": {
    "execution": {
     "iopub.execute_input": "2023-06-17T00:45:30.474832Z",
     "iopub.status.busy": "2023-06-17T00:45:30.474093Z",
     "iopub.status.idle": "2023-06-17T00:45:43.325913Z",
     "shell.execute_reply": "2023-06-17T00:45:43.324413Z"
    },
    "papermill": {
     "duration": 12.867251,
     "end_time": "2023-06-17T00:45:43.329057",
     "exception": false,
     "start_time": "2023-06-17T00:45:30.461806",
     "status": "completed"
    },
    "tags": []
   },
   "outputs": [
    {
     "name": "stdout",
     "output_type": "stream",
     "text": [
      "This version of the API is not optimized and should not be used to estimate the runtime of your code on the hidden test set.\n"
     ]
    }
   ],
   "source": [
    "g_end4 = 0\n",
    "g_end5 = 0\n",
    "\n",
    "list_q = {'0-4':quests_0_4, '5-12':quests_5_12, '13-22':quests_13_22}\n",
    "for (test, sam_sub) in iter_test:\n",
    "    sam_sub['question'] = [int(label.split('_')[1][1:]) for label in sam_sub['session_id']]    \n",
    "    grp = test.level_group.values[0]   \n",
    "    sam_sub['correct'] = 1\n",
    "    sam_sub.loc[sam_sub.question.isin([5, 8, 10, 13, 15]), 'correct'] = 0  \n",
    "    old_train = delt_time_def(test[test.level_group == grp])\n",
    "       \n",
    "    for q in list_q[grp]:\n",
    "        \n",
    "        start4 = time.time()\n",
    "        new_train = feature_engineer(old_train, list_kol_f[q])\n",
    "        new_train = feature_quest_otvet(new_train, old_train, q, list_kol_f[q])\n",
    "#         new_train = feature_quest(new_train, old_train, q, kol_f)\n",
    "        \n",
    "        end4 = time.time() - start4\n",
    "        g_end4 += end4\n",
    "        \n",
    "        start5 = time.time()        \n",
    "        \n",
    "        for i in [\"_catboost\",\"_xgboost\",\"_mlp\"] :\n",
    "            clf = models[f'{str(q)+i}']\n",
    "            if i == \"_catboost\" :\n",
    "                p1 = clf.predict_proba(new_train.astype('float32'))[:,1]\n",
    "            elif i == \"_xgboost\":\n",
    "                p2 = clf.predict_proba(new_train.astype('float32'))[:,1] \n",
    "            #elif i == \"_lgbm\":\n",
    "            #    p3 = clf.predict_proba(new_train.astype('float32'))[:,1] \n",
    "            elif i == \"_mlp\" :\n",
    "                p4 = clf.predict_proba(new_train.astype('float32').fillna(0))[:,1]\n",
    "\n",
    "        p = 0.93*p1 + 0.03*p2 + 0.04*p4  # one can experiment with different weights and see if results improve\n",
    "        \n",
    "        end5 = time.time() - start5\n",
    "        g_end5 += end5\n",
    "             \n",
    "        \n",
    "        mask = sam_sub.question == q \n",
    "        x = int(p[0]>best_threshold)\n",
    "        sam_sub.loc[mask,'correct'] = x      \n",
    "        \n",
    "        \n",
    "    sam_sub = sam_sub[['session_id', 'correct']]      \n",
    "    env.predict(sam_sub)"
   ]
  },
  {
   "cell_type": "markdown",
   "id": "41872973",
   "metadata": {
    "papermill": {
     "duration": 0.011209,
     "end_time": "2023-06-17T00:45:43.351735",
     "exception": false,
     "start_time": "2023-06-17T00:45:43.340526",
     "status": "completed"
    },
    "tags": []
   },
   "source": [
    "# EDA submission.csv"
   ]
  },
  {
   "cell_type": "code",
   "execution_count": 27,
   "id": "cbb74ce5",
   "metadata": {
    "execution": {
     "iopub.execute_input": "2023-06-17T00:45:43.377682Z",
     "iopub.status.busy": "2023-06-17T00:45:43.377267Z",
     "iopub.status.idle": "2023-06-17T00:45:43.399448Z",
     "shell.execute_reply": "2023-06-17T00:45:43.398461Z"
    },
    "papermill": {
     "duration": 0.03819,
     "end_time": "2023-06-17T00:45:43.402166",
     "exception": false,
     "start_time": "2023-06-17T00:45:43.363976",
     "status": "completed"
    },
    "tags": []
   },
   "outputs": [
    {
     "name": "stdout",
     "output_type": "stream",
     "text": [
      "(54, 2)\n"
     ]
    },
    {
     "data": {
      "text/html": [
       "<div>\n",
       "<style scoped>\n",
       "    .dataframe tbody tr th:only-of-type {\n",
       "        vertical-align: middle;\n",
       "    }\n",
       "\n",
       "    .dataframe tbody tr th {\n",
       "        vertical-align: top;\n",
       "    }\n",
       "\n",
       "    .dataframe thead th {\n",
       "        text-align: right;\n",
       "    }\n",
       "</style>\n",
       "<table border=\"1\" class=\"dataframe\">\n",
       "  <thead>\n",
       "    <tr style=\"text-align: right;\">\n",
       "      <th></th>\n",
       "      <th>session_id</th>\n",
       "      <th>correct</th>\n",
       "    </tr>\n",
       "  </thead>\n",
       "  <tbody>\n",
       "    <tr>\n",
       "      <th>0</th>\n",
       "      <td>20090109393214576_q1</td>\n",
       "      <td>1</td>\n",
       "    </tr>\n",
       "    <tr>\n",
       "      <th>1</th>\n",
       "      <td>20090109393214576_q2</td>\n",
       "      <td>1</td>\n",
       "    </tr>\n",
       "    <tr>\n",
       "      <th>2</th>\n",
       "      <td>20090109393214576_q3</td>\n",
       "      <td>1</td>\n",
       "    </tr>\n",
       "    <tr>\n",
       "      <th>3</th>\n",
       "      <td>20090109393214576_q4</td>\n",
       "      <td>1</td>\n",
       "    </tr>\n",
       "    <tr>\n",
       "      <th>4</th>\n",
       "      <td>20090109393214576_q5</td>\n",
       "      <td>0</td>\n",
       "    </tr>\n",
       "    <tr>\n",
       "      <th>5</th>\n",
       "      <td>20090109393214576_q6</td>\n",
       "      <td>1</td>\n",
       "    </tr>\n",
       "    <tr>\n",
       "      <th>6</th>\n",
       "      <td>20090109393214576_q7</td>\n",
       "      <td>1</td>\n",
       "    </tr>\n",
       "    <tr>\n",
       "      <th>7</th>\n",
       "      <td>20090109393214576_q8</td>\n",
       "      <td>0</td>\n",
       "    </tr>\n",
       "    <tr>\n",
       "      <th>8</th>\n",
       "      <td>20090109393214576_q9</td>\n",
       "      <td>1</td>\n",
       "    </tr>\n",
       "    <tr>\n",
       "      <th>9</th>\n",
       "      <td>20090109393214576_q10</td>\n",
       "      <td>0</td>\n",
       "    </tr>\n",
       "    <tr>\n",
       "      <th>10</th>\n",
       "      <td>20090109393214576_q11</td>\n",
       "      <td>0</td>\n",
       "    </tr>\n",
       "    <tr>\n",
       "      <th>11</th>\n",
       "      <td>20090109393214576_q12</td>\n",
       "      <td>1</td>\n",
       "    </tr>\n",
       "    <tr>\n",
       "      <th>12</th>\n",
       "      <td>20090109393214576_q13</td>\n",
       "      <td>0</td>\n",
       "    </tr>\n",
       "    <tr>\n",
       "      <th>13</th>\n",
       "      <td>20090109393214576_q14</td>\n",
       "      <td>1</td>\n",
       "    </tr>\n",
       "    <tr>\n",
       "      <th>14</th>\n",
       "      <td>20090109393214576_q15</td>\n",
       "      <td>0</td>\n",
       "    </tr>\n",
       "    <tr>\n",
       "      <th>15</th>\n",
       "      <td>20090109393214576_q16</td>\n",
       "      <td>1</td>\n",
       "    </tr>\n",
       "    <tr>\n",
       "      <th>16</th>\n",
       "      <td>20090109393214576_q17</td>\n",
       "      <td>1</td>\n",
       "    </tr>\n",
       "    <tr>\n",
       "      <th>17</th>\n",
       "      <td>20090109393214576_q18</td>\n",
       "      <td>1</td>\n",
       "    </tr>\n",
       "    <tr>\n",
       "      <th>18</th>\n",
       "      <td>20090312143683264_q1</td>\n",
       "      <td>0</td>\n",
       "    </tr>\n",
       "    <tr>\n",
       "      <th>19</th>\n",
       "      <td>20090312143683264_q2</td>\n",
       "      <td>1</td>\n",
       "    </tr>\n",
       "    <tr>\n",
       "      <th>20</th>\n",
       "      <td>20090312143683264_q3</td>\n",
       "      <td>1</td>\n",
       "    </tr>\n",
       "    <tr>\n",
       "      <th>21</th>\n",
       "      <td>20090312143683264_q4</td>\n",
       "      <td>1</td>\n",
       "    </tr>\n",
       "    <tr>\n",
       "      <th>22</th>\n",
       "      <td>20090312143683264_q5</td>\n",
       "      <td>0</td>\n",
       "    </tr>\n",
       "    <tr>\n",
       "      <th>23</th>\n",
       "      <td>20090312143683264_q6</td>\n",
       "      <td>0</td>\n",
       "    </tr>\n",
       "    <tr>\n",
       "      <th>24</th>\n",
       "      <td>20090312143683264_q7</td>\n",
       "      <td>0</td>\n",
       "    </tr>\n",
       "    <tr>\n",
       "      <th>25</th>\n",
       "      <td>20090312143683264_q8</td>\n",
       "      <td>0</td>\n",
       "    </tr>\n",
       "    <tr>\n",
       "      <th>26</th>\n",
       "      <td>20090312143683264_q9</td>\n",
       "      <td>0</td>\n",
       "    </tr>\n",
       "    <tr>\n",
       "      <th>27</th>\n",
       "      <td>20090312143683264_q10</td>\n",
       "      <td>0</td>\n",
       "    </tr>\n",
       "    <tr>\n",
       "      <th>28</th>\n",
       "      <td>20090312143683264_q11</td>\n",
       "      <td>0</td>\n",
       "    </tr>\n",
       "    <tr>\n",
       "      <th>29</th>\n",
       "      <td>20090312143683264_q12</td>\n",
       "      <td>1</td>\n",
       "    </tr>\n",
       "    <tr>\n",
       "      <th>30</th>\n",
       "      <td>20090312143683264_q13</td>\n",
       "      <td>0</td>\n",
       "    </tr>\n",
       "    <tr>\n",
       "      <th>31</th>\n",
       "      <td>20090312143683264_q14</td>\n",
       "      <td>0</td>\n",
       "    </tr>\n",
       "    <tr>\n",
       "      <th>32</th>\n",
       "      <td>20090312143683264_q15</td>\n",
       "      <td>0</td>\n",
       "    </tr>\n",
       "    <tr>\n",
       "      <th>33</th>\n",
       "      <td>20090312143683264_q16</td>\n",
       "      <td>1</td>\n",
       "    </tr>\n",
       "    <tr>\n",
       "      <th>34</th>\n",
       "      <td>20090312143683264_q17</td>\n",
       "      <td>1</td>\n",
       "    </tr>\n",
       "    <tr>\n",
       "      <th>35</th>\n",
       "      <td>20090312143683264_q18</td>\n",
       "      <td>1</td>\n",
       "    </tr>\n",
       "    <tr>\n",
       "      <th>36</th>\n",
       "      <td>20090312331414616_q1</td>\n",
       "      <td>1</td>\n",
       "    </tr>\n",
       "    <tr>\n",
       "      <th>37</th>\n",
       "      <td>20090312331414616_q2</td>\n",
       "      <td>1</td>\n",
       "    </tr>\n",
       "    <tr>\n",
       "      <th>38</th>\n",
       "      <td>20090312331414616_q3</td>\n",
       "      <td>1</td>\n",
       "    </tr>\n",
       "    <tr>\n",
       "      <th>39</th>\n",
       "      <td>20090312331414616_q4</td>\n",
       "      <td>1</td>\n",
       "    </tr>\n",
       "    <tr>\n",
       "      <th>40</th>\n",
       "      <td>20090312331414616_q5</td>\n",
       "      <td>1</td>\n",
       "    </tr>\n",
       "    <tr>\n",
       "      <th>41</th>\n",
       "      <td>20090312331414616_q6</td>\n",
       "      <td>1</td>\n",
       "    </tr>\n",
       "    <tr>\n",
       "      <th>42</th>\n",
       "      <td>20090312331414616_q7</td>\n",
       "      <td>1</td>\n",
       "    </tr>\n",
       "    <tr>\n",
       "      <th>43</th>\n",
       "      <td>20090312331414616_q8</td>\n",
       "      <td>1</td>\n",
       "    </tr>\n",
       "    <tr>\n",
       "      <th>44</th>\n",
       "      <td>20090312331414616_q9</td>\n",
       "      <td>1</td>\n",
       "    </tr>\n",
       "    <tr>\n",
       "      <th>45</th>\n",
       "      <td>20090312331414616_q10</td>\n",
       "      <td>0</td>\n",
       "    </tr>\n",
       "    <tr>\n",
       "      <th>46</th>\n",
       "      <td>20090312331414616_q11</td>\n",
       "      <td>1</td>\n",
       "    </tr>\n",
       "    <tr>\n",
       "      <th>47</th>\n",
       "      <td>20090312331414616_q12</td>\n",
       "      <td>1</td>\n",
       "    </tr>\n",
       "    <tr>\n",
       "      <th>48</th>\n",
       "      <td>20090312331414616_q13</td>\n",
       "      <td>0</td>\n",
       "    </tr>\n",
       "    <tr>\n",
       "      <th>49</th>\n",
       "      <td>20090312331414616_q14</td>\n",
       "      <td>1</td>\n",
       "    </tr>\n",
       "    <tr>\n",
       "      <th>50</th>\n",
       "      <td>20090312331414616_q15</td>\n",
       "      <td>1</td>\n",
       "    </tr>\n",
       "    <tr>\n",
       "      <th>51</th>\n",
       "      <td>20090312331414616_q16</td>\n",
       "      <td>1</td>\n",
       "    </tr>\n",
       "    <tr>\n",
       "      <th>52</th>\n",
       "      <td>20090312331414616_q17</td>\n",
       "      <td>1</td>\n",
       "    </tr>\n",
       "    <tr>\n",
       "      <th>53</th>\n",
       "      <td>20090312331414616_q18</td>\n",
       "      <td>1</td>\n",
       "    </tr>\n",
       "  </tbody>\n",
       "</table>\n",
       "</div>"
      ],
      "text/plain": [
       "               session_id  correct\n",
       "0    20090109393214576_q1        1\n",
       "1    20090109393214576_q2        1\n",
       "2    20090109393214576_q3        1\n",
       "3    20090109393214576_q4        1\n",
       "4    20090109393214576_q5        0\n",
       "5    20090109393214576_q6        1\n",
       "6    20090109393214576_q7        1\n",
       "7    20090109393214576_q8        0\n",
       "8    20090109393214576_q9        1\n",
       "9   20090109393214576_q10        0\n",
       "10  20090109393214576_q11        0\n",
       "11  20090109393214576_q12        1\n",
       "12  20090109393214576_q13        0\n",
       "13  20090109393214576_q14        1\n",
       "14  20090109393214576_q15        0\n",
       "15  20090109393214576_q16        1\n",
       "16  20090109393214576_q17        1\n",
       "17  20090109393214576_q18        1\n",
       "18   20090312143683264_q1        0\n",
       "19   20090312143683264_q2        1\n",
       "20   20090312143683264_q3        1\n",
       "21   20090312143683264_q4        1\n",
       "22   20090312143683264_q5        0\n",
       "23   20090312143683264_q6        0\n",
       "24   20090312143683264_q7        0\n",
       "25   20090312143683264_q8        0\n",
       "26   20090312143683264_q9        0\n",
       "27  20090312143683264_q10        0\n",
       "28  20090312143683264_q11        0\n",
       "29  20090312143683264_q12        1\n",
       "30  20090312143683264_q13        0\n",
       "31  20090312143683264_q14        0\n",
       "32  20090312143683264_q15        0\n",
       "33  20090312143683264_q16        1\n",
       "34  20090312143683264_q17        1\n",
       "35  20090312143683264_q18        1\n",
       "36   20090312331414616_q1        1\n",
       "37   20090312331414616_q2        1\n",
       "38   20090312331414616_q3        1\n",
       "39   20090312331414616_q4        1\n",
       "40   20090312331414616_q5        1\n",
       "41   20090312331414616_q6        1\n",
       "42   20090312331414616_q7        1\n",
       "43   20090312331414616_q8        1\n",
       "44   20090312331414616_q9        1\n",
       "45  20090312331414616_q10        0\n",
       "46  20090312331414616_q11        1\n",
       "47  20090312331414616_q12        1\n",
       "48  20090312331414616_q13        0\n",
       "49  20090312331414616_q14        1\n",
       "50  20090312331414616_q15        1\n",
       "51  20090312331414616_q16        1\n",
       "52  20090312331414616_q17        1\n",
       "53  20090312331414616_q18        1"
      ]
     },
     "execution_count": 27,
     "metadata": {},
     "output_type": "execute_result"
    }
   ],
   "source": [
    "df = pd.read_csv('submission.csv')\n",
    "print( df.shape )\n",
    "df.head(60)"
   ]
  }
 ],
 "metadata": {
  "kernelspec": {
   "display_name": "Python 3",
   "language": "python",
   "name": "python3"
  },
  "language_info": {
   "codemirror_mode": {
    "name": "ipython",
    "version": 3
   },
   "file_extension": ".py",
   "mimetype": "text/x-python",
   "name": "python",
   "nbconvert_exporter": "python",
   "pygments_lexer": "ipython3",
   "version": "3.7.12"
  },
  "papermill": {
   "default_parameters": {},
   "duration": 7508.451293,
   "end_time": "2023-06-17T00:45:44.454200",
   "environment_variables": {},
   "exception": null,
   "input_path": "__notebook__.ipynb",
   "output_path": "__notebook__.ipynb",
   "parameters": {},
   "start_time": "2023-06-16T22:40:36.002907",
   "version": "2.3.4"
  }
 },
 "nbformat": 4,
 "nbformat_minor": 5
}
