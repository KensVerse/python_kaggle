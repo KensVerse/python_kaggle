{
 "cells": [
  {
   "cell_type": "markdown",
   "id": "ff631135",
   "metadata": {
    "papermill": {
     "duration": 0.023581,
     "end_time": "2023-07-02T11:32:59.503233",
     "exception": false,
     "start_time": "2023-07-02T11:32:59.479652",
     "status": "completed"
    },
    "tags": []
   },
   "source": [
    "Hello Fellow Kagglers,\n",
    "\n",
    "This competition has been challenging to say the least, especially the submission.\n",
    "\n",
    "After a few weeks I finally got a working training + inference pipeline which is shared through this notebook.\n",
    "\n",
    "The model consists of a transformer embedding + encoder + decoder.\n",
    "\n",
    "Inference is performed by starting with an SOS token and predicting one character at a time using the previous prediction.\n",
    "\n",
    "Feel free to ask for clarafications or comment.\n",
    "\n",
    "Notebook will be updated periodically.\n",
    "\n",
    "[Preprocessing Notebook](https://www.kaggle.com/code/markwijkhuizen/aslfr-eda-preprocessing-dataset)\n",
    "\n",
    "**V6**\n",
    "\n",
    "This competition has an inference limit of 5 hours which requires careful allocation of computational resources in the model. Most changes are based on the assymetrical number of encoder/deocder calls during inference.\n",
    "\n",
    "Inference requires the encoder to encode the input frames and subsequently use that encoding to predict the 1st character by inputting the encoding and SOS (Start of Sentence) token. Next, the encoding, SOS token and 1st predicted token are used to predict the 2nd character. Inference thus requires 1 call to the encoder and multiple calls to the encoder. On average a phrase is 18 characters long, requiring 18+1(SOS token) calls to the decoder. To stay within the 5 hour inference limit the encoder can be computationally heavy, however the decoder should be light.\n",
    "\n",
    "Some inspiration is taken from the [1st place solution - training](https://www.kaggle.com/code/hoyso48/1st-place-solution-training) from the last [Google - Isolated Sign Language Recognition\n",
    "](https://www.kaggle.com/competitions/asl-signs) competition.\n",
    "\n",
    "* Increased training epochs 30 -> 100\n",
    "* Using all data for training, no validation set\n",
    "* Increased number of decoder blocks 2 -> 3\n",
    "* Increased encoder dimensions 256 -> 384\n",
    "* Halved attention dimension to decrease computational intensity of Multi Head Attention\n",
    "* Added 20% dropout to multi head attention output\n",
    "* Batch size 128 -> 64\n",
    "* Classification layer linear activation for logits in loss function\n",
    "\n",
    "**Helpful Tutorials**\n",
    "\n",
    "[English-to-Spanish translation with a sequence-to-sequence Transformer](https://keras.io/examples/nlp/neural_machine_translation_with_transformer/)\n",
    "\n",
    "[Lecture 12.1 Self-attention](https://www.youtube.com/watch?v=KmAISyVvE1Y&list=LL&index=3)"
   ]
  },
  {
   "cell_type": "code",
   "execution_count": 1,
   "id": "2aba782e",
   "metadata": {
    "execution": {
     "iopub.execute_input": "2023-07-02T11:32:59.551155Z",
     "iopub.status.busy": "2023-07-02T11:32:59.550390Z",
     "iopub.status.idle": "2023-07-02T11:33:08.728874Z",
     "shell.execute_reply": "2023-07-02T11:33:08.726779Z"
    },
    "papermill": {
     "duration": 9.205219,
     "end_time": "2023-07-02T11:33:08.731341",
     "exception": false,
     "start_time": "2023-07-02T11:32:59.526122",
     "status": "completed"
    },
    "tags": []
   },
   "outputs": [
    {
     "name": "stderr",
     "output_type": "stream",
     "text": [
      "/opt/conda/lib/python3.10/site-packages/tensorflow_io/python/ops/__init__.py:98: UserWarning: unable to load libtensorflow_io_plugins.so: unable to open file: libtensorflow_io_plugins.so, from paths: ['/opt/conda/lib/python3.10/site-packages/tensorflow_io/python/ops/libtensorflow_io_plugins.so']\n",
      "caused by: ['/opt/conda/lib/python3.10/site-packages/tensorflow_io/python/ops/libtensorflow_io_plugins.so: undefined symbol: _ZN3tsl6StatusC1EN10tensorflow5error4CodeESt17basic_string_viewIcSt11char_traitsIcEENS_14SourceLocationE']\n",
      "  warnings.warn(f\"unable to load libtensorflow_io_plugins.so: {e}\")\n",
      "/opt/conda/lib/python3.10/site-packages/tensorflow_io/python/ops/__init__.py:104: UserWarning: file system plugins are not loaded: unable to open file: libtensorflow_io.so, from paths: ['/opt/conda/lib/python3.10/site-packages/tensorflow_io/python/ops/libtensorflow_io.so']\n",
      "caused by: ['/opt/conda/lib/python3.10/site-packages/tensorflow_io/python/ops/libtensorflow_io.so: undefined symbol: _ZTVN10tensorflow13GcsFileSystemE']\n",
      "  warnings.warn(f\"file system plugins are not loaded: {e}\")\n",
      "/opt/conda/lib/python3.10/site-packages/tensorflow_addons/utils/tfa_eol_msg.py:23: UserWarning: \n",
      "\n",
      "TensorFlow Addons (TFA) has ended development and introduction of new features.\n",
      "TFA has entered a minimal maintenance and release mode until a planned end of life in May 2024.\n",
      "Please modify downstream libraries to take dependencies from other repositories in our TensorFlow community (e.g. Keras, Keras-CV, and Keras-NLP). \n",
      "\n",
      "For more information see: https://github.com/tensorflow/addons/issues/2807 \n",
      "\n",
      "  warnings.warn(\n"
     ]
    },
    {
     "name": "stdout",
     "output_type": "stream",
     "text": [
      "Tensorflow Version 2.12.0\n",
      "Python Version: 3.10.10 | packaged by conda-forge | (main, Mar 24 2023, 20:08:06) [GCC 11.3.0]\n"
     ]
    }
   ],
   "source": [
    "import numpy as np\n",
    "import pandas as pd\n",
    "import matplotlib.pyplot as plt\n",
    "import matplotlib as mpl\n",
    "import seaborn as sn\n",
    "import tensorflow as tf\n",
    "import tensorflow_addons as tfa\n",
    "\n",
    "from tqdm.notebook import tqdm\n",
    "from sklearn.model_selection import train_test_split, GroupShuffleSplit\n",
    "from leven import levenshtein\n",
    "\n",
    "import glob\n",
    "import sys\n",
    "import os\n",
    "import math\n",
    "import gc\n",
    "import sys\n",
    "import sklearn\n",
    "import time\n",
    "import json\n",
    "\n",
    "# TQDM Progress Bar With Pandas Apply Function\n",
    "tqdm.pandas()\n",
    "\n",
    "print(f'Tensorflow Version {tf.__version__}')\n",
    "print(f'Python Version: {sys.version}')"
   ]
  },
  {
   "cell_type": "markdown",
   "id": "98580587",
   "metadata": {
    "papermill": {
     "duration": 0.022966,
     "end_time": "2023-07-02T11:33:08.779005",
     "exception": false,
     "start_time": "2023-07-02T11:33:08.756039",
     "status": "completed"
    },
    "tags": []
   },
   "source": [
    "# Character 2 Ordinal Encoding"
   ]
  },
  {
   "cell_type": "code",
   "execution_count": 2,
   "id": "21103d9a",
   "metadata": {
    "execution": {
     "iopub.execute_input": "2023-07-02T11:33:08.831302Z",
     "iopub.status.busy": "2023-07-02T11:33:08.829757Z",
     "iopub.status.idle": "2023-07-02T11:33:08.857142Z",
     "shell.execute_reply": "2023-07-02T11:33:08.856198Z"
    },
    "papermill": {
     "duration": 0.057156,
     "end_time": "2023-07-02T11:33:08.859134",
     "exception": false,
     "start_time": "2023-07-02T11:33:08.801978",
     "status": "completed"
    },
    "tags": []
   },
   "outputs": [
    {
     "data": {
      "text/html": [
       "<div>\n",
       "<style scoped>\n",
       "    .dataframe tbody tr th:only-of-type {\n",
       "        vertical-align: middle;\n",
       "    }\n",
       "\n",
       "    .dataframe tbody tr th {\n",
       "        vertical-align: top;\n",
       "    }\n",
       "\n",
       "    .dataframe thead th {\n",
       "        text-align: right;\n",
       "    }\n",
       "</style>\n",
       "<table border=\"1\" class=\"dataframe\">\n",
       "  <thead>\n",
       "    <tr style=\"text-align: right;\">\n",
       "      <th></th>\n",
       "      <th>Ordinal Encoding</th>\n",
       "    </tr>\n",
       "  </thead>\n",
       "  <tbody>\n",
       "    <tr>\n",
       "      <th></th>\n",
       "      <td>0</td>\n",
       "    </tr>\n",
       "    <tr>\n",
       "      <th>!</th>\n",
       "      <td>1</td>\n",
       "    </tr>\n",
       "    <tr>\n",
       "      <th>#</th>\n",
       "      <td>2</td>\n",
       "    </tr>\n",
       "    <tr>\n",
       "      <th>$</th>\n",
       "      <td>3</td>\n",
       "    </tr>\n",
       "    <tr>\n",
       "      <th>%</th>\n",
       "      <td>4</td>\n",
       "    </tr>\n",
       "    <tr>\n",
       "      <th>&amp;</th>\n",
       "      <td>5</td>\n",
       "    </tr>\n",
       "    <tr>\n",
       "      <th>'</th>\n",
       "      <td>6</td>\n",
       "    </tr>\n",
       "    <tr>\n",
       "      <th>(</th>\n",
       "      <td>7</td>\n",
       "    </tr>\n",
       "    <tr>\n",
       "      <th>)</th>\n",
       "      <td>8</td>\n",
       "    </tr>\n",
       "    <tr>\n",
       "      <th>*</th>\n",
       "      <td>9</td>\n",
       "    </tr>\n",
       "    <tr>\n",
       "      <th>+</th>\n",
       "      <td>10</td>\n",
       "    </tr>\n",
       "    <tr>\n",
       "      <th>,</th>\n",
       "      <td>11</td>\n",
       "    </tr>\n",
       "    <tr>\n",
       "      <th>-</th>\n",
       "      <td>12</td>\n",
       "    </tr>\n",
       "    <tr>\n",
       "      <th>.</th>\n",
       "      <td>13</td>\n",
       "    </tr>\n",
       "    <tr>\n",
       "      <th>/</th>\n",
       "      <td>14</td>\n",
       "    </tr>\n",
       "    <tr>\n",
       "      <th>0</th>\n",
       "      <td>15</td>\n",
       "    </tr>\n",
       "    <tr>\n",
       "      <th>1</th>\n",
       "      <td>16</td>\n",
       "    </tr>\n",
       "    <tr>\n",
       "      <th>2</th>\n",
       "      <td>17</td>\n",
       "    </tr>\n",
       "    <tr>\n",
       "      <th>3</th>\n",
       "      <td>18</td>\n",
       "    </tr>\n",
       "    <tr>\n",
       "      <th>4</th>\n",
       "      <td>19</td>\n",
       "    </tr>\n",
       "    <tr>\n",
       "      <th>5</th>\n",
       "      <td>20</td>\n",
       "    </tr>\n",
       "    <tr>\n",
       "      <th>6</th>\n",
       "      <td>21</td>\n",
       "    </tr>\n",
       "    <tr>\n",
       "      <th>7</th>\n",
       "      <td>22</td>\n",
       "    </tr>\n",
       "    <tr>\n",
       "      <th>8</th>\n",
       "      <td>23</td>\n",
       "    </tr>\n",
       "    <tr>\n",
       "      <th>9</th>\n",
       "      <td>24</td>\n",
       "    </tr>\n",
       "    <tr>\n",
       "      <th>:</th>\n",
       "      <td>25</td>\n",
       "    </tr>\n",
       "    <tr>\n",
       "      <th>;</th>\n",
       "      <td>26</td>\n",
       "    </tr>\n",
       "    <tr>\n",
       "      <th>=</th>\n",
       "      <td>27</td>\n",
       "    </tr>\n",
       "    <tr>\n",
       "      <th>?</th>\n",
       "      <td>28</td>\n",
       "    </tr>\n",
       "    <tr>\n",
       "      <th>@</th>\n",
       "      <td>29</td>\n",
       "    </tr>\n",
       "    <tr>\n",
       "      <th>[</th>\n",
       "      <td>30</td>\n",
       "    </tr>\n",
       "    <tr>\n",
       "      <th>_</th>\n",
       "      <td>31</td>\n",
       "    </tr>\n",
       "    <tr>\n",
       "      <th>a</th>\n",
       "      <td>32</td>\n",
       "    </tr>\n",
       "    <tr>\n",
       "      <th>b</th>\n",
       "      <td>33</td>\n",
       "    </tr>\n",
       "    <tr>\n",
       "      <th>c</th>\n",
       "      <td>34</td>\n",
       "    </tr>\n",
       "    <tr>\n",
       "      <th>d</th>\n",
       "      <td>35</td>\n",
       "    </tr>\n",
       "    <tr>\n",
       "      <th>e</th>\n",
       "      <td>36</td>\n",
       "    </tr>\n",
       "    <tr>\n",
       "      <th>f</th>\n",
       "      <td>37</td>\n",
       "    </tr>\n",
       "    <tr>\n",
       "      <th>g</th>\n",
       "      <td>38</td>\n",
       "    </tr>\n",
       "    <tr>\n",
       "      <th>h</th>\n",
       "      <td>39</td>\n",
       "    </tr>\n",
       "    <tr>\n",
       "      <th>i</th>\n",
       "      <td>40</td>\n",
       "    </tr>\n",
       "    <tr>\n",
       "      <th>j</th>\n",
       "      <td>41</td>\n",
       "    </tr>\n",
       "    <tr>\n",
       "      <th>k</th>\n",
       "      <td>42</td>\n",
       "    </tr>\n",
       "    <tr>\n",
       "      <th>l</th>\n",
       "      <td>43</td>\n",
       "    </tr>\n",
       "    <tr>\n",
       "      <th>m</th>\n",
       "      <td>44</td>\n",
       "    </tr>\n",
       "    <tr>\n",
       "      <th>n</th>\n",
       "      <td>45</td>\n",
       "    </tr>\n",
       "    <tr>\n",
       "      <th>o</th>\n",
       "      <td>46</td>\n",
       "    </tr>\n",
       "    <tr>\n",
       "      <th>p</th>\n",
       "      <td>47</td>\n",
       "    </tr>\n",
       "    <tr>\n",
       "      <th>q</th>\n",
       "      <td>48</td>\n",
       "    </tr>\n",
       "    <tr>\n",
       "      <th>r</th>\n",
       "      <td>49</td>\n",
       "    </tr>\n",
       "    <tr>\n",
       "      <th>s</th>\n",
       "      <td>50</td>\n",
       "    </tr>\n",
       "    <tr>\n",
       "      <th>t</th>\n",
       "      <td>51</td>\n",
       "    </tr>\n",
       "    <tr>\n",
       "      <th>u</th>\n",
       "      <td>52</td>\n",
       "    </tr>\n",
       "    <tr>\n",
       "      <th>v</th>\n",
       "      <td>53</td>\n",
       "    </tr>\n",
       "    <tr>\n",
       "      <th>w</th>\n",
       "      <td>54</td>\n",
       "    </tr>\n",
       "    <tr>\n",
       "      <th>x</th>\n",
       "      <td>55</td>\n",
       "    </tr>\n",
       "    <tr>\n",
       "      <th>y</th>\n",
       "      <td>56</td>\n",
       "    </tr>\n",
       "    <tr>\n",
       "      <th>z</th>\n",
       "      <td>57</td>\n",
       "    </tr>\n",
       "    <tr>\n",
       "      <th>~</th>\n",
       "      <td>58</td>\n",
       "    </tr>\n",
       "  </tbody>\n",
       "</table>\n",
       "</div>"
      ],
      "text/plain": [
       "   Ordinal Encoding\n",
       "                  0\n",
       "!                 1\n",
       "#                 2\n",
       "$                 3\n",
       "%                 4\n",
       "&                 5\n",
       "'                 6\n",
       "(                 7\n",
       ")                 8\n",
       "*                 9\n",
       "+                10\n",
       ",                11\n",
       "-                12\n",
       ".                13\n",
       "/                14\n",
       "0                15\n",
       "1                16\n",
       "2                17\n",
       "3                18\n",
       "4                19\n",
       "5                20\n",
       "6                21\n",
       "7                22\n",
       "8                23\n",
       "9                24\n",
       ":                25\n",
       ";                26\n",
       "=                27\n",
       "?                28\n",
       "@                29\n",
       "[                30\n",
       "_                31\n",
       "a                32\n",
       "b                33\n",
       "c                34\n",
       "d                35\n",
       "e                36\n",
       "f                37\n",
       "g                38\n",
       "h                39\n",
       "i                40\n",
       "j                41\n",
       "k                42\n",
       "l                43\n",
       "m                44\n",
       "n                45\n",
       "o                46\n",
       "p                47\n",
       "q                48\n",
       "r                49\n",
       "s                50\n",
       "t                51\n",
       "u                52\n",
       "v                53\n",
       "w                54\n",
       "x                55\n",
       "y                56\n",
       "z                57\n",
       "~                58"
      ]
     },
     "metadata": {},
     "output_type": "display_data"
    }
   ],
   "source": [
    "# Read Character to Ordinal Encoding Mapping\n",
    "with open('/kaggle/input/asl-fingerspelling/character_to_prediction_index.json') as json_file:\n",
    "    CHAR2ORD = json.load(json_file)\n",
    "    \n",
    "# Ordinal to Character Mapping\n",
    "ORD2CHAR = {j:i for i,j in CHAR2ORD.items()}\n",
    "    \n",
    "# Character to Ordinal Encoding Mapping   \n",
    "display(pd.Series(CHAR2ORD).to_frame('Ordinal Encoding'))"
   ]
  },
  {
   "cell_type": "markdown",
   "id": "2fc510f1",
   "metadata": {
    "papermill": {
     "duration": 0.022903,
     "end_time": "2023-07-02T11:33:08.905507",
     "exception": false,
     "start_time": "2023-07-02T11:33:08.882604",
     "status": "completed"
    },
    "tags": []
   },
   "source": [
    "# Global Config"
   ]
  },
  {
   "cell_type": "code",
   "execution_count": 3,
   "id": "994f9925",
   "metadata": {
    "execution": {
     "iopub.execute_input": "2023-07-02T11:33:08.953600Z",
     "iopub.status.busy": "2023-07-02T11:33:08.953227Z",
     "iopub.status.idle": "2023-07-02T11:33:08.961143Z",
     "shell.execute_reply": "2023-07-02T11:33:08.960094Z"
    },
    "papermill": {
     "duration": 0.034637,
     "end_time": "2023-07-02T11:33:08.963209",
     "exception": false,
     "start_time": "2023-07-02T11:33:08.928572",
     "status": "completed"
    },
    "tags": []
   },
   "outputs": [],
   "source": [
    "# If Notebook Is Run By Committing or In Interactive Mode For Development\n",
    "IS_INTERACTIVE = os.environ['KAGGLE_KERNEL_RUN_TYPE'] == 'Interactive'\n",
    "# Verbose Setting during training\n",
    "VERBOSE = 1 if IS_INTERACTIVE else 2\n",
    "# Global Random Seed\n",
    "SEED = 42\n",
    "# Number of Frames to resize recording to\n",
    "N_TARGET_FRAMES = 128\n",
    "# Global debug flag, takes subset of train\n",
    "DEBUG = False\n",
    "# Number of Unique Characters To Predict + Pad Token + SOS Token + EOS Token\n",
    "N_UNIQUE_CHARACTERS0 = len(CHAR2ORD)\n",
    "N_UNIQUE_CHARACTERS = len(CHAR2ORD) + 1 + 1 + 1\n",
    "PAD_TOKEN = len(CHAR2ORD) # Padding\n",
    "SOS_TOKEN = len(CHAR2ORD) + 1 # Start Of Sentence\n",
    "EOS_TOKEN = len(CHAR2ORD) + 2 # End Of Sentence\n",
    "# Whether to use 10% of data for validation\n",
    "USE_VAL = False\n",
    "# Batch Size\n",
    "BATCH_SIZE = 64\n",
    "# Number of Epochs to Train for\n",
    "N_EPOCHS = 2 if IS_INTERACTIVE else 100\n",
    "# Number of Warmup Epochs in Learning Rate Scheduler\n",
    "N_WARMUP_EPOCHS = 10\n",
    "# Maximum Learning Rate\n",
    "LR_MAX = 1e-3\n",
    "# Weight Decay Ratio as Ratio of Learning Rate\n",
    "WD_RATIO = 0.05\n",
    "# Length of Phrase + EOS Token\n",
    "MAX_PHRASE_LENGTH = 31 + 1\n",
    "# Whether to Train The model\n",
    "TRAIN_MODEL = True\n",
    "# Whether to Load Pretrained Weights\n",
    "LOAD_WEIGHTS = False\n",
    "# Learning Rate Warmup Method [log,exp]\n",
    "WARMUP_METHOD = 'exp'"
   ]
  },
  {
   "cell_type": "markdown",
   "id": "4541bd2a",
   "metadata": {
    "papermill": {
     "duration": 0.023356,
     "end_time": "2023-07-02T11:33:09.010520",
     "exception": false,
     "start_time": "2023-07-02T11:33:08.987164",
     "status": "completed"
    },
    "tags": []
   },
   "source": [
    "# Plot Config"
   ]
  },
  {
   "cell_type": "code",
   "execution_count": 4,
   "id": "3c624a3c",
   "metadata": {
    "execution": {
     "iopub.execute_input": "2023-07-02T11:33:09.059675Z",
     "iopub.status.busy": "2023-07-02T11:33:09.058685Z",
     "iopub.status.idle": "2023-07-02T11:33:09.066023Z",
     "shell.execute_reply": "2023-07-02T11:33:09.065070Z"
    },
    "papermill": {
     "duration": 0.034116,
     "end_time": "2023-07-02T11:33:09.068311",
     "exception": false,
     "start_time": "2023-07-02T11:33:09.034195",
     "status": "completed"
    },
    "tags": []
   },
   "outputs": [],
   "source": [
    "# MatplotLib Global Settings\n",
    "mpl.rcParams.update(mpl.rcParamsDefault)\n",
    "mpl.rcParams['xtick.labelsize'] = 16\n",
    "mpl.rcParams['ytick.labelsize'] = 16\n",
    "mpl.rcParams['axes.labelsize'] = 18\n",
    "mpl.rcParams['axes.titlesize'] = 24"
   ]
  },
  {
   "cell_type": "markdown",
   "id": "ebb18d84",
   "metadata": {
    "papermill": {
     "duration": 0.023106,
     "end_time": "2023-07-02T11:33:09.114637",
     "exception": false,
     "start_time": "2023-07-02T11:33:09.091531",
     "status": "completed"
    },
    "tags": []
   },
   "source": [
    "# Train"
   ]
  },
  {
   "cell_type": "code",
   "execution_count": 5,
   "id": "9ad30022",
   "metadata": {
    "execution": {
     "iopub.execute_input": "2023-07-02T11:33:09.163663Z",
     "iopub.status.busy": "2023-07-02T11:33:09.163310Z",
     "iopub.status.idle": "2023-07-02T11:33:09.371641Z",
     "shell.execute_reply": "2023-07-02T11:33:09.370529Z"
    },
    "papermill": {
     "duration": 0.236261,
     "end_time": "2023-07-02T11:33:09.374134",
     "exception": false,
     "start_time": "2023-07-02T11:33:09.137873",
     "status": "completed"
    },
    "tags": []
   },
   "outputs": [
    {
     "name": "stdout",
     "output_type": "stream",
     "text": [
      "N_SAMPLES: 67208\n",
      "<class 'pandas.core.frame.DataFrame'>\n",
      "RangeIndex: 67208 entries, 0 to 67207\n",
      "Data columns (total 5 columns):\n",
      " #   Column          Non-Null Count  Dtype \n",
      "---  ------          --------------  ----- \n",
      " 0   path            67208 non-null  object\n",
      " 1   file_id         67208 non-null  int64 \n",
      " 2   sequence_id     67208 non-null  int64 \n",
      " 3   participant_id  67208 non-null  int64 \n",
      " 4   phrase          67208 non-null  object\n",
      "dtypes: int64(3), object(2)\n",
      "memory usage: 2.6+ MB\n"
     ]
    },
    {
     "data": {
      "text/plain": [
       "None"
      ]
     },
     "metadata": {},
     "output_type": "display_data"
    },
    {
     "data": {
      "text/html": [
       "<div>\n",
       "<style scoped>\n",
       "    .dataframe tbody tr th:only-of-type {\n",
       "        vertical-align: middle;\n",
       "    }\n",
       "\n",
       "    .dataframe tbody tr th {\n",
       "        vertical-align: top;\n",
       "    }\n",
       "\n",
       "    .dataframe thead th {\n",
       "        text-align: right;\n",
       "    }\n",
       "</style>\n",
       "<table border=\"1\" class=\"dataframe\">\n",
       "  <thead>\n",
       "    <tr style=\"text-align: right;\">\n",
       "      <th></th>\n",
       "      <th>path</th>\n",
       "      <th>file_id</th>\n",
       "      <th>sequence_id</th>\n",
       "      <th>participant_id</th>\n",
       "      <th>phrase</th>\n",
       "    </tr>\n",
       "  </thead>\n",
       "  <tbody>\n",
       "    <tr>\n",
       "      <th>0</th>\n",
       "      <td>train_landmarks/5414471.parquet</td>\n",
       "      <td>5414471</td>\n",
       "      <td>1816796431</td>\n",
       "      <td>217</td>\n",
       "      <td>3 creekhouse</td>\n",
       "    </tr>\n",
       "    <tr>\n",
       "      <th>1</th>\n",
       "      <td>train_landmarks/5414471.parquet</td>\n",
       "      <td>5414471</td>\n",
       "      <td>1816825349</td>\n",
       "      <td>107</td>\n",
       "      <td>scales/kuhaylah</td>\n",
       "    </tr>\n",
       "    <tr>\n",
       "      <th>2</th>\n",
       "      <td>train_landmarks/5414471.parquet</td>\n",
       "      <td>5414471</td>\n",
       "      <td>1816909464</td>\n",
       "      <td>1</td>\n",
       "      <td>1383 william lanier</td>\n",
       "    </tr>\n",
       "    <tr>\n",
       "      <th>3</th>\n",
       "      <td>train_landmarks/5414471.parquet</td>\n",
       "      <td>5414471</td>\n",
       "      <td>1816967051</td>\n",
       "      <td>63</td>\n",
       "      <td>988 franklin lane</td>\n",
       "    </tr>\n",
       "    <tr>\n",
       "      <th>4</th>\n",
       "      <td>train_landmarks/5414471.parquet</td>\n",
       "      <td>5414471</td>\n",
       "      <td>1817123330</td>\n",
       "      <td>89</td>\n",
       "      <td>6920 northeast 661st road</td>\n",
       "    </tr>\n",
       "  </tbody>\n",
       "</table>\n",
       "</div>"
      ],
      "text/plain": [
       "                              path  file_id  sequence_id  participant_id  \\\n",
       "0  train_landmarks/5414471.parquet  5414471   1816796431             217   \n",
       "1  train_landmarks/5414471.parquet  5414471   1816825349             107   \n",
       "2  train_landmarks/5414471.parquet  5414471   1816909464               1   \n",
       "3  train_landmarks/5414471.parquet  5414471   1816967051              63   \n",
       "4  train_landmarks/5414471.parquet  5414471   1817123330              89   \n",
       "\n",
       "                      phrase  \n",
       "0               3 creekhouse  \n",
       "1            scales/kuhaylah  \n",
       "2        1383 william lanier  \n",
       "3          988 franklin lane  \n",
       "4  6920 northeast 661st road  "
      ]
     },
     "metadata": {},
     "output_type": "display_data"
    }
   ],
   "source": [
    "# Read Train DataFrame\n",
    "if DEBUG:\n",
    "    train = pd.read_csv('/kaggle/input/asl-fingerspelling/train.csv').head(5000)\n",
    "else:\n",
    "    train = pd.read_csv('/kaggle/input/asl-fingerspelling/train.csv')\n",
    "    \n",
    "# Set Train Indexed By sqeuence_id\n",
    "train_sequence_id = train.set_index('sequence_id')\n",
    "\n",
    "# Number Of Train Samples\n",
    "N_SAMPLES = len(train)\n",
    "print(f'N_SAMPLES: {N_SAMPLES}')\n",
    "\n",
    "display(train.info())\n",
    "display(train.head())"
   ]
  },
  {
   "cell_type": "markdown",
   "id": "5e4d4806",
   "metadata": {
    "papermill": {
     "duration": 0.023663,
     "end_time": "2023-07-02T11:33:09.422133",
     "exception": false,
     "start_time": "2023-07-02T11:33:09.398470",
     "status": "completed"
    },
    "tags": []
   },
   "source": [
    "# File Path"
   ]
  },
  {
   "cell_type": "code",
   "execution_count": 6,
   "id": "6df28025",
   "metadata": {
    "execution": {
     "iopub.execute_input": "2023-07-02T11:33:09.472032Z",
     "iopub.status.busy": "2023-07-02T11:33:09.471235Z",
     "iopub.status.idle": "2023-07-02T11:33:09.502682Z",
     "shell.execute_reply": "2023-07-02T11:33:09.501766Z"
    },
    "papermill": {
     "duration": 0.058827,
     "end_time": "2023-07-02T11:33:09.504965",
     "exception": false,
     "start_time": "2023-07-02T11:33:09.446138",
     "status": "completed"
    },
    "tags": []
   },
   "outputs": [],
   "source": [
    "# Get complete file path to file\n",
    "def get_file_path(path):\n",
    "    return f'/kaggle/input/asl-fingerspelling/{path}'\n",
    "\n",
    "train['file_path'] = train['path'].apply(get_file_path)"
   ]
  },
  {
   "cell_type": "markdown",
   "id": "3c13b47d",
   "metadata": {
    "papermill": {
     "duration": 0.023756,
     "end_time": "2023-07-02T11:33:09.552626",
     "exception": false,
     "start_time": "2023-07-02T11:33:09.528870",
     "status": "completed"
    },
    "tags": []
   },
   "source": [
    "# Example File Paths"
   ]
  },
  {
   "cell_type": "code",
   "execution_count": 7,
   "id": "046621c8",
   "metadata": {
    "execution": {
     "iopub.execute_input": "2023-07-02T11:33:09.603421Z",
     "iopub.status.busy": "2023-07-02T11:33:09.602463Z",
     "iopub.status.idle": "2023-07-02T11:33:09.612400Z",
     "shell.execute_reply": "2023-07-02T11:33:09.611306Z"
    },
    "papermill": {
     "duration": 0.038118,
     "end_time": "2023-07-02T11:33:09.614891",
     "exception": false,
     "start_time": "2023-07-02T11:33:09.576773",
     "status": "completed"
    },
    "tags": []
   },
   "outputs": [
    {
     "name": "stdout",
     "output_type": "stream",
     "text": [
      "Found 10 Inference Pickle Files\n"
     ]
    }
   ],
   "source": [
    "# Unique Parquet Files\n",
    "INFERENCE_FILE_PATHS = pd.Series(\n",
    "        glob.glob('/kaggle/input/aslfr-preprocessing-dataset/train_landmark_subsets/*')\n",
    "    )\n",
    "\n",
    "print(f'Found {len(INFERENCE_FILE_PATHS)} Inference Pickle Files')"
   ]
  },
  {
   "cell_type": "markdown",
   "id": "f580ff78",
   "metadata": {
    "papermill": {
     "duration": 0.023663,
     "end_time": "2023-07-02T11:33:09.662914",
     "exception": false,
     "start_time": "2023-07-02T11:33:09.639251",
     "status": "completed"
    },
    "tags": []
   },
   "source": [
    "# Load X/y"
   ]
  },
  {
   "cell_type": "code",
   "execution_count": 8,
   "id": "4c839dcb",
   "metadata": {
    "execution": {
     "iopub.execute_input": "2023-07-02T11:33:09.711804Z",
     "iopub.status.busy": "2023-07-02T11:33:09.711463Z",
     "iopub.status.idle": "2023-07-02T11:33:47.300790Z",
     "shell.execute_reply": "2023-07-02T11:33:47.299760Z"
    },
    "papermill": {
     "duration": 37.639487,
     "end_time": "2023-07-02T11:33:47.326164",
     "exception": false,
     "start_time": "2023-07-02T11:33:09.686677",
     "status": "completed"
    },
    "tags": []
   },
   "outputs": [
    {
     "name": "stdout",
     "output_type": "stream",
     "text": [
      "X_train shape: (61955, 128, 164)\n"
     ]
    }
   ],
   "source": [
    "# Train/Validation\n",
    "if USE_VAL:\n",
    "    # TRAIN\n",
    "    X_train = np.load('/kaggle/input/aslfr-preprocessing-dataset/X_train.npy')\n",
    "    y_train = np.load('/kaggle/input/aslfr-preprocessing-dataset/y_train.npy')[:,:MAX_PHRASE_LENGTH]\n",
    "    N_TRAIN_SAMPLES = len(X_train)\n",
    "    # VAL\n",
    "    X_val = np.load('/kaggle/input/aslfr-preprocessing-dataset/X_val.npy')\n",
    "    y_val = np.load('/kaggle/input/aslfr-preprocessing-dataset/y_val.npy')[:,:MAX_PHRASE_LENGTH]\n",
    "    N_VAL_SAMPLES = len(X_val)\n",
    "    # Shapes\n",
    "    print(f'X_train shape: {X_train.shape}, X_val shape: {X_val.shape}')\n",
    "# Train On All Data\n",
    "else:\n",
    "    # TRAIN\n",
    "    X_train = np.load('/kaggle/input/aslfr-preprocessing-dataset/X.npy')\n",
    "    y_train = np.load('/kaggle/input/aslfr-preprocessing-dataset/y.npy')[:,:MAX_PHRASE_LENGTH]\n",
    "    N_TRAIN_SAMPLES = len(X_train)\n",
    "    print(f'X_train shape: {X_train.shape}')"
   ]
  },
  {
   "cell_type": "markdown",
   "id": "8996aa93",
   "metadata": {
    "papermill": {
     "duration": 0.02373,
     "end_time": "2023-07-02T11:33:47.374154",
     "exception": false,
     "start_time": "2023-07-02T11:33:47.350424",
     "status": "completed"
    },
    "tags": []
   },
   "source": [
    "# Example Batch"
   ]
  },
  {
   "cell_type": "code",
   "execution_count": 9,
   "id": "3fd26a32",
   "metadata": {
    "execution": {
     "iopub.execute_input": "2023-07-02T11:33:47.423548Z",
     "iopub.status.busy": "2023-07-02T11:33:47.423199Z",
     "iopub.status.idle": "2023-07-02T11:33:47.489213Z",
     "shell.execute_reply": "2023-07-02T11:33:47.488214Z"
    },
    "papermill": {
     "duration": 0.093503,
     "end_time": "2023-07-02T11:33:47.491607",
     "exception": false,
     "start_time": "2023-07-02T11:33:47.398104",
     "status": "completed"
    },
    "tags": []
   },
   "outputs": [],
   "source": [
    "# Example Batch For Debugging\n",
    "N_EXAMPLE_BATCH_SAMPLES = 1024\n",
    "N_EXAMPLE_BATCH_SAMPLES_SMALL = 32\n",
    "# Example Batch\n",
    "X_batch = {\n",
    "    'frames': np.copy(X_train[:N_EXAMPLE_BATCH_SAMPLES]),\n",
    "    'phrase': np.copy(y_train[:N_EXAMPLE_BATCH_SAMPLES]),\n",
    "#     'phrase_type': np.copy(y_phrase_type_train[:N_EXAMPLE_BATCH_SAMPLES]),\n",
    "}\n",
    "y_batch = np.copy(y_train[:N_EXAMPLE_BATCH_SAMPLES])\n",
    "# Small Example Batch\n",
    "X_batch_small = {\n",
    "    'frames': np.copy(X_train[:N_EXAMPLE_BATCH_SAMPLES_SMALL]),\n",
    "    'phrase': np.copy(y_train[:N_EXAMPLE_BATCH_SAMPLES_SMALL]),\n",
    "#     'phrase_type': np.copy(y_phrase_type_train[:N_EXAMPLE_BATCH_SAMPLES_SMALL]),\n",
    "}\n",
    "y_batch_small = np.copy(y_train[:N_EXAMPLE_BATCH_SAMPLES_SMALL])"
   ]
  },
  {
   "cell_type": "markdown",
   "id": "465f26ee",
   "metadata": {
    "papermill": {
     "duration": 0.023639,
     "end_time": "2023-07-02T11:33:47.539567",
     "exception": false,
     "start_time": "2023-07-02T11:33:47.515928",
     "status": "completed"
    },
    "tags": []
   },
   "source": [
    "# Example Parquet"
   ]
  },
  {
   "cell_type": "code",
   "execution_count": 10,
   "id": "c4faa584",
   "metadata": {
    "execution": {
     "iopub.execute_input": "2023-07-02T11:33:47.588978Z",
     "iopub.status.busy": "2023-07-02T11:33:47.587412Z",
     "iopub.status.idle": "2023-07-02T11:33:49.069106Z",
     "shell.execute_reply": "2023-07-02T11:33:49.067910Z"
    },
    "papermill": {
     "duration": 1.512276,
     "end_time": "2023-07-02T11:33:49.075196",
     "exception": false,
     "start_time": "2023-07-02T11:33:47.562920",
     "status": "completed"
    },
    "tags": []
   },
   "outputs": [
    {
     "name": "stdout",
     "output_type": "stream",
     "text": [
      "# Unique Recording: 1000\n"
     ]
    },
    {
     "data": {
      "text/html": [
       "<div>\n",
       "<style scoped>\n",
       "    .dataframe tbody tr th:only-of-type {\n",
       "        vertical-align: middle;\n",
       "    }\n",
       "\n",
       "    .dataframe tbody tr th {\n",
       "        vertical-align: top;\n",
       "    }\n",
       "\n",
       "    .dataframe thead th {\n",
       "        text-align: right;\n",
       "    }\n",
       "</style>\n",
       "<table border=\"1\" class=\"dataframe\">\n",
       "  <thead>\n",
       "    <tr style=\"text-align: right;\">\n",
       "      <th></th>\n",
       "      <th>x_left_hand_0</th>\n",
       "      <th>x_left_hand_1</th>\n",
       "      <th>x_left_hand_2</th>\n",
       "      <th>x_left_hand_3</th>\n",
       "      <th>x_left_hand_4</th>\n",
       "      <th>x_left_hand_5</th>\n",
       "      <th>x_left_hand_6</th>\n",
       "      <th>x_left_hand_7</th>\n",
       "      <th>x_left_hand_8</th>\n",
       "      <th>x_left_hand_9</th>\n",
       "      <th>...</th>\n",
       "      <th>y_face_314</th>\n",
       "      <th>y_face_317</th>\n",
       "      <th>y_face_318</th>\n",
       "      <th>y_face_321</th>\n",
       "      <th>y_face_324</th>\n",
       "      <th>y_face_375</th>\n",
       "      <th>y_face_402</th>\n",
       "      <th>y_face_405</th>\n",
       "      <th>y_face_409</th>\n",
       "      <th>y_face_415</th>\n",
       "    </tr>\n",
       "    <tr>\n",
       "      <th>sequence_id</th>\n",
       "      <th></th>\n",
       "      <th></th>\n",
       "      <th></th>\n",
       "      <th></th>\n",
       "      <th></th>\n",
       "      <th></th>\n",
       "      <th></th>\n",
       "      <th></th>\n",
       "      <th></th>\n",
       "      <th></th>\n",
       "      <th></th>\n",
       "      <th></th>\n",
       "      <th></th>\n",
       "      <th></th>\n",
       "      <th></th>\n",
       "      <th></th>\n",
       "      <th></th>\n",
       "      <th></th>\n",
       "      <th></th>\n",
       "      <th></th>\n",
       "      <th></th>\n",
       "    </tr>\n",
       "  </thead>\n",
       "  <tbody>\n",
       "    <tr>\n",
       "      <th>1816796431</th>\n",
       "      <td>NaN</td>\n",
       "      <td>NaN</td>\n",
       "      <td>NaN</td>\n",
       "      <td>NaN</td>\n",
       "      <td>NaN</td>\n",
       "      <td>NaN</td>\n",
       "      <td>NaN</td>\n",
       "      <td>NaN</td>\n",
       "      <td>NaN</td>\n",
       "      <td>NaN</td>\n",
       "      <td>...</td>\n",
       "      <td>0.551424</td>\n",
       "      <td>0.538415</td>\n",
       "      <td>0.539000</td>\n",
       "      <td>0.546458</td>\n",
       "      <td>0.539715</td>\n",
       "      <td>0.543958</td>\n",
       "      <td>0.538425</td>\n",
       "      <td>0.549351</td>\n",
       "      <td>0.538230</td>\n",
       "      <td>0.540015</td>\n",
       "    </tr>\n",
       "    <tr>\n",
       "      <th>1816796431</th>\n",
       "      <td>NaN</td>\n",
       "      <td>NaN</td>\n",
       "      <td>NaN</td>\n",
       "      <td>NaN</td>\n",
       "      <td>NaN</td>\n",
       "      <td>NaN</td>\n",
       "      <td>NaN</td>\n",
       "      <td>NaN</td>\n",
       "      <td>NaN</td>\n",
       "      <td>NaN</td>\n",
       "      <td>...</td>\n",
       "      <td>0.550706</td>\n",
       "      <td>0.538216</td>\n",
       "      <td>0.538723</td>\n",
       "      <td>0.545990</td>\n",
       "      <td>0.539296</td>\n",
       "      <td>0.543357</td>\n",
       "      <td>0.538225</td>\n",
       "      <td>0.548827</td>\n",
       "      <td>0.537376</td>\n",
       "      <td>0.539256</td>\n",
       "    </tr>\n",
       "    <tr>\n",
       "      <th>1816796431</th>\n",
       "      <td>NaN</td>\n",
       "      <td>NaN</td>\n",
       "      <td>NaN</td>\n",
       "      <td>NaN</td>\n",
       "      <td>NaN</td>\n",
       "      <td>NaN</td>\n",
       "      <td>NaN</td>\n",
       "      <td>NaN</td>\n",
       "      <td>NaN</td>\n",
       "      <td>NaN</td>\n",
       "      <td>...</td>\n",
       "      <td>0.550613</td>\n",
       "      <td>0.537836</td>\n",
       "      <td>0.538564</td>\n",
       "      <td>0.545949</td>\n",
       "      <td>0.539212</td>\n",
       "      <td>0.543279</td>\n",
       "      <td>0.537961</td>\n",
       "      <td>0.548796</td>\n",
       "      <td>0.537360</td>\n",
       "      <td>0.539332</td>\n",
       "    </tr>\n",
       "    <tr>\n",
       "      <th>1816796431</th>\n",
       "      <td>NaN</td>\n",
       "      <td>NaN</td>\n",
       "      <td>NaN</td>\n",
       "      <td>NaN</td>\n",
       "      <td>NaN</td>\n",
       "      <td>NaN</td>\n",
       "      <td>NaN</td>\n",
       "      <td>NaN</td>\n",
       "      <td>NaN</td>\n",
       "      <td>NaN</td>\n",
       "      <td>...</td>\n",
       "      <td>0.549740</td>\n",
       "      <td>0.536994</td>\n",
       "      <td>0.538449</td>\n",
       "      <td>0.545622</td>\n",
       "      <td>0.539666</td>\n",
       "      <td>0.543694</td>\n",
       "      <td>0.537328</td>\n",
       "      <td>0.548015</td>\n",
       "      <td>0.538301</td>\n",
       "      <td>0.539954</td>\n",
       "    </tr>\n",
       "    <tr>\n",
       "      <th>1816796431</th>\n",
       "      <td>NaN</td>\n",
       "      <td>NaN</td>\n",
       "      <td>NaN</td>\n",
       "      <td>NaN</td>\n",
       "      <td>NaN</td>\n",
       "      <td>NaN</td>\n",
       "      <td>NaN</td>\n",
       "      <td>NaN</td>\n",
       "      <td>NaN</td>\n",
       "      <td>NaN</td>\n",
       "      <td>...</td>\n",
       "      <td>0.550614</td>\n",
       "      <td>0.538677</td>\n",
       "      <td>0.540376</td>\n",
       "      <td>0.547104</td>\n",
       "      <td>0.541524</td>\n",
       "      <td>0.545222</td>\n",
       "      <td>0.539203</td>\n",
       "      <td>0.549211</td>\n",
       "      <td>0.539734</td>\n",
       "      <td>0.541707</td>\n",
       "    </tr>\n",
       "  </tbody>\n",
       "</table>\n",
       "<p>5 rows × 164 columns</p>\n",
       "</div>"
      ],
      "text/plain": [
       "             x_left_hand_0  x_left_hand_1  x_left_hand_2  x_left_hand_3  \\\n",
       "sequence_id                                                               \n",
       "1816796431             NaN            NaN            NaN            NaN   \n",
       "1816796431             NaN            NaN            NaN            NaN   \n",
       "1816796431             NaN            NaN            NaN            NaN   \n",
       "1816796431             NaN            NaN            NaN            NaN   \n",
       "1816796431             NaN            NaN            NaN            NaN   \n",
       "\n",
       "             x_left_hand_4  x_left_hand_5  x_left_hand_6  x_left_hand_7  \\\n",
       "sequence_id                                                               \n",
       "1816796431             NaN            NaN            NaN            NaN   \n",
       "1816796431             NaN            NaN            NaN            NaN   \n",
       "1816796431             NaN            NaN            NaN            NaN   \n",
       "1816796431             NaN            NaN            NaN            NaN   \n",
       "1816796431             NaN            NaN            NaN            NaN   \n",
       "\n",
       "             x_left_hand_8  x_left_hand_9  ...  y_face_314  y_face_317  \\\n",
       "sequence_id                                ...                           \n",
       "1816796431             NaN            NaN  ...    0.551424    0.538415   \n",
       "1816796431             NaN            NaN  ...    0.550706    0.538216   \n",
       "1816796431             NaN            NaN  ...    0.550613    0.537836   \n",
       "1816796431             NaN            NaN  ...    0.549740    0.536994   \n",
       "1816796431             NaN            NaN  ...    0.550614    0.538677   \n",
       "\n",
       "             y_face_318  y_face_321  y_face_324  y_face_375  y_face_402  \\\n",
       "sequence_id                                                               \n",
       "1816796431     0.539000    0.546458    0.539715    0.543958    0.538425   \n",
       "1816796431     0.538723    0.545990    0.539296    0.543357    0.538225   \n",
       "1816796431     0.538564    0.545949    0.539212    0.543279    0.537961   \n",
       "1816796431     0.538449    0.545622    0.539666    0.543694    0.537328   \n",
       "1816796431     0.540376    0.547104    0.541524    0.545222    0.539203   \n",
       "\n",
       "             y_face_405  y_face_409  y_face_415  \n",
       "sequence_id                                      \n",
       "1816796431     0.549351    0.538230    0.540015  \n",
       "1816796431     0.548827    0.537376    0.539256  \n",
       "1816796431     0.548796    0.537360    0.539332  \n",
       "1816796431     0.548015    0.538301    0.539954  \n",
       "1816796431     0.549211    0.539734    0.541707  \n",
       "\n",
       "[5 rows x 164 columns]"
      ]
     },
     "metadata": {},
     "output_type": "display_data"
    }
   ],
   "source": [
    "# Read First Parquet File\n",
    "# example_parquet_df = pd.read_parquet(train['file_path'][0])\n",
    "example_parquet_df = pd.read_parquet(INFERENCE_FILE_PATHS[0])\n",
    "\n",
    "# Each parquet file contains 1000 recordings\n",
    "print(f'# Unique Recording: {example_parquet_df.index.nunique()}')\n",
    "# Display DataFrame layout\n",
    "display(example_parquet_df.head())"
   ]
  },
  {
   "cell_type": "markdown",
   "id": "6543bca2",
   "metadata": {
    "papermill": {
     "duration": 0.039462,
     "end_time": "2023-07-02T11:33:49.150383",
     "exception": false,
     "start_time": "2023-07-02T11:33:49.110921",
     "status": "completed"
    },
    "tags": []
   },
   "source": [
    "# Landmark Indices"
   ]
  },
  {
   "cell_type": "code",
   "execution_count": 11,
   "id": "8df8d97d",
   "metadata": {
    "execution": {
     "iopub.execute_input": "2023-07-02T11:33:49.220746Z",
     "iopub.status.busy": "2023-07-02T11:33:49.220313Z",
     "iopub.status.idle": "2023-07-02T11:33:49.232562Z",
     "shell.execute_reply": "2023-07-02T11:33:49.231640Z"
    },
    "papermill": {
     "duration": 0.051023,
     "end_time": "2023-07-02T11:33:49.235748",
     "exception": false,
     "start_time": "2023-07-02T11:33:49.184725",
     "status": "completed"
    },
    "tags": []
   },
   "outputs": [],
   "source": [
    "# Get indices in original dataframe\n",
    "def get_idxs(df, words_pos, words_neg=[], ret_names=True, idxs_pos=None):\n",
    "    idxs = []\n",
    "    names = []\n",
    "    for w in words_pos:\n",
    "        for col_idx, col in enumerate(example_parquet_df.columns):\n",
    "            # Exclude Non Landmark Columns\n",
    "            if col in ['frame']:\n",
    "                continue\n",
    "                \n",
    "            col_idx = int(col.split('_')[-1])\n",
    "            # Check if column name contains all words\n",
    "            if (w in col) and (idxs_pos is None or col_idx in idxs_pos) and all([w not in col for w in words_neg]):\n",
    "                idxs.append(col_idx)\n",
    "                names.append(col)\n",
    "    # Convert to Numpy arrays\n",
    "    idxs = np.array(idxs)\n",
    "    names = np.array(names)\n",
    "    # Returns either both column indices and names\n",
    "    if ret_names:\n",
    "        return idxs, names\n",
    "    # Or only columns indices\n",
    "    else:\n",
    "        return idxs"
   ]
  },
  {
   "cell_type": "code",
   "execution_count": 12,
   "id": "7eae969b",
   "metadata": {
    "execution": {
     "iopub.execute_input": "2023-07-02T11:33:49.306607Z",
     "iopub.status.busy": "2023-07-02T11:33:49.306194Z",
     "iopub.status.idle": "2023-07-02T11:33:49.322144Z",
     "shell.execute_reply": "2023-07-02T11:33:49.321310Z"
    },
    "papermill": {
     "duration": 0.053701,
     "end_time": "2023-07-02T11:33:49.324986",
     "exception": false,
     "start_time": "2023-07-02T11:33:49.271285",
     "status": "completed"
    },
    "tags": []
   },
   "outputs": [
    {
     "name": "stdout",
     "output_type": "stream",
     "text": [
      "N_COLS0: 164\n"
     ]
    }
   ],
   "source": [
    "# Lips Landmark Face Ids\n",
    "LIPS_LANDMARK_IDXS = np.array([\n",
    "        61, 185, 40, 39, 37, 0, 267, 269, 270, 409,\n",
    "        291, 146, 91, 181, 84, 17, 314, 405, 321, 375,\n",
    "        78, 191, 80, 81, 82, 13, 312, 311, 310, 415,\n",
    "        95, 88, 178, 87, 14, 317, 402, 318, 324, 308,\n",
    "    ])\n",
    "\n",
    "# Landmark Indices for Left/Right hand without z axis in raw data\n",
    "LEFT_HAND_IDXS0, LEFT_HAND_NAMES0 = get_idxs(example_parquet_df, ['left_hand'], ['z'])\n",
    "RIGHT_HAND_IDXS0, RIGHT_HAND_NAMES0 = get_idxs(example_parquet_df, ['right_hand'], ['z'])\n",
    "LIPS_IDXS0, LIPS_NAMES0 = get_idxs(example_parquet_df, ['face'], ['z'], idxs_pos=LIPS_LANDMARK_IDXS)\n",
    "COLUMNS0 = np.concatenate((LEFT_HAND_NAMES0, RIGHT_HAND_NAMES0, LIPS_NAMES0))\n",
    "N_COLS0 = len(COLUMNS0)\n",
    "# Only X/Y axes are used\n",
    "N_DIMS0 = 2\n",
    "\n",
    "print(f'N_COLS0: {N_COLS0}')"
   ]
  },
  {
   "cell_type": "code",
   "execution_count": 13,
   "id": "c5f2c2ce",
   "metadata": {
    "execution": {
     "iopub.execute_input": "2023-07-02T11:33:49.394155Z",
     "iopub.status.busy": "2023-07-02T11:33:49.393673Z",
     "iopub.status.idle": "2023-07-02T11:33:49.405067Z",
     "shell.execute_reply": "2023-07-02T11:33:49.404193Z"
    },
    "papermill": {
     "duration": 0.050026,
     "end_time": "2023-07-02T11:33:49.408684",
     "exception": false,
     "start_time": "2023-07-02T11:33:49.358658",
     "status": "completed"
    },
    "tags": []
   },
   "outputs": [
    {
     "name": "stdout",
     "output_type": "stream",
     "text": [
      "N_COLS: 164\n"
     ]
    }
   ],
   "source": [
    "# Landmark Indices in subset of dataframe with only COLUMNS selected\n",
    "LEFT_HAND_IDXS = np.argwhere(np.isin(COLUMNS0, LEFT_HAND_NAMES0)).squeeze()\n",
    "RIGHT_HAND_IDXS = np.argwhere(np.isin(COLUMNS0, RIGHT_HAND_NAMES0)).squeeze()\n",
    "LIPS_IDXS = np.argwhere(np.isin(COLUMNS0, LIPS_NAMES0)).squeeze()\n",
    "HAND_IDXS = np.concatenate((LEFT_HAND_IDXS, RIGHT_HAND_IDXS), axis=0)\n",
    "N_COLS = N_COLS0\n",
    "# Only X/Y axes are used\n",
    "N_DIMS = 2\n",
    "\n",
    "print(f'N_COLS: {N_COLS}')"
   ]
  },
  {
   "cell_type": "code",
   "execution_count": 14,
   "id": "77473f32",
   "metadata": {
    "execution": {
     "iopub.execute_input": "2023-07-02T11:33:49.478814Z",
     "iopub.status.busy": "2023-07-02T11:33:49.478411Z",
     "iopub.status.idle": "2023-07-02T11:33:49.485728Z",
     "shell.execute_reply": "2023-07-02T11:33:49.484813Z"
    },
    "papermill": {
     "duration": 0.045648,
     "end_time": "2023-07-02T11:33:49.488024",
     "exception": false,
     "start_time": "2023-07-02T11:33:49.442376",
     "status": "completed"
    },
    "tags": []
   },
   "outputs": [],
   "source": [
    "# Indices in processed data by axes with only dominant hand\n",
    "HAND_X_IDXS = np.array(\n",
    "        [idx for idx, name in enumerate(LEFT_HAND_NAMES0) if 'x' in name]\n",
    "    ).squeeze()\n",
    "HAND_Y_IDXS = np.array(\n",
    "        [idx for idx, name in enumerate(LEFT_HAND_NAMES0) if 'y' in name]\n",
    "    ).squeeze()\n",
    "# Names in processed data by axes\n",
    "HAND_X_NAMES = LEFT_HAND_NAMES0[HAND_X_IDXS]\n",
    "HAND_Y_NAMES = LEFT_HAND_NAMES0[HAND_Y_IDXS]"
   ]
  },
  {
   "cell_type": "markdown",
   "id": "e7e247fa",
   "metadata": {
    "papermill": {
     "duration": 0.037446,
     "end_time": "2023-07-02T11:33:49.563172",
     "exception": false,
     "start_time": "2023-07-02T11:33:49.525726",
     "status": "completed"
    },
    "tags": []
   },
   "source": [
    "# Mean/STD Loading"
   ]
  },
  {
   "cell_type": "code",
   "execution_count": 15,
   "id": "93a1f3de",
   "metadata": {
    "execution": {
     "iopub.execute_input": "2023-07-02T11:33:49.634678Z",
     "iopub.status.busy": "2023-07-02T11:33:49.634269Z",
     "iopub.status.idle": "2023-07-02T11:33:49.646152Z",
     "shell.execute_reply": "2023-07-02T11:33:49.645268Z"
    },
    "papermill": {
     "duration": 0.051188,
     "end_time": "2023-07-02T11:33:49.648816",
     "exception": false,
     "start_time": "2023-07-02T11:33:49.597628",
     "status": "completed"
    },
    "tags": []
   },
   "outputs": [],
   "source": [
    "# Mean/Standard Deviations of data used for normalizing\n",
    "MEANS = np.load('/kaggle/input/aslfr-preprocessing-dataset/MEANS.npy').reshape(-1)\n",
    "STDS = np.load('/kaggle/input/aslfr-preprocessing-dataset/STDS.npy').reshape(-1)"
   ]
  },
  {
   "cell_type": "markdown",
   "id": "b8ea6717",
   "metadata": {
    "papermill": {
     "duration": 0.033837,
     "end_time": "2023-07-02T11:33:49.717492",
     "exception": false,
     "start_time": "2023-07-02T11:33:49.683655",
     "status": "completed"
    },
    "tags": []
   },
   "source": [
    "# Tensorflow Preprocessing Layer"
   ]
  },
  {
   "cell_type": "code",
   "execution_count": 16,
   "id": "de0729ab",
   "metadata": {
    "execution": {
     "iopub.execute_input": "2023-07-02T11:33:49.787674Z",
     "iopub.status.busy": "2023-07-02T11:33:49.787278Z",
     "iopub.status.idle": "2023-07-02T11:33:52.818121Z",
     "shell.execute_reply": "2023-07-02T11:33:52.817063Z"
    },
    "papermill": {
     "duration": 3.068754,
     "end_time": "2023-07-02T11:33:52.820674",
     "exception": false,
     "start_time": "2023-07-02T11:33:49.751920",
     "status": "completed"
    },
    "tags": []
   },
   "outputs": [],
   "source": [
    "\"\"\"\n",
    "    Tensorflow layer to process data in TFLite\n",
    "    Data needs to be processed in the model itself, so we can not use Python\n",
    "\"\"\" \n",
    "class PreprocessLayer(tf.keras.layers.Layer):\n",
    "    def __init__(self):\n",
    "        super(PreprocessLayer, self).__init__()\n",
    "        self.normalisation_correction = tf.constant(\n",
    "                    # Add 0.50 to x coordinates of left hand (original right hand) and substract 0.50 of right hand (original left hand)\n",
    "                     [0.50 if 'x' in name else 0.00 for name in LEFT_HAND_NAMES0],\n",
    "                dtype=tf.float32,\n",
    "            )\n",
    "    \n",
    "    @tf.function(\n",
    "        input_signature=(tf.TensorSpec(shape=[None,N_COLS0], dtype=tf.float32),),\n",
    "    )\n",
    "    def call(self, data0, resize=True):\n",
    "        # Fill NaN Values With 0\n",
    "        data = tf.where(tf.math.is_nan(data0), 0.0, data0)\n",
    "        \n",
    "        # Hacky\n",
    "        data = data[None]\n",
    "        \n",
    "        # Empty Hand Frame Filtering\n",
    "        hands = tf.slice(data, [0,0,0], [-1, -1, 84])\n",
    "        hands = tf.abs(hands)\n",
    "        mask = tf.reduce_sum(hands, axis=2)\n",
    "        mask = tf.not_equal(mask, 0)\n",
    "        data = data[mask][None]\n",
    "        \n",
    "        # Pad Zeros\n",
    "        N_FRAMES = len(data[0])\n",
    "        if N_FRAMES < N_TARGET_FRAMES:\n",
    "            data = tf.concat((\n",
    "                data,\n",
    "                tf.zeros([1,N_TARGET_FRAMES-N_FRAMES,N_COLS], dtype=tf.float32)\n",
    "            ), axis=1)\n",
    "        # Downsample\n",
    "        data = tf.image.resize(\n",
    "            data,\n",
    "            [1, N_TARGET_FRAMES],\n",
    "            method=tf.image.ResizeMethod.BILINEAR,\n",
    "        )\n",
    "        \n",
    "        # Squeeze Batch Dimension\n",
    "        data = tf.squeeze(data, axis=[0])\n",
    "        \n",
    "        return data\n",
    "    \n",
    "preprocess_layer = PreprocessLayer()"
   ]
  },
  {
   "cell_type": "code",
   "execution_count": 17,
   "id": "5decb16e",
   "metadata": {
    "execution": {
     "iopub.execute_input": "2023-07-02T11:33:52.875173Z",
     "iopub.status.busy": "2023-07-02T11:33:52.874779Z",
     "iopub.status.idle": "2023-07-02T11:33:52.882683Z",
     "shell.execute_reply": "2023-07-02T11:33:52.881754Z"
    },
    "papermill": {
     "duration": 0.038316,
     "end_time": "2023-07-02T11:33:52.885017",
     "exception": false,
     "start_time": "2023-07-02T11:33:52.846701",
     "status": "completed"
    },
    "tags": []
   },
   "outputs": [],
   "source": [
    "# Function To Test Preprocessing Layer\n",
    "def test_preprocess_layer():\n",
    "    demo_sequence_id = example_parquet_df.index.unique()[15]\n",
    "    demo_raw_data = example_parquet_df.loc[demo_sequence_id, COLUMNS0]\n",
    "    data = preprocess_layer(demo_raw_data)\n",
    "\n",
    "    print(f'demo_raw_data shape: {demo_raw_data.shape}')\n",
    "    print(f'data shape: {data.shape}')\n",
    "    \n",
    "    return data\n",
    "    \n",
    "if IS_INTERACTIVE:\n",
    "    data = test_preprocess_layer()"
   ]
  },
  {
   "cell_type": "markdown",
   "id": "dd9afd89",
   "metadata": {
    "papermill": {
     "duration": 0.023965,
     "end_time": "2023-07-02T11:33:52.934821",
     "exception": false,
     "start_time": "2023-07-02T11:33:52.910856",
     "status": "completed"
    },
    "tags": []
   },
   "source": [
    "# Train Dataset"
   ]
  },
  {
   "cell_type": "code",
   "execution_count": 18,
   "id": "f28b0a15",
   "metadata": {
    "execution": {
     "iopub.execute_input": "2023-07-02T11:33:52.984919Z",
     "iopub.status.busy": "2023-07-02T11:33:52.984565Z",
     "iopub.status.idle": "2023-07-02T11:33:52.990291Z",
     "shell.execute_reply": "2023-07-02T11:33:52.989395Z"
    },
    "papermill": {
     "duration": 0.033186,
     "end_time": "2023-07-02T11:33:52.992213",
     "exception": false,
     "start_time": "2023-07-02T11:33:52.959027",
     "status": "completed"
    },
    "tags": []
   },
   "outputs": [],
   "source": [
    "# Train Dataset Iterator\n",
    "def get_train_dataset(X, y, batch_size=BATCH_SIZE):\n",
    "    sample_idxs = np.arange(len(X))\n",
    "    while True:\n",
    "        # Get random indices\n",
    "        random_sample_idxs = np.random.choice(sample_idxs, batch_size)\n",
    "        \n",
    "        inputs = {\n",
    "            'frames': X[random_sample_idxs],\n",
    "            'phrase': y[random_sample_idxs],\n",
    "        }\n",
    "        outputs = y[random_sample_idxs]\n",
    "        \n",
    "        yield inputs, outputs"
   ]
  },
  {
   "cell_type": "code",
   "execution_count": 19,
   "id": "c4956496",
   "metadata": {
    "execution": {
     "iopub.execute_input": "2023-07-02T11:33:53.045648Z",
     "iopub.status.busy": "2023-07-02T11:33:53.044715Z",
     "iopub.status.idle": "2023-07-02T11:33:53.049868Z",
     "shell.execute_reply": "2023-07-02T11:33:53.048953Z"
    },
    "papermill": {
     "duration": 0.03572,
     "end_time": "2023-07-02T11:33:53.051965",
     "exception": false,
     "start_time": "2023-07-02T11:33:53.016245",
     "status": "completed"
    },
    "tags": []
   },
   "outputs": [],
   "source": [
    "# Train Dataset\n",
    "train_dataset = get_train_dataset(X_train, y_train)"
   ]
  },
  {
   "cell_type": "code",
   "execution_count": 20,
   "id": "8716c4d4",
   "metadata": {
    "execution": {
     "iopub.execute_input": "2023-07-02T11:33:53.104021Z",
     "iopub.status.busy": "2023-07-02T11:33:53.102989Z",
     "iopub.status.idle": "2023-07-02T11:33:53.109721Z",
     "shell.execute_reply": "2023-07-02T11:33:53.108280Z"
    },
    "papermill": {
     "duration": 0.034525,
     "end_time": "2023-07-02T11:33:53.111793",
     "exception": false,
     "start_time": "2023-07-02T11:33:53.077268",
     "status": "completed"
    },
    "tags": []
   },
   "outputs": [
    {
     "name": "stdout",
     "output_type": "stream",
     "text": [
      "TRAIN_STEPS_PER_EPOCH: 969\n"
     ]
    }
   ],
   "source": [
    "# Training Steps Per Epoch\n",
    "TRAIN_STEPS_PER_EPOCH = math.ceil(N_TRAIN_SAMPLES / BATCH_SIZE)\n",
    "print(f'TRAIN_STEPS_PER_EPOCH: {TRAIN_STEPS_PER_EPOCH}')"
   ]
  },
  {
   "cell_type": "markdown",
   "id": "3f06f3a5",
   "metadata": {
    "papermill": {
     "duration": 0.02478,
     "end_time": "2023-07-02T11:33:53.161179",
     "exception": false,
     "start_time": "2023-07-02T11:33:53.136399",
     "status": "completed"
    },
    "tags": []
   },
   "source": [
    "# Validation Dataset"
   ]
  },
  {
   "cell_type": "code",
   "execution_count": 21,
   "id": "c5545f9e",
   "metadata": {
    "execution": {
     "iopub.execute_input": "2023-07-02T11:33:53.212522Z",
     "iopub.status.busy": "2023-07-02T11:33:53.212173Z",
     "iopub.status.idle": "2023-07-02T11:33:53.218203Z",
     "shell.execute_reply": "2023-07-02T11:33:53.217272Z"
    },
    "papermill": {
     "duration": 0.0344,
     "end_time": "2023-07-02T11:33:53.220231",
     "exception": false,
     "start_time": "2023-07-02T11:33:53.185831",
     "status": "completed"
    },
    "tags": []
   },
   "outputs": [],
   "source": [
    "# Validation Set\n",
    "def get_val_dataset(X, y, batch_size=BATCH_SIZE):\n",
    "    offsets = np.arange(0, len(X), batch_size)\n",
    "    while True:\n",
    "        # Iterate over whole validation set\n",
    "        for offset in offsets:\n",
    "            inputs = {\n",
    "                'frames': X[offset:offset+batch_size],\n",
    "                'phrase': y[offset:offset+batch_size],\n",
    "            }\n",
    "            outputs = y[offset:offset+batch_size]\n",
    "\n",
    "            yield inputs, outputs"
   ]
  },
  {
   "cell_type": "code",
   "execution_count": 22,
   "id": "6864a687",
   "metadata": {
    "execution": {
     "iopub.execute_input": "2023-07-02T11:33:53.270371Z",
     "iopub.status.busy": "2023-07-02T11:33:53.269581Z",
     "iopub.status.idle": "2023-07-02T11:33:53.274319Z",
     "shell.execute_reply": "2023-07-02T11:33:53.273464Z"
    },
    "papermill": {
     "duration": 0.031785,
     "end_time": "2023-07-02T11:33:53.276318",
     "exception": false,
     "start_time": "2023-07-02T11:33:53.244533",
     "status": "completed"
    },
    "tags": []
   },
   "outputs": [],
   "source": [
    "# Validation Dataset\n",
    "if USE_VAL:\n",
    "    val_dataset = get_val_dataset(X_val, y_val)"
   ]
  },
  {
   "cell_type": "code",
   "execution_count": 23,
   "id": "68784ee2",
   "metadata": {
    "execution": {
     "iopub.execute_input": "2023-07-02T11:33:53.326652Z",
     "iopub.status.busy": "2023-07-02T11:33:53.325736Z",
     "iopub.status.idle": "2023-07-02T11:33:53.330661Z",
     "shell.execute_reply": "2023-07-02T11:33:53.329815Z"
    },
    "papermill": {
     "duration": 0.032228,
     "end_time": "2023-07-02T11:33:53.332610",
     "exception": false,
     "start_time": "2023-07-02T11:33:53.300382",
     "status": "completed"
    },
    "tags": []
   },
   "outputs": [],
   "source": [
    "if USE_VAL:\n",
    "    N_VAL_STEPS_PER_EPOCH = math.ceil(N_VAL_SAMPLES / BATCH_SIZE)\n",
    "    print(f'N_VAL_STEPS_PER_EPOCH: {N_VAL_STEPS_PER_EPOCH}')"
   ]
  },
  {
   "cell_type": "markdown",
   "id": "a15a57d9",
   "metadata": {
    "papermill": {
     "duration": 0.0243,
     "end_time": "2023-07-02T11:33:53.381866",
     "exception": false,
     "start_time": "2023-07-02T11:33:53.357566",
     "status": "completed"
    },
    "tags": []
   },
   "source": [
    "# Model Config"
   ]
  },
  {
   "cell_type": "code",
   "execution_count": 24,
   "id": "deea28d5",
   "metadata": {
    "execution": {
     "iopub.execute_input": "2023-07-02T11:33:53.435100Z",
     "iopub.status.busy": "2023-07-02T11:33:53.434103Z",
     "iopub.status.idle": "2023-07-02T11:33:53.441297Z",
     "shell.execute_reply": "2023-07-02T11:33:53.440387Z"
    },
    "papermill": {
     "duration": 0.036845,
     "end_time": "2023-07-02T11:33:53.443416",
     "exception": false,
     "start_time": "2023-07-02T11:33:53.406571",
     "status": "completed"
    },
    "tags": []
   },
   "outputs": [],
   "source": [
    "# Epsilon value for layer normalisation\n",
    "LAYER_NORM_EPS = 1e-6\n",
    "\n",
    "# final embedding and transformer embedding size\n",
    "UNITS_ENCODER = 384\n",
    "UNITS_DECODER = 256\n",
    "\n",
    "# Transformer\n",
    "NUM_BLOCKS_ENCODER = 3\n",
    "NUM_BLOCKS_DECODER = 2\n",
    "NUM_HEADS = 4\n",
    "MLP_RATIO = 2\n",
    "\n",
    "# Dropout\n",
    "EMBEDDING_DROPOUT = 0.00\n",
    "MLP_DROPOUT_RATIO = 0.30\n",
    "MHA_DROPOUT_RATIO = 0.20\n",
    "CLASSIFIER_DROPOUT_RATIO = 0.10\n",
    "\n",
    "# Initiailizers\n",
    "INIT_HE_UNIFORM = tf.keras.initializers.he_uniform\n",
    "INIT_GLOROT_UNIFORM = tf.keras.initializers.glorot_uniform\n",
    "INIT_ZEROS = tf.keras.initializers.constant(0.0)\n",
    "# Activations\n",
    "GELU = tf.keras.activations.gelu"
   ]
  },
  {
   "cell_type": "markdown",
   "id": "cd517f4b",
   "metadata": {
    "papermill": {
     "duration": 0.024508,
     "end_time": "2023-07-02T11:33:53.492645",
     "exception": false,
     "start_time": "2023-07-02T11:33:53.468137",
     "status": "completed"
    },
    "tags": []
   },
   "source": [
    "# Landmark Embedding"
   ]
  },
  {
   "cell_type": "code",
   "execution_count": 25,
   "id": "00294dc7",
   "metadata": {
    "execution": {
     "iopub.execute_input": "2023-07-02T11:33:53.544263Z",
     "iopub.status.busy": "2023-07-02T11:33:53.543229Z",
     "iopub.status.idle": "2023-07-02T11:33:53.552352Z",
     "shell.execute_reply": "2023-07-02T11:33:53.551474Z"
    },
    "papermill": {
     "duration": 0.03711,
     "end_time": "2023-07-02T11:33:53.554368",
     "exception": false,
     "start_time": "2023-07-02T11:33:53.517258",
     "status": "completed"
    },
    "tags": []
   },
   "outputs": [],
   "source": [
    "# Embeds a landmark using fully connected layers\n",
    "class LandmarkEmbedding(tf.keras.Model):\n",
    "    def __init__(self, units, name):\n",
    "        super(LandmarkEmbedding, self).__init__(name=f'{name}_embedding')\n",
    "        self.units = units\n",
    "        self.supports_masking = True\n",
    "        \n",
    "    def build(self, input_shape):\n",
    "        # Embedding for missing landmark in frame, initizlied with zeros\n",
    "        self.empty_embedding = self.add_weight(\n",
    "            name=f'{self.name}_empty_embedding',\n",
    "            shape=[self.units],\n",
    "            initializer=INIT_ZEROS,\n",
    "        )\n",
    "        # Embedding\n",
    "        self.dense = tf.keras.Sequential([\n",
    "            tf.keras.layers.Dense(self.units, name=f'{self.name}_dense_1', use_bias=False, kernel_initializer=INIT_GLOROT_UNIFORM, activation=GELU),\n",
    "            tf.keras.layers.Dense(self.units, name=f'{self.name}_dense_2', use_bias=False, kernel_initializer=INIT_HE_UNIFORM),\n",
    "        ], name=f'{self.name}_dense')\n",
    "\n",
    "    def call(self, x):\n",
    "        return tf.where(\n",
    "                # Checks whether landmark is missing in frame\n",
    "                tf.reduce_sum(x, axis=2, keepdims=True) == 0,\n",
    "                # If so, the empty embedding is used\n",
    "                self.empty_embedding,\n",
    "                # Otherwise the landmark data is embedded\n",
    "                self.dense(x),\n",
    "            )"
   ]
  },
  {
   "cell_type": "markdown",
   "id": "e90d27c1",
   "metadata": {
    "papermill": {
     "duration": 0.023829,
     "end_time": "2023-07-02T11:33:53.602530",
     "exception": false,
     "start_time": "2023-07-02T11:33:53.578701",
     "status": "completed"
    },
    "tags": []
   },
   "source": [
    "# Embedding"
   ]
  },
  {
   "cell_type": "code",
   "execution_count": 26,
   "id": "03072d7f",
   "metadata": {
    "execution": {
     "iopub.execute_input": "2023-07-02T11:33:53.653726Z",
     "iopub.status.busy": "2023-07-02T11:33:53.652798Z",
     "iopub.status.idle": "2023-07-02T11:33:53.661110Z",
     "shell.execute_reply": "2023-07-02T11:33:53.660189Z"
    },
    "papermill": {
     "duration": 0.036321,
     "end_time": "2023-07-02T11:33:53.663162",
     "exception": false,
     "start_time": "2023-07-02T11:33:53.626841",
     "status": "completed"
    },
    "tags": []
   },
   "outputs": [],
   "source": [
    "# Creates embedding for each frame\n",
    "class Embedding(tf.keras.Model):\n",
    "    def __init__(self):\n",
    "        super(Embedding, self).__init__()\n",
    "        self.supports_masking = True\n",
    "    \n",
    "    def build(self, input_shape):\n",
    "        # Positional embedding for each frame index\n",
    "        self.positional_embedding = tf.Variable(\n",
    "            initial_value=tf.zeros([N_TARGET_FRAMES, UNITS_ENCODER], dtype=tf.float32),\n",
    "            trainable=True,\n",
    "            name='embedding_positional_encoder',\n",
    "        )\n",
    "        # Embedding layer for Landmarks\n",
    "        self.dominant_hand_embedding = LandmarkEmbedding(UNITS_ENCODER, 'dominant_hand')\n",
    "\n",
    "    def call(self, x, training=False):\n",
    "        # Normalize\n",
    "        x = tf.where(\n",
    "                tf.math.equal(x, 0.0),\n",
    "                0.0,\n",
    "                (x - MEANS) / STDS,\n",
    "            )\n",
    "        # Dominant Hand\n",
    "        x = self.dominant_hand_embedding(x)\n",
    "        # Add Positional Encoding\n",
    "        x = x + self.positional_embedding\n",
    "        \n",
    "        return x"
   ]
  },
  {
   "cell_type": "markdown",
   "id": "bc2a25d8",
   "metadata": {
    "papermill": {
     "duration": 0.025127,
     "end_time": "2023-07-02T11:33:53.713795",
     "exception": false,
     "start_time": "2023-07-02T11:33:53.688668",
     "status": "completed"
    },
    "tags": []
   },
   "source": [
    "# Transformer"
   ]
  },
  {
   "cell_type": "code",
   "execution_count": 27,
   "id": "690bb127",
   "metadata": {
    "execution": {
     "iopub.execute_input": "2023-07-02T11:33:53.765194Z",
     "iopub.status.busy": "2023-07-02T11:33:53.764819Z",
     "iopub.status.idle": "2023-07-02T11:33:53.777397Z",
     "shell.execute_reply": "2023-07-02T11:33:53.776414Z"
    },
    "papermill": {
     "duration": 0.04073,
     "end_time": "2023-07-02T11:33:53.779389",
     "exception": false,
     "start_time": "2023-07-02T11:33:53.738659",
     "status": "completed"
    },
    "tags": []
   },
   "outputs": [],
   "source": [
    "# based on: https://stackoverflow.com/questions/67342988/verifying-the-implementation-of-multihead-attention-in-transformer\n",
    "# replaced softmax with softmax layer to support masked softmax\n",
    "def scaled_dot_product(q,k,v, softmax, attention_mask):\n",
    "    #calculates Q . K(transpose)\n",
    "    qkt = tf.matmul(q,k,transpose_b=True)\n",
    "    #caculates scaling factor\n",
    "    dk = tf.math.sqrt(tf.cast(q.shape[-1],dtype=tf.float32))\n",
    "    scaled_qkt = qkt/dk\n",
    "    softmax = softmax(scaled_qkt, mask=attention_mask)\n",
    "    z = tf.matmul(softmax,v)\n",
    "    #shape: (m,Tx,depth), same shape as q,k,v\n",
    "    return z\n",
    "\n",
    "class MultiHeadAttention(tf.keras.layers.Layer):\n",
    "    def __init__(self,d_model, num_of_heads, dropout, d_out=None):\n",
    "        super(MultiHeadAttention,self).__init__()\n",
    "        self.d_model = d_model\n",
    "        self.num_of_heads = num_of_heads\n",
    "        self.depth = d_model//num_of_heads\n",
    "        self.wq = [tf.keras.layers.Dense(self.depth//2, use_bias=False) for i in range(num_of_heads)]\n",
    "        self.wk = [tf.keras.layers.Dense(self.depth//2, use_bias=False) for i in range(num_of_heads)]\n",
    "        self.wv = [tf.keras.layers.Dense(self.depth//2, use_bias=False) for i in range(num_of_heads)]\n",
    "        self.wo = tf.keras.layers.Dense(d_model if d_out is None else d_out, use_bias=False)\n",
    "        self.softmax = tf.keras.layers.Softmax()\n",
    "        self.do = tf.keras.layers.Dropout(dropout)\n",
    "        self.supports_masking = True\n",
    "        \n",
    "    def call(self, q, k, v, attention_mask=None, training=False):\n",
    "        \n",
    "        multi_attn = []\n",
    "        for i in range(self.num_of_heads):\n",
    "            Q = self.wq[i](q)\n",
    "            K = self.wk[i](k)\n",
    "            V = self.wv[i](v)\n",
    "            multi_attn.append(scaled_dot_product(Q,K,V, self.softmax, attention_mask))\n",
    "            \n",
    "        multi_head = tf.concat(multi_attn, axis=-1)\n",
    "        multi_head_attention = self.wo(multi_head)\n",
    "        multi_head_attention = self.do(multi_head_attention, training=training)\n",
    "        \n",
    "        return multi_head_attention"
   ]
  },
  {
   "cell_type": "markdown",
   "id": "5331ef65",
   "metadata": {
    "papermill": {
     "duration": 0.024245,
     "end_time": "2023-07-02T11:33:53.828275",
     "exception": false,
     "start_time": "2023-07-02T11:33:53.804030",
     "status": "completed"
    },
    "tags": []
   },
   "source": [
    "# Encoder\n",
    "\n",
    "[source](https://keras.io/examples/nlp/neural_machine_translation_with_transformer/)"
   ]
  },
  {
   "cell_type": "code",
   "execution_count": 28,
   "id": "b58a5297",
   "metadata": {
    "execution": {
     "iopub.execute_input": "2023-07-02T11:33:53.880216Z",
     "iopub.status.busy": "2023-07-02T11:33:53.879240Z",
     "iopub.status.idle": "2023-07-02T11:33:53.892432Z",
     "shell.execute_reply": "2023-07-02T11:33:53.891495Z"
    },
    "papermill": {
     "duration": 0.041438,
     "end_time": "2023-07-02T11:33:53.894476",
     "exception": false,
     "start_time": "2023-07-02T11:33:53.853038",
     "status": "completed"
    },
    "tags": []
   },
   "outputs": [],
   "source": [
    "# Encoder based on multiple transformer blocks\n",
    "class Encoder(tf.keras.Model):\n",
    "    def __init__(self, num_blocks):\n",
    "        super(Encoder, self).__init__(name='encoder')\n",
    "        self.num_blocks = num_blocks\n",
    "        self.supports_masking = True\n",
    "    \n",
    "    def build(self, input_shape):\n",
    "        self.ln_1s = []\n",
    "        self.mhas = []\n",
    "        self.ln_2s = []\n",
    "        self.mlps = []\n",
    "        # Make Transformer Blocks\n",
    "        for i in range(self.num_blocks):\n",
    "            # First Layer Normalisation\n",
    "            self.ln_1s.append(tf.keras.layers.LayerNormalization(epsilon=LAYER_NORM_EPS))\n",
    "            # Multi Head Attention\n",
    "            self.mhas.append(MultiHeadAttention(UNITS_ENCODER, NUM_HEADS, MHA_DROPOUT_RATIO))\n",
    "            # Second Layer Normalisation\n",
    "            self.ln_2s.append(tf.keras.layers.LayerNormalization(epsilon=LAYER_NORM_EPS))\n",
    "            # Multi Layer Perception\n",
    "            self.mlps.append(tf.keras.Sequential([\n",
    "                tf.keras.layers.Dense(UNITS_ENCODER * MLP_RATIO, activation=GELU, kernel_initializer=INIT_GLOROT_UNIFORM, use_bias=False),\n",
    "                tf.keras.layers.Dropout(MLP_DROPOUT_RATIO),\n",
    "                tf.keras.layers.Dense(UNITS_ENCODER, kernel_initializer=INIT_HE_UNIFORM, use_bias=False),\n",
    "            ]))\n",
    "            # Optional Projection to Decoder Dimension\n",
    "            if UNITS_ENCODER != UNITS_DECODER:\n",
    "                self.dense_out = tf.keras.layers.Dense(UNITS_DECODER, kernel_initializer=INIT_GLOROT_UNIFORM, use_bias=False)\n",
    "                self.apply_dense_out = True\n",
    "            else:\n",
    "                self.apply_dense_out = False\n",
    "        \n",
    "    def call(self, x, x_inp, training=False):\n",
    "        # Attention mask to ignore missing frames\n",
    "        attention_mask = tf.where(tf.math.reduce_sum(x_inp, axis=[2]) == 0.0, 0.0, 1.0)\n",
    "        attention_mask = tf.expand_dims(attention_mask, axis=1)\n",
    "        attention_mask = tf.repeat(attention_mask, repeats=N_TARGET_FRAMES, axis=1)\n",
    "        # Iterate input over transformer blocks\n",
    "        for ln_1, mha, ln_2, mlp in zip(self.ln_1s, self.mhas, self.ln_2s, self.mlps):\n",
    "            x = ln_1(x + mha(x, x, x, attention_mask=attention_mask))\n",
    "            x = ln_2(x + mlp(x))\n",
    "            \n",
    "        # Optional Projection to Decoder Dimension\n",
    "        if self.apply_dense_out:\n",
    "            x = self.dense_out(x)\n",
    "    \n",
    "        return x"
   ]
  },
  {
   "cell_type": "markdown",
   "id": "50f21976",
   "metadata": {
    "papermill": {
     "duration": 0.024624,
     "end_time": "2023-07-02T11:33:53.943518",
     "exception": false,
     "start_time": "2023-07-02T11:33:53.918894",
     "status": "completed"
    },
    "tags": []
   },
   "source": [
    "# Decoder"
   ]
  },
  {
   "cell_type": "code",
   "execution_count": 29,
   "id": "45431ad2",
   "metadata": {
    "execution": {
     "iopub.execute_input": "2023-07-02T11:33:53.994819Z",
     "iopub.status.busy": "2023-07-02T11:33:53.994473Z",
     "iopub.status.idle": "2023-07-02T11:33:54.012561Z",
     "shell.execute_reply": "2023-07-02T11:33:54.011515Z"
    },
    "papermill": {
     "duration": 0.046582,
     "end_time": "2023-07-02T11:33:54.014771",
     "exception": false,
     "start_time": "2023-07-02T11:33:53.968189",
     "status": "completed"
    },
    "tags": []
   },
   "outputs": [],
   "source": [
    "# Decoder based on multiple transformer blocks\n",
    "class Decoder(tf.keras.Model):\n",
    "    def __init__(self, num_blocks):\n",
    "        super(Decoder, self).__init__(name='decoder')\n",
    "        self.num_blocks = num_blocks\n",
    "        self.supports_masking = True\n",
    "    \n",
    "    def build(self, input_shape):\n",
    "        # Positional Embedding, initialized with zeros\n",
    "        self.positional_embedding = tf.Variable(\n",
    "            initial_value=tf.zeros([N_TARGET_FRAMES, UNITS_DECODER], dtype=tf.float32),\n",
    "            trainable=True,\n",
    "            name='embedding_positional_encoder',\n",
    "        )\n",
    "        # Character Embedding\n",
    "        self.char_emb = tf.keras.layers.Embedding(N_UNIQUE_CHARACTERS, UNITS_DECODER, embeddings_initializer=INIT_ZEROS)\n",
    "        # Positional Encoder MHA\n",
    "        self.pos_emb_mha = MultiHeadAttention(UNITS_DECODER, NUM_HEADS, MHA_DROPOUT_RATIO)\n",
    "        self.pos_emb_ln = tf.keras.layers.LayerNormalization(epsilon=LAYER_NORM_EPS)\n",
    "        # First Layer Normalisation\n",
    "        self.ln_1s = []\n",
    "        self.mhas = []\n",
    "        self.ln_2s = []\n",
    "        self.mlps = []\n",
    "        # Make Transformer Blocks\n",
    "        for i in range(self.num_blocks):\n",
    "            # First Layer Normalisation\n",
    "            self.ln_1s.append(tf.keras.layers.LayerNormalization(epsilon=LAYER_NORM_EPS))\n",
    "            # Multi Head Attention\n",
    "            self.mhas.append(MultiHeadAttention(UNITS_DECODER, NUM_HEADS, MHA_DROPOUT_RATIO))\n",
    "            # Second Layer Normalisation\n",
    "            self.ln_2s.append(tf.keras.layers.LayerNormalization(epsilon=LAYER_NORM_EPS))\n",
    "            # Multi Layer Perception\n",
    "            self.mlps.append(tf.keras.Sequential([\n",
    "                tf.keras.layers.Dense(UNITS_DECODER * MLP_RATIO, activation=GELU, kernel_initializer=INIT_GLOROT_UNIFORM, use_bias=False),\n",
    "                tf.keras.layers.Dropout(MLP_DROPOUT_RATIO),\n",
    "                tf.keras.layers.Dense(UNITS_DECODER, kernel_initializer=INIT_HE_UNIFORM, use_bias=False),\n",
    "            ]))\n",
    "            \n",
    "    def get_causal_attention_mask(self, B):\n",
    "        i = tf.range(N_TARGET_FRAMES)[:, tf.newaxis]\n",
    "        j = tf.range(N_TARGET_FRAMES)\n",
    "        mask = tf.cast(i >= j, dtype=tf.int32)\n",
    "        mask = tf.reshape(mask, (1, N_TARGET_FRAMES, N_TARGET_FRAMES))\n",
    "        mult = tf.concat(\n",
    "            [tf.expand_dims(B, -1), tf.constant([1, 1], dtype=tf.int32)],\n",
    "            axis=0,\n",
    "        )\n",
    "        mask = tf.tile(mask, mult)\n",
    "        mask = tf.cast(mask, tf.float32)\n",
    "        return mask\n",
    "        \n",
    "    def call(self, encoder_outputs, phrase, training=False):\n",
    "        # Batch Size\n",
    "        B = tf.shape(encoder_outputs)[0]\n",
    "        # Cast to INT32\n",
    "        phrase = tf.cast(phrase, tf.int32)\n",
    "        # Prepend SOS Token\n",
    "        phrase = tf.pad(phrase, [[0,0], [1,0]], constant_values=SOS_TOKEN, name='prepend_sos_token')\n",
    "        # Pad With PAD Token\n",
    "        phrase = tf.pad(phrase, [[0,0], [0,N_TARGET_FRAMES-MAX_PHRASE_LENGTH-1]], constant_values=PAD_TOKEN, name='append_pad_token')\n",
    "        # Causal Mask\n",
    "        causal_mask = self.get_causal_attention_mask(B)\n",
    "        # Positional Embedding\n",
    "        x = self.positional_embedding + self.char_emb(phrase)\n",
    "        # Causal Attention\n",
    "        x = self.pos_emb_ln(x + self.pos_emb_mha(x, x, x, attention_mask=causal_mask))\n",
    "        # Iterate input over transformer blocks\n",
    "        for ln_1, mha, ln_2, mlp in zip(self.ln_1s, self.mhas, self.ln_2s, self.mlps):\n",
    "            x = ln_1(x + mha(x, encoder_outputs, encoder_outputs, attention_mask=causal_mask))\n",
    "            x = ln_2(x + mlp(x))\n",
    "        # Slice 31 Characters\n",
    "        x = tf.slice(x, [0, 0, 0], [-1, MAX_PHRASE_LENGTH, -1])\n",
    "    \n",
    "        return x"
   ]
  },
  {
   "cell_type": "code",
   "execution_count": 30,
   "id": "71eb05e9",
   "metadata": {
    "execution": {
     "iopub.execute_input": "2023-07-02T11:33:54.070281Z",
     "iopub.status.busy": "2023-07-02T11:33:54.069163Z",
     "iopub.status.idle": "2023-07-02T11:33:54.135042Z",
     "shell.execute_reply": "2023-07-02T11:33:54.134093Z"
    },
    "papermill": {
     "duration": 0.094639,
     "end_time": "2023-07-02T11:33:54.137348",
     "exception": false,
     "start_time": "2023-07-02T11:33:54.042709",
     "status": "completed"
    },
    "tags": []
   },
   "outputs": [
    {
     "data": {
      "text/plain": [
       "<tf.Tensor: shape=(1, 128, 128), dtype=float32, numpy=\n",
       "array([[[1., 0., 0., ..., 0., 0., 0.],\n",
       "        [1., 1., 0., ..., 0., 0., 0.],\n",
       "        [1., 1., 1., ..., 0., 0., 0.],\n",
       "        ...,\n",
       "        [1., 1., 1., ..., 1., 0., 0.],\n",
       "        [1., 1., 1., ..., 1., 1., 0.],\n",
       "        [1., 1., 1., ..., 1., 1., 1.]]], dtype=float32)>"
      ]
     },
     "execution_count": 30,
     "metadata": {},
     "output_type": "execute_result"
    }
   ],
   "source": [
    "# Causal Attention to make decoder not attent to future characters which it needs to predict\n",
    "def get_causal_attention_mask(B):\n",
    "    i = tf.range(N_TARGET_FRAMES)[:, tf.newaxis]\n",
    "    j = tf.range(N_TARGET_FRAMES)\n",
    "    mask = tf.cast(i >= j, dtype=tf.int32)\n",
    "    mask = tf.reshape(mask, (1, N_TARGET_FRAMES, N_TARGET_FRAMES))\n",
    "    mult = tf.concat(\n",
    "        [tf.expand_dims(B, -1), tf.constant([1, 1], dtype=tf.int32)],\n",
    "        axis=0,\n",
    "    )\n",
    "    mask = tf.tile(mask, mult)\n",
    "    mask = tf.cast(mask, tf.float32)\n",
    "    return mask\n",
    "\n",
    "get_causal_attention_mask(1)"
   ]
  },
  {
   "cell_type": "markdown",
   "id": "0cb9fab0",
   "metadata": {
    "papermill": {
     "duration": 0.024935,
     "end_time": "2023-07-02T11:33:54.189242",
     "exception": false,
     "start_time": "2023-07-02T11:33:54.164307",
     "status": "completed"
    },
    "tags": []
   },
   "source": [
    "# Non Pad/SOS/EOS Token Accuracy"
   ]
  },
  {
   "cell_type": "code",
   "execution_count": 31,
   "id": "a837d240",
   "metadata": {
    "execution": {
     "iopub.execute_input": "2023-07-02T11:33:54.240687Z",
     "iopub.status.busy": "2023-07-02T11:33:54.240332Z",
     "iopub.status.idle": "2023-07-02T11:33:54.249171Z",
     "shell.execute_reply": "2023-07-02T11:33:54.248099Z"
    },
    "papermill": {
     "duration": 0.037227,
     "end_time": "2023-07-02T11:33:54.251228",
     "exception": false,
     "start_time": "2023-07-02T11:33:54.214001",
     "status": "completed"
    },
    "tags": []
   },
   "outputs": [],
   "source": [
    "# TopK accuracy for multi dimensional output\n",
    "class TopKAccuracy(tf.keras.metrics.Metric):\n",
    "    def __init__(self, k, **kwargs):\n",
    "        super(TopKAccuracy, self).__init__(name=f'top{k}acc', **kwargs)\n",
    "        self.top_k_acc = tf.keras.metrics.SparseTopKCategoricalAccuracy(k=k)\n",
    "\n",
    "    def update_state(self, y_true, y_pred, sample_weight=None):\n",
    "        y_true = tf.reshape(y_true, [-1])\n",
    "        y_pred = tf.reshape(y_pred, [-1, N_UNIQUE_CHARACTERS])\n",
    "        character_idxs = tf.where(y_true < N_UNIQUE_CHARACTERS0)\n",
    "        y_true = tf.gather(y_true, character_idxs, axis=0)\n",
    "        y_pred = tf.gather(y_pred, character_idxs, axis=0)\n",
    "        self.top_k_acc.update_state(y_true, y_pred)\n",
    "\n",
    "    def result(self):\n",
    "        return self.top_k_acc.result()\n",
    "    \n",
    "    def reset_state(self):\n",
    "        self.top_k_acc.reset_state()"
   ]
  },
  {
   "cell_type": "markdown",
   "id": "3c88777a",
   "metadata": {
    "papermill": {
     "duration": 0.024945,
     "end_time": "2023-07-02T11:33:54.301243",
     "exception": false,
     "start_time": "2023-07-02T11:33:54.276298",
     "status": "completed"
    },
    "tags": []
   },
   "source": [
    "# Loss Weights"
   ]
  },
  {
   "cell_type": "code",
   "execution_count": 32,
   "id": "d2faa88c",
   "metadata": {
    "execution": {
     "iopub.execute_input": "2023-07-02T11:33:54.353749Z",
     "iopub.status.busy": "2023-07-02T11:33:54.352794Z",
     "iopub.status.idle": "2023-07-02T11:33:54.358249Z",
     "shell.execute_reply": "2023-07-02T11:33:54.357342Z"
    },
    "papermill": {
     "duration": 0.033995,
     "end_time": "2023-07-02T11:33:54.360318",
     "exception": false,
     "start_time": "2023-07-02T11:33:54.326323",
     "status": "completed"
    },
    "tags": []
   },
   "outputs": [],
   "source": [
    "# Create Initial Loss Weights All Set To 1\n",
    "loss_weights = np.ones(N_UNIQUE_CHARACTERS, dtype=np.float32)\n",
    "# Set Loss Weight Of Pad Token To 0\n",
    "loss_weights[PAD_TOKEN] = 0"
   ]
  },
  {
   "cell_type": "markdown",
   "id": "5819b7cf",
   "metadata": {
    "papermill": {
     "duration": 0.024662,
     "end_time": "2023-07-02T11:33:54.409907",
     "exception": false,
     "start_time": "2023-07-02T11:33:54.385245",
     "status": "completed"
    },
    "tags": []
   },
   "source": [
    "# Sparse Categorical Crossentropy With Label Smoothing¶"
   ]
  },
  {
   "cell_type": "code",
   "execution_count": 33,
   "id": "6790182b",
   "metadata": {
    "execution": {
     "iopub.execute_input": "2023-07-02T11:33:54.460953Z",
     "iopub.status.busy": "2023-07-02T11:33:54.459992Z",
     "iopub.status.idle": "2023-07-02T11:33:54.466913Z",
     "shell.execute_reply": "2023-07-02T11:33:54.466010Z"
    },
    "papermill": {
     "duration": 0.034321,
     "end_time": "2023-07-02T11:33:54.468872",
     "exception": false,
     "start_time": "2023-07-02T11:33:54.434551",
     "status": "completed"
    },
    "tags": []
   },
   "outputs": [],
   "source": [
    "# source:: https://stackoverflow.com/questions/60689185/label-smoothing-for-sparse-categorical-crossentropy\n",
    "def scce_with_ls(y_true, y_pred):\n",
    "    # Filter Pad Tokens\n",
    "    idxs = tf.where(y_true != PAD_TOKEN)\n",
    "    y_true = tf.gather_nd(y_true, idxs)\n",
    "    y_pred = tf.gather_nd(y_pred, idxs)\n",
    "    # One Hot Encode Sparsely Encoded Target Sign\n",
    "    y_true = tf.cast(y_true, tf.int32)\n",
    "    y_true = tf.one_hot(y_true, N_UNIQUE_CHARACTERS, axis=1)\n",
    "    # Categorical Crossentropy with native label smoothing support\n",
    "    loss = tf.keras.losses.categorical_crossentropy(y_true, y_pred, label_smoothing=0.25, from_logits=True)\n",
    "    loss = tf.math.reduce_mean(loss)\n",
    "    return loss"
   ]
  },
  {
   "cell_type": "markdown",
   "id": "3db97286",
   "metadata": {
    "papermill": {
     "duration": 0.025057,
     "end_time": "2023-07-02T11:33:54.518693",
     "exception": false,
     "start_time": "2023-07-02T11:33:54.493636",
     "status": "completed"
    },
    "tags": []
   },
   "source": [
    "# Model"
   ]
  },
  {
   "cell_type": "code",
   "execution_count": 34,
   "id": "0266d544",
   "metadata": {
    "execution": {
     "iopub.execute_input": "2023-07-02T11:33:54.570291Z",
     "iopub.status.busy": "2023-07-02T11:33:54.569589Z",
     "iopub.status.idle": "2023-07-02T11:33:54.579786Z",
     "shell.execute_reply": "2023-07-02T11:33:54.578838Z"
    },
    "papermill": {
     "duration": 0.03826,
     "end_time": "2023-07-02T11:33:54.581784",
     "exception": false,
     "start_time": "2023-07-02T11:33:54.543524",
     "status": "completed"
    },
    "tags": []
   },
   "outputs": [],
   "source": [
    "def get_model():\n",
    "    # Inputs\n",
    "    frames_inp = tf.keras.layers.Input([N_TARGET_FRAMES, N_COLS], dtype=tf.float32, name='frames')\n",
    "    phrase_inp = tf.keras.layers.Input([MAX_PHRASE_LENGTH], dtype=tf.int32, name='phrase')\n",
    "    # Frames\n",
    "    x = frames_inp\n",
    "\n",
    "    # Masking\n",
    "    x = tf.keras.layers.Masking(mask_value=0.0, input_shape=(N_TARGET_FRAMES, N_COLS))(x)\n",
    "    \n",
    "    # Embedding\n",
    "    x = Embedding()(x)\n",
    "    \n",
    "    # Encoder Transformer Blocks\n",
    "    x = Encoder(NUM_BLOCKS_ENCODER)(x, frames_inp)\n",
    "    \n",
    "    # Decoder\n",
    "    x = Decoder(NUM_BLOCKS_DECODER)(x, phrase_inp)\n",
    "    \n",
    "    # Classifier\n",
    "    x = tf.keras.Sequential([\n",
    "        # Dropout\n",
    "        tf.keras.layers.Dropout(CLASSIFIER_DROPOUT_RATIO),\n",
    "        # Output Neurons\n",
    "        tf.keras.layers.Dense(N_UNIQUE_CHARACTERS, activation=tf.keras.activations.linear, kernel_initializer=INIT_HE_UNIFORM, use_bias=False),\n",
    "    ], name='classifier')(x)\n",
    "    \n",
    "    outputs = x\n",
    "    \n",
    "    # Create Tensorflow Model\n",
    "    model = tf.keras.models.Model(inputs=[frames_inp, phrase_inp], outputs=outputs)\n",
    "    \n",
    "    # Categorical Crossentropy Loss With Label Smoothing\n",
    "    loss = scce_with_ls\n",
    "    \n",
    "    # Adam Optimizer\n",
    "    optimizer = tfa.optimizers.RectifiedAdam(sma_threshold=4)\n",
    "    optimizer = tfa.optimizers.Lookahead(optimizer, sync_period=5)\n",
    "\n",
    "    # TopK Metrics\n",
    "    metrics = [\n",
    "        TopKAccuracy(1),\n",
    "        TopKAccuracy(5),\n",
    "    ]\n",
    "    \n",
    "    model.compile(\n",
    "        loss=loss,\n",
    "        optimizer=optimizer,\n",
    "        metrics=metrics,\n",
    "        loss_weights=loss_weights,\n",
    "    )\n",
    "    \n",
    "    return model"
   ]
  },
  {
   "cell_type": "code",
   "execution_count": 35,
   "id": "0a9fdc74",
   "metadata": {
    "execution": {
     "iopub.execute_input": "2023-07-02T11:33:54.634393Z",
     "iopub.status.busy": "2023-07-02T11:33:54.633465Z",
     "iopub.status.idle": "2023-07-02T11:33:54.639768Z",
     "shell.execute_reply": "2023-07-02T11:33:54.638629Z"
    },
    "papermill": {
     "duration": 0.035009,
     "end_time": "2023-07-02T11:33:54.641801",
     "exception": false,
     "start_time": "2023-07-02T11:33:54.606792",
     "status": "completed"
    },
    "tags": []
   },
   "outputs": [
    {
     "name": "stdout",
     "output_type": "stream",
     "text": [
      "frames: (1024, 128, 164)\n",
      "phrase: (1024, 32)\n"
     ]
    }
   ],
   "source": [
    "# Input data\n",
    "for k, v in X_batch.items():\n",
    "    print(f'{k}: {v.shape}')"
   ]
  },
  {
   "cell_type": "code",
   "execution_count": 36,
   "id": "8746802f",
   "metadata": {
    "execution": {
     "iopub.execute_input": "2023-07-02T11:33:54.692466Z",
     "iopub.status.busy": "2023-07-02T11:33:54.691898Z",
     "iopub.status.idle": "2023-07-02T11:33:57.823793Z",
     "shell.execute_reply": "2023-07-02T11:33:57.822844Z"
    },
    "papermill": {
     "duration": 3.159973,
     "end_time": "2023-07-02T11:33:57.826278",
     "exception": false,
     "start_time": "2023-07-02T11:33:54.666305",
     "status": "completed"
    },
    "tags": []
   },
   "outputs": [],
   "source": [
    "tf.keras.backend.clear_session()\n",
    "\n",
    "model = get_model()"
   ]
  },
  {
   "cell_type": "code",
   "execution_count": 37,
   "id": "4b903d92",
   "metadata": {
    "execution": {
     "iopub.execute_input": "2023-07-02T11:33:57.880830Z",
     "iopub.status.busy": "2023-07-02T11:33:57.880496Z",
     "iopub.status.idle": "2023-07-02T11:33:58.012178Z",
     "shell.execute_reply": "2023-07-02T11:33:58.011400Z"
    },
    "papermill": {
     "duration": 0.237637,
     "end_time": "2023-07-02T11:33:58.088939",
     "exception": false,
     "start_time": "2023-07-02T11:33:57.851302",
     "status": "completed"
    },
    "tags": []
   },
   "outputs": [
    {
     "name": "stdout",
     "output_type": "stream",
     "text": [
      "Model: \"model\"\n",
      "__________________________________________________________________________________________________\n",
      " Layer (type)                   Output Shape         Param #     Connected to                     \n",
      "==================================================================================================\n",
      " frames (InputLayer)            [(None, 128, 164)]   0           []                               \n",
      "                                                                                                  \n",
      " masking (Masking)              (None, 128, 164)     0           ['frames[0][0]']                 \n",
      "                                                                                                  \n",
      " embedding (Embedding)          (None, 128, 384)     259968      ['masking[0][0]']                \n",
      "|¯¯¯¯¯¯¯¯¯¯¯¯¯¯¯¯¯¯¯¯¯¯¯¯¯¯¯¯¯¯¯¯¯¯¯¯¯¯¯¯¯¯¯¯¯¯¯¯¯¯¯¯¯¯¯¯¯¯¯¯¯¯¯¯¯¯¯¯¯¯¯¯¯¯¯¯¯¯¯¯¯¯¯¯¯¯¯¯¯¯¯¯¯¯¯¯|\n",
      "| dominant_hand_embedding (Landm  multiple          210816      []                               |\n",
      "| arkEmbedding)                                                                                  |\n",
      "||¯¯¯¯¯¯¯¯¯¯¯¯¯¯¯¯¯¯¯¯¯¯¯¯¯¯¯¯¯¯¯¯¯¯¯¯¯¯¯¯¯¯¯¯¯¯¯¯¯¯¯¯¯¯¯¯¯¯¯¯¯¯¯¯¯¯¯¯¯¯¯¯¯¯¯¯¯¯¯¯¯¯¯¯¯¯¯¯¯¯¯¯¯¯||\n",
      "|| dominant_hand_embedding_dense   (None, 128, 384)  210432    []                               ||\n",
      "|| (Sequential)                                                                                 ||\n",
      "|||¯¯¯¯¯¯¯¯¯¯¯¯¯¯¯¯¯¯¯¯¯¯¯¯¯¯¯¯¯¯¯¯¯¯¯¯¯¯¯¯¯¯¯¯¯¯¯¯¯¯¯¯¯¯¯¯¯¯¯¯¯¯¯¯¯¯¯¯¯¯¯¯¯¯¯¯¯¯¯¯¯¯¯¯¯¯¯¯¯¯¯¯|||\n",
      "||| dominant_hand_embedding_dense_  (None, 128, 384)  62976   []                               |||\n",
      "||| 1 (Dense)                                                                                  |||\n",
      "|||                                                                                            |||\n",
      "||| dominant_hand_embedding_dense_  (None, 128, 384)  147456  []                               |||\n",
      "||| 2 (Dense)                                                                                  |||\n",
      "||¯¯¯¯¯¯¯¯¯¯¯¯¯¯¯¯¯¯¯¯¯¯¯¯¯¯¯¯¯¯¯¯¯¯¯¯¯¯¯¯¯¯¯¯¯¯¯¯¯¯¯¯¯¯¯¯¯¯¯¯¯¯¯¯¯¯¯¯¯¯¯¯¯¯¯¯¯¯¯¯¯¯¯¯¯¯¯¯¯¯¯¯¯¯||\n",
      "|¯¯¯¯¯¯¯¯¯¯¯¯¯¯¯¯¯¯¯¯¯¯¯¯¯¯¯¯¯¯¯¯¯¯¯¯¯¯¯¯¯¯¯¯¯¯¯¯¯¯¯¯¯¯¯¯¯¯¯¯¯¯¯¯¯¯¯¯¯¯¯¯¯¯¯¯¯¯¯¯¯¯¯¯¯¯¯¯¯¯¯¯¯¯¯¯|\n",
      "¯¯¯¯¯¯¯¯¯¯¯¯¯¯¯¯¯¯¯¯¯¯¯¯¯¯¯¯¯¯¯¯¯¯¯¯¯¯¯¯¯¯¯¯¯¯¯¯¯¯¯¯¯¯¯¯¯¯¯¯¯¯¯¯¯¯¯¯¯¯¯¯¯¯¯¯¯¯¯¯¯¯¯¯¯¯¯¯¯¯¯¯¯¯¯¯¯¯\n",
      " encoder (Encoder)              (None, 128, 256)     2757120     ['embedding[0][0]',              \n",
      "                                                                  'frames[0][0]']                 \n",
      "|¯¯¯¯¯¯¯¯¯¯¯¯¯¯¯¯¯¯¯¯¯¯¯¯¯¯¯¯¯¯¯¯¯¯¯¯¯¯¯¯¯¯¯¯¯¯¯¯¯¯¯¯¯¯¯¯¯¯¯¯¯¯¯¯¯¯¯¯¯¯¯¯¯¯¯¯¯¯¯¯¯¯¯¯¯¯¯¯¯¯¯¯¯¯¯¯|\n",
      "| layer_normalization (LayerNorm  multiple          768         []                               |\n",
      "| alization)                                                                                     |\n",
      "|                                                                                                |\n",
      "| layer_normalization_2 (LayerNo  multiple          768         []                               |\n",
      "| rmalization)                                                                                   |\n",
      "|                                                                                                |\n",
      "| layer_normalization_4 (LayerNo  multiple          768         []                               |\n",
      "| rmalization)                                                                                   |\n",
      "|                                                                                                |\n",
      "| multi_head_attention (MultiHea  multiple          294912      []                               |\n",
      "| dAttention)                                                                                    |\n",
      "|                                                                                                |\n",
      "| multi_head_attention_1 (MultiH  multiple          294912      []                               |\n",
      "| eadAttention)                                                                                  |\n",
      "|                                                                                                |\n",
      "| multi_head_attention_2 (MultiH  multiple          294912      []                               |\n",
      "| eadAttention)                                                                                  |\n",
      "|                                                                                                |\n",
      "| layer_normalization_1 (LayerNo  multiple          768         []                               |\n",
      "| rmalization)                                                                                   |\n",
      "|                                                                                                |\n",
      "| layer_normalization_3 (LayerNo  multiple          768         []                               |\n",
      "| rmalization)                                                                                   |\n",
      "|                                                                                                |\n",
      "| layer_normalization_5 (LayerNo  multiple          768         []                               |\n",
      "| rmalization)                                                                                   |\n",
      "|                                                                                                |\n",
      "| sequential (Sequential)      (None, 128, 384)     589824      []                               |\n",
      "||¯¯¯¯¯¯¯¯¯¯¯¯¯¯¯¯¯¯¯¯¯¯¯¯¯¯¯¯¯¯¯¯¯¯¯¯¯¯¯¯¯¯¯¯¯¯¯¯¯¯¯¯¯¯¯¯¯¯¯¯¯¯¯¯¯¯¯¯¯¯¯¯¯¯¯¯¯¯¯¯¯¯¯¯¯¯¯¯¯¯¯¯¯¯||\n",
      "|| dense_13 (Dense)           (None, 128, 768)     294912      []                               ||\n",
      "||                                                                                              ||\n",
      "|| dropout_1 (Dropout)        (None, 128, 768)     0           []                               ||\n",
      "||                                                                                              ||\n",
      "|| dense_14 (Dense)           (None, 128, 384)     294912      []                               ||\n",
      "|¯¯¯¯¯¯¯¯¯¯¯¯¯¯¯¯¯¯¯¯¯¯¯¯¯¯¯¯¯¯¯¯¯¯¯¯¯¯¯¯¯¯¯¯¯¯¯¯¯¯¯¯¯¯¯¯¯¯¯¯¯¯¯¯¯¯¯¯¯¯¯¯¯¯¯¯¯¯¯¯¯¯¯¯¯¯¯¯¯¯¯¯¯¯¯¯|\n",
      "| sequential_1 (Sequential)    (None, 128, 384)     589824      []                               |\n",
      "||¯¯¯¯¯¯¯¯¯¯¯¯¯¯¯¯¯¯¯¯¯¯¯¯¯¯¯¯¯¯¯¯¯¯¯¯¯¯¯¯¯¯¯¯¯¯¯¯¯¯¯¯¯¯¯¯¯¯¯¯¯¯¯¯¯¯¯¯¯¯¯¯¯¯¯¯¯¯¯¯¯¯¯¯¯¯¯¯¯¯¯¯¯¯||\n",
      "|| dense_29 (Dense)           (None, 128, 768)     294912      []                               ||\n",
      "||                                                                                              ||\n",
      "|| dropout_3 (Dropout)        (None, 128, 768)     0           []                               ||\n",
      "||                                                                                              ||\n",
      "|| dense_30 (Dense)           (None, 128, 384)     294912      []                               ||\n",
      "|¯¯¯¯¯¯¯¯¯¯¯¯¯¯¯¯¯¯¯¯¯¯¯¯¯¯¯¯¯¯¯¯¯¯¯¯¯¯¯¯¯¯¯¯¯¯¯¯¯¯¯¯¯¯¯¯¯¯¯¯¯¯¯¯¯¯¯¯¯¯¯¯¯¯¯¯¯¯¯¯¯¯¯¯¯¯¯¯¯¯¯¯¯¯¯¯|\n",
      "| sequential_2 (Sequential)    (None, 128, 384)     589824      []                               |\n",
      "||¯¯¯¯¯¯¯¯¯¯¯¯¯¯¯¯¯¯¯¯¯¯¯¯¯¯¯¯¯¯¯¯¯¯¯¯¯¯¯¯¯¯¯¯¯¯¯¯¯¯¯¯¯¯¯¯¯¯¯¯¯¯¯¯¯¯¯¯¯¯¯¯¯¯¯¯¯¯¯¯¯¯¯¯¯¯¯¯¯¯¯¯¯¯||\n",
      "|| dense_45 (Dense)           (None, 128, 768)     294912      []                               ||\n",
      "||                                                                                              ||\n",
      "|| dropout_5 (Dropout)        (None, 128, 768)     0           []                               ||\n",
      "||                                                                                              ||\n",
      "|| dense_46 (Dense)           (None, 128, 384)     294912      []                               ||\n",
      "|¯¯¯¯¯¯¯¯¯¯¯¯¯¯¯¯¯¯¯¯¯¯¯¯¯¯¯¯¯¯¯¯¯¯¯¯¯¯¯¯¯¯¯¯¯¯¯¯¯¯¯¯¯¯¯¯¯¯¯¯¯¯¯¯¯¯¯¯¯¯¯¯¯¯¯¯¯¯¯¯¯¯¯¯¯¯¯¯¯¯¯¯¯¯¯¯|\n",
      "| dense_47 (Dense)             multiple             98304       []                               |\n",
      "¯¯¯¯¯¯¯¯¯¯¯¯¯¯¯¯¯¯¯¯¯¯¯¯¯¯¯¯¯¯¯¯¯¯¯¯¯¯¯¯¯¯¯¯¯¯¯¯¯¯¯¯¯¯¯¯¯¯¯¯¯¯¯¯¯¯¯¯¯¯¯¯¯¯¯¯¯¯¯¯¯¯¯¯¯¯¯¯¯¯¯¯¯¯¯¯¯¯\n",
      " phrase (InputLayer)            [(None, 32)]         0           []                               \n",
      "                                                                                                  \n",
      " decoder (Decoder)              (None, 32, 256)      968704      ['encoder[0][0]',                \n",
      "                                                                  'phrase[0][0]']                 \n",
      "|¯¯¯¯¯¯¯¯¯¯¯¯¯¯¯¯¯¯¯¯¯¯¯¯¯¯¯¯¯¯¯¯¯¯¯¯¯¯¯¯¯¯¯¯¯¯¯¯¯¯¯¯¯¯¯¯¯¯¯¯¯¯¯¯¯¯¯¯¯¯¯¯¯¯¯¯¯¯¯¯¯¯¯¯¯¯¯¯¯¯¯¯¯¯¯¯|\n",
      "| embedding (Embedding)        multiple             15872       []                               |\n",
      "|                                                                                                |\n",
      "| multi_head_attention (MultiHea  multiple          131072      []                               |\n",
      "| dAttention)                                                                                    |\n",
      "|                                                                                                |\n",
      "| layer_normalization (LayerNorm  multiple          512         []                               |\n",
      "| alization)                                                                                     |\n",
      "|                                                                                                |\n",
      "| layer_normalization_1 (LayerNo  multiple          512         []                               |\n",
      "| rmalization)                                                                                   |\n",
      "|                                                                                                |\n",
      "| layer_normalization_3 (LayerNo  multiple          512         []                               |\n",
      "| rmalization)                                                                                   |\n",
      "|                                                                                                |\n",
      "| multi_head_attention_1 (MultiH  multiple          131072      []                               |\n",
      "| eadAttention)                                                                                  |\n",
      "|                                                                                                |\n",
      "| multi_head_attention_2 (MultiH  multiple          131072      []                               |\n",
      "| eadAttention)                                                                                  |\n",
      "|                                                                                                |\n",
      "| layer_normalization_2 (LayerNo  multiple          512         []                               |\n",
      "| rmalization)                                                                                   |\n",
      "|                                                                                                |\n",
      "| layer_normalization_4 (LayerNo  multiple          512         []                               |\n",
      "| rmalization)                                                                                   |\n",
      "|                                                                                                |\n",
      "| sequential (Sequential)      (None, 128, 256)     262144      []                               |\n",
      "||¯¯¯¯¯¯¯¯¯¯¯¯¯¯¯¯¯¯¯¯¯¯¯¯¯¯¯¯¯¯¯¯¯¯¯¯¯¯¯¯¯¯¯¯¯¯¯¯¯¯¯¯¯¯¯¯¯¯¯¯¯¯¯¯¯¯¯¯¯¯¯¯¯¯¯¯¯¯¯¯¯¯¯¯¯¯¯¯¯¯¯¯¯¯||\n",
      "|| dense_26 (Dense)           (None, 128, 512)     131072      []                               ||\n",
      "||                                                                                              ||\n",
      "|| dropout_2 (Dropout)        (None, 128, 512)     0           []                               ||\n",
      "||                                                                                              ||\n",
      "|| dense_27 (Dense)           (None, 128, 256)     131072      []                               ||\n",
      "|¯¯¯¯¯¯¯¯¯¯¯¯¯¯¯¯¯¯¯¯¯¯¯¯¯¯¯¯¯¯¯¯¯¯¯¯¯¯¯¯¯¯¯¯¯¯¯¯¯¯¯¯¯¯¯¯¯¯¯¯¯¯¯¯¯¯¯¯¯¯¯¯¯¯¯¯¯¯¯¯¯¯¯¯¯¯¯¯¯¯¯¯¯¯¯¯|\n",
      "| sequential_1 (Sequential)    (None, 128, 256)     262144      []                               |\n",
      "||¯¯¯¯¯¯¯¯¯¯¯¯¯¯¯¯¯¯¯¯¯¯¯¯¯¯¯¯¯¯¯¯¯¯¯¯¯¯¯¯¯¯¯¯¯¯¯¯¯¯¯¯¯¯¯¯¯¯¯¯¯¯¯¯¯¯¯¯¯¯¯¯¯¯¯¯¯¯¯¯¯¯¯¯¯¯¯¯¯¯¯¯¯¯||\n",
      "|| dense_41 (Dense)           (None, 128, 512)     131072      []                               ||\n",
      "||                                                                                              ||\n",
      "|| dropout_4 (Dropout)        (None, 128, 512)     0           []                               ||\n",
      "||                                                                                              ||\n",
      "|| dense_42 (Dense)           (None, 128, 256)     131072      []                               ||\n",
      "|¯¯¯¯¯¯¯¯¯¯¯¯¯¯¯¯¯¯¯¯¯¯¯¯¯¯¯¯¯¯¯¯¯¯¯¯¯¯¯¯¯¯¯¯¯¯¯¯¯¯¯¯¯¯¯¯¯¯¯¯¯¯¯¯¯¯¯¯¯¯¯¯¯¯¯¯¯¯¯¯¯¯¯¯¯¯¯¯¯¯¯¯¯¯¯¯|\n",
      "¯¯¯¯¯¯¯¯¯¯¯¯¯¯¯¯¯¯¯¯¯¯¯¯¯¯¯¯¯¯¯¯¯¯¯¯¯¯¯¯¯¯¯¯¯¯¯¯¯¯¯¯¯¯¯¯¯¯¯¯¯¯¯¯¯¯¯¯¯¯¯¯¯¯¯¯¯¯¯¯¯¯¯¯¯¯¯¯¯¯¯¯¯¯¯¯¯¯\n",
      " classifier (Sequential)        (None, 32, 62)       15872       ['decoder[0][0]']                \n",
      "|¯¯¯¯¯¯¯¯¯¯¯¯¯¯¯¯¯¯¯¯¯¯¯¯¯¯¯¯¯¯¯¯¯¯¯¯¯¯¯¯¯¯¯¯¯¯¯¯¯¯¯¯¯¯¯¯¯¯¯¯¯¯¯¯¯¯¯¯¯¯¯¯¯¯¯¯¯¯¯¯¯¯¯¯¯¯¯¯¯¯¯¯¯¯¯¯|\n",
      "| dropout (Dropout)            (None, 32, 256)      0           []                               |\n",
      "|                                                                                                |\n",
      "| dense (Dense)                (None, 32, 62)       15872       []                               |\n",
      "¯¯¯¯¯¯¯¯¯¯¯¯¯¯¯¯¯¯¯¯¯¯¯¯¯¯¯¯¯¯¯¯¯¯¯¯¯¯¯¯¯¯¯¯¯¯¯¯¯¯¯¯¯¯¯¯¯¯¯¯¯¯¯¯¯¯¯¯¯¯¯¯¯¯¯¯¯¯¯¯¯¯¯¯¯¯¯¯¯¯¯¯¯¯¯¯¯¯\n",
      "==================================================================================================\n",
      "Total params: 4,001,664\n",
      "Trainable params: 4,001,664\n",
      "Non-trainable params: 0\n",
      "__________________________________________________________________________________________________\n"
     ]
    }
   ],
   "source": [
    "# Plot model summary\n",
    "model.summary(expand_nested=True)"
   ]
  },
  {
   "cell_type": "code",
   "execution_count": 38,
   "id": "183430d6",
   "metadata": {
    "execution": {
     "iopub.execute_input": "2023-07-02T11:33:58.162428Z",
     "iopub.status.busy": "2023-07-02T11:33:58.162039Z",
     "iopub.status.idle": "2023-07-02T11:33:58.429957Z",
     "shell.execute_reply": "2023-07-02T11:33:58.428977Z"
    },
    "papermill": {
     "duration": 0.307642,
     "end_time": "2023-07-02T11:33:58.432321",
     "exception": false,
     "start_time": "2023-07-02T11:33:58.124679",
     "status": "completed"
    },
    "tags": []
   },
   "outputs": [
    {
     "data": {
      "image/png": "[encoded data removed]",
      "text/plain": [
       "<IPython.core.display.Image object>"
      ]
     },
     "execution_count": 38,
     "metadata": {},
     "output_type": "execute_result"
    }
   ],
   "source": [
    "# Plot Model Architecture\n",
    "tf.keras.utils.plot_model(model, show_shapes=True, show_dtype=True, show_layer_names=True, expand_nested=True, show_layer_activations=True)"
   ]
  },
  {
   "cell_type": "markdown",
   "id": "3ba9c8b7",
   "metadata": {
    "papermill": {
     "duration": 0.037937,
     "end_time": "2023-07-02T11:33:58.509486",
     "exception": false,
     "start_time": "2023-07-02T11:33:58.471549",
     "status": "completed"
    },
    "tags": []
   },
   "source": [
    "# Verify Training Flag"
   ]
  },
  {
   "cell_type": "code",
   "execution_count": 39,
   "id": "2483ef42",
   "metadata": {
    "execution": {
     "iopub.execute_input": "2023-07-02T11:33:58.587694Z",
     "iopub.status.busy": "2023-07-02T11:33:58.587333Z",
     "iopub.status.idle": "2023-07-02T11:34:04.073080Z",
     "shell.execute_reply": "2023-07-02T11:34:04.072093Z"
    },
    "papermill": {
     "duration": 5.527641,
     "end_time": "2023-07-02T11:34:04.075359",
     "exception": false,
     "start_time": "2023-07-02T11:33:58.547718",
     "status": "completed"
    },
    "tags": []
   },
   "outputs": [
    {
     "data": {
      "application/vnd.jupyter.widget-view+json": {
       "model_id": "73faad64ac024314af51717507483883",
       "version_major": 2,
       "version_minor": 0
      },
      "text/plain": [
       "  0%|          | 0/10 [00:00<?, ?it/s]"
      ]
     },
     "metadata": {},
     "output_type": "display_data"
    },
    {
     "data": {
      "application/vnd.jupyter.widget-view+json": {
       "model_id": "90b983d9960a4c819a7f66ed6deaf170",
       "version_major": 2,
       "version_minor": 0
      },
      "text/plain": [
       "  0%|          | 0/10 [00:00<?, ?it/s]"
      ]
     },
     "metadata": {},
     "output_type": "display_data"
    }
   ],
   "source": [
    "def verify_correct_training_flag():\n",
    "    # Verify static output for inference\n",
    "    pred = model(X_batch_small, training=False)\n",
    "    for _ in tqdm(range(10)):\n",
    "        assert tf.reduce_min(tf.cast(pred == model(X_batch_small, training=False), tf.int8)) == 1\n",
    "\n",
    "    # Verify at least 99% varying output due to dropout during training\n",
    "    for _ in tqdm(range(10)):\n",
    "        assert tf.reduce_mean(tf.cast(pred != model(X_batch_small, training=True), tf.float32)) > 0.99\n",
    "        \n",
    "verify_correct_training_flag()"
   ]
  },
  {
   "cell_type": "markdown",
   "id": "093149ed",
   "metadata": {
    "papermill": {
     "duration": 0.036771,
     "end_time": "2023-07-02T11:34:04.151722",
     "exception": false,
     "start_time": "2023-07-02T11:34:04.114951",
     "status": "completed"
    },
    "tags": []
   },
   "source": [
    "# Verify No NaN Predictions"
   ]
  },
  {
   "cell_type": "code",
   "execution_count": 40,
   "id": "42925393",
   "metadata": {
    "execution": {
     "iopub.execute_input": "2023-07-02T11:34:04.228496Z",
     "iopub.status.busy": "2023-07-02T11:34:04.228128Z",
     "iopub.status.idle": "2023-07-02T11:34:13.444000Z",
     "shell.execute_reply": "2023-07-02T11:34:13.442975Z"
    },
    "papermill": {
     "duration": 9.257248,
     "end_time": "2023-07-02T11:34:13.446151",
     "exception": false,
     "start_time": "2023-07-02T11:34:04.188903",
     "status": "completed"
    },
    "tags": []
   },
   "outputs": [
    {
     "name": "stdout",
     "output_type": "stream",
     "text": [
      "100/100 - 7s - 7s/epoch - 67ms/step\n",
      "# NaN Values In Predictions: 0\n"
     ]
    },
    {
     "data": {
      "image/png": "[encoded data removed]",
      "text/plain": [
       "<Figure size 1500x800 with 1 Axes>"
      ]
     },
     "metadata": {},
     "output_type": "display_data"
    }
   ],
   "source": [
    "# Verify No NaN predictions\n",
    "def verify_no_nan_predictions():\n",
    "    y_pred = model.predict(\n",
    "        val_dataset if USE_VAL else train_dataset,\n",
    "        steps=N_VAL_STEPS_PER_EPOCH if USE_VAL else 100,\n",
    "        verbose=VERBOSE,\n",
    "    )\n",
    "\n",
    "    print(f'# NaN Values In Predictions: {np.isnan(y_pred).sum()}')\n",
    "    \n",
    "    plt.figure(figsize=(15,8))\n",
    "    plt.title(f'Logit Predictions Initialized Model')\n",
    "    pd.Series(y_pred.flatten()).plot(kind='hist', bins=128)\n",
    "    plt.xlabel('Logits')\n",
    "    plt.grid()\n",
    "    plt.show()\n",
    "    \n",
    "verify_no_nan_predictions()"
   ]
  },
  {
   "cell_type": "markdown",
   "id": "33b69db2",
   "metadata": {
    "papermill": {
     "duration": 0.037744,
     "end_time": "2023-07-02T11:34:13.521856",
     "exception": false,
     "start_time": "2023-07-02T11:34:13.484112",
     "status": "completed"
    },
    "tags": []
   },
   "source": [
    "# Learning Rate Scheduler"
   ]
  },
  {
   "cell_type": "code",
   "execution_count": 41,
   "id": "78000a5b",
   "metadata": {
    "execution": {
     "iopub.execute_input": "2023-07-02T11:34:13.600629Z",
     "iopub.status.busy": "2023-07-02T11:34:13.599585Z",
     "iopub.status.idle": "2023-07-02T11:34:13.606884Z",
     "shell.execute_reply": "2023-07-02T11:34:13.605926Z"
    },
    "papermill": {
     "duration": 0.048796,
     "end_time": "2023-07-02T11:34:13.609084",
     "exception": false,
     "start_time": "2023-07-02T11:34:13.560288",
     "status": "completed"
    },
    "tags": []
   },
   "outputs": [],
   "source": [
    "def lrfn(current_step, num_warmup_steps, lr_max, num_cycles=0.50, num_training_steps=N_EPOCHS):\n",
    "    \n",
    "    if current_step < num_warmup_steps:\n",
    "        if WARMUP_METHOD == 'log':\n",
    "            return lr_max * 0.10 ** (num_warmup_steps - current_step)\n",
    "        else:\n",
    "            return lr_max * 2 ** -(num_warmup_steps - current_step)\n",
    "    else:\n",
    "        progress = float(current_step - num_warmup_steps) / float(max(1, num_training_steps - num_warmup_steps))\n",
    "\n",
    "        return max(0.0, 0.5 * (1.0 + math.cos(math.pi * float(num_cycles) * 2.0 * progress))) * lr_max"
   ]
  },
  {
   "cell_type": "code",
   "execution_count": 42,
   "id": "8f25a7dd",
   "metadata": {
    "execution": {
     "iopub.execute_input": "2023-07-02T11:34:13.689085Z",
     "iopub.status.busy": "2023-07-02T11:34:13.688713Z",
     "iopub.status.idle": "2023-07-02T11:34:14.530654Z",
     "shell.execute_reply": "2023-07-02T11:34:14.529736Z"
    },
    "papermill": {
     "duration": 0.885914,
     "end_time": "2023-07-02T11:34:14.533559",
     "exception": false,
     "start_time": "2023-07-02T11:34:13.647645",
     "status": "completed"
    },
    "tags": []
   },
   "outputs": [
    {
     "data": {
      "image/png": "[encoded data removed]",
      "text/plain": [
       "<Figure size 2000x1000 with 1 Axes>"
      ]
     },
     "metadata": {},
     "output_type": "display_data"
    }
   ],
   "source": [
    "def plot_lr_schedule(lr_schedule, epochs):\n",
    "    fig = plt.figure(figsize=(20, 10))\n",
    "    plt.plot([None] + lr_schedule + [None])\n",
    "    # X Labels\n",
    "    x = np.arange(1, epochs + 1)\n",
    "    x_axis_labels = [i if epochs <= 40 or i % 5 == 0 or i == 1 else None for i in range(1, epochs + 1)]\n",
    "    plt.xlim([1, epochs])\n",
    "    plt.xticks(x, x_axis_labels) # set tick step to 1 and let x axis start at 1\n",
    "    \n",
    "    # Increase y-limit for better readability\n",
    "    plt.ylim([0, max(lr_schedule) * 1.1])\n",
    "    \n",
    "    # Title\n",
    "    schedule_info = f'start: {lr_schedule[0]:.1E}, max: {max(lr_schedule):.1E}, final: {lr_schedule[-1]:.1E}'\n",
    "    plt.title(f'Step Learning Rate Schedule, {schedule_info}', size=18, pad=12)\n",
    "    \n",
    "    # Plot Learning Rates\n",
    "    for x, val in enumerate(lr_schedule):\n",
    "        if epochs <= 40 or x % 5 == 0 or x is epochs - 1:\n",
    "            if x < len(lr_schedule) - 1:\n",
    "                if lr_schedule[x - 1] < val:\n",
    "                    ha = 'right'\n",
    "                else:\n",
    "                    ha = 'left'\n",
    "            elif x == 0:\n",
    "                ha = 'right'\n",
    "            else:\n",
    "                ha = 'left'\n",
    "            plt.plot(x + 1, val, 'o', color='black');\n",
    "            offset_y = (max(lr_schedule) - min(lr_schedule)) * 0.02\n",
    "            plt.annotate(f'{val:.1E}', xy=(x + 1, val + offset_y), size=12, ha=ha)\n",
    "    \n",
    "    plt.xlabel('Epoch', size=16, labelpad=5)\n",
    "    plt.ylabel('Learning Rate', size=16, labelpad=5)\n",
    "    plt.grid()\n",
    "    plt.show()\n",
    "\n",
    "# Learning rate for encoder\n",
    "LR_SCHEDULE = [lrfn(step, num_warmup_steps=N_WARMUP_EPOCHS, lr_max=LR_MAX, num_cycles=0.50) for step in range(N_EPOCHS)]\n",
    "# Plot Learning Rate Schedule\n",
    "plot_lr_schedule(LR_SCHEDULE, epochs=N_EPOCHS)\n",
    "# Learning Rate Callback\n",
    "lr_callback = tf.keras.callbacks.LearningRateScheduler(lambda step: LR_SCHEDULE[step], verbose=0)"
   ]
  },
  {
   "cell_type": "markdown",
   "id": "5492d834",
   "metadata": {
    "papermill": {
     "duration": 0.038978,
     "end_time": "2023-07-02T11:34:14.612776",
     "exception": false,
     "start_time": "2023-07-02T11:34:14.573798",
     "status": "completed"
    },
    "tags": []
   },
   "source": [
    "# Weight Decay Callback"
   ]
  },
  {
   "cell_type": "code",
   "execution_count": 43,
   "id": "cf8238b8",
   "metadata": {
    "execution": {
     "iopub.execute_input": "2023-07-02T11:34:14.694839Z",
     "iopub.status.busy": "2023-07-02T11:34:14.694479Z",
     "iopub.status.idle": "2023-07-02T11:34:14.700555Z",
     "shell.execute_reply": "2023-07-02T11:34:14.699635Z"
    },
    "papermill": {
     "duration": 0.051216,
     "end_time": "2023-07-02T11:34:14.702691",
     "exception": false,
     "start_time": "2023-07-02T11:34:14.651475",
     "status": "completed"
    },
    "tags": []
   },
   "outputs": [],
   "source": [
    "# Custom callback to update weight decay with learning rate\n",
    "class WeightDecayCallback(tf.keras.callbacks.Callback):\n",
    "    def __init__(self, wd_ratio=WD_RATIO):\n",
    "        self.step_counter = 0\n",
    "        self.wd_ratio = wd_ratio\n",
    "    \n",
    "    def on_epoch_begin(self, epoch, logs=None):\n",
    "        model.optimizer.weight_decay = model.optimizer.learning_rate * self.wd_ratio\n",
    "        print(f'learning rate: {model.optimizer.learning_rate.numpy():.2e}, weight decay: {model.optimizer.weight_decay.numpy():.2e}')"
   ]
  },
  {
   "cell_type": "markdown",
   "id": "62a2cc1c",
   "metadata": {
    "papermill": {
     "duration": 0.038896,
     "end_time": "2023-07-02T11:34:14.781663",
     "exception": false,
     "start_time": "2023-07-02T11:34:14.742767",
     "status": "completed"
    },
    "tags": []
   },
   "source": [
    "# Evaluate Initialized Model"
   ]
  },
  {
   "cell_type": "code",
   "execution_count": 44,
   "id": "29d6ae73",
   "metadata": {
    "execution": {
     "iopub.execute_input": "2023-07-02T11:34:14.860855Z",
     "iopub.status.busy": "2023-07-02T11:34:14.860494Z",
     "iopub.status.idle": "2023-07-02T11:34:56.277410Z",
     "shell.execute_reply": "2023-07-02T11:34:56.276323Z"
    },
    "papermill": {
     "duration": 41.4984,
     "end_time": "2023-07-02T11:34:56.318989",
     "exception": false,
     "start_time": "2023-07-02T11:34:14.820589",
     "status": "completed"
    },
    "tags": []
   },
   "outputs": [
    {
     "name": "stdout",
     "output_type": "stream",
     "text": [
      "969/969 - 41s - loss: 5.2113 - top1acc: 0.0056 - top5acc: 0.0540 - 41s/epoch - 43ms/step\n"
     ]
    }
   ],
   "source": [
    "# Evaluate Initialized Model On Validation Data\n",
    "y_pred = model.evaluate(\n",
    "    val_dataset if USE_VAL else train_dataset,\n",
    "    steps=N_VAL_STEPS_PER_EPOCH if USE_VAL else TRAIN_STEPS_PER_EPOCH,\n",
    "    verbose=VERBOSE,\n",
    ")"
   ]
  },
  {
   "cell_type": "markdown",
   "id": "5ac07681",
   "metadata": {
    "papermill": {
     "duration": 0.044168,
     "end_time": "2023-07-02T11:34:56.412094",
     "exception": false,
     "start_time": "2023-07-02T11:34:56.367926",
     "status": "completed"
    },
    "tags": []
   },
   "source": [
    "# Baseline"
   ]
  },
  {
   "cell_type": "code",
   "execution_count": 45,
   "id": "090810a3",
   "metadata": {
    "execution": {
     "iopub.execute_input": "2023-07-02T11:34:56.499670Z",
     "iopub.status.busy": "2023-07-02T11:34:56.498727Z",
     "iopub.status.idle": "2023-07-02T11:34:56.509783Z",
     "shell.execute_reply": "2023-07-02T11:34:56.508373Z"
    },
    "papermill": {
     "duration": 0.056578,
     "end_time": "2023-07-02T11:34:56.511966",
     "exception": false,
     "start_time": "2023-07-02T11:34:56.455388",
     "status": "completed"
    },
    "tags": []
   },
   "outputs": [
    {
     "name": "stdout",
     "output_type": "stream",
     "text": [
      "Baseline Accuracy: 0.4100\n"
     ]
    }
   ],
   "source": [
    "# baseline accuracy when only pad token is predicted\n",
    "if USE_VAL:\n",
    "    baseline_accuracy = np.mean(y_val == PAD_TOKEN)\n",
    "else:\n",
    "    baseline_accuracy = np.mean(y_train == PAD_TOKEN)\n",
    "print(f'Baseline Accuracy: {baseline_accuracy:.4f}')"
   ]
  },
  {
   "cell_type": "markdown",
   "id": "92248651",
   "metadata": {
    "papermill": {
     "duration": 0.039868,
     "end_time": "2023-07-02T11:34:56.591346",
     "exception": false,
     "start_time": "2023-07-02T11:34:56.551478",
     "status": "completed"
    },
    "tags": []
   },
   "source": [
    "# Train"
   ]
  },
  {
   "cell_type": "code",
   "execution_count": 46,
   "id": "2a2205ba",
   "metadata": {
    "execution": {
     "iopub.execute_input": "2023-07-02T11:34:56.671258Z",
     "iopub.status.busy": "2023-07-02T11:34:56.670886Z",
     "iopub.status.idle": "2023-07-02T11:34:56.967002Z",
     "shell.execute_reply": "2023-07-02T11:34:56.966035Z"
    },
    "papermill": {
     "duration": 0.33862,
     "end_time": "2023-07-02T11:34:56.969069",
     "exception": false,
     "start_time": "2023-07-02T11:34:56.630449",
     "status": "completed"
    },
    "tags": []
   },
   "outputs": [
    {
     "data": {
      "text/plain": [
       "25963"
      ]
     },
     "execution_count": 46,
     "metadata": {},
     "output_type": "execute_result"
    }
   ],
   "source": [
    "gc.collect()"
   ]
  },
  {
   "cell_type": "code",
   "execution_count": 47,
   "id": "c3d1f8c0",
   "metadata": {
    "execution": {
     "iopub.execute_input": "2023-07-02T11:34:57.049375Z",
     "iopub.status.busy": "2023-07-02T11:34:57.049021Z",
     "iopub.status.idle": "2023-07-02T14:59:01.214172Z",
     "shell.execute_reply": "2023-07-02T14:59:01.212946Z"
    },
    "papermill": {
     "duration": 12244.208248,
     "end_time": "2023-07-02T14:59:01.217198",
     "exception": false,
     "start_time": "2023-07-02T11:34:57.008950",
     "status": "completed"
    },
    "tags": []
   },
   "outputs": [
    {
     "name": "stdout",
     "output_type": "stream",
     "text": [
      "Model: \"model\"\n",
      "__________________________________________________________________________________________________\n",
      " Layer (type)                   Output Shape         Param #     Connected to                     \n",
      "==================================================================================================\n",
      " frames (InputLayer)            [(None, 128, 164)]   0           []                               \n",
      "                                                                                                  \n",
      " masking (Masking)              (None, 128, 164)     0           ['frames[0][0]']                 \n",
      "                                                                                                  \n",
      " embedding (Embedding)          (None, 128, 384)     259968      ['masking[0][0]']                \n",
      "                                                                                                  \n",
      " encoder (Encoder)              (None, 128, 256)     2757120     ['embedding[0][0]',              \n",
      "                                                                  'frames[0][0]']                 \n",
      "                                                                                                  \n",
      " phrase (InputLayer)            [(None, 32)]         0           []                               \n",
      "                                                                                                  \n",
      " decoder (Decoder)              (None, 32, 256)      968704      ['encoder[0][0]',                \n",
      "                                                                  'phrase[0][0]']                 \n",
      "                                                                                                  \n",
      " classifier (Sequential)        (None, 32, 62)       15872       ['decoder[0][0]']                \n",
      "                                                                                                  \n",
      "==================================================================================================\n",
      "Total params: 4,001,664\n",
      "Trainable params: 4,001,664\n",
      "Non-trainable params: 0\n",
      "__________________________________________________________________________________________________\n",
      "learning rate: 9.77e-07, weight decay: 4.88e-08\n",
      "Epoch 1/100\n",
      "969/969 - 162s - loss: 4.6122 - top1acc: 0.0361 - top5acc: 0.1450 - lr: 9.7656e-07 - 162s/epoch - 167ms/step\n",
      "learning rate: 1.95e-06, weight decay: 9.77e-08\n",
      "Epoch 2/100\n",
      "969/969 - 122s - loss: 4.0207 - top1acc: 0.0896 - top5acc: 0.2885 - lr: 1.9531e-06 - 122s/epoch - 126ms/step\n",
      "learning rate: 3.91e-06, weight decay: 1.95e-07\n",
      "Epoch 3/100\n",
      "969/969 - 122s - loss: 3.6777 - top1acc: 0.1410 - top5acc: 0.4200 - lr: 3.9063e-06 - 122s/epoch - 126ms/step\n",
      "learning rate: 7.81e-06, weight decay: 3.91e-07\n",
      "Epoch 4/100\n",
      "969/969 - 122s - loss: 3.4956 - top1acc: 0.1658 - top5acc: 0.4813 - lr: 7.8125e-06 - 122s/epoch - 126ms/step\n",
      "learning rate: 1.56e-05, weight decay: 7.81e-07\n",
      "Epoch 5/100\n",
      "969/969 - 122s - loss: 3.3993 - top1acc: 0.1827 - top5acc: 0.5097 - lr: 1.5625e-05 - 122s/epoch - 126ms/step\n",
      "learning rate: 3.13e-05, weight decay: 1.56e-06\n",
      "Epoch 6/100\n",
      "969/969 - 122s - loss: 3.3298 - top1acc: 0.1978 - top5acc: 0.5319 - lr: 3.1250e-05 - 122s/epoch - 126ms/step\n",
      "learning rate: 6.25e-05, weight decay: 3.13e-06\n",
      "Epoch 7/100\n",
      "969/969 - 122s - loss: 3.2676 - top1acc: 0.2132 - top5acc: 0.5548 - lr: 6.2500e-05 - 122s/epoch - 126ms/step\n",
      "learning rate: 1.25e-04, weight decay: 6.25e-06\n",
      "Epoch 8/100\n",
      "969/969 - 122s - loss: 3.1972 - top1acc: 0.2355 - top5acc: 0.5893 - lr: 1.2500e-04 - 122s/epoch - 126ms/step\n",
      "learning rate: 2.50e-04, weight decay: 1.25e-05\n",
      "Epoch 9/100\n",
      "969/969 - 122s - loss: 3.1032 - top1acc: 0.2700 - top5acc: 0.6449 - lr: 2.5000e-04 - 122s/epoch - 126ms/step\n",
      "learning rate: 5.00e-04, weight decay: 2.50e-05\n",
      "Epoch 10/100\n",
      "969/969 - 122s - loss: 2.9655 - top1acc: 0.3349 - top5acc: 0.7153 - lr: 5.0000e-04 - 122s/epoch - 126ms/step\n",
      "learning rate: 1.00e-03, weight decay: 5.00e-05\n",
      "Epoch 11/100\n",
      "969/969 - 122s - loss: 2.8061 - top1acc: 0.4148 - top5acc: 0.7753 - lr: 0.0010 - 122s/epoch - 126ms/step\n",
      "learning rate: 1.00e-03, weight decay: 5.00e-05\n",
      "Epoch 12/100\n",
      "969/969 - 122s - loss: 2.6406 - top1acc: 0.4967 - top5acc: 0.8215 - lr: 9.9970e-04 - 122s/epoch - 126ms/step\n",
      "learning rate: 9.99e-04, weight decay: 4.99e-05\n",
      "Epoch 13/100\n",
      "969/969 - 122s - loss: 2.5450 - top1acc: 0.5440 - top5acc: 0.8424 - lr: 9.9878e-04 - 122s/epoch - 126ms/step\n",
      "learning rate: 9.97e-04, weight decay: 4.99e-05\n",
      "Epoch 14/100\n",
      "969/969 - 122s - loss: 2.4808 - top1acc: 0.5747 - top5acc: 0.8553 - lr: 9.9726e-04 - 122s/epoch - 126ms/step\n",
      "learning rate: 9.95e-04, weight decay: 4.98e-05\n",
      "Epoch 15/100\n",
      "969/969 - 122s - loss: 2.4287 - top1acc: 0.5987 - top5acc: 0.8650 - lr: 9.9513e-04 - 122s/epoch - 126ms/step\n",
      "learning rate: 9.92e-04, weight decay: 4.96e-05\n",
      "Epoch 16/100\n",
      "969/969 - 122s - loss: 2.3917 - top1acc: 0.6167 - top5acc: 0.8707 - lr: 9.9240e-04 - 122s/epoch - 126ms/step\n",
      "learning rate: 9.89e-04, weight decay: 4.95e-05\n",
      "Epoch 17/100\n",
      "969/969 - 122s - loss: 2.3610 - top1acc: 0.6308 - top5acc: 0.8759 - lr: 9.8907e-04 - 122s/epoch - 126ms/step\n",
      "learning rate: 9.85e-04, weight decay: 4.93e-05\n",
      "Epoch 18/100\n",
      "969/969 - 122s - loss: 2.3355 - top1acc: 0.6420 - top5acc: 0.8802 - lr: 9.8515e-04 - 122s/epoch - 126ms/step\n",
      "learning rate: 9.81e-04, weight decay: 4.90e-05\n",
      "Epoch 19/100\n",
      "969/969 - 122s - loss: 2.3175 - top1acc: 0.6501 - top5acc: 0.8829 - lr: 9.8063e-04 - 122s/epoch - 126ms/step\n",
      "learning rate: 9.76e-04, weight decay: 4.88e-05\n",
      "Epoch 20/100\n",
      "969/969 - 122s - loss: 2.2995 - top1acc: 0.6581 - top5acc: 0.8864 - lr: 9.7553e-04 - 122s/epoch - 126ms/step\n",
      "learning rate: 9.70e-04, weight decay: 4.85e-05\n",
      "Epoch 21/100\n",
      "969/969 - 122s - loss: 2.2807 - top1acc: 0.6671 - top5acc: 0.8897 - lr: 9.6985e-04 - 122s/epoch - 126ms/step\n",
      "learning rate: 9.64e-04, weight decay: 4.82e-05\n",
      "Epoch 22/100\n",
      "969/969 - 122s - loss: 2.2646 - top1acc: 0.6745 - top5acc: 0.8928 - lr: 9.6359e-04 - 122s/epoch - 126ms/step\n",
      "learning rate: 9.57e-04, weight decay: 4.78e-05\n",
      "Epoch 23/100\n",
      "969/969 - 122s - loss: 2.2579 - top1acc: 0.6769 - top5acc: 0.8932 - lr: 9.5677e-04 - 122s/epoch - 126ms/step\n",
      "learning rate: 9.49e-04, weight decay: 4.75e-05\n",
      "Epoch 24/100\n",
      "969/969 - 122s - loss: 2.2454 - top1acc: 0.6825 - top5acc: 0.8952 - lr: 9.4940e-04 - 122s/epoch - 126ms/step\n",
      "learning rate: 9.41e-04, weight decay: 4.71e-05\n",
      "Epoch 25/100\n",
      "969/969 - 122s - loss: 2.2367 - top1acc: 0.6871 - top5acc: 0.8969 - lr: 9.4147e-04 - 122s/epoch - 125ms/step\n",
      "learning rate: 9.33e-04, weight decay: 4.67e-05\n",
      "Epoch 26/100\n",
      "969/969 - 122s - loss: 2.2255 - top1acc: 0.6918 - top5acc: 0.8989 - lr: 9.3301e-04 - 122s/epoch - 125ms/step\n",
      "learning rate: 9.24e-04, weight decay: 4.62e-05\n",
      "Epoch 27/100\n",
      "969/969 - 121s - loss: 2.2125 - top1acc: 0.6976 - top5acc: 0.9014 - lr: 9.2402e-04 - 121s/epoch - 125ms/step\n",
      "learning rate: 9.15e-04, weight decay: 4.57e-05\n",
      "Epoch 28/100\n",
      "969/969 - 122s - loss: 2.2068 - top1acc: 0.7006 - top5acc: 0.9022 - lr: 9.1452e-04 - 122s/epoch - 125ms/step\n",
      "learning rate: 9.05e-04, weight decay: 4.52e-05\n",
      "Epoch 29/100\n",
      "969/969 - 121s - loss: 2.1960 - top1acc: 0.7052 - top5acc: 0.9042 - lr: 9.0451e-04 - 121s/epoch - 125ms/step\n",
      "learning rate: 8.94e-04, weight decay: 4.47e-05\n",
      "Epoch 30/100\n",
      "969/969 - 122s - loss: 2.1914 - top1acc: 0.7075 - top5acc: 0.9039 - lr: 8.9401e-04 - 122s/epoch - 126ms/step\n",
      "learning rate: 8.83e-04, weight decay: 4.42e-05\n",
      "Epoch 31/100\n",
      "969/969 - 122s - loss: 2.1787 - top1acc: 0.7135 - top5acc: 0.9071 - lr: 8.8302e-04 - 122s/epoch - 125ms/step\n",
      "learning rate: 8.72e-04, weight decay: 4.36e-05\n",
      "Epoch 32/100\n",
      "969/969 - 122s - loss: 2.1743 - top1acc: 0.7150 - top5acc: 0.9072 - lr: 8.7157e-04 - 122s/epoch - 125ms/step\n",
      "learning rate: 8.60e-04, weight decay: 4.30e-05\n",
      "Epoch 33/100\n",
      "969/969 - 122s - loss: 2.1678 - top1acc: 0.7185 - top5acc: 0.9082 - lr: 8.5967e-04 - 122s/epoch - 125ms/step\n",
      "learning rate: 8.47e-04, weight decay: 4.24e-05\n",
      "Epoch 34/100\n",
      "969/969 - 121s - loss: 2.1615 - top1acc: 0.7213 - top5acc: 0.9089 - lr: 8.4733e-04 - 121s/epoch - 125ms/step\n",
      "learning rate: 8.35e-04, weight decay: 4.17e-05\n",
      "Epoch 35/100\n",
      "969/969 - 122s - loss: 2.1588 - top1acc: 0.7221 - top5acc: 0.9097 - lr: 8.3457e-04 - 122s/epoch - 125ms/step\n",
      "learning rate: 8.21e-04, weight decay: 4.11e-05\n",
      "Epoch 36/100\n",
      "969/969 - 121s - loss: 2.1473 - top1acc: 0.7277 - top5acc: 0.9116 - lr: 8.2139e-04 - 121s/epoch - 125ms/step\n",
      "learning rate: 8.08e-04, weight decay: 4.04e-05\n",
      "Epoch 37/100\n",
      "969/969 - 121s - loss: 2.1449 - top1acc: 0.7288 - top5acc: 0.9120 - lr: 8.0783e-04 - 121s/epoch - 125ms/step\n",
      "learning rate: 7.94e-04, weight decay: 3.97e-05\n",
      "Epoch 38/100\n",
      "969/969 - 121s - loss: 2.1367 - top1acc: 0.7324 - top5acc: 0.9135 - lr: 7.9389e-04 - 121s/epoch - 125ms/step\n",
      "learning rate: 7.80e-04, weight decay: 3.90e-05\n",
      "Epoch 39/100\n",
      "969/969 - 121s - loss: 2.1328 - top1acc: 0.7342 - top5acc: 0.9144 - lr: 7.7960e-04 - 121s/epoch - 125ms/step\n",
      "learning rate: 7.65e-04, weight decay: 3.82e-05\n",
      "Epoch 40/100\n",
      "969/969 - 122s - loss: 2.1275 - top1acc: 0.7365 - top5acc: 0.9152 - lr: 7.6496e-04 - 122s/epoch - 125ms/step\n",
      "learning rate: 7.50e-04, weight decay: 3.75e-05\n",
      "Epoch 41/100\n",
      "969/969 - 121s - loss: 2.1243 - top1acc: 0.7383 - top5acc: 0.9157 - lr: 7.5000e-04 - 121s/epoch - 125ms/step\n",
      "learning rate: 7.35e-04, weight decay: 3.67e-05\n",
      "Epoch 42/100\n",
      "969/969 - 122s - loss: 2.1191 - top1acc: 0.7403 - top5acc: 0.9166 - lr: 7.3474e-04 - 122s/epoch - 125ms/step\n",
      "learning rate: 7.19e-04, weight decay: 3.60e-05\n",
      "Epoch 43/100\n",
      "969/969 - 122s - loss: 2.1122 - top1acc: 0.7435 - top5acc: 0.9180 - lr: 7.1919e-04 - 122s/epoch - 125ms/step\n",
      "learning rate: 7.03e-04, weight decay: 3.52e-05\n",
      "Epoch 44/100\n",
      "969/969 - 121s - loss: 2.1114 - top1acc: 0.7440 - top5acc: 0.9174 - lr: 7.0337e-04 - 121s/epoch - 125ms/step\n",
      "learning rate: 6.87e-04, weight decay: 3.44e-05\n",
      "Epoch 45/100\n",
      "969/969 - 121s - loss: 2.1056 - top1acc: 0.7463 - top5acc: 0.9192 - lr: 6.8730e-04 - 121s/epoch - 125ms/step\n",
      "learning rate: 6.71e-04, weight decay: 3.36e-05\n",
      "Epoch 46/100\n",
      "969/969 - 122s - loss: 2.0996 - top1acc: 0.7496 - top5acc: 0.9196 - lr: 6.7101e-04 - 122s/epoch - 126ms/step\n",
      "learning rate: 6.55e-04, weight decay: 3.27e-05\n",
      "Epoch 47/100\n",
      "969/969 - 122s - loss: 2.0943 - top1acc: 0.7517 - top5acc: 0.9206 - lr: 6.5451e-04 - 122s/epoch - 125ms/step\n",
      "learning rate: 6.38e-04, weight decay: 3.19e-05\n",
      "Epoch 48/100\n",
      "969/969 - 121s - loss: 2.0912 - top1acc: 0.7529 - top5acc: 0.9213 - lr: 6.3782e-04 - 121s/epoch - 125ms/step\n",
      "learning rate: 6.21e-04, weight decay: 3.10e-05\n",
      "Epoch 49/100\n",
      "969/969 - 121s - loss: 2.0864 - top1acc: 0.7549 - top5acc: 0.9215 - lr: 6.2096e-04 - 121s/epoch - 125ms/step\n",
      "learning rate: 6.04e-04, weight decay: 3.02e-05\n",
      "Epoch 50/100\n",
      "969/969 - 121s - loss: 2.0854 - top1acc: 0.7560 - top5acc: 0.9220 - lr: 6.0396e-04 - 121s/epoch - 125ms/step\n",
      "learning rate: 5.87e-04, weight decay: 2.93e-05\n",
      "Epoch 51/100\n",
      "969/969 - 121s - loss: 2.0793 - top1acc: 0.7582 - top5acc: 0.9235 - lr: 5.8682e-04 - 121s/epoch - 125ms/step\n",
      "learning rate: 5.70e-04, weight decay: 2.85e-05\n",
      "Epoch 52/100\n",
      "969/969 - 121s - loss: 2.0775 - top1acc: 0.7590 - top5acc: 0.9233 - lr: 5.6959e-04 - 121s/epoch - 125ms/step\n",
      "learning rate: 5.52e-04, weight decay: 2.76e-05\n",
      "Epoch 53/100\n",
      "969/969 - 121s - loss: 2.0662 - top1acc: 0.7643 - top5acc: 0.9258 - lr: 5.5226e-04 - 121s/epoch - 125ms/step\n",
      "learning rate: 5.35e-04, weight decay: 2.67e-05\n",
      "Epoch 54/100\n",
      "969/969 - 121s - loss: 2.0622 - top1acc: 0.7657 - top5acc: 0.9263 - lr: 5.3488e-04 - 121s/epoch - 125ms/step\n",
      "learning rate: 5.17e-04, weight decay: 2.59e-05\n",
      "Epoch 55/100\n",
      "969/969 - 121s - loss: 2.0592 - top1acc: 0.7674 - top5acc: 0.9268 - lr: 5.1745e-04 - 121s/epoch - 125ms/step\n",
      "learning rate: 5.00e-04, weight decay: 2.50e-05\n",
      "Epoch 56/100\n",
      "969/969 - 121s - loss: 2.0576 - top1acc: 0.7682 - top5acc: 0.9267 - lr: 5.0000e-04 - 121s/epoch - 125ms/step\n",
      "learning rate: 4.83e-04, weight decay: 2.41e-05\n",
      "Epoch 57/100\n",
      "969/969 - 121s - loss: 2.0574 - top1acc: 0.7680 - top5acc: 0.9269 - lr: 4.8255e-04 - 121s/epoch - 125ms/step\n",
      "learning rate: 4.65e-04, weight decay: 2.33e-05\n",
      "Epoch 58/100\n",
      "969/969 - 122s - loss: 2.0485 - top1acc: 0.7721 - top5acc: 0.9284 - lr: 4.6512e-04 - 122s/epoch - 125ms/step\n",
      "learning rate: 4.48e-04, weight decay: 2.24e-05\n",
      "Epoch 59/100\n",
      "969/969 - 122s - loss: 2.0460 - top1acc: 0.7733 - top5acc: 0.9280 - lr: 4.4774e-04 - 122s/epoch - 125ms/step\n",
      "learning rate: 4.30e-04, weight decay: 2.15e-05\n",
      "Epoch 60/100\n",
      "969/969 - 121s - loss: 2.0406 - top1acc: 0.7759 - top5acc: 0.9296 - lr: 4.3041e-04 - 121s/epoch - 125ms/step\n",
      "learning rate: 4.13e-04, weight decay: 2.07e-05\n",
      "Epoch 61/100\n",
      "969/969 - 121s - loss: 2.0339 - top1acc: 0.7784 - top5acc: 0.9309 - lr: 4.1318e-04 - 121s/epoch - 125ms/step\n",
      "learning rate: 3.96e-04, weight decay: 1.98e-05\n",
      "Epoch 62/100\n",
      "969/969 - 121s - loss: 2.0326 - top1acc: 0.7794 - top5acc: 0.9310 - lr: 3.9604e-04 - 121s/epoch - 125ms/step\n",
      "learning rate: 3.79e-04, weight decay: 1.90e-05\n",
      "Epoch 63/100\n",
      "969/969 - 121s - loss: 2.0288 - top1acc: 0.7811 - top5acc: 0.9317 - lr: 3.7904e-04 - 121s/epoch - 125ms/step\n",
      "learning rate: 3.62e-04, weight decay: 1.81e-05\n",
      "Epoch 64/100\n",
      "969/969 - 121s - loss: 2.0246 - top1acc: 0.7830 - top5acc: 0.9322 - lr: 3.6218e-04 - 121s/epoch - 125ms/step\n",
      "learning rate: 3.45e-04, weight decay: 1.73e-05\n",
      "Epoch 65/100\n",
      "969/969 - 122s - loss: 2.0202 - top1acc: 0.7852 - top5acc: 0.9332 - lr: 3.4549e-04 - 122s/epoch - 125ms/step\n",
      "learning rate: 3.29e-04, weight decay: 1.64e-05\n",
      "Epoch 66/100\n",
      "969/969 - 121s - loss: 2.0178 - top1acc: 0.7861 - top5acc: 0.9335 - lr: 3.2899e-04 - 121s/epoch - 125ms/step\n",
      "learning rate: 3.13e-04, weight decay: 1.56e-05\n",
      "Epoch 67/100\n",
      "969/969 - 121s - loss: 2.0151 - top1acc: 0.7878 - top5acc: 0.9340 - lr: 3.1270e-04 - 121s/epoch - 125ms/step\n",
      "learning rate: 2.97e-04, weight decay: 1.48e-05\n",
      "Epoch 68/100\n",
      "969/969 - 121s - loss: 2.0110 - top1acc: 0.7893 - top5acc: 0.9346 - lr: 2.9663e-04 - 121s/epoch - 125ms/step\n",
      "learning rate: 2.81e-04, weight decay: 1.40e-05\n",
      "Epoch 69/100\n",
      "969/969 - 122s - loss: 2.0084 - top1acc: 0.7905 - top5acc: 0.9348 - lr: 2.8081e-04 - 122s/epoch - 126ms/step\n",
      "learning rate: 2.65e-04, weight decay: 1.33e-05\n",
      "Epoch 70/100\n",
      "969/969 - 121s - loss: 2.0054 - top1acc: 0.7921 - top5acc: 0.9353 - lr: 2.6526e-04 - 121s/epoch - 125ms/step\n",
      "learning rate: 2.50e-04, weight decay: 1.25e-05\n",
      "Epoch 71/100\n",
      "969/969 - 121s - loss: 2.0022 - top1acc: 0.7935 - top5acc: 0.9361 - lr: 2.5000e-04 - 121s/epoch - 125ms/step\n",
      "learning rate: 2.35e-04, weight decay: 1.18e-05\n",
      "Epoch 72/100\n",
      "969/969 - 121s - loss: 1.9969 - top1acc: 0.7956 - top5acc: 0.9369 - lr: 2.3504e-04 - 121s/epoch - 125ms/step\n",
      "learning rate: 2.20e-04, weight decay: 1.10e-05\n",
      "Epoch 73/100\n",
      "969/969 - 121s - loss: 1.9977 - top1acc: 0.7953 - top5acc: 0.9367 - lr: 2.2040e-04 - 121s/epoch - 125ms/step\n",
      "learning rate: 2.06e-04, weight decay: 1.03e-05\n",
      "Epoch 74/100\n",
      "969/969 - 121s - loss: 1.9919 - top1acc: 0.7980 - top5acc: 0.9376 - lr: 2.0611e-04 - 121s/epoch - 125ms/step\n",
      "learning rate: 1.92e-04, weight decay: 9.61e-06\n",
      "Epoch 75/100\n",
      "969/969 - 121s - loss: 1.9895 - top1acc: 0.7993 - top5acc: 0.9380 - lr: 1.9217e-04 - 121s/epoch - 125ms/step\n",
      "learning rate: 1.79e-04, weight decay: 8.93e-06\n",
      "Epoch 76/100\n",
      "969/969 - 121s - loss: 1.9856 - top1acc: 0.8010 - top5acc: 0.9389 - lr: 1.7861e-04 - 121s/epoch - 125ms/step\n",
      "learning rate: 1.65e-04, weight decay: 8.27e-06\n",
      "Epoch 77/100\n",
      "969/969 - 122s - loss: 1.9875 - top1acc: 0.8000 - top5acc: 0.9383 - lr: 1.6543e-04 - 122s/epoch - 125ms/step\n",
      "learning rate: 1.53e-04, weight decay: 7.63e-06\n",
      "Epoch 78/100\n",
      "969/969 - 121s - loss: 1.9811 - top1acc: 0.8033 - top5acc: 0.9390 - lr: 1.5267e-04 - 121s/epoch - 125ms/step\n",
      "learning rate: 1.40e-04, weight decay: 7.02e-06\n",
      "Epoch 79/100\n",
      "969/969 - 121s - loss: 1.9761 - top1acc: 0.8056 - top5acc: 0.9401 - lr: 1.4033e-04 - 121s/epoch - 125ms/step\n",
      "learning rate: 1.28e-04, weight decay: 6.42e-06\n",
      "Epoch 80/100\n",
      "969/969 - 122s - loss: 1.9772 - top1acc: 0.8052 - top5acc: 0.9399 - lr: 1.2843e-04 - 122s/epoch - 126ms/step\n",
      "learning rate: 1.17e-04, weight decay: 5.85e-06\n",
      "Epoch 81/100\n",
      "969/969 - 122s - loss: 1.9758 - top1acc: 0.8056 - top5acc: 0.9397 - lr: 1.1698e-04 - 122s/epoch - 126ms/step\n",
      "learning rate: 1.06e-04, weight decay: 5.30e-06\n",
      "Epoch 82/100\n",
      "969/969 - 121s - loss: 1.9718 - top1acc: 0.8076 - top5acc: 0.9410 - lr: 1.0599e-04 - 121s/epoch - 125ms/step\n",
      "learning rate: 9.55e-05, weight decay: 4.77e-06\n",
      "Epoch 83/100\n",
      "969/969 - 121s - loss: 1.9726 - top1acc: 0.8068 - top5acc: 0.9403 - lr: 9.5492e-05 - 121s/epoch - 125ms/step\n",
      "learning rate: 8.55e-05, weight decay: 4.27e-06\n",
      "Epoch 84/100\n",
      "969/969 - 121s - loss: 1.9699 - top1acc: 0.8079 - top5acc: 0.9411 - lr: 8.5481e-05 - 121s/epoch - 125ms/step\n",
      "learning rate: 7.60e-05, weight decay: 3.80e-06\n",
      "Epoch 85/100\n",
      "969/969 - 121s - loss: 1.9629 - top1acc: 0.8112 - top5acc: 0.9423 - lr: 7.5976e-05 - 121s/epoch - 125ms/step\n",
      "learning rate: 6.70e-05, weight decay: 3.35e-06\n",
      "Epoch 86/100\n",
      "969/969 - 121s - loss: 1.9621 - top1acc: 0.8120 - top5acc: 0.9421 - lr: 6.6987e-05 - 121s/epoch - 125ms/step\n",
      "learning rate: 5.85e-05, weight decay: 2.93e-06\n",
      "Epoch 87/100\n",
      "969/969 - 122s - loss: 1.9612 - top1acc: 0.8123 - top5acc: 0.9422 - lr: 5.8526e-05 - 122s/epoch - 125ms/step\n",
      "learning rate: 5.06e-05, weight decay: 2.53e-06\n",
      "Epoch 88/100\n",
      "969/969 - 122s - loss: 1.9624 - top1acc: 0.8122 - top5acc: 0.9421 - lr: 5.0603e-05 - 122s/epoch - 126ms/step\n",
      "learning rate: 4.32e-05, weight decay: 2.16e-06\n",
      "Epoch 89/100\n",
      "969/969 - 121s - loss: 1.9623 - top1acc: 0.8119 - top5acc: 0.9423 - lr: 4.3227e-05 - 121s/epoch - 125ms/step\n",
      "learning rate: 3.64e-05, weight decay: 1.82e-06\n",
      "Epoch 90/100\n",
      "969/969 - 121s - loss: 1.9598 - top1acc: 0.8131 - top5acc: 0.9426 - lr: 3.6408e-05 - 121s/epoch - 125ms/step\n",
      "learning rate: 3.02e-05, weight decay: 1.51e-06\n",
      "Epoch 91/100\n",
      "969/969 - 121s - loss: 1.9591 - top1acc: 0.8136 - top5acc: 0.9429 - lr: 3.0154e-05 - 121s/epoch - 125ms/step\n",
      "learning rate: 2.45e-05, weight decay: 1.22e-06\n",
      "Epoch 92/100\n",
      "969/969 - 122s - loss: 1.9619 - top1acc: 0.8122 - top5acc: 0.9421 - lr: 2.4472e-05 - 122s/epoch - 126ms/step\n",
      "learning rate: 1.94e-05, weight decay: 9.68e-07\n",
      "Epoch 93/100\n",
      "969/969 - 121s - loss: 1.9598 - top1acc: 0.8131 - top5acc: 0.9422 - lr: 1.9369e-05 - 121s/epoch - 125ms/step\n",
      "learning rate: 1.49e-05, weight decay: 7.43e-07\n",
      "Epoch 94/100\n",
      "969/969 - 121s - loss: 1.9587 - top1acc: 0.8134 - top5acc: 0.9426 - lr: 1.4852e-05 - 121s/epoch - 125ms/step\n",
      "learning rate: 1.09e-05, weight decay: 5.46e-07\n",
      "Epoch 95/100\n",
      "969/969 - 121s - loss: 1.9585 - top1acc: 0.8136 - top5acc: 0.9425 - lr: 1.0926e-05 - 121s/epoch - 125ms/step\n",
      "learning rate: 7.60e-06, weight decay: 3.80e-07\n",
      "Epoch 96/100\n",
      "969/969 - 122s - loss: 1.9566 - top1acc: 0.8147 - top5acc: 0.9427 - lr: 7.5961e-06 - 122s/epoch - 125ms/step\n",
      "learning rate: 4.87e-06, weight decay: 2.43e-07\n",
      "Epoch 97/100\n",
      "969/969 - 122s - loss: 1.9557 - top1acc: 0.8151 - top5acc: 0.9430 - lr: 4.8660e-06 - 122s/epoch - 126ms/step\n",
      "learning rate: 2.74e-06, weight decay: 1.37e-07\n",
      "Epoch 98/100\n",
      "969/969 - 121s - loss: 1.9566 - top1acc: 0.8143 - top5acc: 0.9427 - lr: 2.7391e-06 - 121s/epoch - 125ms/step\n",
      "learning rate: 1.22e-06, weight decay: 6.09e-08\n",
      "Epoch 99/100\n",
      "969/969 - 121s - loss: 1.9548 - top1acc: 0.8153 - top5acc: 0.9432 - lr: 1.2180e-06 - 121s/epoch - 125ms/step\n",
      "learning rate: 3.05e-07, weight decay: 1.52e-08\n",
      "Epoch 100/100\n",
      "969/969 - 121s - loss: 1.9529 - top1acc: 0.8162 - top5acc: 0.9439 - lr: 3.0459e-07 - 121s/epoch - 125ms/step\n"
     ]
    }
   ],
   "source": [
    "if TRAIN_MODEL:\n",
    "    # Clear all models in GPU\n",
    "    tf.keras.backend.clear_session()\n",
    "\n",
    "    # Get new fresh model\n",
    "    model = get_model()\n",
    "\n",
    "    # Sanity Check\n",
    "    model.summary()\n",
    "\n",
    "    # Actual Training\n",
    "    history = model.fit(\n",
    "            x=train_dataset,\n",
    "            steps_per_epoch=TRAIN_STEPS_PER_EPOCH,\n",
    "            epochs=N_EPOCHS,\n",
    "            # Only used for validation data since training data is a generator\n",
    "            validation_data=val_dataset if USE_VAL else None,\n",
    "            validation_steps=N_VAL_STEPS_PER_EPOCH if USE_VAL else None,\n",
    "            callbacks=[\n",
    "                lr_callback,\n",
    "                WeightDecayCallback(),\n",
    "            ],\n",
    "            verbose = VERBOSE,\n",
    "        )"
   ]
  },
  {
   "cell_type": "code",
   "execution_count": 48,
   "id": "a1e2df56",
   "metadata": {
    "execution": {
     "iopub.execute_input": "2023-07-02T14:59:01.340192Z",
     "iopub.status.busy": "2023-07-02T14:59:01.339775Z",
     "iopub.status.idle": "2023-07-02T14:59:01.345065Z",
     "shell.execute_reply": "2023-07-02T14:59:01.344095Z"
    },
    "papermill": {
     "duration": 0.069569,
     "end_time": "2023-07-02T14:59:01.347383",
     "exception": false,
     "start_time": "2023-07-02T14:59:01.277814",
     "status": "completed"
    },
    "tags": []
   },
   "outputs": [],
   "source": [
    "# Load Weights\n",
    "if LOAD_WEIGHTS:\n",
    "    model.load_weights('/kaggle/input/aslfr-training-python37/model.h5')\n",
    "    print(f'Successfully Loaded Pretrained Weights')"
   ]
  },
  {
   "cell_type": "code",
   "execution_count": 49,
   "id": "e65c5105",
   "metadata": {
    "execution": {
     "iopub.execute_input": "2023-07-02T14:59:01.473460Z",
     "iopub.status.busy": "2023-07-02T14:59:01.473099Z",
     "iopub.status.idle": "2023-07-02T14:59:01.614139Z",
     "shell.execute_reply": "2023-07-02T14:59:01.613115Z"
    },
    "papermill": {
     "duration": 0.206194,
     "end_time": "2023-07-02T14:59:01.616525",
     "exception": false,
     "start_time": "2023-07-02T14:59:01.410331",
     "status": "completed"
    },
    "tags": []
   },
   "outputs": [],
   "source": [
    "# Save Model Weights\n",
    "model.save_weights('model.h5')"
   ]
  },
  {
   "cell_type": "code",
   "execution_count": 50,
   "id": "f5de4c6a",
   "metadata": {
    "execution": {
     "iopub.execute_input": "2023-07-02T14:59:01.731652Z",
     "iopub.status.busy": "2023-07-02T14:59:01.731309Z",
     "iopub.status.idle": "2023-07-02T14:59:42.975944Z",
     "shell.execute_reply": "2023-07-02T14:59:42.974845Z"
    },
    "papermill": {
     "duration": 41.357991,
     "end_time": "2023-07-02T14:59:43.031109",
     "exception": false,
     "start_time": "2023-07-02T14:59:01.673118",
     "status": "completed"
    },
    "tags": []
   },
   "outputs": [
    {
     "name": "stdout",
     "output_type": "stream",
     "text": [
      "969/969 - 41s - loss: 1.8608 - top1acc: 0.8571 - top5acc: 0.9561 - 41s/epoch - 43ms/step\n"
     ]
    },
    {
     "data": {
      "text/plain": [
       "[1.8608417510986328, 0.8570798635482788, 0.9560850262641907]"
      ]
     },
     "execution_count": 50,
     "metadata": {},
     "output_type": "execute_result"
    }
   ],
   "source": [
    "# Verify Model is Loaded Correctly\n",
    "model.evaluate(\n",
    "    val_dataset if USE_VAL else train_dataset,\n",
    "    steps=N_VAL_STEPS_PER_EPOCH if USE_VAL else TRAIN_STEPS_PER_EPOCH,\n",
    "    batch_size=BATCH_SIZE,\n",
    "    verbose=VERBOSE,\n",
    ")"
   ]
  },
  {
   "cell_type": "markdown",
   "id": "7fe49cfe",
   "metadata": {
    "papermill": {
     "duration": 0.056044,
     "end_time": "2023-07-02T14:59:43.142922",
     "exception": false,
     "start_time": "2023-07-02T14:59:43.086878",
     "status": "completed"
    },
    "tags": []
   },
   "source": [
    "# Levenshtein Distance"
   ]
  },
  {
   "cell_type": "code",
   "execution_count": 51,
   "id": "4208276b",
   "metadata": {
    "execution": {
     "iopub.execute_input": "2023-07-02T14:59:43.259015Z",
     "iopub.status.busy": "2023-07-02T14:59:43.257980Z",
     "iopub.status.idle": "2023-07-02T14:59:43.264399Z",
     "shell.execute_reply": "2023-07-02T14:59:43.263383Z"
    },
    "papermill": {
     "duration": 0.066802,
     "end_time": "2023-07-02T14:59:43.266519",
     "exception": false,
     "start_time": "2023-07-02T14:59:43.199717",
     "status": "completed"
    },
    "tags": []
   },
   "outputs": [],
   "source": [
    "# Output Predictions to string\n",
    "def outputs2phrase(outputs):\n",
    "    if outputs.ndim == 2:\n",
    "        outputs = np.argmax(outputs, axis=1)\n",
    "    \n",
    "    return ''.join([ORD2CHAR.get(s, '') for s in outputs])"
   ]
  },
  {
   "cell_type": "code",
   "execution_count": 52,
   "id": "eafde361",
   "metadata": {
    "execution": {
     "iopub.execute_input": "2023-07-02T14:59:43.382911Z",
     "iopub.status.busy": "2023-07-02T14:59:43.381914Z",
     "iopub.status.idle": "2023-07-02T14:59:43.390755Z",
     "shell.execute_reply": "2023-07-02T14:59:43.389845Z"
    },
    "papermill": {
     "duration": 0.068395,
     "end_time": "2023-07-02T14:59:43.392955",
     "exception": false,
     "start_time": "2023-07-02T14:59:43.324560",
     "status": "completed"
    },
    "tags": []
   },
   "outputs": [],
   "source": [
    "@tf.function()\n",
    "def predict_phrase(frames):\n",
    "    # Add Batch Dimension\n",
    "    frames = tf.expand_dims(frames, axis=0)\n",
    "    # Start Phrase\n",
    "    phrase = tf.fill([1,MAX_PHRASE_LENGTH], PAD_TOKEN)\n",
    "\n",
    "    for idx in tf.range(MAX_PHRASE_LENGTH):\n",
    "        # Cast phrase to int8\n",
    "        phrase = tf.cast(phrase, tf.int8)\n",
    "        # Predict Next Token\n",
    "        outputs = model({\n",
    "            'frames': frames,\n",
    "            'phrase': phrase,\n",
    "        })\n",
    "\n",
    "        # Add predicted token to input phrase\n",
    "        phrase = tf.cast(phrase, tf.int32)\n",
    "        phrase = tf.where(\n",
    "            tf.range(MAX_PHRASE_LENGTH) < idx + 1,\n",
    "            tf.argmax(outputs, axis=2, output_type=tf.int32),\n",
    "            phrase,\n",
    "        )\n",
    "\n",
    "    # Squeeze outputs\n",
    "    outputs = tf.squeeze(phrase, axis=0)\n",
    "    outputs = tf.one_hot(outputs, N_UNIQUE_CHARACTERS)\n",
    "\n",
    "    # Return a dictionary with the output tensor\n",
    "    return outputs\n",
    "\n",
    "    # Return a dictionary with the output tensor\n",
    "    return outputs"
   ]
  },
  {
   "cell_type": "markdown",
   "id": "d4af8088",
   "metadata": {
    "papermill": {
     "duration": 0.056358,
     "end_time": "2023-07-02T14:59:43.504839",
     "exception": false,
     "start_time": "2023-07-02T14:59:43.448481",
     "status": "completed"
    },
    "tags": []
   },
   "source": [
    "# Levenstein Distance Train"
   ]
  },
  {
   "cell_type": "code",
   "execution_count": 53,
   "id": "9f26df76",
   "metadata": {
    "execution": {
     "iopub.execute_input": "2023-07-02T14:59:43.623093Z",
     "iopub.status.busy": "2023-07-02T14:59:43.622699Z",
     "iopub.status.idle": "2023-07-02T14:59:43.631624Z",
     "shell.execute_reply": "2023-07-02T14:59:43.630718Z"
    },
    "papermill": {
     "duration": 0.071676,
     "end_time": "2023-07-02T14:59:43.633777",
     "exception": false,
     "start_time": "2023-07-02T14:59:43.562101",
     "status": "completed"
    },
    "tags": []
   },
   "outputs": [],
   "source": [
    "# Compute Levenstein Distances\n",
    "def get_ld_train():\n",
    "    N = 100 if IS_INTERACTIVE else 1000\n",
    "    LD_TRAIN = []\n",
    "    for idx, (frames, phrase_true) in enumerate(zip(tqdm(X_train, total=N), y_train)):\n",
    "        # Predict Phrase and Convert to String\n",
    "        phrase_pred = predict_phrase(frames).numpy()\n",
    "        phrase_pred = outputs2phrase(phrase_pred)\n",
    "        # True Phrase Ordinal to String\n",
    "        phrase_true = outputs2phrase(phrase_true)\n",
    "        # Add Levenstein Distance\n",
    "        LD_TRAIN.append({\n",
    "            'phrase_true': phrase_true,\n",
    "            'phrase_pred': phrase_pred,\n",
    "            'levenshtein_distance': levenshtein(phrase_pred, phrase_true),\n",
    "        })\n",
    "        # Take subset in interactive mode\n",
    "        if idx == N:\n",
    "            break\n",
    "            \n",
    "    # Convert to DataFrame\n",
    "    LD_TRAIN_DF = pd.DataFrame(LD_TRAIN)\n",
    "    \n",
    "    return LD_TRAIN_DF"
   ]
  },
  {
   "cell_type": "code",
   "execution_count": 54,
   "id": "20ee8c92",
   "metadata": {
    "execution": {
     "iopub.execute_input": "2023-07-02T14:59:43.751663Z",
     "iopub.status.busy": "2023-07-02T14:59:43.750977Z",
     "iopub.status.idle": "2023-07-02T15:01:50.106368Z",
     "shell.execute_reply": "2023-07-02T15:01:50.105419Z"
    },
    "papermill": {
     "duration": 126.418133,
     "end_time": "2023-07-02T15:01:50.108598",
     "exception": false,
     "start_time": "2023-07-02T14:59:43.690465",
     "status": "completed"
    },
    "tags": []
   },
   "outputs": [
    {
     "data": {
      "application/vnd.jupyter.widget-view+json": {
       "model_id": "cdab5ab7bd524d8883eee5eb249d4a84",
       "version_major": 2,
       "version_minor": 0
      },
      "text/plain": [
       "  0%|          | 0/1000 [00:00<?, ?it/s]"
      ]
     },
     "metadata": {},
     "output_type": "display_data"
    },
    {
     "data": {
      "text/html": [
       "<div>\n",
       "<style scoped>\n",
       "    .dataframe tbody tr th:only-of-type {\n",
       "        vertical-align: middle;\n",
       "    }\n",
       "\n",
       "    .dataframe tbody tr th {\n",
       "        vertical-align: top;\n",
       "    }\n",
       "\n",
       "    .dataframe thead th {\n",
       "        text-align: right;\n",
       "    }\n",
       "</style>\n",
       "<table border=\"1\" class=\"dataframe\">\n",
       "  <thead>\n",
       "    <tr style=\"text-align: right;\">\n",
       "      <th></th>\n",
       "      <th>phrase_true</th>\n",
       "      <th>phrase_pred</th>\n",
       "      <th>levenshtein_distance</th>\n",
       "    </tr>\n",
       "  </thead>\n",
       "  <tbody>\n",
       "    <tr>\n",
       "      <th>0</th>\n",
       "      <td>3 creekhouse</td>\n",
       "      <td>3 creek housese.de</td>\n",
       "      <td>6</td>\n",
       "    </tr>\n",
       "    <tr>\n",
       "      <th>1</th>\n",
       "      <td>scales/kuhaylah</td>\n",
       "      <td>scales/kuhaylaaa</td>\n",
       "      <td>2</td>\n",
       "    </tr>\n",
       "    <tr>\n",
       "      <th>2</th>\n",
       "      <td>hentaihubs.com</td>\n",
       "      <td>hentaihubs.com.com</td>\n",
       "      <td>4</td>\n",
       "    </tr>\n",
       "    <tr>\n",
       "      <th>3</th>\n",
       "      <td>1383 william lanier</td>\n",
       "      <td>1383 william lanier</td>\n",
       "      <td>0</td>\n",
       "    </tr>\n",
       "    <tr>\n",
       "      <th>4</th>\n",
       "      <td>988 franklin lane</td>\n",
       "      <td>988 franklin lane lanee</td>\n",
       "      <td>6</td>\n",
       "    </tr>\n",
       "    <tr>\n",
       "      <th>5</th>\n",
       "      <td>6920 northeast 661st road</td>\n",
       "      <td>6920 northeast 661st roadd</td>\n",
       "      <td>1</td>\n",
       "    </tr>\n",
       "    <tr>\n",
       "      <th>6</th>\n",
       "      <td>www.freem.ne.jp</td>\n",
       "      <td>www.freem.me.jp.jp</td>\n",
       "      <td>4</td>\n",
       "    </tr>\n",
       "    <tr>\n",
       "      <th>7</th>\n",
       "      <td>https://jsi.is/hukuoka</td>\n",
       "      <td>https://jsi.is/htkuoka</td>\n",
       "      <td>1</td>\n",
       "    </tr>\n",
       "    <tr>\n",
       "      <th>8</th>\n",
       "      <td>239613 stolze street</td>\n",
       "      <td>23961a3 stolze streets stre</td>\n",
       "      <td>7</td>\n",
       "    </tr>\n",
       "    <tr>\n",
       "      <th>9</th>\n",
       "      <td>242-197-6202</td>\n",
       "      <td>217-686-0202</td>\n",
       "      <td>6</td>\n",
       "    </tr>\n",
       "    <tr>\n",
       "      <th>10</th>\n",
       "      <td>271097 bayshore boulevard</td>\n",
       "      <td>271097 bayhore boulevard</td>\n",
       "      <td>1</td>\n",
       "    </tr>\n",
       "    <tr>\n",
       "      <th>11</th>\n",
       "      <td>federico pearson</td>\n",
       "      <td>federico pearonon</td>\n",
       "      <td>2</td>\n",
       "    </tr>\n",
       "    <tr>\n",
       "      <th>12</th>\n",
       "      <td>/carpina/hope_&amp;_faith/litle</td>\n",
       "      <td>/carpina/hope_z_fith/litlee</td>\n",
       "      <td>3</td>\n",
       "    </tr>\n",
       "    <tr>\n",
       "      <th>13</th>\n",
       "      <td>dine-in/code/</td>\n",
       "      <td>dine-cin/code/code/code//</td>\n",
       "      <td>12</td>\n",
       "    </tr>\n",
       "    <tr>\n",
       "      <th>14</th>\n",
       "      <td>+264-97-568-217-145</td>\n",
       "      <td>+264-97-5482-2745</td>\n",
       "      <td>5</td>\n",
       "    </tr>\n",
       "    <tr>\n",
       "      <th>15</th>\n",
       "      <td>+51-2721-208-63</td>\n",
       "      <td>+51-271-208-6363</td>\n",
       "      <td>3</td>\n",
       "    </tr>\n",
       "    <tr>\n",
       "      <th>16</th>\n",
       "      <td>wildberries_ru</td>\n",
       "      <td>wilders-murces-lu</td>\n",
       "      <td>8</td>\n",
       "    </tr>\n",
       "    <tr>\n",
       "      <th>17</th>\n",
       "      <td>leona owens</td>\n",
       "      <td>leona owenslens</td>\n",
       "      <td>4</td>\n",
       "    </tr>\n",
       "    <tr>\n",
       "      <th>18</th>\n",
       "      <td>+220-557-859-04</td>\n",
       "      <td>+220-557-859-0404</td>\n",
       "      <td>2</td>\n",
       "    </tr>\n",
       "    <tr>\n",
       "      <th>19</th>\n",
       "      <td>kati castro</td>\n",
       "      <td>kati castro</td>\n",
       "      <td>0</td>\n",
       "    </tr>\n",
       "    <tr>\n",
       "      <th>20</th>\n",
       "      <td>5566 hellertown road</td>\n",
       "      <td>56 cll rock</td>\n",
       "      <td>12</td>\n",
       "    </tr>\n",
       "    <tr>\n",
       "      <th>21</th>\n",
       "      <td>6867 granville drive</td>\n",
       "      <td>6867 granville drive</td>\n",
       "      <td>0</td>\n",
       "    </tr>\n",
       "    <tr>\n",
       "      <th>22</th>\n",
       "      <td>1600 fire water</td>\n",
       "      <td>1600 willia ster</td>\n",
       "      <td>7</td>\n",
       "    </tr>\n",
       "    <tr>\n",
       "      <th>23</th>\n",
       "      <td>+45-39-007-1887</td>\n",
       "      <td>+45-39-07-188787</td>\n",
       "      <td>3</td>\n",
       "    </tr>\n",
       "    <tr>\n",
       "      <th>24</th>\n",
       "      <td>65634/tennessee%20river</td>\n",
       "      <td>65634/tenesseeo 2000-rive</td>\n",
       "      <td>7</td>\n",
       "    </tr>\n",
       "    <tr>\n",
       "      <th>25</th>\n",
       "      <td>596-033-4046</td>\n",
       "      <td>515-000-4848</td>\n",
       "      <td>6</td>\n",
       "    </tr>\n",
       "    <tr>\n",
       "      <th>26</th>\n",
       "      <td>18 cutter ridge road</td>\n",
       "      <td>18 cutter ridge road</td>\n",
       "      <td>0</td>\n",
       "    </tr>\n",
       "    <tr>\n",
       "      <th>27</th>\n",
       "      <td>tampa fl</td>\n",
       "      <td>tampa fl</td>\n",
       "      <td>0</td>\n",
       "    </tr>\n",
       "    <tr>\n",
       "      <th>28</th>\n",
       "      <td>492288 west 28th terrace south</td>\n",
       "      <td>492288 west 28th terrace south</td>\n",
       "      <td>0</td>\n",
       "    </tr>\n",
       "    <tr>\n",
       "      <th>29</th>\n",
       "      <td>166 water power</td>\n",
       "      <td>www.santow.com/tarticles</td>\n",
       "      <td>20</td>\n",
       "    </tr>\n",
       "  </tbody>\n",
       "</table>\n",
       "</div>"
      ],
      "text/plain": [
       "                       phrase_true                     phrase_pred  \\\n",
       "0                     3 creekhouse              3 creek housese.de   \n",
       "1                  scales/kuhaylah                scales/kuhaylaaa   \n",
       "2                   hentaihubs.com              hentaihubs.com.com   \n",
       "3              1383 william lanier             1383 william lanier   \n",
       "4                988 franklin lane         988 franklin lane lanee   \n",
       "5        6920 northeast 661st road      6920 northeast 661st roadd   \n",
       "6                  www.freem.ne.jp              www.freem.me.jp.jp   \n",
       "7           https://jsi.is/hukuoka          https://jsi.is/htkuoka   \n",
       "8             239613 stolze street     23961a3 stolze streets stre   \n",
       "9                     242-197-6202                    217-686-0202   \n",
       "10       271097 bayshore boulevard        271097 bayhore boulevard   \n",
       "11                federico pearson               federico pearonon   \n",
       "12     /carpina/hope_&_faith/litle     /carpina/hope_z_fith/litlee   \n",
       "13                   dine-in/code/       dine-cin/code/code/code//   \n",
       "14             +264-97-568-217-145               +264-97-5482-2745   \n",
       "15                 +51-2721-208-63                +51-271-208-6363   \n",
       "16                  wildberries_ru               wilders-murces-lu   \n",
       "17                     leona owens                 leona owenslens   \n",
       "18                 +220-557-859-04               +220-557-859-0404   \n",
       "19                     kati castro                     kati castro   \n",
       "20            5566 hellertown road                     56 cll rock   \n",
       "21            6867 granville drive            6867 granville drive   \n",
       "22                 1600 fire water                1600 willia ster   \n",
       "23                 +45-39-007-1887                +45-39-07-188787   \n",
       "24         65634/tennessee%20river       65634/tenesseeo 2000-rive   \n",
       "25                    596-033-4046                    515-000-4848   \n",
       "26            18 cutter ridge road            18 cutter ridge road   \n",
       "27                        tampa fl                        tampa fl   \n",
       "28  492288 west 28th terrace south  492288 west 28th terrace south   \n",
       "29                 166 water power        www.santow.com/tarticles   \n",
       "\n",
       "    levenshtein_distance  \n",
       "0                      6  \n",
       "1                      2  \n",
       "2                      4  \n",
       "3                      0  \n",
       "4                      6  \n",
       "5                      1  \n",
       "6                      4  \n",
       "7                      1  \n",
       "8                      7  \n",
       "9                      6  \n",
       "10                     1  \n",
       "11                     2  \n",
       "12                     3  \n",
       "13                    12  \n",
       "14                     5  \n",
       "15                     3  \n",
       "16                     8  \n",
       "17                     4  \n",
       "18                     2  \n",
       "19                     0  \n",
       "20                    12  \n",
       "21                     0  \n",
       "22                     7  \n",
       "23                     3  \n",
       "24                     7  \n",
       "25                     6  \n",
       "26                     0  \n",
       "27                     0  \n",
       "28                     0  \n",
       "29                    20  "
      ]
     },
     "metadata": {},
     "output_type": "display_data"
    }
   ],
   "source": [
    "LD_TRAIN_DF = get_ld_train()\n",
    "\n",
    "# Display Errors\n",
    "display(LD_TRAIN_DF.head(30))"
   ]
  },
  {
   "cell_type": "code",
   "execution_count": 55,
   "id": "6608715e",
   "metadata": {
    "execution": {
     "iopub.execute_input": "2023-07-02T15:01:50.225224Z",
     "iopub.status.busy": "2023-07-02T15:01:50.224844Z",
     "iopub.status.idle": "2023-07-02T15:01:50.888066Z",
     "shell.execute_reply": "2023-07-02T15:01:50.886982Z"
    },
    "papermill": {
     "duration": 0.724484,
     "end_time": "2023-07-02T15:01:50.890212",
     "exception": false,
     "start_time": "2023-07-02T15:01:50.165728",
     "status": "completed"
    },
    "tags": []
   },
   "outputs": [
    {
     "data": {
      "image/png": "[encoded data removed]",
      "text/plain": [
       "<Figure size 1500x800 with 1 Axes>"
      ]
     },
     "metadata": {},
     "output_type": "display_data"
    }
   ],
   "source": [
    "# Value Counts\n",
    "LD_TRAIN_VC = dict([(i, 0) for i in range(LD_TRAIN_DF['levenshtein_distance'].max()+1)])\n",
    "for ld in LD_TRAIN_DF['levenshtein_distance']:\n",
    "    LD_TRAIN_VC[ld] += 1\n",
    "\n",
    "plt.figure(figsize=(15,8))\n",
    "pd.Series(LD_TRAIN_VC).plot(kind='bar', width=1)\n",
    "plt.title(f'Train Levenstein Distance Distribution | Mean: {LD_TRAIN_DF.levenshtein_distance.mean():.4f}')\n",
    "plt.xlabel('Levenstein Distance')\n",
    "plt.ylabel('Sample Count')\n",
    "plt.xlim(-0.50, LD_TRAIN_DF.levenshtein_distance.max()+0.50)\n",
    "plt.grid(axis='y')\n",
    "plt.savefig('temp.png')\n",
    "plt.show()"
   ]
  },
  {
   "cell_type": "markdown",
   "id": "c58b4f8d",
   "metadata": {
    "papermill": {
     "duration": 0.057603,
     "end_time": "2023-07-02T15:01:51.005493",
     "exception": false,
     "start_time": "2023-07-02T15:01:50.947890",
     "status": "completed"
    },
    "tags": []
   },
   "source": [
    "# Levenstein Distance Evaluation"
   ]
  },
  {
   "cell_type": "code",
   "execution_count": 56,
   "id": "a7a53647",
   "metadata": {
    "execution": {
     "iopub.execute_input": "2023-07-02T15:01:51.122346Z",
     "iopub.status.busy": "2023-07-02T15:01:51.121350Z",
     "iopub.status.idle": "2023-07-02T15:01:51.129211Z",
     "shell.execute_reply": "2023-07-02T15:01:51.128227Z"
    },
    "papermill": {
     "duration": 0.068889,
     "end_time": "2023-07-02T15:01:51.131182",
     "exception": false,
     "start_time": "2023-07-02T15:01:51.062293",
     "status": "completed"
    },
    "tags": []
   },
   "outputs": [],
   "source": [
    "# Compute Levenstein Distances\n",
    "def get_ld_val():\n",
    "    N = 100 if IS_INTERACTIVE else 1000\n",
    "    LD_VAL = []\n",
    "    for idx, (frames, phrase_true) in enumerate(zip(tqdm(X_val, total=N), y_val)):\n",
    "        # Predict Phrase and Convert to String\n",
    "        phrase_pred = predict_phrase(frames).numpy()\n",
    "        phrase_pred = outputs2phrase(phrase_pred)\n",
    "        # True Phrase Ordinal to String\n",
    "        phrase_true = outputs2phrase(phrase_true)\n",
    "        # Add Levenstein Distance\n",
    "        LD_VAL.append({\n",
    "            'phrase_true': phrase_true,\n",
    "            'phrase_pred': phrase_pred,\n",
    "            'levenshtein_distance': levenshtein(phrase_pred, phrase_true),\n",
    "        })\n",
    "        # Take subset in interactive mode\n",
    "        if idx == N:\n",
    "            break\n",
    "            \n",
    "    # Convert to DataFrame\n",
    "    LD_VAL_DF = pd.DataFrame(LD_VAL)\n",
    "    \n",
    "    return LD_VAL_DF"
   ]
  },
  {
   "cell_type": "code",
   "execution_count": 57,
   "id": "e93f4847",
   "metadata": {
    "execution": {
     "iopub.execute_input": "2023-07-02T15:01:51.247268Z",
     "iopub.status.busy": "2023-07-02T15:01:51.246889Z",
     "iopub.status.idle": "2023-07-02T15:01:51.251853Z",
     "shell.execute_reply": "2023-07-02T15:01:51.250791Z"
    },
    "papermill": {
     "duration": 0.064943,
     "end_time": "2023-07-02T15:01:51.253910",
     "exception": false,
     "start_time": "2023-07-02T15:01:51.188967",
     "status": "completed"
    },
    "tags": []
   },
   "outputs": [],
   "source": [
    "if USE_VAL:\n",
    "    LD_VAL_DF = get_ld_val()\n",
    "\n",
    "    # Display Errors\n",
    "    display(LD_VAL_DF.head(30))"
   ]
  },
  {
   "cell_type": "code",
   "execution_count": 58,
   "id": "96ecb705",
   "metadata": {
    "execution": {
     "iopub.execute_input": "2023-07-02T15:01:51.370726Z",
     "iopub.status.busy": "2023-07-02T15:01:51.370387Z",
     "iopub.status.idle": "2023-07-02T15:01:51.377377Z",
     "shell.execute_reply": "2023-07-02T15:01:51.376450Z"
    },
    "papermill": {
     "duration": 0.068365,
     "end_time": "2023-07-02T15:01:51.379464",
     "exception": false,
     "start_time": "2023-07-02T15:01:51.311099",
     "status": "completed"
    },
    "tags": []
   },
   "outputs": [],
   "source": [
    "# Value Counts\n",
    "if USE_VAL:\n",
    "    LD_VAL_VC = dict([(i, 0) for i in range(LD_VAL_DF['levenshtein_distance'].max()+1)])\n",
    "    for ld in LD_VAL_DF['levenshtein_distance']:\n",
    "        LD_VAL_VC[ld] += 1\n",
    "\n",
    "    plt.figure(figsize=(15,8))\n",
    "    pd.Series(LD_VAL_VC).plot(kind='bar', width=1)\n",
    "    plt.title(f'Validation Levenstein Distance Distribution | Mean: {LD_VAL_DF.levenshtein_distance.mean():.4f}')\n",
    "    plt.xlabel('Levenstein Distance')\n",
    "    plt.ylabel('Sample Count')\n",
    "    plt.xlim(0-0.50, LD_VAL_DF.levenshtein_distance.max()+0.50)\n",
    "    plt.grid(axis='y')\n",
    "    plt.savefig('temp.png')\n",
    "    plt.show()"
   ]
  },
  {
   "cell_type": "markdown",
   "id": "6c54a094",
   "metadata": {
    "papermill": {
     "duration": 0.056463,
     "end_time": "2023-07-02T15:01:51.492470",
     "exception": false,
     "start_time": "2023-07-02T15:01:51.436007",
     "status": "completed"
    },
    "tags": []
   },
   "source": [
    "# Training History"
   ]
  },
  {
   "cell_type": "code",
   "execution_count": 59,
   "id": "14b8a836",
   "metadata": {
    "execution": {
     "iopub.execute_input": "2023-07-02T15:01:51.607681Z",
     "iopub.status.busy": "2023-07-02T15:01:51.607331Z",
     "iopub.status.idle": "2023-07-02T15:01:51.619756Z",
     "shell.execute_reply": "2023-07-02T15:01:51.618787Z"
    },
    "papermill": {
     "duration": 0.072449,
     "end_time": "2023-07-02T15:01:51.621731",
     "exception": false,
     "start_time": "2023-07-02T15:01:51.549282",
     "status": "completed"
    },
    "tags": []
   },
   "outputs": [],
   "source": [
    "def plot_history_metric(metric, f_best=np.argmax, ylim=None, yscale=None, yticks=None):\n",
    "    # Only plot when training\n",
    "    if not TRAIN_MODEL:\n",
    "        return\n",
    "    \n",
    "    plt.figure(figsize=(20, 10))\n",
    "    \n",
    "    values = history.history[metric]\n",
    "    N_EPOCHS = len(values)\n",
    "    val = 'val' in ''.join(history.history.keys())\n",
    "    # Epoch Ticks\n",
    "    if N_EPOCHS <= 20:\n",
    "        x = np.arange(1, N_EPOCHS + 1)\n",
    "    else:\n",
    "        x = [1, 5] + [10 + 5 * idx for idx in range((N_EPOCHS - 10) // 5 + 1)]\n",
    "\n",
    "    x_ticks = np.arange(1, N_EPOCHS+1)\n",
    "\n",
    "    # Validation\n",
    "    if val:\n",
    "        val_values = history.history[f'val_{metric}']\n",
    "        val_argmin = f_best(val_values)\n",
    "        plt.plot(x_ticks, val_values, label=f'val')\n",
    "\n",
    "    # summarize history for accuracy\n",
    "    plt.plot(x_ticks, values, label=f'train')\n",
    "    argmin = f_best(values)\n",
    "    plt.scatter(argmin + 1, values[argmin], color='red', s=75, marker='o', label=f'train_best')\n",
    "    if val:\n",
    "        plt.scatter(val_argmin + 1, val_values[val_argmin], color='purple', s=75, marker='o', label=f'val_best')\n",
    "\n",
    "    plt.title(f'Model {metric}', fontsize=24, pad=10)\n",
    "    plt.ylabel(metric, fontsize=20, labelpad=10)\n",
    "\n",
    "    if ylim:\n",
    "        plt.ylim(ylim)\n",
    "\n",
    "    if yscale is not None:\n",
    "        plt.yscale(yscale)\n",
    "        \n",
    "    if yticks is not None:\n",
    "        plt.yticks(yticks, fontsize=16)\n",
    "\n",
    "    plt.xlabel('epoch', fontsize=20, labelpad=10)        \n",
    "    plt.tick_params(axis='x', labelsize=8)\n",
    "    plt.xticks(x, fontsize=16) # set tick step to 1 and let x axis start at 1\n",
    "    plt.yticks(fontsize=16)\n",
    "    \n",
    "    plt.legend(prop={'size': 10})\n",
    "    plt.grid()\n",
    "    plt.show()"
   ]
  },
  {
   "cell_type": "code",
   "execution_count": 60,
   "id": "f62d4283",
   "metadata": {
    "execution": {
     "iopub.execute_input": "2023-07-02T15:01:51.738312Z",
     "iopub.status.busy": "2023-07-02T15:01:51.737734Z",
     "iopub.status.idle": "2023-07-02T15:01:52.210950Z",
     "shell.execute_reply": "2023-07-02T15:01:52.209998Z"
    },
    "papermill": {
     "duration": 0.534279,
     "end_time": "2023-07-02T15:01:52.213146",
     "exception": false,
     "start_time": "2023-07-02T15:01:51.678867",
     "status": "completed"
    },
    "tags": []
   },
   "outputs": [
    {
     "data": {
      "image/png": "[encoded data removed]",
      "text/plain": [
       "<Figure size 2000x1000 with 1 Axes>"
      ]
     },
     "metadata": {},
     "output_type": "display_data"
    }
   ],
   "source": [
    "plot_history_metric('loss', f_best=np.argmin)"
   ]
  },
  {
   "cell_type": "code",
   "execution_count": 61,
   "id": "4328e6ca",
   "metadata": {
    "execution": {
     "iopub.execute_input": "2023-07-02T15:01:52.330465Z",
     "iopub.status.busy": "2023-07-02T15:01:52.330112Z",
     "iopub.status.idle": "2023-07-02T15:01:52.811024Z",
     "shell.execute_reply": "2023-07-02T15:01:52.810096Z"
    },
    "papermill": {
     "duration": 0.542072,
     "end_time": "2023-07-02T15:01:52.812958",
     "exception": false,
     "start_time": "2023-07-02T15:01:52.270886",
     "status": "completed"
    },
    "tags": []
   },
   "outputs": [
    {
     "data": {
      "image/png": "[encoded data removed]",
      "text/plain": [
       "<Figure size 2000x1000 with 1 Axes>"
      ]
     },
     "metadata": {},
     "output_type": "display_data"
    }
   ],
   "source": [
    "plot_history_metric('top1acc', ylim=[0,1], yticks=np.arange(0.0, 1.1, 0.1))"
   ]
  },
  {
   "cell_type": "code",
   "execution_count": 62,
   "id": "71d2c4e1",
   "metadata": {
    "execution": {
     "iopub.execute_input": "2023-07-02T15:01:52.936426Z",
     "iopub.status.busy": "2023-07-02T15:01:52.936030Z",
     "iopub.status.idle": "2023-07-02T15:01:53.414640Z",
     "shell.execute_reply": "2023-07-02T15:01:53.413713Z"
    },
    "papermill": {
     "duration": 0.542339,
     "end_time": "2023-07-02T15:01:53.417063",
     "exception": false,
     "start_time": "2023-07-02T15:01:52.874724",
     "status": "completed"
    },
    "tags": []
   },
   "outputs": [
    {
     "data": {
      "image/png": "[encoded data removed]",
      "text/plain": [
       "<Figure size 2000x1000 with 1 Axes>"
      ]
     },
     "metadata": {},
     "output_type": "display_data"
    }
   ],
   "source": [
    "plot_history_metric('top5acc', ylim=[0,1], yticks=np.arange(0.0, 1.1, 0.1))"
   ]
  },
  {
   "cell_type": "markdown",
   "id": "cf3bf012",
   "metadata": {
    "papermill": {
     "duration": 0.059194,
     "end_time": "2023-07-02T15:01:53.537697",
     "exception": false,
     "start_time": "2023-07-02T15:01:53.478503",
     "status": "completed"
    },
    "tags": []
   },
   "source": [
    "# Inference"
   ]
  },
  {
   "cell_type": "code",
   "execution_count": 63,
   "id": "ec09d1e0",
   "metadata": {
    "execution": {
     "iopub.execute_input": "2023-07-02T15:01:53.658590Z",
     "iopub.status.busy": "2023-07-02T15:01:53.658218Z",
     "iopub.status.idle": "2023-07-02T15:01:53.665909Z",
     "shell.execute_reply": "2023-07-02T15:01:53.665058Z"
    },
    "papermill": {
     "duration": 0.070811,
     "end_time": "2023-07-02T15:01:53.667988",
     "exception": false,
     "start_time": "2023-07-02T15:01:53.597177",
     "status": "completed"
    },
    "tags": []
   },
   "outputs": [
    {
     "name": "stdout",
     "output_type": "stream",
     "text": [
      "frames\n",
      "masking\n",
      "embedding\n",
      "encoder\n",
      "phrase\n",
      "decoder\n",
      "classifier\n"
     ]
    }
   ],
   "source": [
    "# Model Layer Names\n",
    "for l in model.layers:\n",
    "    print(l.name)"
   ]
  },
  {
   "cell_type": "code",
   "execution_count": 64,
   "id": "daf45d48",
   "metadata": {
    "execution": {
     "iopub.execute_input": "2023-07-02T15:01:53.789495Z",
     "iopub.status.busy": "2023-07-02T15:01:53.789149Z",
     "iopub.status.idle": "2023-07-02T15:02:00.232802Z",
     "shell.execute_reply": "2023-07-02T15:02:00.231814Z"
    },
    "papermill": {
     "duration": 6.507954,
     "end_time": "2023-07-02T15:02:00.234987",
     "exception": false,
     "start_time": "2023-07-02T15:01:53.727033",
     "status": "completed"
    },
    "tags": []
   },
   "outputs": [
    {
     "name": "stdout",
     "output_type": "stream",
     "text": [
      "demo_raw_data shape: (123, 164), dtype: float32\n",
      "demo_output shape: (32, 62), dtype: float32\n",
      "demo_outputs phrase decoded: 3 creek house\n",
      "phrase true: 3 creekhouse\n"
     ]
    }
   ],
   "source": [
    "# TFLite model for submission\n",
    "class TFLiteModel(tf.Module):\n",
    "    def __init__(self, model):\n",
    "        super(TFLiteModel, self).__init__()\n",
    "\n",
    "        # Load the feature generation and main models\n",
    "        self.preprocess_layer = preprocess_layer\n",
    "        self.model = model\n",
    "    \n",
    "    @tf.function(jit_compile=True)\n",
    "    def encoder(self, x, frames_inp):\n",
    "        x = self.model.get_layer('embedding')(x)\n",
    "        x = self.model.get_layer('encoder')(x, frames_inp)\n",
    "        \n",
    "        return x\n",
    "        \n",
    "    @tf.function(jit_compile=True)\n",
    "    def decoder(self, x, phrase_inp):\n",
    "        x = self.model.get_layer('decoder')(x, phrase_inp)\n",
    "        x = self.model.get_layer('classifier')(x)\n",
    "        \n",
    "        return x\n",
    "    \n",
    "    @tf.function(input_signature=[tf.TensorSpec(shape=[None, N_COLS0], dtype=tf.float32, name='inputs')])\n",
    "    def __call__(self, inputs):\n",
    "        # Number Of Input Frames\n",
    "        N_INPUT_FRAMES = tf.shape(inputs)[0]\n",
    "        # Preprocess Data\n",
    "        frames_inp = self.preprocess_layer(inputs)        \n",
    "        # Add Batch Dimension\n",
    "        frames_inp = tf.expand_dims(frames_inp, axis=0)\n",
    "        # Get Encoding\n",
    "        encoding = self.encoder(frames_inp, frames_inp)\n",
    "        # Make Prediction\n",
    "        phrase = tf.fill([1,MAX_PHRASE_LENGTH], PAD_TOKEN)\n",
    "        # Predict One Token At A Time\n",
    "        stop = False\n",
    "        for idx in tf.range(MAX_PHRASE_LENGTH):\n",
    "            # Cast phrase to int8\n",
    "            phrase = tf.cast(phrase, tf.int8)\n",
    "            # If EOS token is predicted, stop predicting\n",
    "            outputs = tf.cond(\n",
    "                stop,\n",
    "                lambda: tf.one_hot(tf.cast(phrase, tf.int32), N_UNIQUE_CHARACTERS),\n",
    "                lambda: self.decoder(encoding, phrase)\n",
    "            )\n",
    "            # Add predicted token to input phrase\n",
    "            phrase = tf.cast(phrase, tf.int32)\n",
    "            # Replcae PAD token with predicted token up to idx\n",
    "            phrase = tf.where(\n",
    "                tf.range(MAX_PHRASE_LENGTH) < idx + 1,\n",
    "                tf.argmax(outputs, axis=2, output_type=tf.int32),\n",
    "                phrase,\n",
    "            )\n",
    "            # Predicted Token\n",
    "            predicted_token = phrase[0,idx]\n",
    "            # If EOS (End Of Sentence) token is predicted stop\n",
    "            if not stop:\n",
    "                stop = predicted_token == EOS_TOKEN\n",
    "            \n",
    "        # Squeeze outputs\n",
    "        outputs = tf.squeeze(phrase, axis=0)\n",
    "        outputs = tf.one_hot(outputs, N_UNIQUE_CHARACTERS)\n",
    "            \n",
    "        # Return a dictionary with the output tensor\n",
    "        return {'outputs': outputs }\n",
    "\n",
    "# Define TF Lite Model\n",
    "tflite_keras_model = TFLiteModel(model)\n",
    "\n",
    "# Sanity Check\n",
    "# demo_sequence_id = 1816796431\n",
    "demo_sequence_id = example_parquet_df.index.unique()[0]\n",
    "demo_raw_data = example_parquet_df.loc[demo_sequence_id, COLUMNS0].values\n",
    "demo_phrase_true = train_sequence_id.loc[demo_sequence_id, 'phrase']\n",
    "print(f'demo_raw_data shape: {demo_raw_data.shape}, dtype: {demo_raw_data.dtype}')\n",
    "demo_output = tflite_keras_model(demo_raw_data)['outputs'].numpy()\n",
    "print(f'demo_output shape: {demo_output.shape}, dtype: {demo_output.dtype}')\n",
    "print(f'demo_outputs phrase decoded: {outputs2phrase(demo_output)}')\n",
    "print(f'phrase true: {demo_phrase_true}')"
   ]
  },
  {
   "cell_type": "code",
   "execution_count": 65,
   "id": "311c1dbb",
   "metadata": {
    "execution": {
     "iopub.execute_input": "2023-07-02T15:02:00.356778Z",
     "iopub.status.busy": "2023-07-02T15:02:00.356421Z",
     "iopub.status.idle": "2023-07-02T15:03:03.579772Z",
     "shell.execute_reply": "2023-07-02T15:03:03.578707Z"
    },
    "papermill": {
     "duration": 63.286967,
     "end_time": "2023-07-02T15:03:03.582231",
     "exception": false,
     "start_time": "2023-07-02T15:02:00.295264",
     "status": "completed"
    },
    "tags": []
   },
   "outputs": [],
   "source": [
    "# Create Model Converter\n",
    "keras_model_converter = tf.lite.TFLiteConverter.from_keras_model(tflite_keras_model)\n",
    "# Convert Model\n",
    "tflite_model = keras_model_converter.convert()\n",
    "# Write Model\n",
    "with open('/kaggle/working/model.tflite', 'wb') as f:\n",
    "    f.write(tflite_model)"
   ]
  },
  {
   "cell_type": "code",
   "execution_count": 66,
   "id": "7589d068",
   "metadata": {
    "execution": {
     "iopub.execute_input": "2023-07-02T15:03:03.705891Z",
     "iopub.status.busy": "2023-07-02T15:03:03.705540Z",
     "iopub.status.idle": "2023-07-02T15:03:03.711677Z",
     "shell.execute_reply": "2023-07-02T15:03:03.711031Z"
    },
    "papermill": {
     "duration": 0.070965,
     "end_time": "2023-07-02T15:03:03.713519",
     "exception": false,
     "start_time": "2023-07-02T15:03:03.642554",
     "status": "completed"
    },
    "tags": []
   },
   "outputs": [],
   "source": [
    "# Add selected_columns json to only select specific columns from input frames\n",
    "with open('inference_args.json', 'w') as f:\n",
    "     json.dump({ 'selected_columns': COLUMNS0.tolist() }, f)"
   ]
  },
  {
   "cell_type": "code",
   "execution_count": 67,
   "id": "4fde46bc",
   "metadata": {
    "execution": {
     "iopub.execute_input": "2023-07-02T15:03:03.835271Z",
     "iopub.status.busy": "2023-07-02T15:03:03.834244Z",
     "iopub.status.idle": "2023-07-02T15:03:05.697681Z",
     "shell.execute_reply": "2023-07-02T15:03:05.695879Z"
    },
    "papermill": {
     "duration": 1.931415,
     "end_time": "2023-07-02T15:03:05.704490",
     "exception": false,
     "start_time": "2023-07-02T15:03:03.773075",
     "status": "completed"
    },
    "tags": []
   },
   "outputs": [
    {
     "name": "stdout",
     "output_type": "stream",
     "text": [
      "  adding: kaggle/working/model.tflite (deflated 9%)\r\n",
      "  adding: kaggle/working/inference_args.json (deflated 83%)\r\n"
     ]
    }
   ],
   "source": [
    "# Zip Model\n",
    "!zip submission.zip /kaggle/working/model.tflite /kaggle/working/inference_args.json"
   ]
  }
 ],
 "metadata": {
  "kernelspec": {
   "display_name": "Python 3",
   "language": "python",
   "name": "python3"
  },
  "language_info": {
   "codemirror_mode": {
    "name": "ipython",
    "version": 3
   },
   "file_extension": ".py",
   "mimetype": "text/x-python",
   "name": "python",
   "nbconvert_exporter": "python",
   "pygments_lexer": "ipython3",
   "version": "3.10.10"
  },
  "papermill": {
   "default_parameters": {},
   "duration": 12619.882692,
   "end_time": "2023-07-02T15:03:08.718378",
   "environment_variables": {},
   "exception": null,
   "input_path": "__notebook__.ipynb",
   "output_path": "__notebook__.ipynb",
   "parameters": {},
   "start_time": "2023-07-02T11:32:48.835686",
   "version": "2.4.0"
  },
  "widgets": {
   "application/vnd.jupyter.widget-state+json": {
    "state": {
     "053c645d94ad49af8e503f82c02d5df2": {
      "model_module": "@jupyter-widgets/base",
      "model_module_version": "1.2.0",
      "model_name": "LayoutModel",
      "state": {
       "_model_module": "@jupyter-widgets/base",
       "_model_module_version": "1.2.0",
       "_model_name": "LayoutModel",
       "_view_count": null,
       "_view_module": "@jupyter-widgets/base",
       "_view_module_version": "1.2.0",
       "_view_name": "LayoutView",
       "align_content": null,
       "align_items": null,
       "align_self": null,
       "border": null,
       "bottom": null,
       "display": null,
       "flex": null,
       "flex_flow": null,
       "grid_area": null,
       "grid_auto_columns": null,
       "grid_auto_flow": null,
       "grid_auto_rows": null,
       "grid_column": null,
       "grid_gap": null,
       "grid_row": null,
       "grid_template_areas": null,
       "grid_template_columns": null,
       "grid_template_rows": null,
       "height": null,
       "justify_content": null,
       "justify_items": null,
       "left": null,
       "margin": null,
       "max_height": null,
       "max_width": null,
       "min_height": null,
       "min_width": null,
       "object_fit": null,
       "object_position": null,
       "order": null,
       "overflow": null,
       "overflow_x": null,
       "overflow_y": null,
       "padding": null,
       "right": null,
       "top": null,
       "visibility": null,
       "width": null
      }
     },
     "27dc743663be418cafecfce5beec433c": {
      "model_module": "@jupyter-widgets/controls",
      "model_module_version": "1.5.0",
      "model_name": "DescriptionStyleModel",
      "state": {
       "_model_module": "@jupyter-widgets/controls",
       "_model_module_version": "1.5.0",
       "_model_name": "DescriptionStyleModel",
       "_view_count": null,
       "_view_module": "@jupyter-widgets/base",
       "_view_module_version": "1.2.0",
       "_view_name": "StyleView",
       "description_width": ""
      }
     },
     "2daeda6498214007ac0702c0227faf78": {
      "model_module": "@jupyter-widgets/controls",
      "model_module_version": "1.5.0",
      "model_name": "ProgressStyleModel",
      "state": {
       "_model_module": "@jupyter-widgets/controls",
       "_model_module_version": "1.5.0",
       "_model_name": "ProgressStyleModel",
       "_view_count": null,
       "_view_module": "@jupyter-widgets/base",
       "_view_module_version": "1.2.0",
       "_view_name": "StyleView",
       "bar_color": null,
       "description_width": ""
      }
     },
     "3a42aeac131f4b0c9fb6f3291db24ae3": {
      "model_module": "@jupyter-widgets/base",
      "model_module_version": "1.2.0",
      "model_name": "LayoutModel",
      "state": {
       "_model_module": "@jupyter-widgets/base",
       "_model_module_version": "1.2.0",
       "_model_name": "LayoutModel",
       "_view_count": null,
       "_view_module": "@jupyter-widgets/base",
       "_view_module_version": "1.2.0",
       "_view_name": "LayoutView",
       "align_content": null,
       "align_items": null,
       "align_self": null,
       "border": null,
       "bottom": null,
       "display": null,
       "flex": null,
       "flex_flow": null,
       "grid_area": null,
       "grid_auto_columns": null,
       "grid_auto_flow": null,
       "grid_auto_rows": null,
       "grid_column": null,
       "grid_gap": null,
       "grid_row": null,
       "grid_template_areas": null,
       "grid_template_columns": null,
       "grid_template_rows": null,
       "height": null,
       "justify_content": null,
       "justify_items": null,
       "left": null,
       "margin": null,
       "max_height": null,
       "max_width": null,
       "min_height": null,
       "min_width": null,
       "object_fit": null,
       "object_position": null,
       "order": null,
       "overflow": null,
       "overflow_x": null,
       "overflow_y": null,
       "padding": null,
       "right": null,
       "top": null,
       "visibility": null,
       "width": null
      }
     },
     "3d3a7e0ec0434c319e4adee5ecc5321a": {
      "model_module": "@jupyter-widgets/controls",
      "model_module_version": "1.5.0",
      "model_name": "DescriptionStyleModel",
      "state": {
       "_model_module": "@jupyter-widgets/controls",
       "_model_module_version": "1.5.0",
       "_model_name": "DescriptionStyleModel",
       "_view_count": null,
       "_view_module": "@jupyter-widgets/base",
       "_view_module_version": "1.2.0",
       "_view_name": "StyleView",
       "description_width": ""
      }
     },
     "3d9557b2fe364afb85590063596952c9": {
      "model_module": "@jupyter-widgets/controls",
      "model_module_version": "1.5.0",
      "model_name": "DescriptionStyleModel",
      "state": {
       "_model_module": "@jupyter-widgets/controls",
       "_model_module_version": "1.5.0",
       "_model_name": "DescriptionStyleModel",
       "_view_count": null,
       "_view_module": "@jupyter-widgets/base",
       "_view_module_version": "1.2.0",
       "_view_name": "StyleView",
       "description_width": ""
      }
     },
     "48afe4240341440eb9d2823e7c83c6cc": {
      "model_module": "@jupyter-widgets/base",
      "model_module_version": "1.2.0",
      "model_name": "LayoutModel",
      "state": {
       "_model_module": "@jupyter-widgets/base",
       "_model_module_version": "1.2.0",
       "_model_name": "LayoutModel",
       "_view_count": null,
       "_view_module": "@jupyter-widgets/base",
       "_view_module_version": "1.2.0",
       "_view_name": "LayoutView",
       "align_content": null,
       "align_items": null,
       "align_self": null,
       "border": null,
       "bottom": null,
       "display": null,
       "flex": null,
       "flex_flow": null,
       "grid_area": null,
       "grid_auto_columns": null,
       "grid_auto_flow": null,
       "grid_auto_rows": null,
       "grid_column": null,
       "grid_gap": null,
       "grid_row": null,
       "grid_template_areas": null,
       "grid_template_columns": null,
       "grid_template_rows": null,
       "height": null,
       "justify_content": null,
       "justify_items": null,
       "left": null,
       "margin": null,
       "max_height": null,
       "max_width": null,
       "min_height": null,
       "min_width": null,
       "object_fit": null,
       "object_position": null,
       "order": null,
       "overflow": null,
       "overflow_x": null,
       "overflow_y": null,
       "padding": null,
       "right": null,
       "top": null,
       "visibility": null,
       "width": null
      }
     },
     "5061dbf15e0745b093674f2b5419a885": {
      "model_module": "@jupyter-widgets/controls",
      "model_module_version": "1.5.0",
      "model_name": "HTMLModel",
      "state": {
       "_dom_classes": [],
       "_model_module": "@jupyter-widgets/controls",
       "_model_module_version": "1.5.0",
       "_model_name": "HTMLModel",
       "_view_count": null,
       "_view_module": "@jupyter-widgets/controls",
       "_view_module_version": "1.5.0",
       "_view_name": "HTMLView",
       "description": "",
       "description_tooltip": null,
       "layout": "IPY_MODEL_5e81f265ac644359ba8e47e37ead55da",
       "placeholder": "​",
       "style": "IPY_MODEL_e9cc91b87e00401393fc5eb313bd765f",
       "value": "100%"
      }
     },
     "5b1751d99844445c8a9d3295395ff493": {
      "model_module": "@jupyter-widgets/base",
      "model_module_version": "1.2.0",
      "model_name": "LayoutModel",
      "state": {
       "_model_module": "@jupyter-widgets/base",
       "_model_module_version": "1.2.0",
       "_model_name": "LayoutModel",
       "_view_count": null,
       "_view_module": "@jupyter-widgets/base",
       "_view_module_version": "1.2.0",
       "_view_name": "LayoutView",
       "align_content": null,
       "align_items": null,
       "align_self": null,
       "border": null,
       "bottom": null,
       "display": null,
       "flex": null,
       "flex_flow": null,
       "grid_area": null,
       "grid_auto_columns": null,
       "grid_auto_flow": null,
       "grid_auto_rows": null,
       "grid_column": null,
       "grid_gap": null,
       "grid_row": null,
       "grid_template_areas": null,
       "grid_template_columns": null,
       "grid_template_rows": null,
       "height": null,
       "justify_content": null,
       "justify_items": null,
       "left": null,
       "margin": null,
       "max_height": null,
       "max_width": null,
       "min_height": null,
       "min_width": null,
       "object_fit": null,
       "object_position": null,
       "order": null,
       "overflow": null,
       "overflow_x": null,
       "overflow_y": null,
       "padding": null,
       "right": null,
       "top": null,
       "visibility": null,
       "width": null
      }
     },
     "5e81f265ac644359ba8e47e37ead55da": {
      "model_module": "@jupyter-widgets/base",
      "model_module_version": "1.2.0",
      "model_name": "LayoutModel",
      "state": {
       "_model_module": "@jupyter-widgets/base",
       "_model_module_version": "1.2.0",
       "_model_name": "LayoutModel",
       "_view_count": null,
       "_view_module": "@jupyter-widgets/base",
       "_view_module_version": "1.2.0",
       "_view_name": "LayoutView",
       "align_content": null,
       "align_items": null,
       "align_self": null,
       "border": null,
       "bottom": null,
       "display": null,
       "flex": null,
       "flex_flow": null,
       "grid_area": null,
       "grid_auto_columns": null,
       "grid_auto_flow": null,
       "grid_auto_rows": null,
       "grid_column": null,
       "grid_gap": null,
       "grid_row": null,
       "grid_template_areas": null,
       "grid_template_columns": null,
       "grid_template_rows": null,
       "height": null,
       "justify_content": null,
       "justify_items": null,
       "left": null,
       "margin": null,
       "max_height": null,
       "max_width": null,
       "min_height": null,
       "min_width": null,
       "object_fit": null,
       "object_position": null,
       "order": null,
       "overflow": null,
       "overflow_x": null,
       "overflow_y": null,
       "padding": null,
       "right": null,
       "top": null,
       "visibility": null,
       "width": null
      }
     },
     "650ac13a0a254eb890510509f9f85da3": {
      "model_module": "@jupyter-widgets/base",
      "model_module_version": "1.2.0",
      "model_name": "LayoutModel",
      "state": {
       "_model_module": "@jupyter-widgets/base",
       "_model_module_version": "1.2.0",
       "_model_name": "LayoutModel",
       "_view_count": null,
       "_view_module": "@jupyter-widgets/base",
       "_view_module_version": "1.2.0",
       "_view_name": "LayoutView",
       "align_content": null,
       "align_items": null,
       "align_self": null,
       "border": null,
       "bottom": null,
       "display": null,
       "flex": null,
       "flex_flow": null,
       "grid_area": null,
       "grid_auto_columns": null,
       "grid_auto_flow": null,
       "grid_auto_rows": null,
       "grid_column": null,
       "grid_gap": null,
       "grid_row": null,
       "grid_template_areas": null,
       "grid_template_columns": null,
       "grid_template_rows": null,
       "height": null,
       "justify_content": null,
       "justify_items": null,
       "left": null,
       "margin": null,
       "max_height": null,
       "max_width": null,
       "min_height": null,
       "min_width": null,
       "object_fit": null,
       "object_position": null,
       "order": null,
       "overflow": null,
       "overflow_x": null,
       "overflow_y": null,
       "padding": null,
       "right": null,
       "top": null,
       "visibility": null,
       "width": null
      }
     },
     "73faad64ac024314af51717507483883": {
      "model_module": "@jupyter-widgets/controls",
      "model_module_version": "1.5.0",
      "model_name": "HBoxModel",
      "state": {
       "_dom_classes": [],
       "_model_module": "@jupyter-widgets/controls",
       "_model_module_version": "1.5.0",
       "_model_name": "HBoxModel",
       "_view_count": null,
       "_view_module": "@jupyter-widgets/controls",
       "_view_module_version": "1.5.0",
       "_view_name": "HBoxView",
       "box_style": "",
       "children": [
        "IPY_MODEL_5061dbf15e0745b093674f2b5419a885",
        "IPY_MODEL_e13fca316c154f31849796227d645c1f",
        "IPY_MODEL_7809b068abb948cc94dcbbc9911a5ec0"
       ],
       "layout": "IPY_MODEL_f459e490a86f431c9d049f8a33c6909c"
      }
     },
     "764982e8e8c24d1ba2eacb7b3f128237": {
      "model_module": "@jupyter-widgets/controls",
      "model_module_version": "1.5.0",
      "model_name": "HTMLModel",
      "state": {
       "_dom_classes": [],
       "_model_module": "@jupyter-widgets/controls",
       "_model_module_version": "1.5.0",
       "_model_name": "HTMLModel",
       "_view_count": null,
       "_view_module": "@jupyter-widgets/controls",
       "_view_module_version": "1.5.0",
       "_view_name": "HTMLView",
       "description": "",
       "description_tooltip": null,
       "layout": "IPY_MODEL_7a4ef50c82084cf0b70218506d5ea7c5",
       "placeholder": "​",
       "style": "IPY_MODEL_3d9557b2fe364afb85590063596952c9",
       "value": " 10/10 [00:01&lt;00:00,  5.85it/s]"
      }
     },
     "7809b068abb948cc94dcbbc9911a5ec0": {
      "model_module": "@jupyter-widgets/controls",
      "model_module_version": "1.5.0",
      "model_name": "HTMLModel",
      "state": {
       "_dom_classes": [],
       "_model_module": "@jupyter-widgets/controls",
       "_model_module_version": "1.5.0",
       "_model_name": "HTMLModel",
       "_view_count": null,
       "_view_module": "@jupyter-widgets/controls",
       "_view_module_version": "1.5.0",
       "_view_name": "HTMLView",
       "description": "",
       "description_tooltip": null,
       "layout": "IPY_MODEL_9f2a147902894eb4850f25cc924ddfff",
       "placeholder": "​",
       "style": "IPY_MODEL_c66d8285e39444b490e2b10476c9745c",
       "value": " 10/10 [00:01&lt;00:00,  6.02it/s]"
      }
     },
     "7a4ef50c82084cf0b70218506d5ea7c5": {
      "model_module": "@jupyter-widgets/base",
      "model_module_version": "1.2.0",
      "model_name": "LayoutModel",
      "state": {
       "_model_module": "@jupyter-widgets/base",
       "_model_module_version": "1.2.0",
       "_model_name": "LayoutModel",
       "_view_count": null,
       "_view_module": "@jupyter-widgets/base",
       "_view_module_version": "1.2.0",
       "_view_name": "LayoutView",
       "align_content": null,
       "align_items": null,
       "align_self": null,
       "border": null,
       "bottom": null,
       "display": null,
       "flex": null,
       "flex_flow": null,
       "grid_area": null,
       "grid_auto_columns": null,
       "grid_auto_flow": null,
       "grid_auto_rows": null,
       "grid_column": null,
       "grid_gap": null,
       "grid_row": null,
       "grid_template_areas": null,
       "grid_template_columns": null,
       "grid_template_rows": null,
       "height": null,
       "justify_content": null,
       "justify_items": null,
       "left": null,
       "margin": null,
       "max_height": null,
       "max_width": null,
       "min_height": null,
       "min_width": null,
       "object_fit": null,
       "object_position": null,
       "order": null,
       "overflow": null,
       "overflow_x": null,
       "overflow_y": null,
       "padding": null,
       "right": null,
       "top": null,
       "visibility": null,
       "width": null
      }
     },
     "7ed97330866b463699ad0cd238474b75": {
      "model_module": "@jupyter-widgets/base",
      "model_module_version": "1.2.0",
      "model_name": "LayoutModel",
      "state": {
       "_model_module": "@jupyter-widgets/base",
       "_model_module_version": "1.2.0",
       "_model_name": "LayoutModel",
       "_view_count": null,
       "_view_module": "@jupyter-widgets/base",
       "_view_module_version": "1.2.0",
       "_view_name": "LayoutView",
       "align_content": null,
       "align_items": null,
       "align_self": null,
       "border": null,
       "bottom": null,
       "display": null,
       "flex": null,
       "flex_flow": null,
       "grid_area": null,
       "grid_auto_columns": null,
       "grid_auto_flow": null,
       "grid_auto_rows": null,
       "grid_column": null,
       "grid_gap": null,
       "grid_row": null,
       "grid_template_areas": null,
       "grid_template_columns": null,
       "grid_template_rows": null,
       "height": null,
       "justify_content": null,
       "justify_items": null,
       "left": null,
       "margin": null,
       "max_height": null,
       "max_width": null,
       "min_height": null,
       "min_width": null,
       "object_fit": null,
       "object_position": null,
       "order": null,
       "overflow": null,
       "overflow_x": null,
       "overflow_y": null,
       "padding": null,
       "right": null,
       "top": null,
       "visibility": null,
       "width": null
      }
     },
     "7fa4d49c17b64f0495a466b22575f744": {
      "model_module": "@jupyter-widgets/controls",
      "model_module_version": "1.5.0",
      "model_name": "ProgressStyleModel",
      "state": {
       "_model_module": "@jupyter-widgets/controls",
       "_model_module_version": "1.5.0",
       "_model_name": "ProgressStyleModel",
       "_view_count": null,
       "_view_module": "@jupyter-widgets/base",
       "_view_module_version": "1.2.0",
       "_view_name": "StyleView",
       "bar_color": null,
       "description_width": ""
      }
     },
     "883884757cc04da392e4b5a60d6368fd": {
      "model_module": "@jupyter-widgets/base",
      "model_module_version": "1.2.0",
      "model_name": "LayoutModel",
      "state": {
       "_model_module": "@jupyter-widgets/base",
       "_model_module_version": "1.2.0",
       "_model_name": "LayoutModel",
       "_view_count": null,
       "_view_module": "@jupyter-widgets/base",
       "_view_module_version": "1.2.0",
       "_view_name": "LayoutView",
       "align_content": null,
       "align_items": null,
       "align_self": null,
       "border": null,
       "bottom": null,
       "display": null,
       "flex": null,
       "flex_flow": null,
       "grid_area": null,
       "grid_auto_columns": null,
       "grid_auto_flow": null,
       "grid_auto_rows": null,
       "grid_column": null,
       "grid_gap": null,
       "grid_row": null,
       "grid_template_areas": null,
       "grid_template_columns": null,
       "grid_template_rows": null,
       "height": null,
       "justify_content": null,
       "justify_items": null,
       "left": null,
       "margin": null,
       "max_height": null,
       "max_width": null,
       "min_height": null,
       "min_width": null,
       "object_fit": null,
       "object_position": null,
       "order": null,
       "overflow": null,
       "overflow_x": null,
       "overflow_y": null,
       "padding": null,
       "right": null,
       "top": null,
       "visibility": null,
       "width": null
      }
     },
     "894b0e328aca4948ba0d5da739b58816": {
      "model_module": "@jupyter-widgets/base",
      "model_module_version": "1.2.0",
      "model_name": "LayoutModel",
      "state": {
       "_model_module": "@jupyter-widgets/base",
       "_model_module_version": "1.2.0",
       "_model_name": "LayoutModel",
       "_view_count": null,
       "_view_module": "@jupyter-widgets/base",
       "_view_module_version": "1.2.0",
       "_view_name": "LayoutView",
       "align_content": null,
       "align_items": null,
       "align_self": null,
       "border": null,
       "bottom": null,
       "display": null,
       "flex": null,
       "flex_flow": null,
       "grid_area": null,
       "grid_auto_columns": null,
       "grid_auto_flow": null,
       "grid_auto_rows": null,
       "grid_column": null,
       "grid_gap": null,
       "grid_row": null,
       "grid_template_areas": null,
       "grid_template_columns": null,
       "grid_template_rows": null,
       "height": null,
       "justify_content": null,
       "justify_items": null,
       "left": null,
       "margin": null,
       "max_height": null,
       "max_width": null,
       "min_height": null,
       "min_width": null,
       "object_fit": null,
       "object_position": null,
       "order": null,
       "overflow": null,
       "overflow_x": null,
       "overflow_y": null,
       "padding": null,
       "right": null,
       "top": null,
       "visibility": null,
       "width": null
      }
     },
     "90b983d9960a4c819a7f66ed6deaf170": {
      "model_module": "@jupyter-widgets/controls",
      "model_module_version": "1.5.0",
      "model_name": "HBoxModel",
      "state": {
       "_dom_classes": [],
       "_model_module": "@jupyter-widgets/controls",
       "_model_module_version": "1.5.0",
       "_model_name": "HBoxModel",
       "_view_count": null,
       "_view_module": "@jupyter-widgets/controls",
       "_view_module_version": "1.5.0",
       "_view_name": "HBoxView",
       "box_style": "",
       "children": [
        "IPY_MODEL_c69b20211aeb4d3888947de6a998ae74",
        "IPY_MODEL_b54204cf176542bcb6bdba188ba72b29",
        "IPY_MODEL_764982e8e8c24d1ba2eacb7b3f128237"
       ],
       "layout": "IPY_MODEL_3a42aeac131f4b0c9fb6f3291db24ae3"
      }
     },
     "922460d77e83414fbacde6d45eadcf06": {
      "model_module": "@jupyter-widgets/controls",
      "model_module_version": "1.5.0",
      "model_name": "HTMLModel",
      "state": {
       "_dom_classes": [],
       "_model_module": "@jupyter-widgets/controls",
       "_model_module_version": "1.5.0",
       "_model_name": "HTMLModel",
       "_view_count": null,
       "_view_module": "@jupyter-widgets/controls",
       "_view_module_version": "1.5.0",
       "_view_name": "HTMLView",
       "description": "",
       "description_tooltip": null,
       "layout": "IPY_MODEL_5b1751d99844445c8a9d3295395ff493",
       "placeholder": "​",
       "style": "IPY_MODEL_3d3a7e0ec0434c319e4adee5ecc5321a",
       "value": " 1000/1000 [02:06&lt;00:00,  8.16it/s]"
      }
     },
     "9f2a147902894eb4850f25cc924ddfff": {
      "model_module": "@jupyter-widgets/base",
      "model_module_version": "1.2.0",
      "model_name": "LayoutModel",
      "state": {
       "_model_module": "@jupyter-widgets/base",
       "_model_module_version": "1.2.0",
       "_model_name": "LayoutModel",
       "_view_count": null,
       "_view_module": "@jupyter-widgets/base",
       "_view_module_version": "1.2.0",
       "_view_name": "LayoutView",
       "align_content": null,
       "align_items": null,
       "align_self": null,
       "border": null,
       "bottom": null,
       "display": null,
       "flex": null,
       "flex_flow": null,
       "grid_area": null,
       "grid_auto_columns": null,
       "grid_auto_flow": null,
       "grid_auto_rows": null,
       "grid_column": null,
       "grid_gap": null,
       "grid_row": null,
       "grid_template_areas": null,
       "grid_template_columns": null,
       "grid_template_rows": null,
       "height": null,
       "justify_content": null,
       "justify_items": null,
       "left": null,
       "margin": null,
       "max_height": null,
       "max_width": null,
       "min_height": null,
       "min_width": null,
       "object_fit": null,
       "object_position": null,
       "order": null,
       "overflow": null,
       "overflow_x": null,
       "overflow_y": null,
       "padding": null,
       "right": null,
       "top": null,
       "visibility": null,
       "width": null
      }
     },
     "ae9ab8072c1749c5b6b6999893b6222a": {
      "model_module": "@jupyter-widgets/controls",
      "model_module_version": "1.5.0",
      "model_name": "ProgressStyleModel",
      "state": {
       "_model_module": "@jupyter-widgets/controls",
       "_model_module_version": "1.5.0",
       "_model_name": "ProgressStyleModel",
       "_view_count": null,
       "_view_module": "@jupyter-widgets/base",
       "_view_module_version": "1.2.0",
       "_view_name": "StyleView",
       "bar_color": null,
       "description_width": ""
      }
     },
     "b54204cf176542bcb6bdba188ba72b29": {
      "model_module": "@jupyter-widgets/controls",
      "model_module_version": "1.5.0",
      "model_name": "FloatProgressModel",
      "state": {
       "_dom_classes": [],
       "_model_module": "@jupyter-widgets/controls",
       "_model_module_version": "1.5.0",
       "_model_name": "FloatProgressModel",
       "_view_count": null,
       "_view_module": "@jupyter-widgets/controls",
       "_view_module_version": "1.5.0",
       "_view_name": "ProgressView",
       "bar_style": "success",
       "description": "",
       "description_tooltip": null,
       "layout": "IPY_MODEL_7ed97330866b463699ad0cd238474b75",
       "max": 10.0,
       "min": 0.0,
       "orientation": "horizontal",
       "style": "IPY_MODEL_7fa4d49c17b64f0495a466b22575f744",
       "value": 10.0
      }
     },
     "ba802076f19d47a2bbe114e8bdfce67a": {
      "model_module": "@jupyter-widgets/controls",
      "model_module_version": "1.5.0",
      "model_name": "FloatProgressModel",
      "state": {
       "_dom_classes": [],
       "_model_module": "@jupyter-widgets/controls",
       "_model_module_version": "1.5.0",
       "_model_name": "FloatProgressModel",
       "_view_count": null,
       "_view_module": "@jupyter-widgets/controls",
       "_view_module_version": "1.5.0",
       "_view_name": "ProgressView",
       "bar_style": "danger",
       "description": "",
       "description_tooltip": null,
       "layout": "IPY_MODEL_883884757cc04da392e4b5a60d6368fd",
       "max": 1000.0,
       "min": 0.0,
       "orientation": "horizontal",
       "style": "IPY_MODEL_ae9ab8072c1749c5b6b6999893b6222a",
       "value": 1000.0
      }
     },
     "c66d8285e39444b490e2b10476c9745c": {
      "model_module": "@jupyter-widgets/controls",
      "model_module_version": "1.5.0",
      "model_name": "DescriptionStyleModel",
      "state": {
       "_model_module": "@jupyter-widgets/controls",
       "_model_module_version": "1.5.0",
       "_model_name": "DescriptionStyleModel",
       "_view_count": null,
       "_view_module": "@jupyter-widgets/base",
       "_view_module_version": "1.2.0",
       "_view_name": "StyleView",
       "description_width": ""
      }
     },
     "c69b20211aeb4d3888947de6a998ae74": {
      "model_module": "@jupyter-widgets/controls",
      "model_module_version": "1.5.0",
      "model_name": "HTMLModel",
      "state": {
       "_dom_classes": [],
       "_model_module": "@jupyter-widgets/controls",
       "_model_module_version": "1.5.0",
       "_model_name": "HTMLModel",
       "_view_count": null,
       "_view_module": "@jupyter-widgets/controls",
       "_view_module_version": "1.5.0",
       "_view_name": "HTMLView",
       "description": "",
       "description_tooltip": null,
       "layout": "IPY_MODEL_650ac13a0a254eb890510509f9f85da3",
       "placeholder": "​",
       "style": "IPY_MODEL_d1bb783893544aa69eead85d9ff9052b",
       "value": "100%"
      }
     },
     "cdab5ab7bd524d8883eee5eb249d4a84": {
      "model_module": "@jupyter-widgets/controls",
      "model_module_version": "1.5.0",
      "model_name": "HBoxModel",
      "state": {
       "_dom_classes": [],
       "_model_module": "@jupyter-widgets/controls",
       "_model_module_version": "1.5.0",
       "_model_name": "HBoxModel",
       "_view_count": null,
       "_view_module": "@jupyter-widgets/controls",
       "_view_module_version": "1.5.0",
       "_view_name": "HBoxView",
       "box_style": "",
       "children": [
        "IPY_MODEL_f45b31da8bc940b4bfca034a4bdfb193",
        "IPY_MODEL_ba802076f19d47a2bbe114e8bdfce67a",
        "IPY_MODEL_922460d77e83414fbacde6d45eadcf06"
       ],
       "layout": "IPY_MODEL_053c645d94ad49af8e503f82c02d5df2"
      }
     },
     "d1bb783893544aa69eead85d9ff9052b": {
      "model_module": "@jupyter-widgets/controls",
      "model_module_version": "1.5.0",
      "model_name": "DescriptionStyleModel",
      "state": {
       "_model_module": "@jupyter-widgets/controls",
       "_model_module_version": "1.5.0",
       "_model_name": "DescriptionStyleModel",
       "_view_count": null,
       "_view_module": "@jupyter-widgets/base",
       "_view_module_version": "1.2.0",
       "_view_name": "StyleView",
       "description_width": ""
      }
     },
     "e13fca316c154f31849796227d645c1f": {
      "model_module": "@jupyter-widgets/controls",
      "model_module_version": "1.5.0",
      "model_name": "FloatProgressModel",
      "state": {
       "_dom_classes": [],
       "_model_module": "@jupyter-widgets/controls",
       "_model_module_version": "1.5.0",
       "_model_name": "FloatProgressModel",
       "_view_count": null,
       "_view_module": "@jupyter-widgets/controls",
       "_view_module_version": "1.5.0",
       "_view_name": "ProgressView",
       "bar_style": "success",
       "description": "",
       "description_tooltip": null,
       "layout": "IPY_MODEL_48afe4240341440eb9d2823e7c83c6cc",
       "max": 10.0,
       "min": 0.0,
       "orientation": "horizontal",
       "style": "IPY_MODEL_2daeda6498214007ac0702c0227faf78",
       "value": 10.0
      }
     },
     "e9cc91b87e00401393fc5eb313bd765f": {
      "model_module": "@jupyter-widgets/controls",
      "model_module_version": "1.5.0",
      "model_name": "DescriptionStyleModel",
      "state": {
       "_model_module": "@jupyter-widgets/controls",
       "_model_module_version": "1.5.0",
       "_model_name": "DescriptionStyleModel",
       "_view_count": null,
       "_view_module": "@jupyter-widgets/base",
       "_view_module_version": "1.2.0",
       "_view_name": "StyleView",
       "description_width": ""
      }
     },
     "f459e490a86f431c9d049f8a33c6909c": {
      "model_module": "@jupyter-widgets/base",
      "model_module_version": "1.2.0",
      "model_name": "LayoutModel",
      "state": {
       "_model_module": "@jupyter-widgets/base",
       "_model_module_version": "1.2.0",
       "_model_name": "LayoutModel",
       "_view_count": null,
       "_view_module": "@jupyter-widgets/base",
       "_view_module_version": "1.2.0",
       "_view_name": "LayoutView",
       "align_content": null,
       "align_items": null,
       "align_self": null,
       "border": null,
       "bottom": null,
       "display": null,
       "flex": null,
       "flex_flow": null,
       "grid_area": null,
       "grid_auto_columns": null,
       "grid_auto_flow": null,
       "grid_auto_rows": null,
       "grid_column": null,
       "grid_gap": null,
       "grid_row": null,
       "grid_template_areas": null,
       "grid_template_columns": null,
       "grid_template_rows": null,
       "height": null,
       "justify_content": null,
       "justify_items": null,
       "left": null,
       "margin": null,
       "max_height": null,
       "max_width": null,
       "min_height": null,
       "min_width": null,
       "object_fit": null,
       "object_position": null,
       "order": null,
       "overflow": null,
       "overflow_x": null,
       "overflow_y": null,
       "padding": null,
       "right": null,
       "top": null,
       "visibility": null,
       "width": null
      }
     },
     "f45b31da8bc940b4bfca034a4bdfb193": {
      "model_module": "@jupyter-widgets/controls",
      "model_module_version": "1.5.0",
      "model_name": "HTMLModel",
      "state": {
       "_dom_classes": [],
       "_model_module": "@jupyter-widgets/controls",
       "_model_module_version": "1.5.0",
       "_model_name": "HTMLModel",
       "_view_count": null,
       "_view_module": "@jupyter-widgets/controls",
       "_view_module_version": "1.5.0",
       "_view_name": "HTMLView",
       "description": "",
       "description_tooltip": null,
       "layout": "IPY_MODEL_894b0e328aca4948ba0d5da739b58816",
       "placeholder": "​",
       "style": "IPY_MODEL_27dc743663be418cafecfce5beec433c",
       "value": "100%"
      }
     }
    },
    "version_major": 2,
    "version_minor": 0
   }
  }
 },
 "nbformat": 4,
 "nbformat_minor": 5
}
